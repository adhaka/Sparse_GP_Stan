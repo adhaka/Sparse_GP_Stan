{
 "cells": [
  {
   "cell_type": "markdown",
   "metadata": {},
   "source": [
    "###  Sparse GP Regression- FITC prior for sampling over f.\n",
    "\n",
    "\n",
    "This notebook uses the FITC prior to sample over the latent function values. The integration over inducing \n",
    "outputs(u) can be done analytically, and we can directly sample from the multivariate Gaussian. Data to be used will be Snelson 1D dataset."
   ]
  },
  {
   "cell_type": "code",
   "execution_count": 1,
   "metadata": {
    "collapsed": true
   },
   "outputs": [],
   "source": [
    "%matplotlib inline\n",
    "import  matplotlib\n",
    "import matplotlib.pyplot as plt\n",
    "import pystan"
   ]
  },
  {
   "cell_type": "code",
   "execution_count": 2,
   "metadata": {
    "collapsed": true
   },
   "outputs": [],
   "source": [
    "import numpy as np"
   ]
  },
  {
   "cell_type": "code",
   "execution_count": 3,
   "metadata": {
    "collapsed": true
   },
   "outputs": [],
   "source": [
    "import scipy.io as sio"
   ]
  },
  {
   "cell_type": "code",
   "execution_count": 4,
   "metadata": {
    "collapsed": true
   },
   "outputs": [],
   "source": [
    "df = sio.loadmat('snelson1d.mat')"
   ]
  },
  {
   "cell_type": "code",
   "execution_count": 5,
   "metadata": {
    "collapsed": true
   },
   "outputs": [],
   "source": [
    "X = df['X']\n",
    "Y = df['Y']\n",
    "X_t = df['tX']\n",
    "Y_t = df['tY']"
   ]
  },
  {
   "cell_type": "code",
   "execution_count": 6,
   "metadata": {
    "collapsed": true
   },
   "outputs": [],
   "source": [
    "M = 20"
   ]
  },
  {
   "cell_type": "code",
   "execution_count": 7,
   "metadata": {
    "collapsed": false
   },
   "outputs": [],
   "source": [
    "# X_u = kmm_init(X)\n",
    "# M = len(X_u)"
   ]
  },
  {
   "cell_type": "code",
   "execution_count": 8,
   "metadata": {
    "collapsed": false
   },
   "outputs": [],
   "source": [
    "X_u_noisy = np.linspace(0,6, M)[:, None]\n",
    "# X_u_noisy = X_u + 0.1*np.random.rand(*X_u.shape) "
   ]
  },
  {
   "cell_type": "markdown",
   "metadata": {},
   "source": [
    "### Code"
   ]
  },
  {
   "cell_type": "code",
   "execution_count": 9,
   "metadata": {
    "collapsed": false
   },
   "outputs": [],
   "source": [
    "stan_code_fitc_int =\"\"\"\n",
    "data {\n",
    "    int<lower=1> N;\n",
    "    int<lower=1> M;\n",
    "    real x[N];\n",
    "    vector[N] y;\n",
    "    real xu[M];\n",
    "\n",
    "}\n",
    "transformed data {\n",
    "    real delta = 1e-6;\n",
    "//     real rho = 0.9;\n",
    "//     real alpha = 0.85;\n",
    "//     real sigma = 0.12;\n",
    "}\n",
    "\n",
    "parameters {\n",
    "    vector[N] f;\n",
    "    \n",
    "    real<lower=1e-6> sigma;\n",
    "     real <lower=1e-6> alpha;\n",
    "     real<lower=1e-6> rho;\n",
    "    \n",
    "    vector[M] eta2;\n",
    "    \n",
    "}\n",
    "\n",
    "model {\n",
    "    vector[N] f_mean;\n",
    "    matrix[N, N] f_cov;\n",
    "    matrix[N, N] S;\n",
    "    matrix[N, N] A;\n",
    "    matrix[N, N] A_inv;\n",
    "    matrix [N,N] K_cov;\n",
    "    matrix [N,N] Qff;\n",
    "    matrix [N,N] L_fitc;\n",
    "        \n",
    "    {\n",
    "        matrix[M, M] L_U;\n",
    "        matrix[M, M] Kuu = cov_exp_quad(xu, alpha, rho);\n",
    "        matrix[N, M] Kfu = cov_exp_quad(x, xu, alpha, rho);\n",
    "        matrix[N, N] K = cov_exp_quad(x, alpha, rho);\n",
    "        vector[M] Kuu_inv_u;\n",
    "        matrix[M, N] v_pred;\n",
    "        vector[M] u;\n",
    "        \n",
    "         for (m in 1:M)\n",
    "             Kuu[m, m] = Kuu[m, m] + delta;\n",
    "            \n",
    "        L_U = cholesky_decompose(Kuu);\n",
    "        u = L_U * eta2;\n",
    "               \n",
    "        Kuu_inv_u = mdivide_left_tri_low(L_U, eta2);\n",
    "        f_mean = Kfu*Kuu_inv_u;\n",
    "        \n",
    "\n",
    "        // f_cov = K - Kfu*(Kuu_inv*Kfu');            \n",
    "        v_pred = mdivide_left_tri_low(L_U, Kfu');\n",
    "        \n",
    "        Qff = v_pred'*v_pred;\n",
    "        S = K - Qff;\n",
    "        \n",
    "        for (i in 1:N){\n",
    "            for(j in 1:N){\n",
    "                A[i,j] = 0.0;\n",
    "                A_inv[i,j] = 0.0;\n",
    "            }\n",
    "            A[i,i] = S[i,i];\n",
    "            A_inv[i,i] = 1./ S[i,i];\n",
    "        }\n",
    "        \n",
    "        K_cov = A + Qff;\n",
    "         \n",
    "        L_fitc = cholesky_decompose(K_cov);\n",
    "        \n",
    "    }\n",
    "  \n",
    "#     rho ~ inv_gamma(5, 5);\n",
    "#     alpha ~ normal(0, 1);\n",
    "\n",
    "// strongly informative priors, but with these the covariance matrix will be more well behaved in my experience.\n",
    "// The mean of the Gaussian priors is close to the optimised MAP value of the hyperparameters.\n",
    "\n",
    "     rho ~ normal(0.90, 0.25);\n",
    "     alpha ~ normal(0.85, 0.25);\n",
    "\n",
    "    sigma ~ normal(0, 0.35);\n",
    "    \n",
    "    f ~ multi_normal_cholesky(f_mean, L_fitc);\n",
    "    y ~ normal(f, sigma);\n",
    "}\n",
    "\n",
    "\"\"\"\n"
   ]
  },
  {
   "cell_type": "code",
   "execution_count": 10,
   "metadata": {
    "collapsed": false
   },
   "outputs": [
    {
     "name": "stderr",
     "output_type": "stream",
     "text": [
      "INFO:pystan:COMPILING THE C++ CODE FOR MODEL anon_model_35c8a0f1801d4931198572edc53d1a9b NOW.\n"
     ]
    }
   ],
   "source": [
    "stan_model_fitc = pystan.StanModel(model_code=stan_code_fitc_int)"
   ]
  },
  {
   "cell_type": "code",
   "execution_count": 12,
   "metadata": {
    "collapsed": true
   },
   "outputs": [],
   "source": [
    "gp_full_data2 = {'N':200, 'x':X.flatten(), 'y':Y.flatten(), 'M':20, 'xu':X_u_noisy.flatten()}"
   ]
  },
  {
   "cell_type": "code",
   "execution_count": 13,
   "metadata": {
    "collapsed": false
   },
   "outputs": [
    {
     "name": "stderr",
     "output_type": "stream",
     "text": [
      "/u/26/dhakaa1/unix/anaconda2/envs/stanpy35/lib/python3.5/site-packages/pystan/misc.py:399: FutureWarning: Conversion of the second argument of issubdtype from `float` to `np.floating` is deprecated. In future, it will be treated as `np.float64 == np.dtype(float).type`.\n",
      "  elif np.issubdtype(np.asarray(v).dtype, float):\n"
     ]
    }
   ],
   "source": [
    "fit_fitc = stan_model_fitc.sampling(data=gp_full_data2, iter=800, chains=2)"
   ]
  },
  {
   "cell_type": "code",
   "execution_count": null,
   "metadata": {
    "collapsed": false
   },
   "outputs": [],
   "source": [
    "print(fit_fitc)"
   ]
  },
  {
   "cell_type": "code",
   "execution_count": null,
   "metadata": {
    "collapsed": true
   },
   "outputs": [],
   "source": [
    "samples = fit_fitc.extract(permuted=True)\n",
    "f = samples['f']\n",
    "f_mean = np.mean(f, axis=0)\n",
    "sigma = samples['sigma']\n",
    "l = samples['rho']\n",
    "sigvar = samples['alpha']\n",
    "sigma_mean = np.mean(sigma, axis=0)"
   ]
  },
  {
   "cell_type": "code",
   "execution_count": null,
   "metadata": {
    "collapsed": false
   },
   "outputs": [],
   "source": [
    "sort_idx = np.argsort(X.ravel())\n",
    "\n",
    "plt.plot(X[sort_idx], Y[sort_idx], 'r.')\n",
    "# plt.plot(X[sort_idx], f[-1, sort_idx], 'y.');\n",
    "plt.plot(X[sort_idx], f[-100, sort_idx], 'g.');\n",
    "# plt.plot(X[sort_idx], f_mean[sort_idx], 'b.');\n",
    "# plt.plot(X[sort_idx], sigma[-1, sort_idx], 'b.');"
   ]
  },
  {
   "cell_type": "code",
   "execution_count": null,
   "metadata": {
    "collapsed": false
   },
   "outputs": [],
   "source": [
    "plt.plot(X,Y, 'ro')"
   ]
  },
  {
   "cell_type": "code",
   "execution_count": null,
   "metadata": {
    "collapsed": false
   },
   "outputs": [],
   "source": [
    "eta = samples['eta2']\n",
    "print(eta.shape)\n",
    "plt.plot(f[:, 0])\n",
    "plt.plot(f[:, 1])\n",
    "plt.plot(f[:, 2])\n"
   ]
  },
  {
   "cell_type": "code",
   "execution_count": null,
   "metadata": {
    "collapsed": false
   },
   "outputs": [],
   "source": [
    "plt.hist(sigma, range=[0, 0.8]);"
   ]
  },
  {
   "cell_type": "code",
   "execution_count": null,
   "metadata": {
    "collapsed": false
   },
   "outputs": [],
   "source": [
    "# plt.hist(l, range=[0, 2]);\n",
    "plt.hist(sigvar, range=[0, 2]);"
   ]
  },
  {
   "cell_type": "code",
   "execution_count": null,
   "metadata": {
    "collapsed": false
   },
   "outputs": [],
   "source": [
    "sigma_mean = np.mean(samples_fitc['sigma'])\n",
    "sigma_median = np.nanmedian(samples_fitc['sigma'])\n",
    "\n",
    "l_mean = np.mean(samples_fitc['rho'])\n",
    "l_median = np.nanmedian(samples_fitc['rho'])\n",
    "\n",
    "sigvar_mean = np.mean(samples_fitc['alpha'])\n",
    "sigvar_median = np.nanmedian(samples_fitc['alpha'])\n",
    "\n",
    "print(\"mean of noise variance: %.2f\" % sigma_mean)\n",
    "print(\"median of noise variance: %.2f\"% sigma_median)\n",
    "print(\"mean of lengthscale: %.3f\"% l_mean)\n",
    "print(\"median of lengthscale: %.3f\"% l_median)\n",
    "print(\"mean of signal variance: %.3f\"% sigvar_mean)\n",
    "print(\"median of signal variance: %.3f\"% sigvar_median)"
   ]
  },
  {
   "cell_type": "code",
   "execution_count": null,
   "metadata": {
    "collapsed": false
   },
   "outputs": [],
   "source": [
    "eta_fitc = samples_fitc['eta2']\n",
    "plt.plot(eta_fitc[:, 0])\n",
    "plt.plot(eta_fitc[:, 1])\n",
    "plt.plot(eta_fitc[:, 2])\n",
    "plt.plot(eta_fitc[:, 5])"
   ]
  },
  {
   "cell_type": "code",
   "execution_count": 1,
   "metadata": {
    "collapsed": false
   },
   "outputs": [
    {
     "ename": "NameError",
     "evalue": "name 'plt' is not defined",
     "output_type": "error",
     "traceback": [
      "\u001b[0;31m---------------------------------------------------------------------------\u001b[0m",
      "\u001b[0;31mNameError\u001b[0m                                 Traceback (most recent call last)",
      "\u001b[0;32m<ipython-input-1-4f23db2c8084>\u001b[0m in \u001b[0;36m<module>\u001b[0;34m()\u001b[0m\n\u001b[0;32m----> 1\u001b[0;31m \u001b[0mplt\u001b[0m\u001b[0;34m.\u001b[0m\u001b[0mplot\u001b[0m\u001b[0;34m(\u001b[0m\u001b[0mX\u001b[0m\u001b[0;34m,\u001b[0m\u001b[0mY\u001b[0m\u001b[0;34m,\u001b[0m \u001b[0;34m'ro'\u001b[0m\u001b[0;34m)\u001b[0m\u001b[0;34m\u001b[0m\u001b[0m\n\u001b[0m\u001b[1;32m      2\u001b[0m \u001b[0mplt\u001b[0m\u001b[0;34m.\u001b[0m\u001b[0mplot\u001b[0m\u001b[0;34m(\u001b[0m\u001b[0mX_star\u001b[0m\u001b[0;34m,\u001b[0m \u001b[0mf_star\u001b[0m\u001b[0;34m[\u001b[0m\u001b[0;36m4\u001b[0m\u001b[0;34m,\u001b[0m\u001b[0;34m:\u001b[0m\u001b[0;34m]\u001b[0m\u001b[0;34m,\u001b[0m \u001b[0;34m'bo'\u001b[0m\u001b[0;34m)\u001b[0m\u001b[0;34m\u001b[0m\u001b[0m\n\u001b[1;32m      3\u001b[0m \u001b[0mplt\u001b[0m\u001b[0;34m.\u001b[0m\u001b[0mplot\u001b[0m\u001b[0;34m(\u001b[0m\u001b[0mX_star\u001b[0m\u001b[0;34m,\u001b[0m \u001b[0mf_star\u001b[0m\u001b[0;34m[\u001b[0m\u001b[0;36m720\u001b[0m\u001b[0;34m,\u001b[0m\u001b[0;34m:\u001b[0m\u001b[0;34m]\u001b[0m\u001b[0;34m,\u001b[0m \u001b[0;34m'go'\u001b[0m\u001b[0;34m)\u001b[0m\u001b[0;34m\u001b[0m\u001b[0m\n",
      "\u001b[0;31mNameError\u001b[0m: name 'plt' is not defined"
     ]
    }
   ],
   "source": []
  },
  {
   "cell_type": "code",
   "execution_count": null,
   "metadata": {
    "collapsed": true
   },
   "outputs": [],
   "source": []
  }
 ],
 "metadata": {
  "anaconda-cloud": {},
  "kernelspec": {
   "display_name": "Python [conda env:stanpy35]",
   "language": "python",
   "name": "conda-env-stanpy35-py"
  },
  "language_info": {
   "codemirror_mode": {
    "name": "ipython",
    "version": 3
   },
   "file_extension": ".py",
   "mimetype": "text/x-python",
   "name": "python",
   "nbconvert_exporter": "python",
   "pygments_lexer": "ipython3",
   "version": "3.5.4"
  }
 },
 "nbformat": 4,
 "nbformat_minor": 1
}
