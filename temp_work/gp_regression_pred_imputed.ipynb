{
 "cells": [
  {
   "cell_type": "code",
   "execution_count": 1,
   "metadata": {
    "collapsed": true
   },
   "outputs": [],
   "source": [
    "%matplotlib inline\n",
    "import  matplotlib\n",
    "import matplotlib.pyplot as plt\n",
    "import pystan"
   ]
  },
  {
   "cell_type": "code",
   "execution_count": 72,
   "metadata": {
    "collapsed": true
   },
   "outputs": [],
   "source": [
    "import numpy as np\n",
    "import scipy.io as sio\n",
    "df = sio.loadmat('snelson1d.mat')"
   ]
  },
  {
   "cell_type": "code",
   "execution_count": 73,
   "metadata": {
    "collapsed": false
   },
   "outputs": [],
   "source": [
    "X = df['X']\n",
    "Y = df['Y']\n",
    "X_t = df['tX']\n",
    "Y_t = df['tY']"
   ]
  },
  {
   "cell_type": "code",
   "execution_count": 74,
   "metadata": {
    "collapsed": false
   },
   "outputs": [],
   "source": [
    "X1 = X[np.argsort(X, axis=0)]\n",
    "Y1 = Y[np.argsort(X, axis=0)] \n",
    "X1 = X1.reshape(-1,1)\n",
    "Y1 = Y1.reshape(-1,1)\n"
   ]
  },
  {
   "cell_type": "markdown",
   "metadata": {},
   "source": [
    "### Code"
   ]
  },
  {
   "cell_type": "code",
   "execution_count": 81,
   "metadata": {
    "collapsed": false
   },
   "outputs": [
    {
     "name": "stdout",
     "output_type": "stream",
     "text": [
      "0.059167804\n",
      "5.9657729\n"
     ]
    }
   ],
   "source": [
    "print(X.min())\n",
    "print(X.max())\n"
   ]
  },
  {
   "cell_type": "code",
   "execution_count": 82,
   "metadata": {
    "collapsed": true
   },
   "outputs": [],
   "source": [
    "N_star = 20\n",
    "X_star = np.linspace(-0.5, 6.5, N_star)[:, None]"
   ]
  },
  {
   "cell_type": "code",
   "execution_count": 83,
   "metadata": {
    "collapsed": true
   },
   "outputs": [],
   "source": [
    "intervals = [(0.75,1.25), (2.5, 3.0), (4.25, 4.75)]"
   ]
  },
  {
   "cell_type": "code",
   "execution_count": 88,
   "metadata": {
    "collapsed": true
   },
   "outputs": [],
   "source": [
    "X_train, Y_train = X1.copy(), Y1.copy()\n",
    "X_test, Y_test = [], [] \n",
    "test_indices = []"
   ]
  },
  {
   "cell_type": "code",
   "execution_count": 89,
   "metadata": {
    "collapsed": false
   },
   "outputs": [],
   "source": [
    "for a, b in intervals:\n",
    "    indices = list(np.where(np.logical_and(X1.flatten() > a, X1.flatten() < b))[0] )\n",
    "    if test_indices is None:\n",
    "        test_indices = indices\n",
    "    else:\n",
    "        test_indices = test_indices + indices\n",
    "#     print(test_indices)\n",
    "# print(test_indices)\n",
    "train_indices = np.arange(X.shape[0])\n",
    "test_indices = np.asarray(test_indices)\n",
    "train_indices = np.setdiff1d(train_indices, test_indices)\n",
    "X_test, Y_test = X1[test_indices,:], Y1[test_indices]\n",
    "X_train, Y_train = X1[train_indices,:], Y1[train_indices]\n"
   ]
  },
  {
   "cell_type": "code",
   "execution_count": 91,
   "metadata": {
    "collapsed": false
   },
   "outputs": [
    {
     "data": {
      "text/plain": [
       "[<matplotlib.lines.Line2D at 0x7f35b4398b00>]"
      ]
     },
     "execution_count": 91,
     "metadata": {},
     "output_type": "execute_result"
    },
    {
     "data": {
      "image/png": "[encoded data removed]",
      "text/plain": [
       "<Figure size 432x288 with 1 Axes>"
      ]
     },
     "metadata": {},
     "output_type": "display_data"
    }
   ],
   "source": [
    "plt.plot(X_train, Y_train, 'ro')\n",
    "plt.plot(X_test, Y_test, 'bo')"
   ]
  },
  {
   "cell_type": "code",
   "execution_count": 97,
   "metadata": {
    "collapsed": true
   },
   "outputs": [],
   "source": [
    "stan_code_pred = \"\"\"\n",
    "functions{\n",
    "    vector gp_pred_rng(real[] x, vector y, real[] x_star, real alpha, real rho, real sigma, real jitter){\n",
    "        \n",
    "        int N = rows(y);\n",
    "        int N_star = size(x_star);\n",
    "        vector[N_star] f_star;\n",
    "        {\n",
    "            matrix[N, N] Kff = cov_exp_quad(x, alpha, rho) + diag_matrix(rep_vector(square(sigma), N));\n",
    "            matrix[N, N] L_K = cholesky_decompose(Kff);\n",
    "            \n",
    "            vector[N] L_K_div_y = mdivide_left_tri_low(L_K, y);    #forward substitution\n",
    "            vector[N] K_div_y = mdivide_right_tri_low(L_K_div_y', L_K)';   #backward substitiion\n",
    "\n",
    "            matrix[N_star, N] K_star_f = cov_exp_quad(x_star, x, alpha, rho);\n",
    "            matrix[N_star, N_star] K_star_star = cov_exp_quad(x_star, x_star, alpha, rho);\n",
    "            matrix[N, N_star] v = mdivide_left_tri_low(L_K, K_star_f');\n",
    "            vector[N_star] f_star_mean = K_star_f*K_div_y;\n",
    "            matrix[N_star, N_star] f_star_cov = K_star_star - v'*v + diag_matrix(rep_vector(square(jitter), N_star));\n",
    "            \n",
    "            f_star = multi_normal_rng(f_star_mean, f_star_cov);\n",
    "        }\n",
    "        return f_star;\n",
    "    }\n",
    "}\n",
    "\n",
    "data {\n",
    "    int<lower=1> N;\n",
    "    int<lower=1> N_star;\n",
    "    real x[N];\n",
    "    real x_star[N_star];\n",
    "    vector[N] y;\n",
    "}\n",
    "\n",
    "transformed data {\n",
    "    real jitter = 1e-6;\n",
    "#     real rho = 1;\n",
    "#     real alpha = 1;\n",
    "}\n",
    "\n",
    "parameters {\n",
    "#     vector[N] f;    \n",
    "    real<lower=1e-6> sigma;\n",
    "    real <lower=1e-4> alpha;\n",
    "    real<lower=1e-4> rho;\n",
    "    \n",
    "    vector[N] eta;\n",
    "}\n",
    "\n",
    "model {\n",
    "    vector[N] f_mean;\n",
    "    matrix[N, N] f_cov;\n",
    "    matrix[N, N] A;\n",
    "    matrix[N, N] diff;\n",
    "    vector[N] f;\n",
    "    \n",
    "    {\n",
    "        matrix[N, N] K = cov_exp_quad(x, alpha, rho) + diag_matrix(rep_vector(square(sigma), N));\n",
    "        \n",
    "        matrix[N, N] L_K = cholesky_decompose(K);\n",
    "        f = L_K *eta ;\n",
    "        \n",
    "    }\n",
    "    \n",
    "    rho ~ normal(0.90, 0.50);\n",
    "    alpha ~ normal(0.85, 0.50);\n",
    "\n",
    "    sigma ~ normal(0, 1.0);\n",
    "    eta ~ normal(0, 1);\n",
    "#     f ~ multi_normal_cholesky(f_mean, L_K);\n",
    "#     y ~ multi_normal_cholesky(f_mean,  L_K)\n",
    "    y ~ normal(f, sigma);\n",
    "    \n",
    "}\n",
    "\n",
    "generated quantities{\n",
    "    vector[N_star] f_star = gp_pred_rng(x, y, x_star, alpha, rho, sigma, jitter); \n",
    "#     vector[N_star] y_star = normal_rng(f_star, sigma);\n",
    "    vector[N_star] y_star;\n",
    "    for (i in 1:N_star){\n",
    "        y_star[i] = normal_rng(f_star[i], sigma);\n",
    "    }\n",
    "    \n",
    "}\n",
    "\n",
    "\"\"\""
   ]
  },
  {
   "cell_type": "code",
   "execution_count": 93,
   "metadata": {
    "collapsed": false
   },
   "outputs": [
    {
     "name": "stdout",
     "output_type": "stream",
     "text": [
      "(55, 1)\n",
      "(145, 1)\n"
     ]
    }
   ],
   "source": [
    "print(X_test.shape)\n",
    "print(X_train.shape)\n"
   ]
  },
  {
   "cell_type": "code",
   "execution_count": 98,
   "metadata": {
    "collapsed": false
   },
   "outputs": [
    {
     "name": "stderr",
     "output_type": "stream",
     "text": [
      "INFO:pystan:COMPILING THE C++ CODE FOR MODEL anon_model_25b3edf89d55d55dee0368de6310fbdf NOW.\n"
     ]
    }
   ],
   "source": [
    "stan_model_snelson_pred= pystan.StanModel(model_code=stan_code_pred)"
   ]
  },
  {
   "cell_type": "code",
   "execution_count": 94,
   "metadata": {
    "collapsed": true
   },
   "outputs": [],
   "source": [
    "N_star = X_test.shape[0]\n",
    "N = X_train.shape[0]"
   ]
  },
  {
   "cell_type": "code",
   "execution_count": 96,
   "metadata": {
    "collapsed": true
   },
   "outputs": [],
   "source": [
    "gp_reg_data_imp = {'N':N, 'x':X_train.flatten(), 'y':Y_train.flatten(),  'N_star':N_star, 'x_star':X_test.flatten()}"
   ]
  },
  {
   "cell_type": "code",
   "execution_count": 100,
   "metadata": {
    "collapsed": false
   },
   "outputs": [
    {
     "name": "stderr",
     "output_type": "stream",
     "text": [
      "/u/26/dhakaa1/unix/anaconda2/envs/stanpy35/lib/python3.5/site-packages/pystan/misc.py:399: FutureWarning: Conversion of the second argument of issubdtype from `float` to `np.floating` is deprecated. In future, it will be treated as `np.float64 == np.dtype(float).type`.\n",
      "  elif np.issubdtype(np.asarray(v).dtype, float):\n"
     ]
    }
   ],
   "source": [
    "fit_gp_pred_snelson = stan_model_snelson_pred.sampling(data=gp_reg_data_imp, iter=600, chains=2)"
   ]
  },
  {
   "cell_type": "code",
   "execution_count": 106,
   "metadata": {
    "collapsed": true
   },
   "outputs": [],
   "source": [
    "samples = fit_gp_pred_snelson.extract(permuted=True)\n",
    "eta_samples = samples['eta']\n",
    "eta_mean = np.mean(eta_samples, axis=0)\n",
    "sigma_samples = samples['sigma']\n",
    "sigma_mean = np.mean(sigma_samples, axis=0)\n",
    "alpha_samples = samples['alpha']\n",
    "alpha_mean = np.mean(alpha_samples, axis=0)\n",
    "rho_samples = samples['rho']\n",
    "f_star_samples = samples['f_star']\n",
    "y_star_samples = samples['y_star']\n",
    "f_star_mean = np.mean(f_star_samples, axis=0)\n",
    "y_star_mean = np.mean(y_star_samples, axis=0)\n",
    "f_star_var = np.var(f_star_samples, axis=0)\n",
    "y_star_var = np.var(y_star_samples, axis=0)"
   ]
  },
  {
   "cell_type": "code",
   "execution_count": 118,
   "metadata": {
    "collapsed": false
   },
   "outputs": [
    {
     "name": "stdout",
     "output_type": "stream",
     "text": [
      "[0.05904327 0.06324225 0.05815633 0.06036897 0.06023672 0.05534311\n",
      " 0.06183519 0.05789723 0.0523216  0.05463188 0.05798123 0.05803767\n",
      " 0.05437723 0.05423576 0.05314269 0.05618182 0.05070301 0.04829599\n",
      " 0.04758426 0.05033523 0.05451535 0.05668947 0.0541814  0.05907894\n",
      " 0.04967885 0.05693714 0.05956629 0.0546552  0.05507447 0.05532449\n",
      " 0.04828753 0.05264923 0.05253385 0.05849789 0.05302726 0.05321027\n",
      " 0.05527533 0.04767439 0.05584346 0.05429084 0.04597727 0.05272308\n",
      " 0.05144453 0.05256801 0.05456798 0.05034119 0.05430848 0.04866945\n",
      " 0.05227488 0.05488331 0.05392335 0.04763665 0.05266733 0.05440404\n",
      " 0.04917427]\n",
      "[0.01593426 0.01634511 0.01664804 0.01735282 0.01731016 0.01542833\n",
      " 0.01502521 0.01484033 0.01435555 0.01123792 0.01113514 0.01093686\n",
      " 0.01031747 0.00905838 0.0090369  0.00896192 0.00816977 0.0081439\n",
      " 0.0072235  0.00765088 0.00849509 0.00941952 0.01007013 0.01090582\n",
      " 0.01106996 0.01130118 0.01161155 0.011629   0.01165011 0.01209399\n",
      " 0.01213216 0.01226119 0.01231556 0.01232049 0.0121579  0.01196112\n",
      " 0.01106641 0.01003638 0.00838636 0.00810549 0.00547202 0.00628933\n",
      " 0.00651104 0.00757629 0.00762787 0.00766976 0.00851776 0.00857458\n",
      " 0.00885698 0.00890442 0.0086105  0.00850545 0.00805592 0.00641315\n",
      " 0.00576431]\n"
     ]
    }
   ],
   "source": [
    "print(y_star_var)\n",
    "print(f_star_var)"
   ]
  },
  {
   "cell_type": "code",
   "execution_count": 121,
   "metadata": {
    "collapsed": false
   },
   "outputs": [
    {
     "data": {
      "image/png": "[encoded data removed]",
      "text/plain": [
       "<Figure size 720x576 with 1 Axes>"
      ]
     },
     "metadata": {},
     "output_type": "display_data"
    }
   ],
   "source": [
    "fig, ax = plt.subplots(1, 1, figsize=(10, 8), sharex=True)\n",
    "ax.plot(X_train ,Y_train, 'ro')\n",
    "ax.plot(X_test, y_star_mean, 'bo')\n",
    "ax.plot(X_test, y_star_mean + 2*y_star_var, 'mo')\n",
    "ax.plot(X_test, y_star_mean - 2*y_star_var, 'mo')\n",
    "ax.plot(X_test, Y_test, 'go')\n",
    "for i in intervals:\n",
    "    ax.plot([i[0], i[0]], [-2.5, 2], 'b--')\n",
    "    ax.plot([i[1], i[1]], [-2.5, 2], 'b--')"
   ]
  },
  {
   "cell_type": "code",
   "execution_count": 108,
   "metadata": {
    "collapsed": false
   },
   "outputs": [
    {
     "data": {
      "text/plain": [
       "<matplotlib.legend.Legend at 0x7f35b5625358>"
      ]
     },
     "execution_count": 108,
     "metadata": {},
     "output_type": "execute_result"
    },
    {
     "data": {
      "image/png": "[encoded data removed]",
      "text/plain": [
       "<Figure size 576x576 with 4 Axes>"
      ]
     },
     "metadata": {},
     "output_type": "display_data"
    }
   ],
   "source": [
    "fig, axes = plt.subplots(2,2, figsize=(8,8))\n",
    "\n",
    "axes[0,0].plot(sigma_samples)\n",
    "axes[0,0].legend(['Noise variance'])\n",
    "axes[0,1].plot(alpha_samples)\n",
    "axes[0,1].legend(['Signal variance chain plot'])\n",
    "axes[1,0].plot(rho_samples)\n",
    "axes[1,0].legend(['Lengthscale plot'])\n",
    "\n"
   ]
  },
  {
   "cell_type": "code",
   "execution_count": 123,
   "metadata": {
    "collapsed": true
   },
   "outputs": [],
   "source": [
    "\n",
    "def RMSE(Y_star, Y_test):\n",
    "    rmse = np.sqrt(np.mean(np.square(Y_star - Y_test)))\n",
    "    return rmse\n",
    "\n",
    "def NMSE(Y_star, Y_test):\n",
    "    nmse = np.mean(np.square(Y_star - Y_test)) / np.mean(np.square(Y_test - np.mean(Y_test)))\n",
    "    return nmse\n",
    "\n",
    "def MLPPD(Y_star, Y_test, var_star):\n",
    "    mlppd = 0.5* (np.sum(np.square(Y_star - Y_test)/var_star + np.log(var_star) + np.log(2*np.pi))) / Y_star.size\n",
    "    return mlppd\n",
    "\n",
    "def MLPPD2(Y_star, Y_test, var_star):\n",
    "    mlppd2 = 0.5* (np.sum(np.square(Y_star - Y_test)/(var_star*np.abs(Y_test)) + np.log(var_star) + np.log(2*np.pi))) / Y_star.size\n",
    "    return mlppd2\n"
   ]
  },
  {
   "cell_type": "code",
   "execution_count": 127,
   "metadata": {
    "collapsed": false
   },
   "outputs": [
    {
     "name": "stdout",
     "output_type": "stream",
     "text": [
      "RMSE error: 1.478\n",
      "NMSE error: 1.989\n",
      "MLPPD error: 1085.436\n",
      "MLPPD2 error: 1587.536\n"
     ]
    }
   ],
   "source": [
    "RMSE_test_f = RMSE(f_star_mean, Y_test)\n",
    "RMSE_test = RMSE(y_star_mean, Y_test)\n",
    "NMSE_test_f = NMSE(f_star_mean, Y_test)\n",
    "MLPPD_test1 = MLPPD(y_star_mean, Y_test, y_star_var)\n",
    "# MLPPD_test2 = MLPPD(y_star_mean, Y_test, y_star_var)\n",
    "MLPPD_test2 = MLPPD2(y_star_mean, Y_test, y_star_var)\n",
    "print(\"RMSE error: %.3f\"%RMSE_test)\n",
    "print(\"NMSE error: %.3f\"%NMSE_test)\n",
    "\n",
    "print(\"MLPPD error: %.3f\"%MLPPD_test1)\n",
    "print(\"MLPPD2 error: %.3f\"%MLPPD_test2)"
   ]
  },
  {
   "cell_type": "code",
   "execution_count": 115,
   "metadata": {
    "collapsed": false
   },
   "outputs": [
    {
     "name": "stdout",
     "output_type": "stream",
     "text": [
      "[-1.06845628 -1.07782572 -1.10969533 -1.2328318  -1.27193624 -1.42403709\n",
      " -1.45246378 -1.45475226 -1.46571208 -1.57409733 -1.59429821 -1.62061205\n",
      " -1.62082596 -1.64543767 -1.65504692 -1.67077434 -1.68744995 -1.68827423\n",
      " -1.70942914  0.47768062  0.53635103  0.5893236   0.63404815  0.66497669\n",
      "  0.69398103  0.69001232  0.70809409  0.7081039   0.71414255  0.7270041\n",
      "  0.72587859  0.73590213  0.73971903  0.73451846  0.73530431  0.72306332\n",
      "  0.6896626   0.65277321  0.57049485  0.52875912  0.80765443  0.83356703\n",
      "  0.85135477  0.82985933  0.84292222  0.8425861   0.81540623  0.81364931\n",
      "  0.77378528  0.76899139  0.64433531  0.63585306  0.56211761  0.36298199\n",
      "  0.27072464]\n",
      "[[-1.3704895 ]\n",
      " [-1.011783  ]\n",
      " [-1.5898677 ]\n",
      " [-1.1101869 ]\n",
      " [-1.6510072 ]\n",
      " [-1.103029  ]\n",
      " [-1.3804133 ]\n",
      " [-1.5803886 ]\n",
      " [-1.6191998 ]\n",
      " [-1.5560383 ]\n",
      " [-1.8112513 ]\n",
      " [-1.7473682 ]\n",
      " [-1.9023357 ]\n",
      " [-1.1922887 ]\n",
      " [-1.4049308 ]\n",
      " [-1.8111369 ]\n",
      " [-1.5914154 ]\n",
      " [-1.4197883 ]\n",
      " [-1.9706934 ]\n",
      " [ 0.60504345]\n",
      " [-0.23416586]\n",
      " [ 0.23281771]\n",
      " [ 0.61823724]\n",
      " [ 0.52015974]\n",
      " [ 0.12356613]\n",
      " [ 0.47173193]\n",
      " [ 0.43530999]\n",
      " [ 0.6795046 ]\n",
      " [ 0.70563809]\n",
      " [ 0.6460294 ]\n",
      " [ 0.51426983]\n",
      " [ 0.04602774]\n",
      " [ 0.62081363]\n",
      " [ 0.20157393]\n",
      " [ 0.91757352]\n",
      " [ 0.79069173]\n",
      " [ 0.52315895]\n",
      " [ 0.17028679]\n",
      " [ 0.40492375]\n",
      " [ 0.21889455]\n",
      " [ 0.81436169]\n",
      " [ 1.0657384 ]\n",
      " [ 0.87041691]\n",
      " [ 0.91682906]\n",
      " [ 0.95155796]\n",
      " [ 0.72285343]\n",
      " [ 0.77289801]\n",
      " [ 1.2473979 ]\n",
      " [ 1.1606214 ]\n",
      " [ 0.93191177]\n",
      " [ 0.34881056]\n",
      " [ 0.24939631]\n",
      " [ 0.50594554]\n",
      " [ 0.86707862]\n",
      " [ 0.60534989]]\n"
     ]
    }
   ],
   "source": [
    "print(y_star_mean)\n",
    "print(Y_test)"
   ]
  },
  {
   "cell_type": "code",
   "execution_count": null,
   "metadata": {
    "collapsed": true
   },
   "outputs": [],
   "source": []
  }
 ],
 "metadata": {
  "anaconda-cloud": {},
  "kernelspec": {
   "display_name": "Python [conda env:stanpy35]",
   "language": "python",
   "name": "conda-env-stanpy35-py"
  },
  "language_info": {
   "codemirror_mode": {
    "name": "ipython",
    "version": 3
   },
   "file_extension": ".py",
   "mimetype": "text/x-python",
   "name": "python",
   "nbconvert_exporter": "python",
   "pygments_lexer": "ipython3",
   "version": "3.5.4"
  }
 },
 "nbformat": 4,
 "nbformat_minor": 1
}
