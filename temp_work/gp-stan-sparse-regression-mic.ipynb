{
 "cells": [
  {
   "cell_type": "code",
   "execution_count": 18,
   "metadata": {
    "collapsed": true
   },
   "outputs": [],
   "source": [
    "import  matplotlib\n",
    "import matplotlib.pyplot as plt\n",
    "import pystan"
   ]
  },
  {
   "cell_type": "code",
   "execution_count": 19,
   "metadata": {
    "collapsed": false
   },
   "outputs": [],
   "source": [
    "import numpy as np"
   ]
  },
  {
   "cell_type": "code",
   "execution_count": 20,
   "metadata": {
    "collapsed": true
   },
   "outputs": [],
   "source": [
    "import scipy.io as sio"
   ]
  },
  {
   "cell_type": "code",
   "execution_count": 21,
   "metadata": {
    "collapsed": true
   },
   "outputs": [],
   "source": [
    "df = sio.loadmat('snelson1d.mat')"
   ]
  },
  {
   "cell_type": "code",
   "execution_count": 22,
   "metadata": {
    "collapsed": true
   },
   "outputs": [],
   "source": [
    "X = df['X']\n",
    "Y = df['Y']\n",
    "X_t = df['tX']\n",
    "Y_t = df['tY']"
   ]
  },
  {
   "cell_type": "code",
   "execution_count": 23,
   "metadata": {
    "collapsed": true
   },
   "outputs": [],
   "source": [
    "def kmm_init(X, m = 20):\n",
    "    \"\"\"\n",
    "    This is the same initialization algorithm that is used\n",
    "    in Kmeans++. It's quite simple and very useful to initialize\n",
    "    the locations of the inducing points in sparse GPs.\n",
    "    \n",
    "    http://ilpubs.stanford.edu:8090/778/1/2006-13.pdf\n",
    "    1. Take one center c1, initially chosen at random\n",
    "    2. Take a new center ci with prob. \\frac{D(x)^2}{\\sum D(x)^2}\n",
    "    3. Repeat step 2 until we have K centers.\n",
    "    4. Proceed with standard K-means clustering..\n",
    "    \n",
    "    where D(x) is the distance to the closest cluster center. \n",
    "    If we dont want to invest time on that, just use the initialisation which is good enough atleast for the 1D case.\n",
    "    \n",
    "    :param X: data\n",
    "    :param m: number of inducing points\n",
    "    \"\"\"\n",
    "\n",
    "    # compute the distances\n",
    "    XXT = np.dot(X, X.T)\n",
    "    D = (-2.*XXT + np.diag(XXT)[:,np.newaxis] + np.diag(XXT)[np.newaxis,:])\n",
    "\n",
    "    # select the first point\n",
    "    s = np.random.permutation(X.shape[0])[0]\n",
    "    inducing = [s]\n",
    "    prob = D[s]/D[s].sum()\n",
    "\n",
    "    for z in range(m-1):\n",
    "        s = np.random.multinomial(1, prob.flatten()).argmax()\n",
    "        inducing.append(s)\n",
    "        prob = D[s]/D[s].sum()\n",
    "\n",
    "    inducing = np.array(inducing)\n",
    "    return X[inducing]"
   ]
  },
  {
   "cell_type": "code",
   "execution_count": 24,
   "metadata": {
    "collapsed": false
   },
   "outputs": [],
   "source": [
    "X_u = kmm_init(X)"
   ]
  },
  {
   "cell_type": "code",
   "execution_count": 25,
   "metadata": {
    "collapsed": false
   },
   "outputs": [
    {
     "name": "stdout",
     "output_type": "stream",
     "text": [
      "(20, 1)\n"
     ]
    }
   ],
   "source": [
    "print(X_u.shape)"
   ]
  },
  {
   "cell_type": "code",
   "execution_count": 26,
   "metadata": {
    "collapsed": false
   },
   "outputs": [],
   "source": [
    "X_u_noisy = X_u + 0.1*np.random.rand(*X_u.shape) "
   ]
  },
  {
   "cell_type": "code",
   "execution_count": 27,
   "metadata": {
    "collapsed": false
   },
   "outputs": [],
   "source": [
    "# X_u_noisy= X_u_noisy[X_u_noisy < 5.8] \n",
    "# X_u_noisy= X_u_noisy[X_u_noisy > 0.1] "
   ]
  },
  {
   "cell_type": "code",
   "execution_count": 28,
   "metadata": {
    "collapsed": false
   },
   "outputs": [
    {
     "name": "stdout",
     "output_type": "stream",
     "text": [
      "(200, 1)\n"
     ]
    }
   ],
   "source": [
    "print(X.shape)"
   ]
  },
  {
   "cell_type": "code",
   "execution_count": 29,
   "metadata": {
    "collapsed": false
   },
   "outputs": [],
   "source": [
    "# print(X.max()), print(X.min())\n",
    "# print(X_u_noisy.max()), print(X_u_noisy.min())"
   ]
  },
  {
   "cell_type": "code",
   "execution_count": 55,
   "metadata": {
    "collapsed": true
   },
   "outputs": [],
   "source": [
    "stan_code=\"\"\"\n",
    "data {\n",
    "int<lower=1> N;\n",
    "int<lower=1> M;\n",
    "real x[N];\n",
    "vector[N] y;\n",
    "real xu[M];\n",
    "}\n",
    "\n",
    "transformed data {\n",
    "real delta = 1e-9;\n",
    "}\n",
    "parameters {\n",
    "real<lower=0> rho;\n",
    "real<lower=0> alpha;\n",
    "real<lower=0> sigma;\n",
    "vector[M] eta2;\n",
    "}\n",
    "model {\n",
    "vector[N] f;\n",
    "vector[N] f_mean;\n",
    "matrix[N, N] f_cov;\n",
    "vector[M] u;\n",
    "matrix[M, M] Kuu_inv ;\n",
    "{\n",
    "matrix[N, N] L_K;\n",
    "matrix[M, M] L_U;\n",
    "matrix[N, N] K = cov_exp_quad(x, alpha, rho);\n",
    "\n",
    "matrix[M, M] Kuu = cov_exp_quad(xu, alpha, rho);\n",
    "matrix[N, M] Kfu = cov_exp_quad(x, xu, alpha, rho);\n",
    "\n",
    "for (m in 1:M){\n",
    "    Kuu[m, m] = K[m, m] + delta;\n",
    "}\n",
    "\n",
    "Kuu_inv = inverse(Kuu); \n",
    "// diagonal elements\n",
    "for (n in 1:N)\n",
    "K[n, n] = K[n, n] + delta;\n",
    "\n",
    "\n",
    "L_K = cholesky_decompose(K);\n",
    "L_U = cholesky_decompose(Kuu);\n",
    "u = L_U * eta2;\n",
    "# f = L_K * eta1;\n",
    "\n",
    "f_mean = Kfu*(Kuu_inv*u);\n",
    "f_cov = K - Kfu*(Kuu_inv*Kfu');\n",
    "\n",
    "}\n",
    "\n",
    "rho ~ inv_gamma(5, 5);\n",
    "alpha ~ normal(0, 1);\n",
    "sigma ~ normal(0, 1);\n",
    "\n",
    "eta2 ~ normal(0, 1);\n",
    "f ~ multi_normal(f_mean, f_cov);\n",
    "\n",
    "y ~ normal(f, sigma);\n",
    "}\n",
    "\n",
    "\n",
    "\"\"\""
   ]
  },
  {
   "cell_type": "markdown",
   "metadata": {},
   "source": [
    "This code does the same thing as above, but using Cholesky decomposition."
   ]
  },
  {
   "cell_type": "code",
   "execution_count": 56,
   "metadata": {
    "collapsed": true
   },
   "outputs": [],
   "source": [
    "stan_code2 = \"\"\"\n",
    "functions{\n",
    "    matrix cov_cond_fn(vector u, real[] z, real[] x, real sigvar, real lengthscale, real sigma, real jitter){\n",
    "        int M = size(z);\n",
    "        int N = size(x);\n",
    "        vector[N] f2;\n",
    "        matrix[N, N] cov_f2;\n",
    "        {\n",
    "            matrix[N, N] L_K;\n",
    "            matrix[M, M] Lu;\n",
    "            vector[M] K_div_u;\n",
    "            matrix[N, M] Kfu;\n",
    "            matrix[N, M] v_pred;\n",
    "\n",
    "            matrix[M, M] Kuu;\n",
    "            matrix[M, M] Kuu_inv;\n",
    "            vector[M] Kuu_inv_u;\n",
    "            matrix[N, N] Kff;\n",
    "            matrix[N, N] Qff;\n",
    "            matrix[M, N] mat1;\n",
    "            \n",
    "            matrix[N, N] diag_delta;\n",
    "            \n",
    "            vector[N] f_u_mu;\n",
    "            \n",
    "            real sv = 1.2;\n",
    "            real scale = 0.9;\n",
    "            Kff = cov_exp_quad(x, sigvar, lengthscale);\n",
    "            \n",
    "        #    K = cov_exp_quad_ARD(x1, alpha, rho);\n",
    "        \n",
    "            for (i in 1:N){\n",
    "                Kff[i,i] = Kff[i,i] + square(sigma);            \n",
    "            }\n",
    "            \n",
    "            Kuu = cov_exp_quad(z, sv, scale);\n",
    "            \n",
    "            for (i in 1:M){\n",
    "                Kuu[i,i] = Kuu[i,i] + jitter;            \n",
    "            }\n",
    "            \n",
    "            L_K = cholesky_decompose(Kff);\n",
    "            #Lu = cholesky_decompose(Kuu);\n",
    "\n",
    "            # solving a triangular system here: Ax = b where A is a symmetric positive definite matrix.\n",
    "            # LL'x = y1\n",
    "            # Lc = y1\n",
    "            # c = y1/L\n",
    "            # c = L'x\n",
    "\n",
    "            #K_div_u = mdivide_left_tri_low(Lu, u);\n",
    "            #K_div_u = mdivide_right_tri_low(K_div_u', Lu)';\n",
    "            \n",
    "            Kuu_inv = inverse(Kuu);\n",
    "            Kuu_inv_u = Kuu_inv*u;\n",
    "            Kfu = cov_exp_quad(x, z, sigvar, lengthscale);\n",
    "        #    f_u_mu = (Kfu * K_div_u);\n",
    "            f_u_mu = (Kfu * Kuu_inv_u);\n",
    "            #v_pred = mdivide_left_tri_low(Lu, Kfu');\n",
    "            \n",
    "            mat1 = Kuu_inv * Kfu';\n",
    "            Qff = Kfu* mat1;\n",
    "         \n",
    "         #   Qff = v_pred'*v_pred;\n",
    "         \n",
    "            cov_f2 = Kff - Qff;\n",
    "            diag_delta = diag_matrix(rep_vector(jitter, N));  \n",
    "            \n",
    "            # sample f from multivariate normal with mean=f2mu and covariance=cov_f2\n",
    "           # f2 = multi_normal_rng(f_u_mu, cov_f2 + diag_delta);\n",
    "        }\n",
    "        return cov_f2;\n",
    "    }\n",
    "    \n",
    "       vector mean_cond_fn(vector u, real[] z, real[] x, real sigvar, real lengthscale, real sigma, real jitter){\n",
    "        int M = size(z);\n",
    "        int N = size(x);\n",
    "        vector[N] f2;\n",
    "        matrix[N, N] cov_f2;\n",
    "        vector[N] f_u_mu;\n",
    "        {\n",
    "            matrix[N, N] L_K;\n",
    "            matrix[M, M] Lu;\n",
    "            vector[M] K_div_u;\n",
    "            matrix[N, M] Kfu;\n",
    "            matrix[N, M] v_pred;\n",
    "\n",
    "            matrix[M, M] Kuu;\n",
    "            matrix[N, N] Kff;\n",
    "            matrix[N, N] Qff;\n",
    "            \n",
    "            matrix[N, N] diag_delta;\n",
    "            matrix[M, N] mat1;\n",
    "            \n",
    "            \n",
    "            Kff = cov_exp_quad(x, sigvar, lengthscale);\n",
    "            \n",
    "        #    K = cov_exp_quad_ARD(x1, alpha, rho);\n",
    "        \n",
    "            for (i in 1:N){\n",
    "                Kff[i,i] = Kff[i,i] + square(sigma);            \n",
    "            }\n",
    "            \n",
    "            \n",
    "            Kuu = cov_exp_quad(z, sigvar, lengthscale);\n",
    "            for (i in 1:M){\n",
    "                Kuu[i,i] = Kuu[i,i] + jitter;            \n",
    "            }\n",
    "            Lu = cholesky_decompose(Kuu);\n",
    "\n",
    "            # solving a triangular system here: Ax = b where A is a symmetric positive definite matrix.\n",
    "            # LL'x = y1\n",
    "            # Lc = y1\n",
    "            # c = y1/L\n",
    "            # c = L'x\n",
    "\n",
    "            K_div_u = mdivide_left_tri_low(Lu, u);\n",
    "            K_div_u = mdivide_right_tri_low(K_div_u', Lu)';\n",
    "            Kfu = cov_exp_quad(x, z, sigvar, lengthscale);\n",
    "      #      K_x1_x2 = cov_exp_quad_x1_x2_ARD(x1, x2, alpha, rho);\n",
    "            f_u_mu = (Kfu * K_div_u);\n",
    "            #v_pred = mdivide_left_tri_low(Lu, Kfu');\n",
    "            mat1 = inverse(Kuu)*Kfu';\n",
    "            Qff = Kfu*mat1;\n",
    "            #Qff = v_pred*v_pred';\n",
    "            cov_f2 = Kff - Qff;\n",
    "            diag_delta = diag_matrix(rep_vector(jitter, N));  \n",
    "            \n",
    "            # sample f from multivariate normal with mean=f2mu and covariance=cov_f2\n",
    "#             f2 = multi_normal_rng(f_u_mu, cov_f2 + diag_delta);\n",
    "        }\n",
    "        return f_u_mu;\n",
    "    }\n",
    "}\n",
    "\n",
    "data{\n",
    "    int<lower=1> N1;\n",
    "    real x1[N1];\n",
    "    vector[N1] y1;\n",
    "    int<lower=1> N2;\n",
    "    int<lower=1> M;\n",
    "    real x2[N2];\n",
    "    real z[M];\n",
    "}\n",
    "\n",
    "transformed data{\n",
    "    int<lower=1>N = N1+N2;\n",
    "    real x[N];\n",
    "    vector[N1] f1_mu = rep_vector(0, N1);\n",
    "    vector[M] u_mu= rep_vector(0, M);\n",
    "    real jitter = 1e-7;\n",
    "    real lengthscale = 0.9;\n",
    "    real sigvar = 1.5;\n",
    "}\n",
    "\n",
    "parameters{\n",
    "#     real<lower=0> lengthscale;\n",
    "#     real<lower=0> sigvar;\n",
    "    real sigma;\n",
    "    vector[M] eta;\n",
    "}\n",
    "\n",
    "transformed parameters{\n",
    "#     real<lower=0> rho1 = rho[0];\n",
    "\n",
    "    vector[N1] f1;\n",
    "    vector[M] u;\n",
    "    vector[M] umat;\n",
    "    matrix[M, M] Lu;\n",
    "    matrix[M, M] Kuu;\n",
    "    matrix[M, M] Kuu_inv;\n",
    "    matrix[N1, N1] cov_cond;\n",
    "    vector[N1] mean_cond;\n",
    "    matrix[N1, N1] Kff;\n",
    "    matrix[N1,M] Kfu;\n",
    "\n",
    "    {\n",
    "        real utemp[M];\n",
    "        real ftemp[N1];\n",
    "        Kuu= cov_exp_quad(z, sigvar, lengthscale);\n",
    "        Kfu= cov_exp_quad(x1, z, sigvar, lengthscale);\n",
    "        \n",
    "        for (i in 1:M){\n",
    "            Kuu[i,i] = Kuu[i,i] + jitter;\n",
    "        }\n",
    "        for (i in 1:M){\n",
    "            utemp[i] = u[i];\n",
    "        }\n",
    "        \n",
    "\n",
    "     #   Lu = cholesky_decompose(Kuu);\n",
    "        \n",
    "        u = u_mu + Lu * eta;\n",
    "        Kuu_inv = inverse(Kuu);\n",
    "        umat = Kuu_inv*u;\n",
    "        mean_cond = Kfu*umat;\n",
    "        cov_cond = Kfu*(Kuu_inv*Kfu');\n",
    "        \n",
    "     #   cov_cond = cov_cond_fn(u, z, x1, sigvar, lengthscale, sigma, jitter);\n",
    "     #   mean_cond = mean_cond_fn(u, z, x1, sigvar, lengthscale, sigma, jitter);\n",
    "        \n",
    "#         f1 = cov_cond_rng(mean_cond, cov_cond);\n",
    "\n",
    "    }\n",
    "}\n",
    "\n",
    "model{\n",
    "    lengthscale ~ inv_gamma(5,5);\n",
    "    sigvar ~ normal(0,1);\n",
    "    sigma ~ normal(0,1);\n",
    "    eta ~ normal(0, 1);\n",
    "    u ~ multi_normal(u_mu, Kuu);\n",
    "    f1 ~ multi_normal(mean_cond, cov_cond);\n",
    "#     f1 = f1_u*u;\n",
    "    y1 ~ normal(f1, sigma);\n",
    "\n",
    "}\n",
    "\n",
    "generated quantities {\n",
    "#   vector[N1] f1;\n",
    "  vector[N2] f2;\n",
    "  vector[N2] y2;\n",
    "\n",
    "  f2 = multi_normal_rng(mean_cond, cov_cond);\n",
    "#   f2 = gp_pred_rng(x2, y1, x1, alpha, rho, sigma, jitter);\n",
    "  for (n2 in 1:N2){\n",
    "    y2[n2] = normal_rng(f2[n2], sigma);  \n",
    "  }\n",
    "\n",
    "}\n",
    "\n",
    "\"\"\"\n"
   ]
  },
  {
   "cell_type": "code",
   "execution_count": 57,
   "metadata": {
    "collapsed": false
   },
   "outputs": [
    {
     "name": "stderr",
     "output_type": "stream",
     "text": [
      "INFO:pystan:COMPILING THE C++ CODE FOR MODEL anon_model_5bd300a9bfe5c0aaa6d6902a720a1a54 NOW.\n"
     ]
    }
   ],
   "source": [
    "stan_model = pystan.StanModel(model_code=stan_code)"
   ]
  },
  {
   "cell_type": "code",
   "execution_count": 58,
   "metadata": {
    "collapsed": true
   },
   "outputs": [],
   "source": [
    "N1 = 200"
   ]
  },
  {
   "cell_type": "code",
   "execution_count": 59,
   "metadata": {
    "collapsed": true
   },
   "outputs": [],
   "source": [
    "M = 20"
   ]
  },
  {
   "cell_type": "code",
   "execution_count": 60,
   "metadata": {
    "collapsed": false
   },
   "outputs": [
    {
     "name": "stdout",
     "output_type": "stream",
     "text": [
      "5.9657729\n",
      "0.059167804\n"
     ]
    },
    {
     "data": {
      "text/plain": [
       "(None, None)"
      ]
     },
     "execution_count": 60,
     "metadata": {},
     "output_type": "execute_result"
    }
   ],
   "source": [
    "print(np.max(X)), print(np.min(X))"
   ]
  },
  {
   "cell_type": "code",
   "execution_count": 61,
   "metadata": {
    "collapsed": true
   },
   "outputs": [],
   "source": [
    "N2 = 20"
   ]
  },
  {
   "cell_type": "code",
   "execution_count": 62,
   "metadata": {
    "collapsed": false
   },
   "outputs": [],
   "source": [
    "Xtest = np.linspace(0,6, N2)"
   ]
  },
  {
   "cell_type": "code",
   "execution_count": 63,
   "metadata": {
    "collapsed": true
   },
   "outputs": [],
   "source": [
    "Xtest = Xtest.reshape(-1,1)"
   ]
  },
  {
   "cell_type": "code",
   "execution_count": 64,
   "metadata": {
    "collapsed": true
   },
   "outputs": [],
   "source": [
    "Y = Y.flatten()\n",
    "X = X.flatten()\n",
    "Xtest = Xtest.flatten()"
   ]
  },
  {
   "cell_type": "code",
   "execution_count": 65,
   "metadata": {
    "collapsed": true
   },
   "outputs": [],
   "source": [
    "X_u_noisy = X_u_noisy.flatten()"
   ]
  },
  {
   "cell_type": "code",
   "execution_count": 66,
   "metadata": {
    "collapsed": true
   },
   "outputs": [],
   "source": [
    "lengthscale = 1.1"
   ]
  },
  {
   "cell_type": "code",
   "execution_count": 67,
   "metadata": {
    "collapsed": true
   },
   "outputs": [],
   "source": [
    "sigvar = 2.5"
   ]
  },
  {
   "cell_type": "code",
   "execution_count": 68,
   "metadata": {
    "collapsed": true
   },
   "outputs": [],
   "source": [
    "gp_sparse_regression_data = {'y1':Y, 'x1':X, 'N1':200, 'N2':N2, 'x2':Xtest, 'z':X_u_noisy, 'M':M}"
   ]
  },
  {
   "cell_type": "code",
   "execution_count": 69,
   "metadata": {
    "collapsed": true
   },
   "outputs": [],
   "source": [
    "gp_full_data = {'N':200, 'x':X, 'y':Y}\n",
    "gp_full_data2 = {'N':200, 'x':X, 'y':Y, 'M':20, 'xu':X_u_noisy}"
   ]
  },
  {
   "cell_type": "code",
   "execution_count": 70,
   "metadata": {
    "collapsed": true
   },
   "outputs": [],
   "source": [
    "gp_sparse_regression_data_fixed_hyperparams = {'y1':Y, 'x1':X, 'N1':200, 'N2':N2, 'x2':Xtest, 'z':X_u_noisy, 'M':19, 'lengthscale':lengthscale, 'sigvar':sigvar }"
   ]
  },
  {
   "cell_type": "code",
   "execution_count": 81,
   "metadata": {
    "collapsed": false
   },
   "outputs": [],
   "source": [
    "# fit = stan_model.sampling(data=gp_sparse_regression_data, iter=200, chains=2)"
   ]
  },
  {
   "cell_type": "code",
   "execution_count": 82,
   "metadata": {
    "collapsed": false
   },
   "outputs": [
    {
     "name": "stderr",
     "output_type": "stream",
     "text": [
      "/u/26/dhakaa1/unix/anaconda2/envs/stanpy35/lib/python3.5/site-packages/pystan/misc.py:399: FutureWarning: Conversion of the second argument of issubdtype from `float` to `np.floating` is deprecated. In future, it will be treated as `np.float64 == np.dtype(float).type`.\n",
      "  elif np.issubdtype(np.asarray(v).dtype, float):\n"
     ]
    }
   ],
   "source": [
    "fit2 = stan_model.sampling(data=gp_full_data, iter=200, chains=2)"
   ]
  },
  {
   "cell_type": "code",
   "execution_count": 72,
   "metadata": {
    "collapsed": false
   },
   "outputs": [
    {
     "name": "stderr",
     "output_type": "stream",
     "text": [
      "/u/26/dhakaa1/unix/anaconda2/envs/stanpy35/lib/python3.5/site-packages/pystan/misc.py:399: FutureWarning: Conversion of the second argument of issubdtype from `float` to `np.floating` is deprecated. In future, it will be treated as `np.float64 == np.dtype(float).type`.\n",
      "  elif np.issubdtype(np.asarray(v).dtype, float):\n"
     ]
    },
    {
     "ename": "RuntimeError",
     "evalue": "Initialization failed.",
     "output_type": "error",
     "traceback": [
      "\u001b[0;31m---------------------------------------------------------------------------\u001b[0m",
      "\u001b[0;31mRemoteTraceback\u001b[0m                           Traceback (most recent call last)",
      "\u001b[0;31mRemoteTraceback\u001b[0m: \n\"\"\"\nTraceback (most recent call last):\n  File \"/u/26/dhakaa1/unix/anaconda2/envs/stanpy35/lib/python3.5/multiprocessing/pool.py\", line 119, in worker\n    result = (True, func(*args, **kwds))\n  File \"/u/26/dhakaa1/unix/anaconda2/envs/stanpy35/lib/python3.5/multiprocessing/pool.py\", line 44, in mapstar\n    return list(map(*args))\n  File \"stanfit4anon_model_5bd300a9bfe5c0aaa6d6902a720a1a54_2442775390883208257.pyx\", line 368, in stanfit4anon_model_5bd300a9bfe5c0aaa6d6902a720a1a54_2442775390883208257._call_sampler_star\n  File \"stanfit4anon_model_5bd300a9bfe5c0aaa6d6902a720a1a54_2442775390883208257.pyx\", line 401, in stanfit4anon_model_5bd300a9bfe5c0aaa6d6902a720a1a54_2442775390883208257._call_sampler\nRuntimeError: Initialization failed.\n\"\"\"",
      "\nThe above exception was the direct cause of the following exception:\n",
      "\u001b[0;31mRuntimeError\u001b[0m                              Traceback (most recent call last)",
      "\u001b[0;32m<ipython-input-72-7a9f16228b98>\u001b[0m in \u001b[0;36m<module>\u001b[0;34m()\u001b[0m\n\u001b[0;32m----> 1\u001b[0;31m \u001b[0mfit3\u001b[0m \u001b[0;34m=\u001b[0m \u001b[0mstan_model\u001b[0m\u001b[0;34m.\u001b[0m\u001b[0msampling\u001b[0m\u001b[0;34m(\u001b[0m\u001b[0mdata\u001b[0m\u001b[0;34m=\u001b[0m\u001b[0mgp_full_data2\u001b[0m\u001b[0;34m,\u001b[0m \u001b[0miter\u001b[0m\u001b[0;34m=\u001b[0m\u001b[0;36m1000\u001b[0m\u001b[0;34m,\u001b[0m \u001b[0mchains\u001b[0m\u001b[0;34m=\u001b[0m\u001b[0;36m2\u001b[0m\u001b[0;34m)\u001b[0m\u001b[0;34m\u001b[0m\u001b[0m\n\u001b[0m",
      "\u001b[0;32m~/anaconda2/envs/stanpy35/lib/python3.5/site-packages/pystan/model.py\u001b[0m in \u001b[0;36msampling\u001b[0;34m(self, data, pars, chains, iter, warmup, thin, seed, init, sample_file, diagnostic_file, verbose, algorithm, control, n_jobs, **kwargs)\u001b[0m\n\u001b[1;32m    724\u001b[0m         \u001b[0mcall_sampler_args\u001b[0m \u001b[0;34m=\u001b[0m \u001b[0mizip\u001b[0m\u001b[0;34m(\u001b[0m\u001b[0mitertools\u001b[0m\u001b[0;34m.\u001b[0m\u001b[0mrepeat\u001b[0m\u001b[0;34m(\u001b[0m\u001b[0mdata\u001b[0m\u001b[0;34m)\u001b[0m\u001b[0;34m,\u001b[0m \u001b[0margs_list\u001b[0m\u001b[0;34m,\u001b[0m \u001b[0mitertools\u001b[0m\u001b[0;34m.\u001b[0m\u001b[0mrepeat\u001b[0m\u001b[0;34m(\u001b[0m\u001b[0mpars\u001b[0m\u001b[0;34m)\u001b[0m\u001b[0;34m)\u001b[0m\u001b[0;34m\u001b[0m\u001b[0m\n\u001b[1;32m    725\u001b[0m         \u001b[0mcall_sampler_star\u001b[0m \u001b[0;34m=\u001b[0m \u001b[0mself\u001b[0m\u001b[0;34m.\u001b[0m\u001b[0mmodule\u001b[0m\u001b[0;34m.\u001b[0m\u001b[0m_call_sampler_star\u001b[0m\u001b[0;34m\u001b[0m\u001b[0m\n\u001b[0;32m--> 726\u001b[0;31m         \u001b[0mret_and_samples\u001b[0m \u001b[0;34m=\u001b[0m \u001b[0m_map_parallel\u001b[0m\u001b[0;34m(\u001b[0m\u001b[0mcall_sampler_star\u001b[0m\u001b[0;34m,\u001b[0m \u001b[0mcall_sampler_args\u001b[0m\u001b[0;34m,\u001b[0m \u001b[0mn_jobs\u001b[0m\u001b[0;34m)\u001b[0m\u001b[0;34m\u001b[0m\u001b[0m\n\u001b[0m\u001b[1;32m    727\u001b[0m         \u001b[0msamples\u001b[0m \u001b[0;34m=\u001b[0m \u001b[0;34m[\u001b[0m\u001b[0msmpl\u001b[0m \u001b[0;32mfor\u001b[0m \u001b[0m_\u001b[0m\u001b[0;34m,\u001b[0m \u001b[0msmpl\u001b[0m \u001b[0;32min\u001b[0m \u001b[0mret_and_samples\u001b[0m\u001b[0;34m]\u001b[0m\u001b[0;34m\u001b[0m\u001b[0m\n\u001b[1;32m    728\u001b[0m \u001b[0;34m\u001b[0m\u001b[0m\n",
      "\u001b[0;32m~/anaconda2/envs/stanpy35/lib/python3.5/site-packages/pystan/model.py\u001b[0m in \u001b[0;36m_map_parallel\u001b[0;34m(function, args, n_jobs)\u001b[0m\n\u001b[1;32m     79\u001b[0m         \u001b[0;32mtry\u001b[0m\u001b[0;34m:\u001b[0m\u001b[0;34m\u001b[0m\u001b[0m\n\u001b[1;32m     80\u001b[0m             \u001b[0mpool\u001b[0m \u001b[0;34m=\u001b[0m \u001b[0mmultiprocessing\u001b[0m\u001b[0;34m.\u001b[0m\u001b[0mPool\u001b[0m\u001b[0;34m(\u001b[0m\u001b[0mprocesses\u001b[0m\u001b[0;34m=\u001b[0m\u001b[0mn_jobs\u001b[0m\u001b[0;34m)\u001b[0m\u001b[0;34m\u001b[0m\u001b[0m\n\u001b[0;32m---> 81\u001b[0;31m             \u001b[0mmap_result\u001b[0m \u001b[0;34m=\u001b[0m \u001b[0mpool\u001b[0m\u001b[0;34m.\u001b[0m\u001b[0mmap\u001b[0m\u001b[0;34m(\u001b[0m\u001b[0mfunction\u001b[0m\u001b[0;34m,\u001b[0m \u001b[0margs\u001b[0m\u001b[0;34m)\u001b[0m\u001b[0;34m\u001b[0m\u001b[0m\n\u001b[0m\u001b[1;32m     82\u001b[0m         \u001b[0;32mfinally\u001b[0m\u001b[0;34m:\u001b[0m\u001b[0;34m\u001b[0m\u001b[0m\n\u001b[1;32m     83\u001b[0m             \u001b[0mpool\u001b[0m\u001b[0;34m.\u001b[0m\u001b[0mclose\u001b[0m\u001b[0;34m(\u001b[0m\u001b[0;34m)\u001b[0m\u001b[0;34m\u001b[0m\u001b[0m\n",
      "\u001b[0;32m~/anaconda2/envs/stanpy35/lib/python3.5/multiprocessing/pool.py\u001b[0m in \u001b[0;36mmap\u001b[0;34m(self, func, iterable, chunksize)\u001b[0m\n\u001b[1;32m    264\u001b[0m         \u001b[0;32min\u001b[0m \u001b[0ma\u001b[0m \u001b[0mlist\u001b[0m \u001b[0mthat\u001b[0m \u001b[0;32mis\u001b[0m \u001b[0mreturned\u001b[0m\u001b[0;34m.\u001b[0m\u001b[0;34m\u001b[0m\u001b[0m\n\u001b[1;32m    265\u001b[0m         '''\n\u001b[0;32m--> 266\u001b[0;31m         \u001b[0;32mreturn\u001b[0m \u001b[0mself\u001b[0m\u001b[0;34m.\u001b[0m\u001b[0m_map_async\u001b[0m\u001b[0;34m(\u001b[0m\u001b[0mfunc\u001b[0m\u001b[0;34m,\u001b[0m \u001b[0miterable\u001b[0m\u001b[0;34m,\u001b[0m \u001b[0mmapstar\u001b[0m\u001b[0;34m,\u001b[0m \u001b[0mchunksize\u001b[0m\u001b[0;34m)\u001b[0m\u001b[0;34m.\u001b[0m\u001b[0mget\u001b[0m\u001b[0;34m(\u001b[0m\u001b[0;34m)\u001b[0m\u001b[0;34m\u001b[0m\u001b[0m\n\u001b[0m\u001b[1;32m    267\u001b[0m \u001b[0;34m\u001b[0m\u001b[0m\n\u001b[1;32m    268\u001b[0m     \u001b[0;32mdef\u001b[0m \u001b[0mstarmap\u001b[0m\u001b[0;34m(\u001b[0m\u001b[0mself\u001b[0m\u001b[0;34m,\u001b[0m \u001b[0mfunc\u001b[0m\u001b[0;34m,\u001b[0m \u001b[0miterable\u001b[0m\u001b[0;34m,\u001b[0m \u001b[0mchunksize\u001b[0m\u001b[0;34m=\u001b[0m\u001b[0;32mNone\u001b[0m\u001b[0;34m)\u001b[0m\u001b[0;34m:\u001b[0m\u001b[0;34m\u001b[0m\u001b[0m\n",
      "\u001b[0;32m~/anaconda2/envs/stanpy35/lib/python3.5/multiprocessing/pool.py\u001b[0m in \u001b[0;36mget\u001b[0;34m(self, timeout)\u001b[0m\n\u001b[1;32m    642\u001b[0m             \u001b[0;32mreturn\u001b[0m \u001b[0mself\u001b[0m\u001b[0;34m.\u001b[0m\u001b[0m_value\u001b[0m\u001b[0;34m\u001b[0m\u001b[0m\n\u001b[1;32m    643\u001b[0m         \u001b[0;32melse\u001b[0m\u001b[0;34m:\u001b[0m\u001b[0;34m\u001b[0m\u001b[0m\n\u001b[0;32m--> 644\u001b[0;31m             \u001b[0;32mraise\u001b[0m \u001b[0mself\u001b[0m\u001b[0;34m.\u001b[0m\u001b[0m_value\u001b[0m\u001b[0;34m\u001b[0m\u001b[0m\n\u001b[0m\u001b[1;32m    645\u001b[0m \u001b[0;34m\u001b[0m\u001b[0m\n\u001b[1;32m    646\u001b[0m     \u001b[0;32mdef\u001b[0m \u001b[0m_set\u001b[0m\u001b[0;34m(\u001b[0m\u001b[0mself\u001b[0m\u001b[0;34m,\u001b[0m \u001b[0mi\u001b[0m\u001b[0;34m,\u001b[0m \u001b[0mobj\u001b[0m\u001b[0;34m)\u001b[0m\u001b[0;34m:\u001b[0m\u001b[0;34m\u001b[0m\u001b[0m\n",
      "\u001b[0;31mRuntimeError\u001b[0m: Initialization failed."
     ]
    }
   ],
   "source": [
    "fit3 = stan_model.sampling(data=gp_full_data2, iter=1000, chains=2)"
   ]
  },
  {
   "cell_type": "code",
   "execution_count": null,
   "metadata": {
    "collapsed": true
   },
   "outputs": [],
   "source": []
  }
 ],
 "metadata": {
  "anaconda-cloud": {},
  "kernelspec": {
   "display_name": "Python [conda env:stanpy35]",
   "language": "python",
   "name": "conda-env-stanpy35-py"
  },
  "language_info": {
   "codemirror_mode": {
    "name": "ipython",
    "version": 3
   },
   "file_extension": ".py",
   "mimetype": "text/x-python",
   "name": "python",
   "nbconvert_exporter": "python",
   "pygments_lexer": "ipython3",
   "version": "3.5.4"
  }
 },
 "nbformat": 4,
 "nbformat_minor": 1
}
