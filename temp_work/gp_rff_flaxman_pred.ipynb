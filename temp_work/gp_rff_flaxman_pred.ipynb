{
 "cells": [
  {
   "cell_type": "code",
   "execution_count": 47,
   "metadata": {
    "collapsed": true
   },
   "outputs": [],
   "source": [
    "%matplotlib inline\n",
    "import  matplotlib\n",
    "import matplotlib.pyplot as plt\n",
    "import pystan"
   ]
  },
  {
   "cell_type": "code",
   "execution_count": 48,
   "metadata": {
    "collapsed": true
   },
   "outputs": [],
   "source": [
    "import numpy as np\n",
    "import scipy.io as sio"
   ]
  },
  {
   "cell_type": "code",
   "execution_count": 49,
   "metadata": {
    "collapsed": true
   },
   "outputs": [],
   "source": [
    "df = sio.loadmat('snelson1d.mat')\n",
    "X = df['X']\n",
    "Y = df['Y']\n",
    "X_t = df['tX']\n",
    "Y_t = df['tY']"
   ]
  },
  {
   "cell_type": "code",
   "execution_count": 50,
   "metadata": {
    "collapsed": true
   },
   "outputs": [],
   "source": [
    "stan_code_rff = \"\"\"\n",
    "functions{\n",
    "    vector gp_rff_pred_rng(vector x, vector y, vector x_star, matrix A, matrix phi, vector omega, real ps, real sigma, real jitter){\n",
    "\n",
    "        int N = rows(y);\n",
    "        int M = rows(omega);\n",
    "        int N_star = rows(x_star);\n",
    "        vector[N_star] f_star;\n",
    "        matrix[N_star, N_star] f_star_cov;\n",
    "\n",
    "        {\n",
    "            vector[N_star] f_star_mean;\n",
    "            matrix[N_star, M] cosfeats_star;\n",
    "            matrix[N_star, M] sinfeats_star;\n",
    "            matrix[N_star, M] feats_star; \n",
    "            matrix[N_star, 2*M] phi_star;\n",
    "            matrix[2*M, 2*M]A_inv;\n",
    "            vector[2*M] A_inv_phi_y;\n",
    "            matrix[2*M, N_star] A_inv_phi_star;\n",
    "\n",
    "            vector[2*M]phi_y = phi'*y;\n",
    "\n",
    "            feats_star = x_star*omega'*ps;\n",
    "\n",
    "            for(i in 1:N_star){\n",
    "                 for(j in 1:M){\n",
    "                     cosfeats_star[i,j] = cos(feats_star[i,j] );\n",
    "                     sinfeats_star[i,j] = sin(feats_star[i,j] );\n",
    "                     phi_star[i,j] = cosfeats_star[i,j];\n",
    "                     phi_star[i,M+j] = sinfeats_star[i,j];\n",
    "                }\n",
    "            }\n",
    "\n",
    "           A_inv = inverse(A);\n",
    "\n",
    "           A_inv_phi_y = A_inv* phi_y;\n",
    "#            f_star_mean = phi_star*A_inv_phi_y;\n",
    "           \n",
    "           f_star_mean = phi_star*A_inv_phi_y*(1./M);\n",
    "           A_inv_phi_star = A_inv * phi_star';\n",
    "\n",
    "           f_star_cov = square(sigma)*phi_star*A_inv_phi_star;\n",
    "           for(i in 1:N_star){\n",
    "                f_star[i] = normal_rng(f_star_mean[i], f_star_cov[i,i]);\n",
    "           }\n",
    "           \n",
    "           \n",
    "        }\n",
    "\n",
    "       return f_star;\n",
    "    }\n",
    "}\n",
    "\n",
    "data {\n",
    "    int<lower=1> N;\n",
    "    int<lower=1> M;\n",
    "    int<lower=1> N_star;\n",
    "    vector[N] x;\n",
    "    vector[N] y;\n",
    "    vector[N_star] x_star;\n",
    "    \n",
    "}\n",
    "\n",
    "transformed data {\n",
    "    real jitter = 1e-6;\n",
    "    real scale;\n",
    "    vector[N] f_mean = rep_vector(0, N);\n",
    "    vector[M] omega; \n",
    "\n",
    "    scale = sqrt(2.0/M);\n",
    "\n",
    "    for (i in 1:M){\n",
    "        omega[i] = normal_rng(0,1);\n",
    "    }\n",
    "\n",
    "}\n",
    "\n",
    "parameters{\n",
    "    vector[M] b1;\n",
    "    vector[M] b2;\n",
    "    real<lower=0> ps;\n",
    "    vector[M] bk;\n",
    "    real<lower=1e-6> sigma;\n",
    "\n",
    "}\n",
    "\n",
    "transformed parameters {\n",
    "    vector[N] f;\n",
    "#     matrix[N, N] K;\n",
    "    matrix[N, M] feats;\n",
    "    matrix[2*M, 2*M] A;\n",
    "    matrix[N, 2*M] fullfeats;\n",
    "    \n",
    "    { \n",
    "        matrix[N, M] cosfeats;\n",
    "        matrix[N, M] sinfeats;\n",
    "        vector[N] cosfeats_shift;\n",
    "        vector[N] sinfeats_shift;\n",
    "        feats = x * omega' * ps;\n",
    "\n",
    "         for(i in 1:N){\n",
    "             for(j in 1:M){\n",
    "                 cosfeats[i,j] = cos(feats[i,j] );\n",
    "                 sinfeats[i,j] = sin(feats[i,j] );\n",
    "                 fullfeats[i,j] = cosfeats[i,j];\n",
    "                 fullfeats[i,M+j] = sinfeats[i,j];\n",
    "             }\n",
    "         }\n",
    "\n",
    "        cosfeats_shift = cosfeats * b1;\n",
    "        sinfeats_shift = sinfeats * b2;\n",
    "        f = (cosfeats_shift + cosfeats_shift)*scale;\n",
    "        A = fullfeats'*fullfeats*square(scale);\n",
    "        for(i in 1:2*M){\n",
    "            A[i,i] = A[i,i] + M*square(sigma);\n",
    "        }\n",
    "\n",
    "    }\n",
    "}\n",
    "\n",
    "model {\n",
    "    ps ~ normal(0, 1.0);\n",
    "    bk ~ normal(0,1);\n",
    "    b1 ~ normal(0.0, 1.0);\n",
    "    b2 ~ normal(0.0, 1.0);\n",
    "    sigma ~ normal(0.0, 0.5);\n",
    "    \n",
    "    y ~ normal(f, sigma);\n",
    "    \n",
    "}\n",
    "\n",
    "generated quantities{\n",
    "    vector[N_star] f_star = gp_rff_pred_rng(x, y, x_star, A, fullfeats, omega, ps, sigma, jitter);\n",
    "    vector[N_star] y_star;\n",
    "    for(i in 1:N_star){\n",
    "        y_star[i] = normal_rng(f_star[i], sigma);\n",
    "    }\n",
    "\n",
    "}\n",
    "\"\"\""
   ]
  },
  {
   "cell_type": "code",
   "execution_count": 51,
   "metadata": {
    "collapsed": false
   },
   "outputs": [
    {
     "name": "stderr",
     "output_type": "stream",
     "text": [
      "INFO:pystan:COMPILING THE C++ CODE FOR MODEL anon_model_ac8cd9fa6532a95aa9f7c0494eef4663 NOW.\n"
     ]
    }
   ],
   "source": [
    "stan_model_rff = pystan.StanModel(model_code=stan_code_rff)"
   ]
  },
  {
   "cell_type": "code",
   "execution_count": 52,
   "metadata": {
    "collapsed": true
   },
   "outputs": [],
   "source": [
    "N_star = 25\n",
    "X_star = np.linspace(-0.5, 6.5, N_star)[:, None]"
   ]
  },
  {
   "cell_type": "code",
   "execution_count": 53,
   "metadata": {
    "collapsed": true
   },
   "outputs": [],
   "source": [
    "gp_snelson_data = {'N':200, 'x':X.flatten(), 'y':Y.flatten(), 'M':20, 'N_star':N_star, 'x_star':X_star.flatten()}"
   ]
  },
  {
   "cell_type": "code",
   "execution_count": 54,
   "metadata": {
    "collapsed": false
   },
   "outputs": [
    {
     "name": "stderr",
     "output_type": "stream",
     "text": [
      "/u/26/dhakaa1/unix/anaconda2/envs/stanpy35/lib/python3.5/site-packages/pystan/misc.py:399: FutureWarning: Conversion of the second argument of issubdtype from `float` to `np.floating` is deprecated. In future, it will be treated as `np.float64 == np.dtype(float).type`.\n",
      "  elif np.issubdtype(np.asarray(v).dtype, float):\n"
     ]
    }
   ],
   "source": [
    "fit_gpr_rff = stan_model_rff.sampling(data=gp_snelson_data, iter=1200, chains=2)"
   ]
  },
  {
   "cell_type": "code",
   "execution_count": 55,
   "metadata": {
    "collapsed": false
   },
   "outputs": [],
   "source": [
    "# print(fit_gpr_rff)"
   ]
  },
  {
   "cell_type": "code",
   "execution_count": 56,
   "metadata": {
    "collapsed": false
   },
   "outputs": [],
   "source": [
    "samples = fit_gpr_rff.extract(permuted=True)\n",
    "# omega = samples['sigvar']\n",
    "# omega_mean = np.mean(omega, axis=0)\n",
    "# sigma = samples['sigma']\n",
    "# sigma_mean = np.mean(sigma, axis=0)"
   ]
  },
  {
   "cell_type": "code",
   "execution_count": 57,
   "metadata": {
    "collapsed": true
   },
   "outputs": [],
   "source": [
    "f = samples['f']"
   ]
  },
  {
   "cell_type": "code",
   "execution_count": 58,
   "metadata": {
    "collapsed": true
   },
   "outputs": [],
   "source": [
    "f_star = samples['f_star']\n",
    "y_star = samples['y_star']"
   ]
  },
  {
   "cell_type": "code",
   "execution_count": 59,
   "metadata": {
    "collapsed": false
   },
   "outputs": [],
   "source": [
    "f_25 = np.percentile(f, 2.5, axis=0)\n",
    "f_975 = np.percentile(f, 97.5, axis=0)"
   ]
  },
  {
   "cell_type": "code",
   "execution_count": 60,
   "metadata": {
    "collapsed": true
   },
   "outputs": [],
   "source": [
    "f_star_25 = np.percentile(f_star, 2.5, axis=0)\n",
    "f_star_975 = np.percentile(f_star, 97.5, axis=0)"
   ]
  },
  {
   "cell_type": "code",
   "execution_count": 61,
   "metadata": {
    "collapsed": true
   },
   "outputs": [],
   "source": [
    "y_star_25 = np.percentile(y_star, 2.5, axis=0)\n",
    "y_star_975 = np.percentile(y_star, 97.5, axis=0)"
   ]
  },
  {
   "cell_type": "code",
   "execution_count": 62,
   "metadata": {
    "collapsed": false
   },
   "outputs": [
    {
     "data": {
      "text/plain": [
       "[<matplotlib.lines.Line2D at 0x7f160e6b1860>]"
      ]
     },
     "execution_count": 62,
     "metadata": {},
     "output_type": "execute_result"
    },
    {
     "data": {
      "image/png": "[encoded data removed]",
      "text/plain": [
       "<Figure size 432x288 with 1 Axes>"
      ]
     },
     "metadata": {},
     "output_type": "display_data"
    }
   ],
   "source": [
    "plt.plot(X,Y, 'ro')\n",
    "plt.plot(X, f_25, 'bo')\n",
    "plt.plot(X, f_975, 'go')"
   ]
  },
  {
   "cell_type": "code",
   "execution_count": 69,
   "metadata": {
    "collapsed": false
   },
   "outputs": [
    {
     "data": {
      "text/plain": [
       "[<matplotlib.lines.Line2D at 0x7f15f4cbf710>]"
      ]
     },
     "execution_count": 69,
     "metadata": {},
     "output_type": "execute_result"
    },
    {
     "data": {
      "image/png": "[encoded data removed]",
      "text/plain": [
       "<Figure size 432x288 with 1 Axes>"
      ]
     },
     "metadata": {},
     "output_type": "display_data"
    }
   ],
   "source": [
    "# plt.plot(X,Y, 'ro')\n",
    "plt.plot(X_star, f_star_25/10, 'bo')\n",
    "plt.plot(X_star, f_star_975/10, 'go')"
   ]
  },
  {
   "cell_type": "code",
   "execution_count": 72,
   "metadata": {
    "collapsed": false
   },
   "outputs": [
    {
     "data": {
      "text/plain": [
       "[<matplotlib.lines.Line2D at 0x7f15f60d77f0>]"
      ]
     },
     "execution_count": 72,
     "metadata": {},
     "output_type": "execute_result"
    },
    {
     "data": {
      "image/png": "[encoded data removed]",
      "text/plain": [
       "<Figure size 432x288 with 1 Axes>"
      ]
     },
     "metadata": {},
     "output_type": "display_data"
    }
   ],
   "source": [
    "plt.plot(X,Y, 'ro')\n",
    "plt.plot(X_star[1:-1], y_star_25[1:-1]/10, 'bo')\n",
    "plt.plot(X_star[1:-1], y_star_975[1:-1]/10, 'go')"
   ]
  },
  {
   "cell_type": "code",
   "execution_count": 73,
   "metadata": {
    "collapsed": false
   },
   "outputs": [
    {
     "name": "stdout",
     "output_type": "stream",
     "text": [
      "Mean difference for f between 2.5 and 97.5 percentile: 0.025\n"
     ]
    }
   ],
   "source": [
    "print(\"Mean difference for f between 2.5 and 97.5 percentile: %.3f\"%np.mean(f_975/10 - f_25/10))"
   ]
  },
  {
   "cell_type": "code",
   "execution_count": 74,
   "metadata": {
    "collapsed": false
   },
   "outputs": [
    {
     "name": "stdout",
     "output_type": "stream",
     "text": [
      "Mean difference for fstar between 2.5 and 97.5 percentile: 0.101\n"
     ]
    }
   ],
   "source": [
    "print(\"Mean difference for fstar between 2.5 and 97.5 percentile: %.3f\"%np.mean(f_star_975/10 - f_star_25/10))"
   ]
  },
  {
   "cell_type": "code",
   "execution_count": 24,
   "metadata": {
    "collapsed": false
   },
   "outputs": [
    {
     "name": "stdout",
     "output_type": "stream",
     "text": [
      "Mean difference for fstar between 2.5 and 97.5 percentile: 1.644\n"
     ]
    }
   ],
   "source": [
    "print(\"Mean difference for fstar between 2.5 and 97.5 percentile: %.3f\"%np.mean(y_star_975 - y_star_25))"
   ]
  },
  {
   "cell_type": "code",
   "execution_count": 15,
   "metadata": {
    "collapsed": false
   },
   "outputs": [],
   "source": [
    "# print(fit_gpr_rff)"
   ]
  },
  {
   "cell_type": "code",
   "execution_count": 26,
   "metadata": {
    "collapsed": false
   },
   "outputs": [
    {
     "ename": "NameError",
     "evalue": "name 'K_samples' is not defined",
     "output_type": "error",
     "traceback": [
      "\u001b[0;31m---------------------------------------------------------------------------\u001b[0m",
      "\u001b[0;31mNameError\u001b[0m                                 Traceback (most recent call last)",
      "\u001b[0;32m<ipython-input-26-cda51a0ca1ba>\u001b[0m in \u001b[0;36m<module>\u001b[0;34m()\u001b[0m\n\u001b[0;32m----> 1\u001b[0;31m \u001b[0mprint\u001b[0m\u001b[0;34m(\u001b[0m\u001b[0mK_samples\u001b[0m\u001b[0;34m.\u001b[0m\u001b[0mshape\u001b[0m\u001b[0;34m)\u001b[0m\u001b[0;34m\u001b[0m\u001b[0m\n\u001b[0m",
      "\u001b[0;31mNameError\u001b[0m: name 'K_samples' is not defined"
     ]
    }
   ],
   "source": [
    "print(K_samples.shape)"
   ]
  },
  {
   "cell_type": "code",
   "execution_count": 18,
   "metadata": {
    "collapsed": true
   },
   "outputs": [],
   "source": [
    "K_sample799 = K_samples[-100,:,:]"
   ]
  },
  {
   "cell_type": "code",
   "execution_count": 21,
   "metadata": {
    "collapsed": false
   },
   "outputs": [
    {
     "name": "stdout",
     "output_type": "stream",
     "text": [
      "(200, 200)\n"
     ]
    }
   ],
   "source": [
    "print(K_sample799.shape)\n",
    "# print(K_sample799[10,7])"
   ]
  },
  {
   "cell_type": "code",
   "execution_count": null,
   "metadata": {
    "collapsed": true
   },
   "outputs": [],
   "source": []
  }
 ],
 "metadata": {
  "anaconda-cloud": {},
  "kernelspec": {
   "display_name": "Python [conda env:stanpy35]",
   "language": "python",
   "name": "conda-env-stanpy35-py"
  },
  "language_info": {
   "codemirror_mode": {
    "name": "ipython",
    "version": 3
   },
   "file_extension": ".py",
   "mimetype": "text/x-python",
   "name": "python",
   "nbconvert_exporter": "python",
   "pygments_lexer": "ipython3",
   "version": "3.5.4"
  }
 },
 "nbformat": 4,
 "nbformat_minor": 1
}
