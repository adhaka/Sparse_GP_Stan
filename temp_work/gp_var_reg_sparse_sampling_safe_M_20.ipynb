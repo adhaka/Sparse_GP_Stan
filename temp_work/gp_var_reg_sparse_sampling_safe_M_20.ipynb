{
 "cells": [
  {
   "cell_type": "code",
   "execution_count": 58,
   "metadata": {
    "collapsed": true
   },
   "outputs": [],
   "source": [
    "%matplotlib inline\n",
    "import  matplotlib\n",
    "import matplotlib.pyplot as plt\n",
    "import pystan"
   ]
  },
  {
   "cell_type": "code",
   "execution_count": 59,
   "metadata": {
    "collapsed": true
   },
   "outputs": [],
   "source": [
    "import numpy as np"
   ]
  },
  {
   "cell_type": "code",
   "execution_count": 60,
   "metadata": {
    "collapsed": true
   },
   "outputs": [],
   "source": [
    "import scipy.io as sio"
   ]
  },
  {
   "cell_type": "code",
   "execution_count": 61,
   "metadata": {
    "collapsed": true
   },
   "outputs": [],
   "source": [
    "df = sio.loadmat('snelson1d.mat')"
   ]
  },
  {
   "cell_type": "code",
   "execution_count": 62,
   "metadata": {
    "collapsed": true
   },
   "outputs": [],
   "source": [
    "X = df['X']\n",
    "Y = df['Y']\n",
    "X_t = df['tX']\n",
    "Y_t = df['tY']"
   ]
  },
  {
   "cell_type": "code",
   "execution_count": 63,
   "metadata": {
    "collapsed": true
   },
   "outputs": [],
   "source": [
    "M = 7\n",
    "N_star = 30\n",
    "N_samples = 1200"
   ]
  },
  {
   "cell_type": "code",
   "execution_count": 7,
   "metadata": {
    "collapsed": true
   },
   "outputs": [],
   "source": [
    "X_u_noisy = np.linspace(0,6, M)[:, None]"
   ]
  },
  {
   "cell_type": "code",
   "execution_count": 8,
   "metadata": {
    "collapsed": false
   },
   "outputs": [],
   "source": [
    "stan_code_var = \"\"\"\n",
    "data {\n",
    "    int<lower=1> N;\n",
    "    int<lower=1> M;\n",
    "    real x[N];\n",
    "    vector[N] y;\n",
    "    real xu[M];\n",
    "\n",
    "}\n",
    "transformed data {\n",
    "    real jitter = 1e-6;\n",
    "//     real rho = 0.9;\n",
    "//     real alpha = 0.85;\n",
    "//     real sigma = 0.12;\n",
    "}\n",
    "\n",
    "parameters {\n",
    "    real<lower=1e-6> sigma;\n",
    "     real <lower=1e-6> alpha;\n",
    "     real<lower=1e-6> rho;\n",
    "    \n",
    "    vector[M] eta;\n",
    "    vector[M] u;\n",
    "    \n",
    "}\n",
    "\n",
    "transformed parameters{\n",
    "   // matrix[M, M] R;\n",
    "}\n",
    "model {\n",
    "    vector[N] mu;\n",
    "    matrix[N, N] f_cov;\n",
    "    matrix[N, N] S;\n",
    "    matrix[M, N] A;\n",
    "    matrix [N,N] Qff;\n",
    "    matrix [N,N] L_fitc;\n",
    "    matrix[N, N] K_tilde;\n",
    "    matrix[N, N] K_tilde_inv;\n",
    "    matrix[M, M] R;\n",
    "    \n",
    "    matrix[M, M] Kuu = cov_exp_quad(xu, alpha, rho);\n",
    "    matrix[N, M] Kfu = cov_exp_quad(x, xu, alpha, rho);\n",
    "    matrix[N, N] K = cov_exp_quad(x, alpha, rho);\n",
    "    vector[M] Kuu_inv_u;\n",
    "\n",
    "        \n",
    "         for (m in 1:M)\n",
    "             Kuu[m, m] = Kuu[m, m] + jitter;\n",
    "        \n",
    "        // RRT = Kuu\n",
    "    R = cholesky_decompose(Kuu);\n",
    "        \n",
    "    {\n",
    "                  \n",
    "        //A = R^{-1}Kuf   or A = R\\Kuf\n",
    "        A = mdivide_left_tri_low(R, Kfu');\n",
    "        \n",
    "        // mu = A'v\n",
    "        //  v = N(0, I)\n",
    "        mu = A'*eta;\n",
    "        \n",
    "        // Qff = A'A\n",
    "        Qff = A'*A;\n",
    "        S = K - Qff;\n",
    "        \n",
    "        for (i in 1:N){\n",
    "            for(j in 1:N){\n",
    "                K_tilde[i,j] = 0.0;\n",
    "                K_tilde_inv[i,j] = 0.0;\n",
    "            }\n",
    "            K_tilde[i,i] = S[i,i];\n",
    "            K_tilde_inv[i,i] = 1./ S[i,i];\n",
    "        }\n",
    "        \n",
    "    }\n",
    "  \n",
    "#     rho ~ inv_gamma(5, 5);\n",
    "#     alpha ~ normal(0, 1);\n",
    "\n",
    "// strongly informative priors, but with these the covariance matrix will be more well behaved in my experience.\n",
    "// The mean of the Gaussian priors is close to the optimised MAP value of the hyperparameters.\n",
    "\n",
    "    rho ~ normal(0.90, 0.25);\n",
    "    alpha ~ normal(0.85, 0.25);\n",
    "    eta ~ normal(0, 1);\n",
    "\n",
    "    sigma ~ normal(0, 0.60);\n",
    "    \n",
    "    \n",
    "    // exp(L1) = log(N(y_i| mu_i, sigma)*exp(-0.5*K_tilde_ii/sigma))\n",
    "    // Equation 2 of Hensman, et al. Gaussian Processes for Big Data UAI 2013.\n",
    "    // This is the analytical soln. of expectation of log likelihood under conditional Guassian: P(F|U).\n",
    "    // K_tilde_ii = diag(Kff - Qff)[i,i]\n",
    "    \n",
    "    \n",
    "    for(i in 1:N){\n",
    " //       target += -square((y[i] - mu[i]))/(2*square(sigma));\n",
    "//        target += normal_lpdf(y[i] | mu[i], sigma);\n",
    "//        target += (-0.5*K_tilde[i,i]/sigma);\n",
    "        \n",
    "        target += normal_lpdf(y[i] | mu[i], sigma);\n",
    "        target += (-0.5*K_tilde[i,i]/sigma);\n",
    "    }\n",
    "}\n",
    "\n",
    "\n",
    "\"\"\""
   ]
  },
  {
   "cell_type": "code",
   "execution_count": 9,
   "metadata": {
    "collapsed": false
   },
   "outputs": [
    {
     "name": "stderr",
     "output_type": "stream",
     "text": [
      "INFO:pystan:COMPILING THE C++ CODE FOR MODEL anon_model_0457c97c2271882c750573d2bb11595f NOW.\n"
     ]
    }
   ],
   "source": [
    "stan_model_var = pystan.StanModel(model_code=stan_code_var)"
   ]
  },
  {
   "cell_type": "code",
   "execution_count": 10,
   "metadata": {
    "collapsed": true
   },
   "outputs": [],
   "source": [
    "gp_var_data = {'N':200, 'x':X.flatten(), 'y':Y.flatten(), 'M':20, 'xu':X_u_noisy.flatten()}"
   ]
  },
  {
   "cell_type": "code",
   "execution_count": 11,
   "metadata": {
    "collapsed": false
   },
   "outputs": [
    {
     "name": "stderr",
     "output_type": "stream",
     "text": [
      "/u/26/dhakaa1/unix/anaconda2/envs/stanpy35/lib/python3.5/site-packages/pystan/misc.py:399: FutureWarning: Conversion of the second argument of issubdtype from `float` to `np.floating` is deprecated. In future, it will be treated as `np.float64 == np.dtype(float).type`.\n",
      "  elif np.issubdtype(np.asarray(v).dtype, float):\n"
     ]
    }
   ],
   "source": [
    "fit_var= stan_model_var.sampling(data=gp_var_data, iter=N_samples, chains=2)"
   ]
  },
  {
   "cell_type": "code",
   "execution_count": 12,
   "metadata": {
    "collapsed": false
   },
   "outputs": [],
   "source": [
    "samples = fit_var.extract()\n"
   ]
  },
  {
   "cell_type": "code",
   "execution_count": 13,
   "metadata": {
    "collapsed": false
   },
   "outputs": [
    {
     "name": "stdout",
     "output_type": "stream",
     "text": [
      "Inference for Stan model: anon_model_0457c97c2271882c750573d2bb11595f.\n",
      "2 chains, each with iter=1200; warmup=600; thin=1; \n",
      "post-warmup draws per chain=600, total post-warmup draws=1200.\n",
      "\n",
      "          mean se_mean     sd   2.5%    25%    50%    75%  97.5%  n_eff   Rhat\n",
      "sigma     0.28  4.2e-4   0.01   0.26   0.27   0.28   0.29   0.31   1200    1.0\n",
      "alpha     0.93  6.0e-3   0.17   0.62    0.8   0.92   1.03   1.29    818    1.0\n",
      "rho       0.63  2.2e-3   0.07    0.5   0.58   0.63   0.67   0.75    910    1.0\n",
      "eta[0]   -0.08  3.9e-3   0.14  -0.35  -0.17  -0.08 8.9e-3   0.19   1200    1.0\n",
      "eta[1]   -0.78  9.8e-3   0.34  -1.51   -1.0  -0.76  -0.54  -0.13   1200    1.0\n",
      "eta[2]   -1.12    0.01   0.49   -2.1  -1.46  -1.11  -0.78  -0.16   1200    1.0\n",
      "eta[3]   -1.21    0.02   0.59   -2.4  -1.58  -1.19  -0.82  -0.12   1200    1.0\n",
      "eta[4]   -0.98    0.02   0.66  -2.26  -1.43  -0.99  -0.53   0.38   1162    1.0\n",
      "eta[5]    0.09    0.02   0.76  -1.46   -0.4   0.09   0.59   1.63   1080    1.0\n",
      "eta[6]    0.97    0.02   0.65  -0.35   0.57   0.98   1.39   2.28   1200    1.0\n",
      "eta[7]    0.37    0.02   0.67  -0.89  -0.07   0.36   0.83   1.68   1200    1.0\n",
      "eta[8]   -0.21    0.02   0.77  -1.85  -0.71  -0.17   0.31   1.21   1200    1.0\n",
      "eta[9]   -0.56    0.02    0.7   -2.0  -1.02  -0.54  -0.13   0.81   1159    1.0\n",
      "eta[10]  -0.16    0.02   0.76  -1.55  -0.68   -0.2   0.28   1.49   1092    1.0\n",
      "eta[11]   0.96    0.02   0.77  -0.47    0.4   0.96   1.52   2.48    995    1.0\n",
      "eta[12]   1.16    0.02    0.7  -0.21    0.7   1.17   1.64    2.5   1135    1.0\n",
      "eta[13]  -0.19    0.03   0.92  -2.02  -0.79  -0.13   0.46   1.48    916    1.0\n",
      "eta[14]  -1.27    0.02    0.8  -2.99  -1.77  -1.26  -0.72   0.21   1180    1.0\n",
      "eta[15]  -0.74    0.02   0.81  -2.18  -1.28  -0.79  -0.25   1.11   1200    1.0\n",
      "eta[16]   0.34    0.03   0.81  -1.31   -0.2   0.36   0.89   1.93   1020    1.0\n",
      "eta[17]    0.4    0.02    0.7  -0.98  -0.08   0.38   0.88   1.77   1183    1.0\n",
      "eta[18]  -0.18    0.02    0.8  -1.71  -0.73  -0.15   0.36   1.39   1162    1.0\n",
      "eta[19]  -0.29    0.03   0.97  -2.32  -0.94  -0.27   0.38   1.53   1098    1.0\n",
      "u[0]    -3.8e9   3.1e9  3.1e9 -8.7e9 -7.2e9 -2.6e9 -1.3e9  8.4e8      1   1.92\n",
      "u[1]     3.7e8   1.1e9  1.9e9 -2.8e9 -1.1e9  3.3e8  1.4e9  5.0e9      3   1.18\n",
      "u[2]    -4.7e9   6.0e9  6.0e9-1.5e10-1.1e10 -1.1e9  4.3e8  1.4e9      1   2.94\n",
      "u[3]    -3.5e8   1.6e9  2.3e9 -5.4e9 -1.8e9  3.5e8  1.4e9  2.7e9      2   1.82\n",
      "u[4]     2.5e9   3.9e9  3.9e9 -2.3e9 -6.7e8  9.3e8  5.5e9 1.1e10      1   1.85\n",
      "u[5]     1.7e9   5.5e8  1.4e9 -7.3e8  7.7e8  1.6e9  2.2e9  5.3e9      7   1.42\n",
      "u[6]     1.4e9   1.2e9  1.7e9 -8.4e8 -7.8e7  1.0e9  2.6e9  4.8e9      2   1.52\n",
      "u[7]     2.8e9   3.1e9  3.1e9 -1.3e9  8.2e8  1.5e9  5.8e9  8.5e9      1   2.24\n",
      "u[8]     9.0e7   3.6e9  3.6e9 -7.1e9 -2.3e9  3.0e8  3.0e9  6.1e9      1   2.76\n",
      "u[9]    -9.4e9  1.1e10 1.1e10-2.9e10-2.0e10 -2.7e9  4.2e8  9.0e8      1    3.0\n",
      "u[10]    2.8e9   3.8e9  3.8e9 -1.2e9 -4.6e8  5.3e8  6.2e9  9.6e9      1   3.02\n",
      "u[11]    1.0e9   1.8e9  1.8e9 -1.4e9 -4.2e8  4.2e8  2.4e9  5.0e9      1   1.83\n",
      "u[12]   -2.3e9   8.0e8  1.4e9 -5.4e9 -3.1e9 -2.0e9 -1.1e9 -4.4e8      3   2.25\n",
      "u[13]    1.5e9   7.9e8  2.7e9 -5.1e9  3.9e8  2.0e9  3.0e9  6.3e9     12   1.13\n",
      "u[14]    1.8e8   2.9e9  2.9e9 -3.9e9 -2.3e9 -3.9e8  2.7e9  6.4e9      1   3.04\n",
      "u[15]    4.8e9   3.3e9  5.7e9 -1.0e9  1.1e9  2.5e9  7.6e9 2.2e10      3   2.05\n",
      "u[16]    7.1e8   1.2e9  2.8e9 -4.0e9 -6.9e8  2.7e8  1.2e9  9.0e9      6   1.65\n",
      "u[17]    3.8e9   1.7e9  2.4e9 -2.9e8  1.9e9  3.7e9  5.4e9  8.7e9      2   1.42\n",
      "u[18]    8.5e8   1.1e9  1.6e9 -1.4e9 -2.7e8  4.6e8  1.8e9  4.5e9      2   1.81\n",
      "u[19]   -3.2e9   8.0e9  8.0e9-1.5e10-1.1e10  6.7e8  3.9e9  7.9e9      1   3.93\n",
      "lp__    -44.77    0.22   4.02 -53.69 -47.07 -44.51 -41.89 -38.26    329    1.0\n",
      "\n",
      "Samples were drawn using NUTS at Tue May  8 02:37:18 2018.\n",
      "For each parameter, n_eff is a crude measure of effective sample size,\n",
      "and Rhat is the potential scale reduction factor on split chains (at \n",
      "convergence, Rhat=1).\n"
     ]
    }
   ],
   "source": [
    "print(fit_var)"
   ]
  },
  {
   "cell_type": "code",
   "execution_count": 14,
   "metadata": {
    "collapsed": false
   },
   "outputs": [
    {
     "name": "stdout",
     "output_type": "stream",
     "text": [
      "['sigma', 'alpha', 'rho', 'eta', 'u', 'lp__']\n"
     ]
    }
   ],
   "source": [
    "# mu = samples['mu']\n",
    "print(list(samples.keys()))\n",
    "# sigma_mean = np.mean(mu, axis=0)"
   ]
  },
  {
   "cell_type": "code",
   "execution_count": 15,
   "metadata": {
    "collapsed": true
   },
   "outputs": [],
   "source": [
    "sigma_samples = samples['sigma']\n",
    "alpha_samples = samples['alpha']\n",
    "rho_samples = samples['rho']"
   ]
  },
  {
   "cell_type": "code",
   "execution_count": 16,
   "metadata": {
    "collapsed": false
   },
   "outputs": [
    {
     "name": "stdout",
     "output_type": "stream",
     "text": [
      "mean of noise variance: 0.28\n",
      "median of noise variance: 0.28\n",
      "mean of lengthscale: 0.626\n",
      "median of lengthscale: 0.627\n",
      "mean of signal variance: 0.927\n",
      "median of signal variance: 0.917\n"
     ]
    }
   ],
   "source": [
    "sigma_mean = np.mean(samples['sigma'])\n",
    "sigma_median = np.nanmedian(samples['sigma'])\n",
    "\n",
    "l_mean = np.mean(samples['rho'])\n",
    "l_median = np.nanmedian(samples['rho'])\n",
    "\n",
    "sigvar_mean = np.mean(samples['alpha'])\n",
    "sigvar_median = np.nanmedian(samples['alpha'])\n",
    "\n",
    "print(\"mean of noise variance: %.2f\" % sigma_mean)\n",
    "print(\"median of noise variance: %.2f\"% sigma_median)\n",
    "print(\"mean of lengthscale: %.3f\"% l_mean)\n",
    "print(\"median of lengthscale: %.3f\"% l_median)\n",
    "print(\"mean of signal variance: %.3f\"% sigvar_mean)\n",
    "print(\"median of signal variance: %.3f\"% sigvar_median)"
   ]
  },
  {
   "cell_type": "code",
   "execution_count": 17,
   "metadata": {
    "collapsed": true
   },
   "outputs": [],
   "source": [
    "eta = samples['eta']"
   ]
  },
  {
   "cell_type": "code",
   "execution_count": 18,
   "metadata": {
    "collapsed": false
   },
   "outputs": [
    {
     "name": "stdout",
     "output_type": "stream",
     "text": [
      "(1200, 20)\n"
     ]
    }
   ],
   "source": [
    "print(eta.shape)"
   ]
  },
  {
   "cell_type": "code",
   "execution_count": 23,
   "metadata": {
    "collapsed": true
   },
   "outputs": [],
   "source": [
    "eta_mean = np.mean(samples['eta'], axis=0)\n",
    "eta_median = np.nanmedian(samples['eta'], axis=0)"
   ]
  },
  {
   "cell_type": "code",
   "execution_count": 20,
   "metadata": {
    "collapsed": true
   },
   "outputs": [],
   "source": [
    "eta_perc_25 = np.percentile(eta, 2.5, axis=0)\n",
    "eta_perc_975 = np.percentile(eta, 97.5, axis=0)"
   ]
  },
  {
   "cell_type": "markdown",
   "metadata": {},
   "source": [
    "#### Plotting posterior distribution of v."
   ]
  },
  {
   "cell_type": "code",
   "execution_count": 24,
   "metadata": {
    "collapsed": false
   },
   "outputs": [
    {
     "data": {
      "text/plain": [
       "[<matplotlib.lines.Line2D at 0x7f07dcd52f60>]"
      ]
     },
     "execution_count": 24,
     "metadata": {},
     "output_type": "execute_result"
    },
    {
     "data": {
      "image/png": "[encoded data removed]",
      "text/plain": [
       "<Figure size 432x288 with 1 Axes>"
      ]
     },
     "metadata": {},
     "output_type": "display_data"
    }
   ],
   "source": [
    "plt.plot(X,Y, 'ro')\n",
    "plt.plot(X_u_noisy, eta_perc_25, 'bo')\n",
    "plt.plot(X_u_noisy, eta_perc_975, 'go')\n",
    "plt.plot(X_u_noisy, eta_mean, 'ko')"
   ]
  },
  {
   "cell_type": "code",
   "execution_count": 25,
   "metadata": {
    "collapsed": false
   },
   "outputs": [
    {
     "data": {
      "text/plain": [
       "[<matplotlib.lines.Line2D at 0x7f07dcd86630>]"
      ]
     },
     "execution_count": 25,
     "metadata": {},
     "output_type": "execute_result"
    },
    {
     "data": {
      "image/png": "[encoded data removed]",
      "text/plain": [
       "<Figure size 432x288 with 1 Axes>"
      ]
     },
     "metadata": {},
     "output_type": "display_data"
    }
   ],
   "source": [
    "plt.plot(X_u_noisy, eta_mean, 'ko')"
   ]
  },
  {
   "cell_type": "code",
   "execution_count": 27,
   "metadata": {
    "collapsed": true
   },
   "outputs": [],
   "source": [
    "\n",
    "class ProcessStanSamples(object):\n",
    "    \n",
    "    def _params_samples(samples):\n",
    "        keys = list(samples.keys())\n",
    "        return keys\n",
    "    \n",
    "    def plot_histograms(samples):\n",
    "        sigma_samples = samples['sigma']\n",
    "        rho_samples = samples['rho']\n",
    "        alpha_samples = samples['alpha']\n",
    "        if 'f' in self._params_samples(samples):\n",
    "            f_samples = samples['f']\n",
    "        \n",
    "        if 'u' in self._params_samples(samples):\n",
    "            u_samples = samples['u']\n",
    "        \n",
    "        \n",
    "        f, axs = plt.subplots(2,2, sharey=True)\n",
    "        axs[0,0].hist(sigma_samples)\n",
    "        axs[0,0].set_title('Plotting samples for sigma')\n",
    "        axs[0,0].legend(['Noise variance'])\n",
    "        axs[0,1].hist(rho_samples)\n",
    "        axs[0,1].set_title('Plotting samples for lengthscale')\n",
    "        axs[0,1].legend(['lengthscale'])\n",
    "        axs[1,0].hist(alpha_samples)\n",
    "#         axs[1,0].set_title('Plotting samples for signalvariance')\n",
    "        axs[1,0].legend(['signal var'])\n",
    "    \n",
    "    \n",
    "        \n",
    "    "
   ]
  },
  {
   "cell_type": "code",
   "execution_count": 28,
   "metadata": {
    "collapsed": false
   },
   "outputs": [
    {
     "data": {
      "text/plain": [
       "<matplotlib.legend.Legend at 0x7f07dcdc4a58>"
      ]
     },
     "execution_count": 28,
     "metadata": {},
     "output_type": "execute_result"
    },
    {
     "data": {
      "image/png": "[encoded data removed]",
      "text/plain": [
       "<Figure size 432x288 with 4 Axes>"
      ]
     },
     "metadata": {},
     "output_type": "display_data"
    }
   ],
   "source": [
    "f, axs = plt.subplots(2,2, sharey=True)\n",
    "axs[0,0].hist(sigma_samples)\n",
    "axs[0,0].set_title('Plotting samples for sigma')\n",
    "axs[0,0].legend(['Noise variance'])\n",
    "axs[0,1].hist(rho_samples)\n",
    "axs[0,1].set_title('Plotting samples for lengthscale')\n",
    "axs[0,1].legend(['lengthscale'])\n",
    "axs[1,0].hist(alpha_samples)\n",
    "# axs[1,0].set_title('Plotting samples for signalvariance')\n",
    "axs[1,0].legend(['signal var'])"
   ]
  },
  {
   "cell_type": "code",
   "execution_count": 29,
   "metadata": {
    "collapsed": true
   },
   "outputs": [],
   "source": [
    "eta_samples = samples['eta']"
   ]
  },
  {
   "cell_type": "code",
   "execution_count": 30,
   "metadata": {
    "collapsed": true
   },
   "outputs": [],
   "source": [
    "N_star = 30\n",
    "X_star = np.linspace(-1, 7.0, N_star)[:, None]"
   ]
  },
  {
   "cell_type": "code",
   "execution_count": 31,
   "metadata": {
    "collapsed": false
   },
   "outputs": [
    {
     "name": "stdout",
     "output_type": "stream",
     "text": [
      "(1200,)\n"
     ]
    }
   ],
   "source": [
    "print(alpha_samples.shape)"
   ]
  },
  {
   "cell_type": "code",
   "execution_count": 32,
   "metadata": {
    "collapsed": true
   },
   "outputs": [],
   "source": [
    "def kernel_rbf(alpha, rho, Xi, Xj=None):\n",
    "    if Xj is None:\n",
    "        Xj = Xi\n",
    "    \n",
    "    N1,D1 = Xi.shape[0],1\n",
    "    N2,D2 = Xj.shape[0],1\n",
    "    \n",
    "    diff = Xi.reshape(N1,1,D1) - Xj.reshape(1,N2,D2)\n",
    "    K = (alpha**2)*np.exp(-0.5*np.sum(np.square(diff),-1)/(rho)**2)\n",
    "    return K\n",
    "    "
   ]
  },
  {
   "cell_type": "code",
   "execution_count": 33,
   "metadata": {
    "collapsed": false
   },
   "outputs": [],
   "source": [
    "Kuu = kernel_rbf(alpha=1.0, rho =0.8, Xi=X_u_noisy)"
   ]
  },
  {
   "cell_type": "code",
   "execution_count": 34,
   "metadata": {
    "collapsed": true
   },
   "outputs": [],
   "source": [
    "K_star_u = kernel_rbf(alpha=1.0, rho =0.8, Xi=X_star, Xj=X_u_noisy)"
   ]
  },
  {
   "cell_type": "markdown",
   "metadata": {},
   "source": [
    "####  Utility function to generate predictive distribution:\n",
    "\n",
    "$p(f^*|y) = \\int \\int p(f^*|u) q(u, \\theta) du d\\theta$\n",
    "\n",
    "We will obtain the above expression using MCMC samples. The stan code above samples from the optimal variational distribution $q(u,\\theta)$. "
   ]
  },
  {
   "cell_type": "code",
   "execution_count": 35,
   "metadata": {
    "collapsed": true
   },
   "outputs": [],
   "source": [
    "# function to generate mean and covariance matrics ..\n",
    "\n",
    "def generate_preds(alpha, rho, v, Xi, Xj):\n",
    "    Kuu = kernel_rbf(alpha, rho, Xi=X_u_noisy)\n",
    "    K_star_u = kernel_rbf(alpha, rho, Xi=X_star, Xj=X_u_noisy)\n",
    "    K_star_star = kernel_rbf(alpha, rho, Xi=X_star)\n",
    "    \n",
    "    R = np.linalg.cholesky(Kuu)\n",
    "    A = np.linalg.solve(R, np.transpose(K_star_u))\n",
    "#     print(A.shape)\n",
    "    A_T = np.transpose(A)\n",
    "    f_star_mean = np.dot(A_T, v)\n",
    "    Q_star_star = np.dot(A_T, A)\n",
    "    \n",
    "    S = K_star_star - Q_star_star\n",
    "    return f_star_mean, S\n",
    "\n"
   ]
  },
  {
   "cell_type": "markdown",
   "metadata": {},
   "source": [
    "####   Plot for predictive distribution for Snelson dataset using samples obtained from optimal variational distribution : q(v, $\\theta$)"
   ]
  },
  {
   "cell_type": "code",
   "execution_count": 39,
   "metadata": {
    "collapsed": true
   },
   "outputs": [],
   "source": [
    "N_full = 400"
   ]
  },
  {
   "cell_type": "code",
   "execution_count": 65,
   "metadata": {
    "collapsed": false
   },
   "outputs": [],
   "source": [
    "f_sum = np.zeros(N_star)\n",
    "f_sum2 = np.zeros(N_star)\n",
    "S_sum = np.zeros((N_star,N_star))\n",
    "S_diag = np.zeros(N_star)\n",
    "for i in range(N_samples):\n",
    "    f_star_mean, S = generate_preds(alpha=alpha_samples[i], rho =rho_samples[i], v =eta_samples[i,:],  Xi=X_star, Xj=X_u_noisy)\n",
    "    f_sum = f_sum + f_star_mean\n",
    "    f_sum2 = f_sum2 + f_star_mean**2\n",
    "    S_sum = S_sum + S\n",
    "    S_diag = np.diag(S)\n",
    "    "
   ]
  },
  {
   "cell_type": "code",
   "execution_count": 66,
   "metadata": {
    "collapsed": false
   },
   "outputs": [],
   "source": [
    "cov_fin = S_diag/N_samples + f_sum2/N_samples - (f_sum/N_samples)**2"
   ]
  },
  {
   "cell_type": "code",
   "execution_count": 41,
   "metadata": {
    "collapsed": false
   },
   "outputs": [],
   "source": [
    "f_fin = f_sum / N_samples\n",
    "S_sum = S_sum / N_samples"
   ]
  },
  {
   "cell_type": "code",
   "execution_count": 69,
   "metadata": {
    "collapsed": false
   },
   "outputs": [
    {
     "name": "stdout",
     "output_type": "stream",
     "text": [
      "[ 0.0673187   0.09960378  0.10142007  0.03028388 -0.15684484 -0.47931047\n",
      " -0.90147671 -1.33825087 -1.69138577 -1.82696673 -1.57672225 -0.91646733\n",
      " -0.1113866   0.44208678  0.51565401  0.19790953 -0.15282372 -0.13901383\n",
      "  0.31484931  0.81009793  0.81337086  0.21298909 -0.53023138 -0.84889022\n",
      " -0.62967866 -0.23425458 -0.02523639 -0.03873735 -0.11217128 -0.13345584]\n"
     ]
    }
   ],
   "source": [
    "print(f_fin)"
   ]
  },
  {
   "cell_type": "code",
   "execution_count": 71,
   "metadata": {
    "collapsed": false
   },
   "outputs": [
    {
     "name": "stdout",
     "output_type": "stream",
     "text": [
      "[5.45443379e+02 2.33648459e+02 4.60115180e+01 1.61759781e+00\n",
      " 2.95628835e-02 2.29203313e-03 1.25633084e-04 3.26046378e-05\n",
      " 2.39690220e-04 4.47984387e-04 5.50863774e-04 5.08979021e-04\n",
      " 3.48386170e-04 1.51249732e-04 1.84145496e-05 1.84145496e-05\n",
      " 1.51249732e-04 3.48386170e-04 5.08979021e-04 5.50863774e-04\n",
      " 4.47984387e-04 2.39690220e-04 3.26046378e-05 1.25633084e-04\n",
      " 2.29203313e-03 2.95628835e-02 1.61759781e+00 4.60115180e+01\n",
      " 2.33648459e+02 5.45443379e+02]\n"
     ]
    }
   ],
   "source": [
    "print(np.diag(S_sum))"
   ]
  },
  {
   "cell_type": "code",
   "execution_count": 1,
   "metadata": {
    "collapsed": false
   },
   "outputs": [
    {
     "ename": "NameError",
     "evalue": "name 'cov_fin' is not defined",
     "output_type": "error",
     "traceback": [
      "\u001b[0;31m---------------------------------------------------------------------------\u001b[0m",
      "\u001b[0;31mNameError\u001b[0m                                 Traceback (most recent call last)",
      "\u001b[0;32m<ipython-input-1-13494b91a618>\u001b[0m in \u001b[0;36m<module>\u001b[0;34m()\u001b[0m\n\u001b[0;32m----> 1\u001b[0;31m \u001b[0mprint\u001b[0m\u001b[0;34m(\u001b[0m\u001b[0mcov_fin\u001b[0m\u001b[0;34m)\u001b[0m\u001b[0;34m\u001b[0m\u001b[0m\n\u001b[0m",
      "\u001b[0;31mNameError\u001b[0m: name 'cov_fin' is not defined"
     ]
    }
   ],
   "source": [
    "print(cov_fin)"
   ]
  },
  {
   "cell_type": "code",
   "execution_count": 74,
   "metadata": {
    "collapsed": false
   },
   "outputs": [
    {
     "name": "stdout",
     "output_type": "stream",
     "text": [
      "0.004741459470924081\n",
      "0.000550863773712662\n"
     ]
    }
   ],
   "source": [
    "print(cov_fin[10])\n",
    "print(np.diag(S_sum)[10])"
   ]
  },
  {
   "cell_type": "code",
   "execution_count": 42,
   "metadata": {
    "collapsed": false
   },
   "outputs": [
    {
     "data": {
      "text/plain": [
       "[<matplotlib.lines.Line2D at 0x7f080088c240>]"
      ]
     },
     "execution_count": 42,
     "metadata": {},
     "output_type": "execute_result"
    },
    {
     "data": {
      "image/png": "[encoded data removed]",
      "text/plain": [
       "<Figure size 432x288 with 1 Axes>"
      ]
     },
     "metadata": {},
     "output_type": "display_data"
    }
   ],
   "source": [
    "plt.plot(X_star, f_fin, 'go')"
   ]
  },
  {
   "cell_type": "code",
   "execution_count": 43,
   "metadata": {
    "collapsed": false
   },
   "outputs": [],
   "source": [
    "a = np.random.multivariate_normal(f_fin, S_sum, 6)"
   ]
  },
  {
   "cell_type": "code",
   "execution_count": 77,
   "metadata": {
    "collapsed": false
   },
   "outputs": [],
   "source": [
    "a2 = np.random.multivariate_normal(f_fin, np.diag(cov_fin), 8)"
   ]
  },
  {
   "cell_type": "code",
   "execution_count": 44,
   "metadata": {
    "collapsed": false
   },
   "outputs": [
    {
     "name": "stdout",
     "output_type": "stream",
     "text": [
      "(6, 30)\n"
     ]
    }
   ],
   "source": [
    "print(a.shape)"
   ]
  },
  {
   "cell_type": "code",
   "execution_count": 80,
   "metadata": {
    "collapsed": false
   },
   "outputs": [
    {
     "data": {
      "text/plain": [
       "[<matplotlib.lines.Line2D at 0x7f07dd7f52e8>]"
      ]
     },
     "execution_count": 80,
     "metadata": {},
     "output_type": "execute_result"
    },
    {
     "data": {
      "image/png": "[encoded data removed]",
      "text/plain": [
       "<Figure size 432x288 with 1 Axes>"
      ]
     },
     "metadata": {},
     "output_type": "display_data"
    }
   ],
   "source": [
    "plt.plot(X_star, a[0], 'g-')\n",
    "plt.plot(X_star, a[1], 'b-')\n",
    "plt.plot(X_star, a[2], 'r-')\n",
    "plt.plot(X_star, a[3], 'k-')\n",
    "plt.plot(X_star, a[4], 'm-')\n",
    "plt.plot(X_star, a[5], 'c-')\n",
    "plt.plot(X_star, a[4], 'ko')\n",
    "# plt.plot(X, Y, 'mo')\n",
    "plt.plot(X_u_noisy, np.zeros(X_u_noisy.shape[0]), 'r+')"
   ]
  },
  {
   "cell_type": "code",
   "execution_count": 82,
   "metadata": {
    "collapsed": false
   },
   "outputs": [
    {
     "data": {
      "text/plain": [
       "[<matplotlib.lines.Line2D at 0x7f07dd7e8668>]"
      ]
     },
     "execution_count": 82,
     "metadata": {},
     "output_type": "execute_result"
    },
    {
     "data": {
      "image/png": "[encoded data removed]",
      "text/plain": [
       "<Figure size 432x288 with 1 Axes>"
      ]
     },
     "metadata": {},
     "output_type": "display_data"
    }
   ],
   "source": [
    "plt.plot(X_star, a2[0], 'g-')\n",
    "plt.plot(X_star, a2[1], 'b-')\n",
    "plt.plot(X_star, a2[2], 'r-')\n",
    "plt.plot(X_star, a2[3], 'k-')\n",
    "plt.plot(X_star, a2[4], 'm-')\n",
    "plt.plot(X_star, a2[5], 'c-')\n",
    "plt.plot(X_star, a2[4], 'ko')\n",
    "# plt.plot(X, Y, 'mo')\n",
    "plt.plot(X_u_noisy, np.zeros(X_u_noisy.shape[0]), 'r+')"
   ]
  },
  {
   "cell_type": "markdown",
   "metadata": {},
   "source": [
    "#####  Generate plot for u "
   ]
  },
  {
   "cell_type": "code",
   "execution_count": 48,
   "metadata": {
    "collapsed": true
   },
   "outputs": [],
   "source": [
    "def generate_u(alpha, rho, v, Xi):\n",
    "    Kuu = kernel_rbf(alpha, rho, Xi=Xi)\n",
    "    R = np.linalg.cholesky(Kuu)\n",
    "\n",
    "    u_mean = np.dot(R, v)\n",
    "    return u_mean"
   ]
  },
  {
   "cell_type": "code",
   "execution_count": 49,
   "metadata": {
    "collapsed": false
   },
   "outputs": [],
   "source": [
    "u_sum = np.zeros(M)\n",
    "# S_sum = np.zeros((N,N))\n",
    "for i in range(N_samples):\n",
    "    u_mean = generate_u(alpha=alpha_samples[i], rho =rho_samples[i], v =eta_samples[i,:], Xi = X_u_noisy)\n",
    "    u_sum = u_sum + u_mean"
   ]
  },
  {
   "cell_type": "code",
   "execution_count": 50,
   "metadata": {
    "collapsed": true
   },
   "outputs": [],
   "source": [
    "u_fin = u_sum / N_samples"
   ]
  },
  {
   "cell_type": "markdown",
   "metadata": {},
   "source": [
    "Plot of inducing inputs and inducing outputs(u)"
   ]
  },
  {
   "cell_type": "code",
   "execution_count": 53,
   "metadata": {
    "collapsed": false
   },
   "outputs": [
    {
     "data": {
      "text/plain": [
       "[<matplotlib.lines.Line2D at 0x7f08007a22b0>]"
      ]
     },
     "execution_count": 53,
     "metadata": {},
     "output_type": "execute_result"
    },
    {
     "data": {
      "image/png": "[encoded data removed]",
      "text/plain": [
       "<Figure size 432x288 with 1 Axes>"
      ]
     },
     "metadata": {},
     "output_type": "display_data"
    }
   ],
   "source": [
    "plt.plot(X_u_noisy, u_fin, 'go')\n",
    "plt.plot(X_u_noisy, np.zeros(X_u_noisy.shape[0]), 'r+')"
   ]
  },
  {
   "cell_type": "code",
   "execution_count": null,
   "metadata": {
    "collapsed": true
   },
   "outputs": [],
   "source": []
  }
 ],
 "metadata": {
  "anaconda-cloud": {},
  "kernelspec": {
   "display_name": "Python [conda env:stanpy35]",
   "language": "python",
   "name": "conda-env-stanpy35-py"
  },
  "language_info": {
   "codemirror_mode": {
    "name": "ipython",
    "version": 3
   },
   "file_extension": ".py",
   "mimetype": "text/x-python",
   "name": "python",
   "nbconvert_exporter": "python",
   "pygments_lexer": "ipython3",
   "version": "3.5.4"
  }
 },
 "nbformat": 4,
 "nbformat_minor": 1
}
