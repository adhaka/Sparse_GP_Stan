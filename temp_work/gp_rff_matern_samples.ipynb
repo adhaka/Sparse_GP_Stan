{
 "cells": [
  {
   "cell_type": "code",
   "execution_count": 1,
   "metadata": {
    "collapsed": false
   },
   "outputs": [],
   "source": [
    "%matplotlib inline\n",
    "import  matplotlib\n",
    "import matplotlib.pyplot as plt\n",
    "import pystan"
   ]
  },
  {
   "cell_type": "code",
   "execution_count": 2,
   "metadata": {
    "collapsed": true
   },
   "outputs": [],
   "source": [
    "import numpy as np\n",
    "import scipy.io as sio"
   ]
  },
  {
   "cell_type": "code",
   "execution_count": 3,
   "metadata": {
    "collapsed": true
   },
   "outputs": [],
   "source": [
    "df = sio.loadmat('snelson1d.mat')\n",
    "X = df['X']\n",
    "Y = df['Y']\n",
    "X_t = df['tX']\n",
    "Y_t = df['tY']"
   ]
  },
  {
   "cell_type": "code",
   "execution_count": 5,
   "metadata": {
    "collapsed": true
   },
   "outputs": [],
   "source": [
    "stan_code_matern_12_sample = \"\"\"\n",
    "functions{\n",
    "\n",
    "\n",
    "}\n",
    "\n",
    "parameters{\n",
    "    real<lower=1e-6> rho;\n",
    "    real<lower=1e-6> sigma;\n",
    "    real omega;\n",
    "}\n",
    "\n",
    "transformed parameters{\n",
    "    real lambda = 1./ rho;\n",
    "}\n",
    "\n",
    "model {\n",
    "    rho ~ normal(0, 1.0);\n",
    "    sigma ~ normal(0, 1.0);\n",
    "    target +=  log(2*square(sigma)*lambda/(square(lambda) + square(omega))) ;   \n",
    "}\n",
    "\n",
    "\"\"\""
   ]
  },
  {
   "cell_type": "code",
   "execution_count": 7,
   "metadata": {
    "collapsed": false
   },
   "outputs": [
    {
     "name": "stderr",
     "output_type": "stream",
     "text": [
      "INFO:pystan:COMPILING THE C++ CODE FOR MODEL anon_model_2a98031abab02fdc1dc700c29385ca60 NOW.\n"
     ]
    }
   ],
   "source": [
    "stan_matern_12_sample = pystan.StanModel(model_code=stan_code_matern_12_sample)"
   ]
  },
  {
   "cell_type": "code",
   "execution_count": 8,
   "metadata": {
    "collapsed": true
   },
   "outputs": [],
   "source": [
    "N_star = 25\n",
    "X_star = np.linspace(-0.5, 6.5, N_star)[:, None]"
   ]
  },
  {
   "cell_type": "code",
   "execution_count": 9,
   "metadata": {
    "collapsed": true
   },
   "outputs": [],
   "source": [
    "gp_snelson_data = {}"
   ]
  },
  {
   "cell_type": "code",
   "execution_count": 11,
   "metadata": {
    "collapsed": false
   },
   "outputs": [],
   "source": [
    "fit_gpr_rff = stan_matern_12_sample.sampling(data=gp_snelson_data, iter=800, chains=4)"
   ]
  },
  {
   "cell_type": "code",
   "execution_count": 12,
   "metadata": {
    "collapsed": false
   },
   "outputs": [
    {
     "name": "stdout",
     "output_type": "stream",
     "text": [
      "Inference for Stan model: anon_model_2a98031abab02fdc1dc700c29385ca60.\n",
      "4 chains, each with iter=800; warmup=400; thin=1; \n",
      "post-warmup draws per chain=400, total post-warmup draws=1600.\n",
      "\n",
      "         mean se_mean     sd   2.5%    25%    50%    75%  97.5%  n_eff   Rhat\n",
      "rho      0.86    0.05   0.64   0.04   0.37   0.71   1.22   2.46    184   1.02\n",
      "sigma    1.63    0.03   0.65   0.51   1.16   1.59   2.02   3.12    387   1.01\n",
      "omega   -0.72    1.13  19.42 -40.85  -1.79   0.04   1.67   36.0    298   1.02\n",
      "lambda   3.97    0.59  10.68   0.41   0.82    1.4   2.71  26.18    327   1.01\n",
      "lp__     -2.7    0.25   2.43  -8.44  -4.01  -2.09  -0.85   0.38     95   1.02\n",
      "\n",
      "Samples were drawn using NUTS at Fri May 11 12:41:55 2018.\n",
      "For each parameter, n_eff is a crude measure of effective sample size,\n",
      "and Rhat is the potential scale reduction factor on split chains (at \n",
      "convergence, Rhat=1).\n"
     ]
    }
   ],
   "source": [
    "print(fit_gpr_rff)"
   ]
  },
  {
   "cell_type": "code",
   "execution_count": 13,
   "metadata": {
    "collapsed": false
   },
   "outputs": [],
   "source": [
    "# print(fit_gpr_rff)"
   ]
  },
  {
   "cell_type": "code",
   "execution_count": 14,
   "metadata": {
    "collapsed": false
   },
   "outputs": [],
   "source": [
    "samples = fit_gpr_rff.extract(permuted=True)\n",
    "# omega = samples['sigvar']\n",
    "# omega_mean = np.mean(omega, axis=0)\n",
    "# sigma = samples['sigma']\n",
    "# sigma_mean = np.mean(sigma, axis=0)"
   ]
  },
  {
   "cell_type": "code",
   "execution_count": 15,
   "metadata": {
    "collapsed": false
   },
   "outputs": [
    {
     "name": "stdout",
     "output_type": "stream",
     "text": [
      "['rho', 'sigma', 'omega', 'lambda', 'lp__']\n"
     ]
    }
   ],
   "source": [
    "print(list(samples.keys()))"
   ]
  },
  {
   "cell_type": "code",
   "execution_count": 16,
   "metadata": {
    "collapsed": true
   },
   "outputs": [],
   "source": [
    "sigma_samples = samples['sigma']\n",
    "omega_samples = samples['omega']\n",
    "lambda_samples = samples['lambda']\n",
    "rho_samples = samples['rho']"
   ]
  },
  {
   "cell_type": "code",
   "execution_count": 17,
   "metadata": {
    "collapsed": false
   },
   "outputs": [
    {
     "data": {
      "text/plain": [
       "[<matplotlib.lines.Line2D at 0x7fa3d5b77470>]"
      ]
     },
     "execution_count": 17,
     "metadata": {},
     "output_type": "execute_result"
    },
    {
     "data": {
      "image/png": "[encoded data removed]",
      "text/plain": [
       "<Figure size 432x288 with 1 Axes>"
      ]
     },
     "metadata": {},
     "output_type": "display_data"
    }
   ],
   "source": [
    "plt.plot(sigma_samples)"
   ]
  },
  {
   "cell_type": "code",
   "execution_count": 18,
   "metadata": {
    "collapsed": false
   },
   "outputs": [
    {
     "data": {
      "text/plain": [
       "[<matplotlib.lines.Line2D at 0x7fa3d5ba0748>]"
      ]
     },
     "execution_count": 18,
     "metadata": {},
     "output_type": "execute_result"
    },
    {
     "data": {
      "image/png": "[encoded data removed]",
      "text/plain": [
       "<Figure size 432x288 with 1 Axes>"
      ]
     },
     "metadata": {},
     "output_type": "display_data"
    }
   ],
   "source": [
    "plt.plot(rho_samples)"
   ]
  },
  {
   "cell_type": "code",
   "execution_count": 19,
   "metadata": {
    "collapsed": false
   },
   "outputs": [
    {
     "data": {
      "text/plain": [
       "[<matplotlib.lines.Line2D at 0x7fa3d5c457f0>]"
      ]
     },
     "execution_count": 19,
     "metadata": {},
     "output_type": "execute_result"
    },
    {
     "data": {
      "image/png": "[encoded data removed]",
      "text/plain": [
       "<Figure size 432x288 with 1 Axes>"
      ]
     },
     "metadata": {},
     "output_type": "display_data"
    }
   ],
   "source": [
    "plt.plot(omega_samples)"
   ]
  },
  {
   "cell_type": "code",
   "execution_count": 20,
   "metadata": {
    "collapsed": false
   },
   "outputs": [
    {
     "name": "stdout",
     "output_type": "stream",
     "text": [
      "(1600,)\n"
     ]
    }
   ],
   "source": [
    "print(omega_samples.shape)"
   ]
  },
  {
   "cell_type": "code",
   "execution_count": 21,
   "metadata": {
    "collapsed": true
   },
   "outputs": [],
   "source": [
    "omega_mat = omega_samples[::40] "
   ]
  },
  {
   "cell_type": "code",
   "execution_count": 22,
   "metadata": {
    "collapsed": true
   },
   "outputs": [],
   "source": [
    "stan_code_matern12 = \"\"\"\n",
    "functions{\n",
    "    vector gp_rff_pred_rng(vector x, vector y, vector x_star, matrix A, matrix phi, vector omega, real ps, real sigma, real jitter){\n",
    "\n",
    "        int N = rows(y);\n",
    "        int M = rows(omega);\n",
    "        int N_star = rows(x_star);\n",
    "        vector[N_star] f_star;\n",
    "        matrix[N_star, N_star] f_star_cov;\n",
    "\n",
    "        {\n",
    "            vector[N_star] f_star_mean;\n",
    "            matrix[N_star, M] cosfeats_star;\n",
    "            matrix[N_star, M] sinfeats_star;\n",
    "            matrix[N_star, M] feats_star; \n",
    "            matrix[N_star, 2*M] phi_star;\n",
    "            matrix[2*M, 2*M]A_inv;\n",
    "            vector[2*M] A_inv_phi_y;\n",
    "            matrix[2*M, N_star] A_inv_phi_star;\n",
    "\n",
    "            vector[2*M]phi_y = phi'*y;\n",
    "\n",
    "            feats_star = x_star*omega'*ps;\n",
    "\n",
    "            for(i in 1:N_star){\n",
    "                 for(j in 1:M){\n",
    "                     cosfeats_star[i,j] = cos(feats_star[i,j] );\n",
    "                     sinfeats_star[i,j] = sin(feats_star[i,j] );\n",
    "                     phi_star[i,j] = cosfeats_star[i,j];\n",
    "                     phi_star[i,M+j] = sinfeats_star[i,j];\n",
    "                }\n",
    "            }\n",
    "\n",
    "           A_inv = inverse(A);\n",
    "\n",
    "           A_inv_phi_y = A_inv* phi_y;\n",
    "#            f_star_mean = phi_star*A_inv_phi_y;\n",
    "           \n",
    "           f_star_mean = phi_star*A_inv_phi_y*(2./M);\n",
    "           A_inv_phi_star = A_inv * phi_star';\n",
    "\n",
    "           f_star_cov = square(sigma)*phi_star*A_inv_phi_star;\n",
    "           for(i in 1:N_star){\n",
    "                f_star[i] = normal_rng(f_star_mean[i], f_star_cov[i,i]);\n",
    "           }\n",
    "           \n",
    "           \n",
    "        }\n",
    "\n",
    "       return f_star;\n",
    "    }\n",
    "}\n",
    "\n",
    "data {\n",
    "    int<lower=1> N;\n",
    "    int<lower=1> M;\n",
    "    int<lower=1> N_star;\n",
    "    vector[N] x;\n",
    "    vector[N] y;\n",
    "    vector[M] omega; \n",
    "    vector[N_star] x_star;\n",
    "}\n",
    "\n",
    "transformed data {\n",
    "    real jitter = 1e-6;\n",
    "    real scale;\n",
    "    vector[N] f_mean = rep_vector(0, N);\n",
    "    scale = sqrt(2.0/M);\n",
    "\n",
    "}\n",
    "\n",
    "parameters{\n",
    "    vector[M] b1;\n",
    "    vector[M] b2;\n",
    "    real<lower=0> ps;\n",
    "    vector[M] bk;\n",
    "    real<lower=1e-6> sigma;\n",
    "\n",
    "}\n",
    "\n",
    "transformed parameters {\n",
    "    vector[N] f;\n",
    "#     matrix[N, N] K;\n",
    "    matrix[N, M] feats;\n",
    "    matrix[2*M, 2*M] A;\n",
    "    matrix[N, 2*M] fullfeats;\n",
    "    \n",
    "    { \n",
    "        matrix[N, M] cosfeats;\n",
    "        matrix[N, M] sinfeats;\n",
    "        vector[N] cosfeats_shift;\n",
    "        vector[N] sinfeats_shift;\n",
    "        feats = x * omega' * ps;\n",
    "\n",
    "         for(i in 1:N){\n",
    "             for(j in 1:M){\n",
    "                 cosfeats[i,j] = cos(feats[i,j] );\n",
    "                 sinfeats[i,j] = sin(feats[i,j] );\n",
    "                 fullfeats[i,j] = cosfeats[i,j];\n",
    "                 fullfeats[i,M+j] = sinfeats[i,j];\n",
    "             }\n",
    "         }\n",
    "\n",
    "        cosfeats_shift = cosfeats * b1;\n",
    "        sinfeats_shift = sinfeats * b2;\n",
    "        f = (cosfeats_shift + cosfeats_shift)*scale;\n",
    "        A = fullfeats'*fullfeats*square(scale);\n",
    "        for(i in 1:2*M){\n",
    "            A[i,i] = A[i,i] + M*square(sigma);\n",
    "        }\n",
    "\n",
    "    }\n",
    "}\n",
    "\n",
    "model {\n",
    "    ps ~ normal(0, 1.0);\n",
    "    bk ~ normal(0,1);\n",
    "    b1 ~ normal(0.0, 1.0);\n",
    "    b2 ~ normal(0.0, 1.0);\n",
    "    sigma ~ normal(0.0, 0.5);\n",
    "    \n",
    "    y ~ normal(f, sigma);\n",
    "    \n",
    "}\n",
    "\n",
    "generated quantities{\n",
    "    vector[N_star] f_star = gp_rff_pred_rng(x, y, x_star, A, fullfeats, omega, ps, sigma, jitter);\n",
    "    vector[N_star] y_star;\n",
    "    for(i in 1:N_star){\n",
    "        y_star[i] = normal_rng(f_star[i], sigma);\n",
    "    }\n",
    "\n",
    "}\n",
    "\n",
    "\"\"\""
   ]
  },
  {
   "cell_type": "code",
   "execution_count": 23,
   "metadata": {
    "collapsed": false
   },
   "outputs": [
    {
     "name": "stderr",
     "output_type": "stream",
     "text": [
      "INFO:pystan:COMPILING THE C++ CODE FOR MODEL anon_model_9d7e36bc24f1e486fa2c1feaf7b282c4 NOW.\n"
     ]
    }
   ],
   "source": [
    "stan_model_matern = pystan.StanModel(model_code=stan_code_matern12)"
   ]
  },
  {
   "cell_type": "code",
   "execution_count": 24,
   "metadata": {
    "collapsed": true
   },
   "outputs": [],
   "source": [
    "N_star = 25\n",
    "X_star = np.linspace(-0.5, 6.5, N_star)[:, None]\n",
    "M = 40"
   ]
  },
  {
   "cell_type": "code",
   "execution_count": 25,
   "metadata": {
    "collapsed": true
   },
   "outputs": [],
   "source": [
    "gp_snelson_data = {'N':200, 'x':X.flatten(), 'y':Y.flatten(), 'M':M, 'omega':omega_mat, 'N_star':N_star, 'x_star':X_star.flatten()}"
   ]
  },
  {
   "cell_type": "code",
   "execution_count": 26,
   "metadata": {
    "collapsed": false
   },
   "outputs": [
    {
     "name": "stderr",
     "output_type": "stream",
     "text": [
      "/u/26/dhakaa1/unix/anaconda2/envs/stanpy35/lib/python3.5/site-packages/pystan/misc.py:399: FutureWarning: Conversion of the second argument of issubdtype from `float` to `np.floating` is deprecated. In future, it will be treated as `np.float64 == np.dtype(float).type`.\n",
      "  elif np.issubdtype(np.asarray(v).dtype, float):\n"
     ]
    }
   ],
   "source": [
    "fit_gpr_matern = stan_model_matern.sampling(data=gp_snelson_data, iter=800, chains=2)"
   ]
  },
  {
   "cell_type": "code",
   "execution_count": null,
   "metadata": {
    "collapsed": true
   },
   "outputs": [],
   "source": [
    "matern_samples = fit_gpr_matern.extract(permuted=True)"
   ]
  },
  {
   "cell_type": "code",
   "execution_count": 69,
   "metadata": {
    "collapsed": false
   },
   "outputs": [],
   "source": [
    "f = matern_samples['f']"
   ]
  },
  {
   "cell_type": "code",
   "execution_count": 70,
   "metadata": {
    "collapsed": false
   },
   "outputs": [
    {
     "name": "stdout",
     "output_type": "stream",
     "text": [
      "odict_keys(['b1', 'b2', 'ps', 'bk', 'sigma', 'f', 'feats', 'A', 'fullfeats', 'f_star', 'y_star', 'lp__'])\n"
     ]
    }
   ],
   "source": [
    "print(matern_samples.keys())"
   ]
  },
  {
   "cell_type": "code",
   "execution_count": 71,
   "metadata": {
    "collapsed": false
   },
   "outputs": [],
   "source": [
    "f_25 = np.percentile(f, 2.5, axis=0)\n",
    "f_975 = np.percentile(f, 97.5, axis=0)"
   ]
  },
  {
   "cell_type": "markdown",
   "metadata": {},
   "source": [
    "####  Confidence Intervals for latent value(f), latent value predictions(f_star), observations(y_star)  for matern 1/2 kernel"
   ]
  },
  {
   "cell_type": "code",
   "execution_count": 72,
   "metadata": {
    "collapsed": false
   },
   "outputs": [
    {
     "data": {
      "text/plain": [
       "[<matplotlib.lines.Line2D at 0x7f201813b048>]"
      ]
     },
     "execution_count": 72,
     "metadata": {},
     "output_type": "execute_result"
    },
    {
     "data": {
      "image/png": "[encoded data removed]",
      "text/plain": [
       "<matplotlib.figure.Figure at 0x7f201ab32320>"
      ]
     },
     "metadata": {},
     "output_type": "display_data"
    }
   ],
   "source": [
    "plt.plot(X,Y, 'ro')\n",
    "plt.plot(X, f_25, 'bo')\n",
    "plt.plot(X, f_975, 'go')"
   ]
  },
  {
   "cell_type": "code",
   "execution_count": 73,
   "metadata": {
    "collapsed": false
   },
   "outputs": [
    {
     "name": "stdout",
     "output_type": "stream",
     "text": [
      "Mean difference for f between 2.5 and 97.5 percentile: 0.038\n"
     ]
    }
   ],
   "source": [
    "print(\"Mean difference for f between 2.5 and 97.5 percentile: %.3f\"%np.mean(f_975/10 - f_25/10))"
   ]
  },
  {
   "cell_type": "code",
   "execution_count": 74,
   "metadata": {
    "collapsed": true
   },
   "outputs": [],
   "source": [
    "f_star = matern_samples['f_star']\n",
    "y_star = matern_samples['y_star']"
   ]
  },
  {
   "cell_type": "code",
   "execution_count": 75,
   "metadata": {
    "collapsed": true
   },
   "outputs": [],
   "source": [
    "f_star_25 = np.percentile(f_star, 2.5, axis=0)\n",
    "f_star_975 = np.percentile(f_star, 97.5, axis=0)"
   ]
  },
  {
   "cell_type": "code",
   "execution_count": 76,
   "metadata": {
    "collapsed": true
   },
   "outputs": [],
   "source": [
    "y_star_25 = np.percentile(y_star, 2.5, axis=0)\n",
    "y_star_975 = np.percentile(y_star, 97.5, axis=0)"
   ]
  },
  {
   "cell_type": "code",
   "execution_count": 79,
   "metadata": {
    "collapsed": false
   },
   "outputs": [
    {
     "data": {
      "text/plain": [
       "[<matplotlib.lines.Line2D at 0x7f201827cc88>]"
      ]
     },
     "execution_count": 79,
     "metadata": {},
     "output_type": "execute_result"
    },
    {
     "data": {
      "image/png": "[encoded data removed]",
      "text/plain": [
       "<matplotlib.figure.Figure at 0x7f20180cb4e0>"
      ]
     },
     "metadata": {},
     "output_type": "display_data"
    }
   ],
   "source": [
    "plt.plot(X,Y, 'ro')\n",
    "plt.plot(X, f[193], 'bo')\n",
    "plt.plot(X, f[338], 'go')"
   ]
  },
  {
   "cell_type": "code",
   "execution_count": 83,
   "metadata": {
    "collapsed": false
   },
   "outputs": [
    {
     "data": {
      "text/plain": [
       "[<matplotlib.lines.Line2D at 0x7f20181a7160>]"
      ]
     },
     "execution_count": 83,
     "metadata": {},
     "output_type": "execute_result"
    },
    {
     "data": {
      "image/png": "[encoded data removed]",
      "text/plain": [
       "<matplotlib.figure.Figure at 0x7f201a94a7b8>"
      ]
     },
     "metadata": {},
     "output_type": "display_data"
    }
   ],
   "source": [
    "plt.plot(X,Y, 'ro')\n",
    "plt.plot(X_star, f_star_25*2, 'bo')\n",
    "plt.plot(X_star, f_star_975*2, 'go')"
   ]
  },
  {
   "cell_type": "code",
   "execution_count": 84,
   "metadata": {
    "collapsed": false
   },
   "outputs": [
    {
     "data": {
      "text/plain": [
       "[<matplotlib.lines.Line2D at 0x7f20180edc88>]"
      ]
     },
     "execution_count": 84,
     "metadata": {},
     "output_type": "execute_result"
    },
    {
     "data": {
      "image/png": "[encoded data removed]",
      "text/plain": [
       "<matplotlib.figure.Figure at 0x7f201a296c88>"
      ]
     },
     "metadata": {},
     "output_type": "display_data"
    }
   ],
   "source": [
    "plt.plot(X, Y, 'ro')\n",
    "plt.plot(X_star, y_star_25*2, 'go')\n",
    "plt.plot(X_star, y_star_975*2, 'bo')"
   ]
  },
  {
   "cell_type": "code",
   "execution_count": 87,
   "metadata": {
    "collapsed": false
   },
   "outputs": [
    {
     "name": "stdout",
     "output_type": "stream",
     "text": [
      "Mean difference for f_star(latent value predictions) between 2.5 and 97.5 percentile: 1.373\n"
     ]
    }
   ],
   "source": [
    "print(\"Mean difference for f_star(latent value predictions) between 2.5 and 97.5 percentile: %.3f\"%np.mean(f_star_975*2 - f_star_25*2))"
   ]
  },
  {
   "cell_type": "code",
   "execution_count": 88,
   "metadata": {
    "collapsed": false
   },
   "outputs": [
    {
     "name": "stdout",
     "output_type": "stream",
     "text": [
      "Mean difference for y_star(output predictions) between 2.5 and 97.5 percentile: 2.766\n"
     ]
    }
   ],
   "source": [
    "print(\"Mean difference for y_star(output predictions) between 2.5 and 97.5 percentile: %.3f\"%np.mean(y_star_975*2 - y_star_25*2))"
   ]
  },
  {
   "cell_type": "code",
   "execution_count": null,
   "metadata": {
    "collapsed": true
   },
   "outputs": [],
   "source": []
  },
  {
   "cell_type": "code",
   "execution_count": null,
   "metadata": {
    "collapsed": true
   },
   "outputs": [],
   "source": []
  },
  {
   "cell_type": "code",
   "execution_count": 62,
   "metadata": {
    "collapsed": false
   },
   "outputs": [
    {
     "data": {
      "text/plain": [
       "[<matplotlib.lines.Line2D at 0x7f160e6b1860>]"
      ]
     },
     "execution_count": 62,
     "metadata": {},
     "output_type": "execute_result"
    },
    {
     "data": {
      "image/png": "[encoded data removed]",
      "text/plain": [
       "<Figure size 432x288 with 1 Axes>"
      ]
     },
     "metadata": {},
     "output_type": "display_data"
    }
   ],
   "source": [
    "plt.plot(X,Y, 'ro')\n",
    "plt.plot(X, f_25, 'bo')\n",
    "plt.plot(X, f_975, 'go')"
   ]
  },
  {
   "cell_type": "code",
   "execution_count": 69,
   "metadata": {
    "collapsed": false
   },
   "outputs": [
    {
     "data": {
      "text/plain": [
       "[<matplotlib.lines.Line2D at 0x7f15f4cbf710>]"
      ]
     },
     "execution_count": 69,
     "metadata": {},
     "output_type": "execute_result"
    },
    {
     "data": {
      "image/png": "[encoded data removed]",
      "text/plain": [
       "<Figure size 432x288 with 1 Axes>"
      ]
     },
     "metadata": {},
     "output_type": "display_data"
    }
   ],
   "source": [
    "# plt.plot(X,Y, 'ro')\n",
    "plt.plot(X_star, f_star_25/10, 'bo')\n",
    "plt.plot(X_star, f_star_975/10, 'go')"
   ]
  },
  {
   "cell_type": "code",
   "execution_count": 72,
   "metadata": {
    "collapsed": false
   },
   "outputs": [
    {
     "data": {
      "text/plain": [
       "[<matplotlib.lines.Line2D at 0x7f15f60d77f0>]"
      ]
     },
     "execution_count": 72,
     "metadata": {},
     "output_type": "execute_result"
    },
    {
     "data": {
      "image/png": "[encoded data removed]",
      "text/plain": [
       "<Figure size 432x288 with 1 Axes>"
      ]
     },
     "metadata": {},
     "output_type": "display_data"
    }
   ],
   "source": [
    "plt.plot(X,Y, 'ro')\n",
    "plt.plot(X_star[1:-1], y_star_25[1:-1]/10, 'bo')\n",
    "plt.plot(X_star[1:-1], y_star_975[1:-1]/10, 'go')"
   ]
  },
  {
   "cell_type": "code",
   "execution_count": 73,
   "metadata": {
    "collapsed": false
   },
   "outputs": [
    {
     "name": "stdout",
     "output_type": "stream",
     "text": [
      "Mean difference for f between 2.5 and 97.5 percentile: 0.025\n"
     ]
    }
   ],
   "source": [
    "print(\"Mean difference for f between 2.5 and 97.5 percentile: %.3f\"%np.mean(f_975/10 - f_25/10))"
   ]
  },
  {
   "cell_type": "code",
   "execution_count": 74,
   "metadata": {
    "collapsed": false
   },
   "outputs": [
    {
     "name": "stdout",
     "output_type": "stream",
     "text": [
      "Mean difference for fstar between 2.5 and 97.5 percentile: 0.101\n"
     ]
    }
   ],
   "source": [
    "print(\"Mean difference for fstar between 2.5 and 97.5 percentile: %.3f\"%np.mean(f_star_975/10 - f_star_25/10))"
   ]
  },
  {
   "cell_type": "code",
   "execution_count": 24,
   "metadata": {
    "collapsed": false
   },
   "outputs": [
    {
     "name": "stdout",
     "output_type": "stream",
     "text": [
      "Mean difference for fstar between 2.5 and 97.5 percentile: 1.644\n"
     ]
    }
   ],
   "source": [
    "print(\"Mean difference for fstar between 2.5 and 97.5 percentile: %.3f\"%np.mean(y_star_975 - y_star_25))"
   ]
  },
  {
   "cell_type": "code",
   "execution_count": 15,
   "metadata": {
    "collapsed": false
   },
   "outputs": [],
   "source": [
    "# print(fit_gpr_rff)"
   ]
  },
  {
   "cell_type": "code",
   "execution_count": 18,
   "metadata": {
    "collapsed": true
   },
   "outputs": [],
   "source": [
    "K_sample799 = K_samples[-100,:,:]"
   ]
  },
  {
   "cell_type": "code",
   "execution_count": 21,
   "metadata": {
    "collapsed": false
   },
   "outputs": [
    {
     "name": "stdout",
     "output_type": "stream",
     "text": [
      "(200, 200)\n"
     ]
    }
   ],
   "source": [
    "print(K_sample799.shape)\n",
    "# print(K_sample799[10,7])"
   ]
  },
  {
   "cell_type": "code",
   "execution_count": null,
   "metadata": {
    "collapsed": true
   },
   "outputs": [],
   "source": []
  }
 ],
 "metadata": {
  "anaconda-cloud": {},
  "kernelspec": {
   "display_name": "Python [conda env:stanpy35]",
   "language": "python",
   "name": "conda-env-stanpy35-py"
  },
  "language_info": {
   "codemirror_mode": {
    "name": "ipython",
    "version": 3
   },
   "file_extension": ".py",
   "mimetype": "text/x-python",
   "name": "python",
   "nbconvert_exporter": "python",
   "pygments_lexer": "ipython3",
   "version": "3.5.4"
  }
 },
 "nbformat": 4,
 "nbformat_minor": 1
}
