{
 "cells": [
  {
   "cell_type": "code",
   "execution_count": 2,
   "metadata": {
    "collapsed": true
   },
   "outputs": [],
   "source": [
    "%matplotlib inline\n",
    "import  matplotlib\n",
    "import matplotlib.pyplot as plt\n",
    "import pystan"
   ]
  },
  {
   "cell_type": "code",
   "execution_count": 3,
   "metadata": {
    "collapsed": true
   },
   "outputs": [],
   "source": [
    "import numpy as np\n",
    "import scipy.io as sio"
   ]
  },
  {
   "cell_type": "code",
   "execution_count": 4,
   "metadata": {
    "collapsed": true
   },
   "outputs": [],
   "source": [
    "df = sio.loadmat('snelson1d.mat')\n",
    "X = df['X']\n",
    "Y = df['Y']\n",
    "X_t = df['tX']\n",
    "Y_t = df['tY']"
   ]
  },
  {
   "cell_type": "code",
   "execution_count": 117,
   "metadata": {
    "collapsed": true
   },
   "outputs": [],
   "source": [
    "stan_code_rff = \"\"\"\n",
    "functions{\n",
    "    vector gp_rff_pred_rng(vector x, vector y, vector x_star, matrix A, matrix phi, vector omega, real ps,real sigma, real jitter){\n",
    "\n",
    "        int N = rows(y);\n",
    "        int M = rows(omega);\n",
    "        int N_star = rows(x_star);\n",
    "        vector[N_star] f_star;\n",
    "        matrix[N_star, N_star] f_star_cov;\n",
    "\n",
    "        {\n",
    "            vector[N_star] f_star_mean;\n",
    "            matrix[N_star, M] cosfeats_star;\n",
    "            matrix[N_star, M] sinfeats_star;\n",
    "            matrix[N_star, M] feats_star; \n",
    "            matrix[N_star, 2*M] phi_star;\n",
    "            matrix[2*M, 2*M]A_inv;\n",
    "            vector[2*M] A_inv_phi_y;\n",
    "            matrix[2*M, N_star] A_inv_phi_star;\n",
    "\n",
    "            vector[2*M]phi_y = phi'*y;\n",
    "\n",
    "             feats_star = x_star*omega'*ps;\n",
    "#              feats_star = x_star*omega';\n",
    "#              feats_star = x_star*omega'*2*pi() + phase ;\n",
    "\n",
    "            for(i in 1:N_star){\n",
    "                 for(j in 1:M){\n",
    "                     cosfeats_star[i,j] = cos(feats_star[i,j] );\n",
    "                     sinfeats_star[i,j] = sin(feats_star[i,j] );\n",
    "                     phi_star[i,j] = cosfeats_star[i,j];\n",
    "                     phi_star[i,M+j] = sinfeats_star[i,j];\n",
    "                }\n",
    "            }\n",
    "\n",
    "           A_inv = inverse(A);\n",
    "\n",
    "           A_inv_phi_y = A_inv* phi_y;\n",
    "#            f_star_mean = phi_star*A_inv_phi_y;\n",
    "           \n",
    "           f_star_mean = phi_star*A_inv_phi_y*(2./M);\n",
    "           A_inv_phi_star = A_inv * phi_star';\n",
    "\n",
    "           f_star_cov = square(sigma)*phi_star*A_inv_phi_star;\n",
    "           for(i in 1:N_star){\n",
    "                f_star[i] = normal_rng(f_star_mean[i], f_star_cov[i,i]);\n",
    "           }\n",
    "           \n",
    "           \n",
    "        }\n",
    "\n",
    "       return f_star;\n",
    "    }\n",
    "}\n",
    "\n",
    "data {\n",
    "    int<lower=1> N;\n",
    "    int<lower=1> M;\n",
    "    int<lower=1> N_star;\n",
    "    vector[N] x;\n",
    "    vector[N] y;\n",
    "    vector[N_star] x_star;\n",
    "    \n",
    "}\n",
    "\n",
    "transformed data {\n",
    "    real jitter = 1e-6;\n",
    "    real scale;\n",
    "    vector[N] f_mean = rep_vector(0, N);\n",
    "    vector[M] omega; \n",
    "\n",
    "    scale = sqrt(2.0/M);\n",
    "\n",
    "    for (i in 1:M){\n",
    "        omega[i] = normal_rng(0,1);\n",
    "    }\n",
    "\n",
    "}\n",
    "\n",
    "parameters{\n",
    "    vector[M] b1;\n",
    "    vector[M] b2;\n",
    "    real<lower=0> ps;\n",
    "    vector[M] bk;\n",
    "    real<lower=0> phase;\n",
    "    real<lower=1e-6> sigma;\n",
    "\n",
    "}\n",
    "\n",
    "transformed parameters {\n",
    "    vector[N] f;\n",
    "#     matrix[N, N] K;\n",
    "    matrix[N, M] feats;\n",
    "    matrix[2*M, 2*M] A;\n",
    "    matrix[N, 2*M] fullfeats;\n",
    "    \n",
    "    { \n",
    "        matrix[N, M] cosfeats;\n",
    "        matrix[N, M] sinfeats;\n",
    "        vector[N] cosfeats_shift;\n",
    "        vector[N] sinfeats_shift;\n",
    "         feats = x * omega' * ps;\n",
    "#         feats = x * omega';\n",
    "#         feats = x * omega'*2*pi() + phase;\n",
    "\n",
    "         for(i in 1:N){\n",
    "             for(j in 1:M){\n",
    "                 cosfeats[i,j] = cos(feats[i,j] );\n",
    "                 sinfeats[i,j] = sin(feats[i,j] );\n",
    "                 fullfeats[i,j] = cosfeats[i,j];\n",
    "                 fullfeats[i,M+j] = sinfeats[i,j];\n",
    "             }\n",
    "         }\n",
    "\n",
    "        cosfeats_shift = cosfeats * b1;\n",
    "        sinfeats_shift = sinfeats * b2;\n",
    "        f = (cosfeats_shift + cosfeats_shift)*scale;\n",
    "        A = fullfeats'*fullfeats*square(scale);\n",
    "        for(i in 1:2*M){\n",
    "            A[i,i] = A[i,i] + M*square(sigma);\n",
    "        }\n",
    "\n",
    "    }\n",
    "}\n",
    "\n",
    "model {\n",
    "    ps ~ normal(0, 1.0);\n",
    "    bk ~ normal(0,1);\n",
    "    b1 ~ normal(0.0, 1.0);\n",
    "    b2 ~ normal(0.0, 1.0);\n",
    "    sigma ~ normal(0.0, 0.5);\n",
    "    phase ~ uniform(0.0, 2*pi());\n",
    "    \n",
    "    y ~ normal(f, sigma);\n",
    "    \n",
    "}\n",
    "\n",
    "generated quantities{\n",
    "    vector[N_star] f_star = gp_rff_pred_rng(x, y, x_star, A, fullfeats, omega, ps,sigma, jitter);\n",
    "    vector[N_star] y_star;\n",
    "    for(i in 1:N_star){\n",
    "        y_star[i] = normal_rng(f_star[i], sigma);\n",
    "    }\n",
    "\n",
    "}\n",
    "\"\"\""
   ]
  },
  {
   "cell_type": "code",
   "execution_count": 118,
   "metadata": {
    "collapsed": false
   },
   "outputs": [
    {
     "name": "stderr",
     "output_type": "stream",
     "text": [
      "INFO:pystan:COMPILING THE C++ CODE FOR MODEL anon_model_3fed33c99df4be9cc738289d3594c23c NOW.\n"
     ]
    }
   ],
   "source": [
    "stan_model_rff = pystan.StanModel(model_code=stan_code_rff)"
   ]
  },
  {
   "cell_type": "code",
   "execution_count": 119,
   "metadata": {
    "collapsed": true
   },
   "outputs": [],
   "source": [
    "N_star = 25\n",
    "X_star = np.linspace(-0.5, 6.5, N_star)[:, None]"
   ]
  },
  {
   "cell_type": "code",
   "execution_count": 120,
   "metadata": {
    "collapsed": true
   },
   "outputs": [],
   "source": [
    "gp_snelson_data = {'N':200, 'x':X.flatten(), 'y':Y.flatten(), 'M':40, 'N_star':N_star, 'x_star':X_star.flatten()}"
   ]
  },
  {
   "cell_type": "code",
   "execution_count": 121,
   "metadata": {
    "collapsed": false
   },
   "outputs": [
    {
     "name": "stderr",
     "output_type": "stream",
     "text": [
      "/u/26/dhakaa1/unix/anaconda2/envs/stanpy35/lib/python3.5/site-packages/pystan/misc.py:399: FutureWarning: Conversion of the second argument of issubdtype from `float` to `np.floating` is deprecated. In future, it will be treated as `np.float64 == np.dtype(float).type`.\n",
      "  elif np.issubdtype(np.asarray(v).dtype, float):\n"
     ]
    }
   ],
   "source": [
    "fit_gpr_rff = stan_model_rff.sampling(data=gp_snelson_data, iter=600, chains=2)"
   ]
  },
  {
   "cell_type": "code",
   "execution_count": 122,
   "metadata": {
    "collapsed": false
   },
   "outputs": [],
   "source": [
    "# print(fit_gpr_rff)"
   ]
  },
  {
   "cell_type": "code",
   "execution_count": 123,
   "metadata": {
    "collapsed": false
   },
   "outputs": [],
   "source": [
    "samples = fit_gpr_rff.extract(permuted=True)\n",
    "# omega = samples['sigvar']\n",
    "# omega_mean = np.mean(omega, axis=0)\n",
    "# sigma = samples['sigma']\n",
    "# sigma_mean = np.mean(sigma, axis=0)"
   ]
  },
  {
   "cell_type": "code",
   "execution_count": 104,
   "metadata": {
    "collapsed": true
   },
   "outputs": [],
   "source": [
    "f = samples['f']"
   ]
  },
  {
   "cell_type": "code",
   "execution_count": 124,
   "metadata": {
    "collapsed": true
   },
   "outputs": [],
   "source": [
    "f_star = samples['f_star']\n",
    "y_star = samples['y_star']"
   ]
  },
  {
   "cell_type": "code",
   "execution_count": 125,
   "metadata": {
    "collapsed": false
   },
   "outputs": [],
   "source": [
    "f_25 = np.percentile(f, 2.5, axis=0)\n",
    "f_975 = np.percentile(f, 97.5, axis=0)"
   ]
  },
  {
   "cell_type": "code",
   "execution_count": 136,
   "metadata": {
    "collapsed": true
   },
   "outputs": [],
   "source": [
    "f_star_25 = np.percentile(f_star, 2.5, axis=0)\n",
    "f_star_975 = np.percentile(f_star, 97.5, axis=0)\n",
    "f_star_median = np.percentile(f_star, 50, axis=0)"
   ]
  },
  {
   "cell_type": "code",
   "execution_count": 127,
   "metadata": {
    "collapsed": false
   },
   "outputs": [],
   "source": [
    "y_star_25 = np.percentile(y_star, 2.5, axis=0)\n",
    "y_star_975 = np.percentile(y_star, 97.5, axis=0)"
   ]
  },
  {
   "cell_type": "code",
   "execution_count": 128,
   "metadata": {
    "collapsed": false
   },
   "outputs": [
    {
     "data": {
      "text/plain": [
       "[<matplotlib.lines.Line2D at 0x7f1062575c18>]"
      ]
     },
     "execution_count": 128,
     "metadata": {},
     "output_type": "execute_result"
    },
    {
     "data": {
      "image/png": "[encoded data removed]",
      "text/plain": [
       "<Figure size 432x288 with 1 Axes>"
      ]
     },
     "metadata": {},
     "output_type": "display_data"
    }
   ],
   "source": [
    "plt.plot(X,Y, 'ro')\n",
    "plt.plot(X, f_25, 'bo')\n",
    "plt.plot(X, f_975, 'go')"
   ]
  },
  {
   "cell_type": "code",
   "execution_count": 137,
   "metadata": {
    "collapsed": false
   },
   "outputs": [
    {
     "data": {
      "text/plain": [
       "[<matplotlib.lines.Line2D at 0x7f1098955748>]"
      ]
     },
     "execution_count": 137,
     "metadata": {},
     "output_type": "execute_result"
    },
    {
     "data": {
      "image/png": "[encoded data removed]",
      "text/plain": [
       "<Figure size 432x288 with 1 Axes>"
      ]
     },
     "metadata": {},
     "output_type": "display_data"
    }
   ],
   "source": [
    "plt.plot(X,Y, 'ro')\n",
    "plt.plot(X_star, f_star_25, 'bo')\n",
    "plt.plot(X_star, f_star_975, 'go')\n",
    "plt.plot(X_star, f_star_median, 'ko')"
   ]
  },
  {
   "cell_type": "code",
   "execution_count": 132,
   "metadata": {
    "collapsed": false
   },
   "outputs": [
    {
     "data": {
      "text/plain": [
       "[<matplotlib.lines.Line2D at 0x7f10983d0dd8>]"
      ]
     },
     "execution_count": 132,
     "metadata": {},
     "output_type": "execute_result"
    },
    {
     "data": {
      "image/png": "[encoded data removed]",
      "text/plain": [
       "<Figure size 432x288 with 1 Axes>"
      ]
     },
     "metadata": {},
     "output_type": "display_data"
    }
   ],
   "source": [
    "plt.plot(X,Y, 'ro')\n",
    "plt.plot(X_star, y_star_25, 'bo')\n",
    "plt.plot(X_star, y_star_975, 'go')"
   ]
  },
  {
   "cell_type": "code",
   "execution_count": 133,
   "metadata": {
    "collapsed": false
   },
   "outputs": [
    {
     "name": "stdout",
     "output_type": "stream",
     "text": [
      "Mean difference for f between 2.5 and 97.5 percentile: 0.025\n"
     ]
    }
   ],
   "source": [
    "print(\"Mean difference for f between 2.5 and 97.5 percentile: %.3f\"%np.mean(f_975/10 - f_25/10))"
   ]
  },
  {
   "cell_type": "code",
   "execution_count": 134,
   "metadata": {
    "collapsed": false
   },
   "outputs": [
    {
     "name": "stdout",
     "output_type": "stream",
     "text": [
      "Mean difference for fstar between 2.5 and 97.5 percentile: 0.069\n"
     ]
    }
   ],
   "source": [
    "print(\"Mean difference for fstar between 2.5 and 97.5 percentile: %.3f\"%np.mean(f_star_975/10 - f_star_25/10))"
   ]
  },
  {
   "cell_type": "code",
   "execution_count": 135,
   "metadata": {
    "collapsed": false
   },
   "outputs": [
    {
     "name": "stdout",
     "output_type": "stream",
     "text": [
      "Mean difference for fstar between 2.5 and 97.5 percentile: 1.549\n"
     ]
    }
   ],
   "source": [
    "print(\"Mean difference for fstar between 2.5 and 97.5 percentile: %.3f\"%np.mean(y_star_975 - y_star_25))"
   ]
  },
  {
   "cell_type": "code",
   "execution_count": 15,
   "metadata": {
    "collapsed": false
   },
   "outputs": [],
   "source": [
    "# print(fit_gpr_rff)"
   ]
  },
  {
   "cell_type": "code",
   "execution_count": 26,
   "metadata": {
    "collapsed": false
   },
   "outputs": [
    {
     "ename": "NameError",
     "evalue": "name 'K_samples' is not defined",
     "output_type": "error",
     "traceback": [
      "\u001b[0;31m---------------------------------------------------------------------------\u001b[0m",
      "\u001b[0;31mNameError\u001b[0m                                 Traceback (most recent call last)",
      "\u001b[0;32m<ipython-input-26-cda51a0ca1ba>\u001b[0m in \u001b[0;36m<module>\u001b[0;34m()\u001b[0m\n\u001b[0;32m----> 1\u001b[0;31m \u001b[0mprint\u001b[0m\u001b[0;34m(\u001b[0m\u001b[0mK_samples\u001b[0m\u001b[0;34m.\u001b[0m\u001b[0mshape\u001b[0m\u001b[0;34m)\u001b[0m\u001b[0;34m\u001b[0m\u001b[0m\n\u001b[0m",
      "\u001b[0;31mNameError\u001b[0m: name 'K_samples' is not defined"
     ]
    }
   ],
   "source": [
    "print(K_samples.shape)"
   ]
  },
  {
   "cell_type": "code",
   "execution_count": 18,
   "metadata": {
    "collapsed": true
   },
   "outputs": [],
   "source": [
    "K_sample799 = K_samples[-100,:,:]"
   ]
  },
  {
   "cell_type": "code",
   "execution_count": 21,
   "metadata": {
    "collapsed": false
   },
   "outputs": [
    {
     "name": "stdout",
     "output_type": "stream",
     "text": [
      "(200, 200)\n"
     ]
    }
   ],
   "source": [
    "print(K_sample799.shape)\n",
    "# print(K_sample799[10,7])"
   ]
  },
  {
   "cell_type": "code",
   "execution_count": 138,
   "metadata": {
    "collapsed": false
   },
   "outputs": [
    {
     "name": "stdout",
     "output_type": "stream",
     "text": [
      "(200, 1)\n"
     ]
    }
   ],
   "source": [
    "print(X.shape)"
   ]
  },
  {
   "cell_type": "code",
   "execution_count": 139,
   "metadata": {
    "collapsed": true
   },
   "outputs": [],
   "source": [
    "intervals = ((0.75,1.25), (2.5, 3.0), (4.25, 4.75))\n"
   ]
  },
  {
   "cell_type": "code",
   "execution_count": 140,
   "metadata": {
    "collapsed": true
   },
   "outputs": [],
   "source": [
    "X_train = X.copy()\n",
    "Y_train = Y.copy()"
   ]
  },
  {
   "cell_type": "code",
   "execution_count": 141,
   "metadata": {
    "collapsed": true
   },
   "outputs": [],
   "source": [
    "X_test, Y_test = [], [] "
   ]
  },
  {
   "cell_type": "code",
   "execution_count": 142,
   "metadata": {
    "collapsed": true
   },
   "outputs": [],
   "source": [
    "for low, up in intervals:\n",
    "    ind = np.logical_and(X_train.flatten() > low, X_train.flatten() < up)\n",
    "    X_test.append(X_train[ind])\n",
    "    Y_test.append(Y_train[ind])\n",
    "    X_train = np.delete(X_train, np.where(ind)[0], axis=0)\n",
    "    Y_train = np.delete(Y_train, np.where(ind)[0], axis=0)\n",
    "X_test, Y_test = np.vstack(X_test), np.vstack(Y_test)"
   ]
  },
  {
   "cell_type": "code",
   "execution_count": 143,
   "metadata": {
    "collapsed": false
   },
   "outputs": [
    {
     "name": "stdout",
     "output_type": "stream",
     "text": [
      "(200, 1)\n",
      "(145, 1)\n",
      "(55, 1)\n"
     ]
    }
   ],
   "source": [
    "print(X.shape)\n",
    "print(X_train.shape)\n",
    "print(X_test.shape)"
   ]
  },
  {
   "cell_type": "code",
   "execution_count": 144,
   "metadata": {
    "collapsed": true
   },
   "outputs": [],
   "source": [
    "gp_snelson_data_imputed = {'N':X_train.shape[0], 'x':X_train.flatten(), 'y':Y_train.flatten(), 'M':40, 'N_star':X_test.shape[0], 'x_star':X_test.flatten()}"
   ]
  },
  {
   "cell_type": "code",
   "execution_count": 145,
   "metadata": {
    "collapsed": false
   },
   "outputs": [
    {
     "name": "stderr",
     "output_type": "stream",
     "text": [
      "/u/26/dhakaa1/unix/anaconda2/envs/stanpy35/lib/python3.5/site-packages/pystan/misc.py:399: FutureWarning: Conversion of the second argument of issubdtype from `float` to `np.floating` is deprecated. In future, it will be treated as `np.float64 == np.dtype(float).type`.\n",
      "  elif np.issubdtype(np.asarray(v).dtype, float):\n"
     ]
    }
   ],
   "source": [
    "fit_gpr_rff_imp = stan_model_rff.sampling(data=gp_snelson_data_imputed, iter=600, chains=2)"
   ]
  },
  {
   "cell_type": "code",
   "execution_count": 146,
   "metadata": {
    "collapsed": true
   },
   "outputs": [],
   "source": [
    "samples_imp = fit_gpr_rff_imp.extract(permuted=True)"
   ]
  },
  {
   "cell_type": "code",
   "execution_count": 148,
   "metadata": {
    "collapsed": true
   },
   "outputs": [],
   "source": [
    "f_star = samples_imp['f_star']\n",
    "y_star = samples_imp['y_star']"
   ]
  },
  {
   "cell_type": "code",
   "execution_count": 180,
   "metadata": {
    "collapsed": false
   },
   "outputs": [
    {
     "name": "stdout",
     "output_type": "stream",
     "text": [
      "['b1', 'b2', 'ps', 'bk', 'phase', 'sigma', 'f', 'feats', 'A', 'fullfeats', 'f_star', 'y_star', 'lp__']\n"
     ]
    }
   ],
   "source": [
    "print(list(samples_imp.keys()))"
   ]
  },
  {
   "cell_type": "code",
   "execution_count": 185,
   "metadata": {
    "collapsed": false
   },
   "outputs": [],
   "source": [
    "sigma_samples_imp = samples_imp['sigma']\n",
    "phase_samples_imp = samples_imp['phase']\n",
    "amp1_samples_imp = samples_imp['b1']\n",
    "amp2_samples_imp = samples_imp['b2']"
   ]
  },
  {
   "cell_type": "code",
   "execution_count": 151,
   "metadata": {
    "collapsed": true
   },
   "outputs": [],
   "source": [
    "pred_mean_f = np.mean(f_star, axis=0)\n",
    "pred_var_f = np.var(f_star, axis=0)"
   ]
  },
  {
   "cell_type": "code",
   "execution_count": 163,
   "metadata": {
    "collapsed": true
   },
   "outputs": [],
   "source": [
    "pred_mean_y = np.mean(y_star, axis=0)\n",
    "pred_var_y = np.var(y_star, axis=0)"
   ]
  },
  {
   "cell_type": "code",
   "execution_count": 164,
   "metadata": {
    "collapsed": false
   },
   "outputs": [
    {
     "name": "stdout",
     "output_type": "stream",
     "text": [
      "[-1.00184637 -0.80687816 -1.13142916 -1.10450187 -1.12302756 -1.13684701\n",
      " -1.11287987 -1.11534124 -0.87259429 -0.99417583 -0.8113098  -1.12221234\n",
      " -0.78603478 -1.15356312 -1.03289392 -0.87955199 -1.08226499 -0.99854659\n",
      " -1.00871432  0.08605813  0.0415796   0.07396708  0.04681247  0.09336365\n",
      " -0.05559117 -0.04014907  0.03359945  0.06056596  0.08673101 -0.04993464\n",
      "  0.0210366   0.10252198  0.05642286  0.06955514  0.04007115  0.09615064\n",
      "  0.0839099   0.06314679  0.07474946  0.06514627  0.12639984  0.2290913\n",
      "  0.1850906   0.25254999  0.2156395   0.19142331  0.09290886  0.00438254\n",
      "  0.06361427 -0.02263635  0.24208013  0.15639591  0.23559709  0.22357475\n",
      "  0.23924346]\n",
      "[0.24169857 0.23499734 0.28599427 0.27245748 0.2769338  0.30807127\n",
      " 0.24686165 0.25936391 0.24480255 0.20419311 0.18792517 0.2893054\n",
      " 0.22221239 0.32437922 0.29905483 0.23979181 0.24898386 0.24839911\n",
      " 0.22941813 0.31488803 0.41309642 0.38400087 0.41942127 0.38558588\n",
      " 0.36243454 0.46920784 0.30243276 0.43269473 0.39845906 0.4254742\n",
      " 0.41037061 0.40081784 0.37162169 0.27970734 0.41081318 0.42597337\n",
      " 0.44540578 0.40738806 0.36227991 0.43772319 0.24787893 0.2933105\n",
      " 0.2902284  0.29671283 0.30191344 0.29392405 0.29054305 0.21942043\n",
      " 0.27470069 0.21047448 0.31424149 0.32377743 0.31887948 0.305914\n",
      " 0.32589344]\n"
     ]
    }
   ],
   "source": [
    "print(pred_mean_y)\n",
    "print(pred_var_y)"
   ]
  },
  {
   "cell_type": "code",
   "execution_count": 165,
   "metadata": {
    "collapsed": true
   },
   "outputs": [],
   "source": [
    "def RMSE(Y_star, Y_test):\n",
    "    rmse = np.sqrt(np.mean(np.square(Y_star - Y_test)))\n",
    "    return rmse\n",
    "\n",
    "def NMSE(Y_star, Y_test):\n",
    "    nmse = np.mean(np.square(Y_star - Y_test)) / np.mean(np.square(Y_test - np.mean(Y_test)))\n",
    "    return nmse\n",
    "\n",
    "def MLPPD(Y_star, Y_test, var_star):\n",
    "    mlppd = 0.5* (np.sum(np.square(Y_star - Y_test)/var_star + np.log(var_star) + np.log(2*np.pi))) / Y_star.size\n",
    "    return mlppd\n",
    "    "
   ]
  },
  {
   "cell_type": "code",
   "execution_count": 166,
   "metadata": {
    "collapsed": false
   },
   "outputs": [
    {
     "name": "stdout",
     "output_type": "stream",
     "text": [
      "1.187474211699301\n"
     ]
    }
   ],
   "source": [
    "rmse = RMSE(pred_mean_y, Y_test)\n",
    "print(rmse)"
   ]
  },
  {
   "cell_type": "code",
   "execution_count": 167,
   "metadata": {
    "collapsed": false
   },
   "outputs": [
    {
     "name": "stdout",
     "output_type": "stream",
     "text": [
      "1.2834903369369308\n"
     ]
    }
   ],
   "source": [
    "nmse = NMSE(pred_mean_y, Y_test)\n",
    "print(nmse)"
   ]
  },
  {
   "cell_type": "code",
   "execution_count": 168,
   "metadata": {
    "collapsed": false
   },
   "outputs": [
    {
     "name": "stdout",
     "output_type": "stream",
     "text": [
      "151.01111244575952\n"
     ]
    }
   ],
   "source": [
    "mlppd = MLPPD(pred_mean_y, Y_test, pred_var_y)\n",
    "print(mlppd)"
   ]
  },
  {
   "cell_type": "code",
   "execution_count": 159,
   "metadata": {
    "collapsed": false
   },
   "outputs": [
    {
     "data": {
      "text/plain": [
       "[<matplotlib.lines.Line2D at 0x7f1098220a90>]"
      ]
     },
     "execution_count": 159,
     "metadata": {},
     "output_type": "execute_result"
    },
    {
     "data": {
      "image/png": "[encoded data removed]",
      "text/plain": [
       "<Figure size 432x288 with 1 Axes>"
      ]
     },
     "metadata": {},
     "output_type": "display_data"
    }
   ],
   "source": [
    "plt.plot(X_train,Y_train, 'ro')\n",
    "plt.plot(X_test,Y_test, 'go')\n",
    "plt.plot(X_test, pred_mean_y, 'bo')"
   ]
  },
  {
   "cell_type": "code",
   "execution_count": 196,
   "metadata": {
    "collapsed": false
   },
   "outputs": [
    {
     "data": {
      "text/plain": [
       "(0.059167804, 5.9657729)"
      ]
     },
     "execution_count": 196,
     "metadata": {},
     "output_type": "execute_result"
    },
    {
     "data": {
      "image/png": "[encoded data removed]",
      "text/plain": [
       "<Figure size 432x432 with 1 Axes>"
      ]
     },
     "metadata": {},
     "output_type": "display_data"
    }
   ],
   "source": [
    "fig, ax = plt.subplots(1, 1, figsize=(6, 6), sharex=True)\n",
    "ax.plot(X_test, pred_mean_y + 2*np.sqrt(pred_var_y), 'm.')\n",
    "ax.plot(X_test, pred_mean_y - 2*np.sqrt(pred_var_y), 'm.')\n",
    "ax.plot(X_test, pred_mean_y, 'k.')\n",
    "ax.plot(X_train, Y_train, 'r.')\n",
    "ax.plot(X_test, Y_test, 'g.')\n",
    "for i in intervals:\n",
    "    ax.plot([i[0], i[0]], [-3, 2], 'b--')\n",
    "    ax.plot([i[1], i[1]], [-3, 2], 'b--')\n",
    "ax.set_ylim(-3, 2)\n",
    "ax.set_xlim(X.min(), X.max())"
   ]
  },
  {
   "cell_type": "code",
   "execution_count": 189,
   "metadata": {
    "collapsed": false
   },
   "outputs": [
    {
     "name": "stdout",
     "output_type": "stream",
     "text": [
      "(600,)\n",
      "(600,)\n",
      "(600, 40)\n"
     ]
    }
   ],
   "source": [
    "print(phase_samples_imp.shape)\n",
    "print(sigma_samples_imp.shape)\n",
    "print(amp1_samples_imp.shape)"
   ]
  },
  {
   "cell_type": "code",
   "execution_count": 201,
   "metadata": {
    "collapsed": false
   },
   "outputs": [
    {
     "data": {
      "text/plain": [
       "<matplotlib.legend.Legend at 0x7f1098203cc0>"
      ]
     },
     "execution_count": 201,
     "metadata": {},
     "output_type": "execute_result"
    },
    {
     "data": {
      "image/png": "[encoded data removed]",
      "text/plain": [
       "<Figure size 576x576 with 4 Axes>"
      ]
     },
     "metadata": {},
     "output_type": "display_data"
    }
   ],
   "source": [
    "fig, axes = plt.subplots(2,2, figsize=(8,8))\n",
    "\n",
    "axes[0,0].plot(sigma_samples_imp)\n",
    "axes[0,0].legend(['Noise variance'])\n",
    "axes[0,1].plot(phase_samples_imp)\n",
    "axes[0,1].legend(['Phase chain plot'])\n",
    "axes[1,0].plot(amp1_samples_imp[:,10])\n",
    "axes[1,0].legend(['a11oth-chain plot'])\n",
    "axes[1,1].plot(amp2_samples_imp[:,10])\n",
    "axes[1,1].legend(['Amplitude for 10th basis point-chain plot'])"
   ]
  },
  {
   "cell_type": "code",
   "execution_count": 195,
   "metadata": {
    "collapsed": false
   },
   "outputs": [
    {
     "name": "stdout",
     "output_type": "stream",
     "text": [
      "[-1.6191998  -1.5898677  -1.4197883  -1.1922887  -1.4049308  -1.5914154\n",
      " -1.5560383  -1.9023357  -1.1101869  -1.3804133  -1.011783   -1.8111369\n",
      " -1.3704895  -1.9706934  -1.8112513  -1.6510072  -1.7473682  -1.5803886\n",
      " -1.103029    0.17028679  0.62081363  0.43530999  0.70563809  0.91757352\n",
      "  0.60504345  0.23281771  0.40492375  0.6795046   0.79069173 -0.23416586\n",
      "  0.61823724  0.20157393  0.52015974  0.21889455  0.12356613  0.51426983\n",
      "  0.04602774  0.47173193  0.52315895  0.6460294   0.24939631  1.2473979\n",
      "  0.93191177  0.81436169  0.95155796  0.77289801  0.34881056  0.86707862\n",
      "  0.50594554  0.60534989  0.91682906  1.1606214   0.87041691  0.72285343\n",
      "  1.0657384 ]\n",
      "[-1.00184637 -0.80687816 -1.13142916 -1.10450187 -1.12302756 -1.13684701\n",
      " -1.11287987 -1.11534124 -0.87259429 -0.99417583 -0.8113098  -1.12221234\n",
      " -0.78603478 -1.15356312 -1.03289392 -0.87955199 -1.08226499 -0.99854659\n",
      " -1.00871432  0.08605813  0.0415796   0.07396708  0.04681247  0.09336365\n",
      " -0.05559117 -0.04014907  0.03359945  0.06056596  0.08673101 -0.04993464\n",
      "  0.0210366   0.10252198  0.05642286  0.06955514  0.04007115  0.09615064\n",
      "  0.0839099   0.06314679  0.07474946  0.06514627  0.12639984  0.2290913\n",
      "  0.1850906   0.25254999  0.2156395   0.19142331  0.09290886  0.00438254\n",
      "  0.06361427 -0.02263635  0.24208013  0.15639591  0.23559709  0.22357475\n",
      "  0.23924346]\n"
     ]
    }
   ],
   "source": [
    "print(Y_test.flatten())\n",
    "print(pred_mean_y)"
   ]
  },
  {
   "cell_type": "code",
   "execution_count": 202,
   "metadata": {
    "collapsed": false
   },
   "outputs": [
    {
     "name": "stdout",
     "output_type": "stream",
     "text": [
      " Full GP RBF kernel HMC Sampling- RMSE test error: 1.187\n",
      " Full GP RBF kernel HMC sampling- NMSE test error: 1.283\n",
      " Full GP RBF kernel HMC sampling- MLPPD test error: 151.011\n"
     ]
    }
   ],
   "source": [
    "RMSE_test = RMSE(pred_mean_y, Y_test)\n",
    "NMSE_test = NMSE(pred_mean_y, Y_test)\n",
    "MLPPD_test = MLPPD(pred_mean_y, Y_test, pred_var_y)\n",
    "# print(\" Full GP RBF kernel- RMSE train error: %.3f\"%RMSE_train)\n",
    "print(\" Full GP RBF kernel HMC Sampling- RMSE test error: %.3f\"%RMSE_test)\n",
    "# print(\" Full GP RBF kernel- NMSE train error: %.3f\"%NMSE_train)\n",
    "print(\" Full GP RBF kernel HMC sampling- NMSE test error: %.3f\"%NMSE_test)\n",
    "# print(\" Full GP RBF kernel- MLPPD train error: %.3f\"%MLPPD_train)\n",
    "print(\" Full GP RBF kernel HMC sampling- MLPPD test error: %.3f\"%MLPPD_test)"
   ]
  },
  {
   "cell_type": "code",
   "execution_count": null,
   "metadata": {
    "collapsed": true
   },
   "outputs": [],
   "source": []
  }
 ],
 "metadata": {
  "anaconda-cloud": {},
  "kernelspec": {
   "display_name": "Python [conda env:stanpy35]",
   "language": "python",
   "name": "conda-env-stanpy35-py"
  },
  "language_info": {
   "codemirror_mode": {
    "name": "ipython",
    "version": 3
   },
   "file_extension": ".py",
   "mimetype": "text/x-python",
   "name": "python",
   "nbconvert_exporter": "python",
   "pygments_lexer": "ipython3",
   "version": "3.5.4"
  }
 },
 "nbformat": 4,
 "nbformat_minor": 1
}
