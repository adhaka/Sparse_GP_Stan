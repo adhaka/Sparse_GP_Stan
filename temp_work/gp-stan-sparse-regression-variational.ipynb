{
 "cells": [
  {
   "cell_type": "markdown",
   "metadata": {},
   "source": [
    "###    Variationally Sparse GP\n",
    "\n",
    "In this notebook, we will sample from the variationally optimal posterior distribution over u(inducing outputs), for simple Gaussian likelihoods, this distribution can be calculated analytically. While for non Gaussian likelihoods, we need to write the resulting density in terms of expectation(the expectation of loglikelihood logp(y|f) wrt p(f|u)). "
   ]
  },
  {
   "cell_type": "code",
   "execution_count": 1,
   "metadata": {
    "collapsed": true
   },
   "outputs": [],
   "source": [
    "%matplotlib inline\n",
    "import  matplotlib\n",
    "import matplotlib.pyplot as plt\n",
    "import pystan"
   ]
  },
  {
   "cell_type": "code",
   "execution_count": 2,
   "metadata": {
    "collapsed": true
   },
   "outputs": [],
   "source": [
    "import numpy as np\n",
    "import scipy.io as sio"
   ]
  },
  {
   "cell_type": "code",
   "execution_count": 3,
   "metadata": {
    "collapsed": true
   },
   "outputs": [],
   "source": [
    "df = sio.loadmat('snelson1d.mat')\n",
    "X = df['X']\n",
    "Y = df['Y']\n",
    "X_t = df['tX']\n",
    "Y_t = df['tY']"
   ]
  },
  {
   "cell_type": "code",
   "execution_count": 4,
   "metadata": {
    "collapsed": true
   },
   "outputs": [],
   "source": [
    "def kmm_init(X, m = 20):\n",
    "    \"\"\"\n",
    "    This is the same initialization algorithm that is used\n",
    "    in Kmeans++. It's quite simple and very useful to initialize\n",
    "    the locations of the inducing points in sparse GPs.\n",
    "    \n",
    "    http://ilpubs.stanford.edu:8090/778/1/2006-13.pdf\n",
    "    1. Take one center c1, initially chosen at random\n",
    "    2. Take a new center ci with prob. \\frac{D(x)^2}{\\sum D(x)^2}\n",
    "    3. Repeat step 2 until we have K centers.\n",
    "    4. Proceed with standard K-means clustering..\n",
    "    \n",
    "    where D(x) is the distance to the closest cluster center. \n",
    "    If we dont want to invest time on that, just use the initialisation which is good enough atleast for the 1D case.\n",
    "    \n",
    "    :param X: data\n",
    "    :param m: number of inducing points\n",
    "    \"\"\"\n",
    "\n",
    "    # compute the distances\n",
    "    XXT = np.dot(X, X.T)\n",
    "    D = (-2.*XXT + np.diag(XXT)[:,np.newaxis] + np.diag(XXT)[np.newaxis,:])\n",
    "\n",
    "    # select the first point\n",
    "    s = np.random.permutation(X.shape[0])[0]\n",
    "    inducing = [s]\n",
    "    prob = D[s]/D[s].sum()\n",
    "\n",
    "    for z in range(m-1):\n",
    "        s = np.random.multinomial(1, prob.flatten()).argmax()\n",
    "        inducing.append(s)\n",
    "        prob = D[s]/D[s].sum()\n",
    "\n",
    "    inducing = np.array(inducing)\n",
    "    return X[inducing]"
   ]
  },
  {
   "cell_type": "code",
   "execution_count": 5,
   "metadata": {
    "collapsed": true
   },
   "outputs": [],
   "source": [
    "X_u = kmm_init(X)\n",
    "M = len(X_u)"
   ]
  },
  {
   "cell_type": "code",
   "execution_count": 6,
   "metadata": {
    "collapsed": true
   },
   "outputs": [],
   "source": [
    "X_u_noisy = np.linspace(0,6, M)[:, None]\n",
    "X_u_noisy = X_u + 0.1*np.random.rand(*X_u.shape) "
   ]
  },
  {
   "cell_type": "markdown",
   "metadata": {},
   "source": [
    "### Code"
   ]
  },
  {
   "cell_type": "code",
   "execution_count": 43,
   "metadata": {
    "collapsed": true
   },
   "outputs": [],
   "source": [
    "stan_code_var =\"\"\"\n",
    "data {\n",
    "    int<lower=1> N;\n",
    "    int<lower=1> M;\n",
    "    real x[N];\n",
    "    vector[N] y;\n",
    "    real xu[M];\n",
    "\n",
    "}\n",
    "transformed data {\n",
    "    real delta = 1e-6;\n",
    "#     real rho = 1;\n",
    "#     real alpha = 1;\n",
    "\n",
    "}\n",
    "parameters {\n",
    "    vector[N] f;\n",
    "    \n",
    "    real<lower=1e-6> sigma;\n",
    "    real <lower=1e-4> alpha;\n",
    "    real<lower=1e-4> rho;\n",
    "    \n",
    "    vector[M] eta2;\n",
    "    vector[M] q_u_hat;\n",
    "}\n",
    "\n",
    "model {\n",
    "\n",
    "    vector[N] f_mean;\n",
    "    matrix[N, N] f_cov;\n",
    "    matrix[N, N] A;\n",
    "    matrix[N, N] diff;\n",
    "    vector[M] mu_hat;\n",
    "    matrix[M, M] S_hat;\n",
    "    vector[M] u_hat;\n",
    "    vector[M] Kuf_y;\n",
    "    vector[M] Kuu_uf_y;\n",
    "        \n",
    "    {\n",
    "        matrix[M, M] L_U;\n",
    "        matrix[M, M] Kuu = cov_exp_quad(xu, alpha, rho);\n",
    "        matrix[N, M] Kfu = cov_exp_quad(x, xu, alpha, rho);\n",
    "        matrix[N, N] K = cov_exp_quad(x, alpha, rho);\n",
    "        vector[M] Kuu_inv_u;\n",
    "        matrix[M, N] v_pred;\n",
    "        vector[M] u;\n",
    "        matrix[M,M] sum_mat;\n",
    "        matrix[M, M] v_hat;\n",
    "        matrix[M,M] L_S;\n",
    "        matrix[M,M] L;\n",
    "        \n",
    "        for (m in 1:M)\n",
    "            Kuu[m, m] = Kuu[m, m] + delta;\n",
    "                    \n",
    "        L_U = cholesky_decompose(Kuu);\n",
    "             \n",
    "        \n",
    "     \n",
    "        // q_hat : q_opt(u) : optimal distrubiton for u.\n",
    "        \n",
    "        // mu_hat = (1/sigma**2) * Kuu*S*Kuf *y\n",
    "        // S_hat = Kff * S * Kuu\n",
    "        // S = ( Kmm + (1/sigma**2)*Kuf*Kfu )^{-1} \n",
    "        \n",
    "        sum_mat = Kuu + (1/square(sigma))*Kfu'*Kfu;\n",
    "        L_S = cholesky_decompose(sum_mat);\n",
    "        v_hat = mdivide_left_tri_low(L_S, Kuu);\n",
    "        v_hat = mdivide_right_tri_low(v_hat',L_S)';\n",
    "\n",
    "//        S_hat = v_hat'*v_hat;\n",
    "        S_hat = Kuu*v_hat;\n",
    "        \n",
    "        Kuf_y = Kfu'*y;\n",
    "        Kuu_uf_y = mdivide_left_tri_low(L_S, Kuf_y);\n",
    "        Kuu_uf_y = mdivide_right_tri_low(Kuu_uf_y',L_S)';\n",
    "\n",
    "        mu_hat = (1/square(sigma)) * Kuu *Kuu_uf_y; \n",
    "\n",
    "        Kuu_inv_u = mdivide_left_tri_low(L_U, u_hat);\n",
    "        Kuu_inv_u = mdivide_right_tri_low(Kuu_inv_u', L_U)';\n",
    "        \n",
    "        f_mean = Kfu*Kuu_inv_u;\n",
    "\n",
    "        diff = K - v_pred'*v_pred;\n",
    "        for (i in 1:N){\n",
    "            for(j in 1:N){\n",
    "                A[i,j] = 0.0;\n",
    "            }\n",
    "            A[i,i] = diff[i,i];\n",
    "        }\n",
    "        \n",
    "        \n",
    "    }\n",
    "  \n",
    "#     rho ~ inv_gamma(5, 5);\n",
    "#     alpha ~ normal(0, 1);\n",
    "    \n",
    "    rho ~ normal(0.90, 0.25);\n",
    "    alpha ~ normal(0.85, 0.25);\n",
    "\n",
    "    sigma ~ normal(0, 0.35);\n",
    "    eta2 ~ normal(0, 1);\n",
    "    u_hat ~ multi_normal(mu_hat, S_hat);\n",
    "    f ~ multi_normal(f_mean, A);\n",
    "    y ~ normal(f, sigma);\n",
    "}\n",
    "\"\"\"\n"
   ]
  },
  {
   "cell_type": "code",
   "execution_count": 44,
   "metadata": {
    "collapsed": false
   },
   "outputs": [
    {
     "name": "stderr",
     "output_type": "stream",
     "text": [
      "INFO:pystan:COMPILING THE C++ CODE FOR MODEL anon_model_92a1d67cb776a6b064de4cc4f9d5a9ca NOW.\n"
     ]
    }
   ],
   "source": [
    "stan_model_var = pystan.StanModel(model_code=stan_code_var)"
   ]
  },
  {
   "cell_type": "code",
   "execution_count": 45,
   "metadata": {
    "collapsed": true
   },
   "outputs": [],
   "source": [
    "gp_reg_data = {'N':200, 'x':X.flatten(), 'y':Y.flatten(), 'M':20, 'xu':X_u_noisy.flatten()}"
   ]
  },
  {
   "cell_type": "code",
   "execution_count": 46,
   "metadata": {
    "collapsed": false
   },
   "outputs": [
    {
     "name": "stderr",
     "output_type": "stream",
     "text": [
      "/u/26/dhakaa1/unix/anaconda2/envs/stanpy35/lib/python3.5/site-packages/pystan/misc.py:399: FutureWarning: Conversion of the second argument of issubdtype from `float` to `np.floating` is deprecated. In future, it will be treated as `np.float64 == np.dtype(float).type`.\n",
      "  elif np.issubdtype(np.asarray(v).dtype, float):\n"
     ]
    },
    {
     "ename": "RuntimeError",
     "evalue": "Initialization failed.",
     "output_type": "error",
     "traceback": [
      "\u001b[0;31m---------------------------------------------------------------------------\u001b[0m",
      "\u001b[0;31mRemoteTraceback\u001b[0m                           Traceback (most recent call last)",
      "\u001b[0;31mRemoteTraceback\u001b[0m: \n\"\"\"\nTraceback (most recent call last):\n  File \"/u/26/dhakaa1/unix/anaconda2/envs/stanpy35/lib/python3.5/multiprocessing/pool.py\", line 119, in worker\n    result = (True, func(*args, **kwds))\n  File \"/u/26/dhakaa1/unix/anaconda2/envs/stanpy35/lib/python3.5/multiprocessing/pool.py\", line 44, in mapstar\n    return list(map(*args))\n  File \"stanfit4anon_model_92a1d67cb776a6b064de4cc4f9d5a9ca_8282895644727309364.pyx\", line 368, in stanfit4anon_model_92a1d67cb776a6b064de4cc4f9d5a9ca_8282895644727309364._call_sampler_star\n  File \"stanfit4anon_model_92a1d67cb776a6b064de4cc4f9d5a9ca_8282895644727309364.pyx\", line 401, in stanfit4anon_model_92a1d67cb776a6b064de4cc4f9d5a9ca_8282895644727309364._call_sampler\nRuntimeError: Initialization failed.\n\"\"\"",
      "\nThe above exception was the direct cause of the following exception:\n",
      "\u001b[0;31mRuntimeError\u001b[0m                              Traceback (most recent call last)",
      "\u001b[0;32m<ipython-input-46-c1f4f9f3c104>\u001b[0m in \u001b[0;36m<module>\u001b[0;34m()\u001b[0m\n\u001b[0;32m----> 1\u001b[0;31m \u001b[0mfit_var_gp\u001b[0m \u001b[0;34m=\u001b[0m \u001b[0mstan_model_var\u001b[0m\u001b[0;34m.\u001b[0m\u001b[0msampling\u001b[0m\u001b[0;34m(\u001b[0m\u001b[0mdata\u001b[0m\u001b[0;34m=\u001b[0m\u001b[0mgp_reg_data\u001b[0m\u001b[0;34m,\u001b[0m \u001b[0miter\u001b[0m\u001b[0;34m=\u001b[0m\u001b[0;36m800\u001b[0m\u001b[0;34m,\u001b[0m \u001b[0mchains\u001b[0m\u001b[0;34m=\u001b[0m\u001b[0;36m2\u001b[0m\u001b[0;34m)\u001b[0m\u001b[0;34m\u001b[0m\u001b[0m\n\u001b[0m",
      "\u001b[0;32m~/anaconda2/envs/stanpy35/lib/python3.5/site-packages/pystan/model.py\u001b[0m in \u001b[0;36msampling\u001b[0;34m(self, data, pars, chains, iter, warmup, thin, seed, init, sample_file, diagnostic_file, verbose, algorithm, control, n_jobs, **kwargs)\u001b[0m\n\u001b[1;32m    724\u001b[0m         \u001b[0mcall_sampler_args\u001b[0m \u001b[0;34m=\u001b[0m \u001b[0mizip\u001b[0m\u001b[0;34m(\u001b[0m\u001b[0mitertools\u001b[0m\u001b[0;34m.\u001b[0m\u001b[0mrepeat\u001b[0m\u001b[0;34m(\u001b[0m\u001b[0mdata\u001b[0m\u001b[0;34m)\u001b[0m\u001b[0;34m,\u001b[0m \u001b[0margs_list\u001b[0m\u001b[0;34m,\u001b[0m \u001b[0mitertools\u001b[0m\u001b[0;34m.\u001b[0m\u001b[0mrepeat\u001b[0m\u001b[0;34m(\u001b[0m\u001b[0mpars\u001b[0m\u001b[0;34m)\u001b[0m\u001b[0;34m)\u001b[0m\u001b[0;34m\u001b[0m\u001b[0m\n\u001b[1;32m    725\u001b[0m         \u001b[0mcall_sampler_star\u001b[0m \u001b[0;34m=\u001b[0m \u001b[0mself\u001b[0m\u001b[0;34m.\u001b[0m\u001b[0mmodule\u001b[0m\u001b[0;34m.\u001b[0m\u001b[0m_call_sampler_star\u001b[0m\u001b[0;34m\u001b[0m\u001b[0m\n\u001b[0;32m--> 726\u001b[0;31m         \u001b[0mret_and_samples\u001b[0m \u001b[0;34m=\u001b[0m \u001b[0m_map_parallel\u001b[0m\u001b[0;34m(\u001b[0m\u001b[0mcall_sampler_star\u001b[0m\u001b[0;34m,\u001b[0m \u001b[0mcall_sampler_args\u001b[0m\u001b[0;34m,\u001b[0m \u001b[0mn_jobs\u001b[0m\u001b[0;34m)\u001b[0m\u001b[0;34m\u001b[0m\u001b[0m\n\u001b[0m\u001b[1;32m    727\u001b[0m         \u001b[0msamples\u001b[0m \u001b[0;34m=\u001b[0m \u001b[0;34m[\u001b[0m\u001b[0msmpl\u001b[0m \u001b[0;32mfor\u001b[0m \u001b[0m_\u001b[0m\u001b[0;34m,\u001b[0m \u001b[0msmpl\u001b[0m \u001b[0;32min\u001b[0m \u001b[0mret_and_samples\u001b[0m\u001b[0;34m]\u001b[0m\u001b[0;34m\u001b[0m\u001b[0m\n\u001b[1;32m    728\u001b[0m \u001b[0;34m\u001b[0m\u001b[0m\n",
      "\u001b[0;32m~/anaconda2/envs/stanpy35/lib/python3.5/site-packages/pystan/model.py\u001b[0m in \u001b[0;36m_map_parallel\u001b[0;34m(function, args, n_jobs)\u001b[0m\n\u001b[1;32m     79\u001b[0m         \u001b[0;32mtry\u001b[0m\u001b[0;34m:\u001b[0m\u001b[0;34m\u001b[0m\u001b[0m\n\u001b[1;32m     80\u001b[0m             \u001b[0mpool\u001b[0m \u001b[0;34m=\u001b[0m \u001b[0mmultiprocessing\u001b[0m\u001b[0;34m.\u001b[0m\u001b[0mPool\u001b[0m\u001b[0;34m(\u001b[0m\u001b[0mprocesses\u001b[0m\u001b[0;34m=\u001b[0m\u001b[0mn_jobs\u001b[0m\u001b[0;34m)\u001b[0m\u001b[0;34m\u001b[0m\u001b[0m\n\u001b[0;32m---> 81\u001b[0;31m             \u001b[0mmap_result\u001b[0m \u001b[0;34m=\u001b[0m \u001b[0mpool\u001b[0m\u001b[0;34m.\u001b[0m\u001b[0mmap\u001b[0m\u001b[0;34m(\u001b[0m\u001b[0mfunction\u001b[0m\u001b[0;34m,\u001b[0m \u001b[0margs\u001b[0m\u001b[0;34m)\u001b[0m\u001b[0;34m\u001b[0m\u001b[0m\n\u001b[0m\u001b[1;32m     82\u001b[0m         \u001b[0;32mfinally\u001b[0m\u001b[0;34m:\u001b[0m\u001b[0;34m\u001b[0m\u001b[0m\n\u001b[1;32m     83\u001b[0m             \u001b[0mpool\u001b[0m\u001b[0;34m.\u001b[0m\u001b[0mclose\u001b[0m\u001b[0;34m(\u001b[0m\u001b[0;34m)\u001b[0m\u001b[0;34m\u001b[0m\u001b[0m\n",
      "\u001b[0;32m~/anaconda2/envs/stanpy35/lib/python3.5/multiprocessing/pool.py\u001b[0m in \u001b[0;36mmap\u001b[0;34m(self, func, iterable, chunksize)\u001b[0m\n\u001b[1;32m    264\u001b[0m         \u001b[0;32min\u001b[0m \u001b[0ma\u001b[0m \u001b[0mlist\u001b[0m \u001b[0mthat\u001b[0m \u001b[0;32mis\u001b[0m \u001b[0mreturned\u001b[0m\u001b[0;34m.\u001b[0m\u001b[0;34m\u001b[0m\u001b[0m\n\u001b[1;32m    265\u001b[0m         '''\n\u001b[0;32m--> 266\u001b[0;31m         \u001b[0;32mreturn\u001b[0m \u001b[0mself\u001b[0m\u001b[0;34m.\u001b[0m\u001b[0m_map_async\u001b[0m\u001b[0;34m(\u001b[0m\u001b[0mfunc\u001b[0m\u001b[0;34m,\u001b[0m \u001b[0miterable\u001b[0m\u001b[0;34m,\u001b[0m \u001b[0mmapstar\u001b[0m\u001b[0;34m,\u001b[0m \u001b[0mchunksize\u001b[0m\u001b[0;34m)\u001b[0m\u001b[0;34m.\u001b[0m\u001b[0mget\u001b[0m\u001b[0;34m(\u001b[0m\u001b[0;34m)\u001b[0m\u001b[0;34m\u001b[0m\u001b[0m\n\u001b[0m\u001b[1;32m    267\u001b[0m \u001b[0;34m\u001b[0m\u001b[0m\n\u001b[1;32m    268\u001b[0m     \u001b[0;32mdef\u001b[0m \u001b[0mstarmap\u001b[0m\u001b[0;34m(\u001b[0m\u001b[0mself\u001b[0m\u001b[0;34m,\u001b[0m \u001b[0mfunc\u001b[0m\u001b[0;34m,\u001b[0m \u001b[0miterable\u001b[0m\u001b[0;34m,\u001b[0m \u001b[0mchunksize\u001b[0m\u001b[0;34m=\u001b[0m\u001b[0;32mNone\u001b[0m\u001b[0;34m)\u001b[0m\u001b[0;34m:\u001b[0m\u001b[0;34m\u001b[0m\u001b[0m\n",
      "\u001b[0;32m~/anaconda2/envs/stanpy35/lib/python3.5/multiprocessing/pool.py\u001b[0m in \u001b[0;36mget\u001b[0;34m(self, timeout)\u001b[0m\n\u001b[1;32m    642\u001b[0m             \u001b[0;32mreturn\u001b[0m \u001b[0mself\u001b[0m\u001b[0;34m.\u001b[0m\u001b[0m_value\u001b[0m\u001b[0;34m\u001b[0m\u001b[0m\n\u001b[1;32m    643\u001b[0m         \u001b[0;32melse\u001b[0m\u001b[0;34m:\u001b[0m\u001b[0;34m\u001b[0m\u001b[0m\n\u001b[0;32m--> 644\u001b[0;31m             \u001b[0;32mraise\u001b[0m \u001b[0mself\u001b[0m\u001b[0;34m.\u001b[0m\u001b[0m_value\u001b[0m\u001b[0;34m\u001b[0m\u001b[0m\n\u001b[0m\u001b[1;32m    645\u001b[0m \u001b[0;34m\u001b[0m\u001b[0m\n\u001b[1;32m    646\u001b[0m     \u001b[0;32mdef\u001b[0m \u001b[0m_set\u001b[0m\u001b[0;34m(\u001b[0m\u001b[0mself\u001b[0m\u001b[0;34m,\u001b[0m \u001b[0mi\u001b[0m\u001b[0;34m,\u001b[0m \u001b[0mobj\u001b[0m\u001b[0;34m)\u001b[0m\u001b[0;34m:\u001b[0m\u001b[0;34m\u001b[0m\u001b[0m\n",
      "\u001b[0;31mRuntimeError\u001b[0m: Initialization failed."
     ]
    }
   ],
   "source": [
    "fit_var_gp = stan_model_var.sampling(data=gp_reg_data, iter=800, chains=2)"
   ]
  },
  {
   "cell_type": "code",
   "execution_count": null,
   "metadata": {
    "collapsed": false
   },
   "outputs": [],
   "source": [
    "fit_dtc = stan_model_dtc.sampling(data=gp_full_data2, iter=600, chains=2)"
   ]
  },
  {
   "cell_type": "code",
   "execution_count": null,
   "metadata": {
    "collapsed": false
   },
   "outputs": [],
   "source": [
    "# print(fit_fitc)\n",
    "print(fit_dtc)"
   ]
  },
  {
   "cell_type": "code",
   "execution_count": null,
   "metadata": {
    "collapsed": false
   },
   "outputs": [],
   "source": [
    "print(fit_fitc)"
   ]
  },
  {
   "cell_type": "code",
   "execution_count": null,
   "metadata": {
    "collapsed": false
   },
   "outputs": [],
   "source": [
    "samples = fit_dtc.extract(permuted=True)\n",
    "f = samples['f']\n",
    "f_mean = np.mean(f, axis=0)\n",
    "sigma = samples['sigma']\n",
    "sigma_mean = np.mean(sigma, axis=0)\n",
    "                "
   ]
  },
  {
   "cell_type": "code",
   "execution_count": null,
   "metadata": {
    "collapsed": false
   },
   "outputs": [],
   "source": [
    "sort_idx = np.argsort(X.ravel())\n",
    "\n",
    "plt.plot(X[sort_idx], Y[sort_idx], 'r.')\n",
    "plt.plot(X[sort_idx], f[-1, sort_idx], 'y.');\n",
    "# plt.plot(X[sort_idx], f[-100, sort_idx], 'g.');\n",
    "plt.plot(X[sort_idx], f_mean[sort_idx], 'b.');\n",
    "# plt.plot(X[sort_idx], sigma[-1, sort_idx], 'b.');"
   ]
  },
  {
   "cell_type": "code",
   "execution_count": null,
   "metadata": {
    "collapsed": false
   },
   "outputs": [],
   "source": [
    "plt.plot(X,Y, 'ro')"
   ]
  },
  {
   "cell_type": "code",
   "execution_count": null,
   "metadata": {
    "collapsed": false
   },
   "outputs": [],
   "source": [
    "eta = samples['eta2']\n",
    "print(eta.shape)\n",
    "plt.plot(eta[:, 0])\n",
    "plt.plot(eta[:, 1])\n",
    "plt.plot(eta[:, 2])"
   ]
  },
  {
   "cell_type": "code",
   "execution_count": null,
   "metadata": {
    "collapsed": true
   },
   "outputs": [],
   "source": [
    "\n",
    "samples_fitc = fit_fitc.extract(permuted=True)\n",
    "f = samples_fitc['f']\n",
    "f_mean = np.mean(f, axis=0)\n",
    "sigma = samples_fitc['sigma']\n",
    "sigma_mean = np.mean(sigma, axis=0)"
   ]
  },
  {
   "cell_type": "code",
   "execution_count": null,
   "metadata": {
    "collapsed": false
   },
   "outputs": [],
   "source": [
    "sort_idx = np.argsort(X.ravel())\n",
    "\n",
    "plt.plot(X[sort_idx], Y[sort_idx], 'r.')\n",
    "plt.plot(X[sort_idx], f[-1, sort_idx], 'y.');\n",
    "# plt.plot(X[sort_idx], f[-20, sort_idx], 'b.');\n",
    "# plt.plot(X[sort_idx], f[-40, sort_idx], 'g.');\n",
    "# plt.plot(X[sort_idx], f[-100, sort_idx], 'g.');\n",
    "# plt.plot(X[sort_idx], f_mean[sort_idx], 'b.');\n",
    "# plt.plot(X[sort_idx], sigma[-1, sort_idx], 'b.');"
   ]
  },
  {
   "cell_type": "code",
   "execution_count": null,
   "metadata": {
    "collapsed": false
   },
   "outputs": [],
   "source": [
    "print(f.shape)\n"
   ]
  },
  {
   "cell_type": "code",
   "execution_count": null,
   "metadata": {
    "collapsed": false
   },
   "outputs": [],
   "source": [
    "plt.hist(sigma);"
   ]
  },
  {
   "cell_type": "code",
   "execution_count": null,
   "metadata": {
    "collapsed": false
   },
   "outputs": [],
   "source": [
    "eta_fitc = samples_fitc['eta2']\n",
    "print(eta_fitc.shape)\n",
    "plt.plot(eta_fitc[:, 0])\n",
    "plt.plot(eta_fitc[:, 1])\n",
    "plt.plot(eta_fitc[:, 2])"
   ]
  },
  {
   "cell_type": "code",
   "execution_count": null,
   "metadata": {
    "collapsed": true
   },
   "outputs": [],
   "source": []
  }
 ],
 "metadata": {
  "anaconda-cloud": {},
  "kernelspec": {
   "display_name": "Python [conda env:stanpy35]",
   "language": "python",
   "name": "conda-env-stanpy35-py"
  },
  "language_info": {
   "codemirror_mode": {
    "name": "ipython",
    "version": 3
   },
   "file_extension": ".py",
   "mimetype": "text/x-python",
   "name": "python",
   "nbconvert_exporter": "python",
   "pygments_lexer": "ipython3",
   "version": "3.5.4"
  }
 },
 "nbformat": 4,
 "nbformat_minor": 1
}
