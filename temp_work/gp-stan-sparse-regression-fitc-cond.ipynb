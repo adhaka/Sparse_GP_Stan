{
 "cells": [
  {
   "cell_type": "code",
   "execution_count": 1,
   "metadata": {
    "collapsed": true
   },
   "outputs": [],
   "source": [
    "%matplotlib inline\n",
    "import  matplotlib\n",
    "import matplotlib.pyplot as plt\n",
    "import pystan"
   ]
  },
  {
   "cell_type": "code",
   "execution_count": 2,
   "metadata": {
    "collapsed": true
   },
   "outputs": [],
   "source": [
    "import numpy as np"
   ]
  },
  {
   "cell_type": "code",
   "execution_count": 3,
   "metadata": {
    "collapsed": true
   },
   "outputs": [],
   "source": [
    "import scipy.io as sio"
   ]
  },
  {
   "cell_type": "code",
   "execution_count": 4,
   "metadata": {
    "collapsed": true
   },
   "outputs": [],
   "source": [
    "df = sio.loadmat('snelson1d.mat')"
   ]
  },
  {
   "cell_type": "code",
   "execution_count": 5,
   "metadata": {
    "collapsed": true
   },
   "outputs": [],
   "source": [
    "X = df['X']\n",
    "Y = df['Y']\n",
    "X_t = df['tX']\n",
    "Y_t = df['tY']"
   ]
  },
  {
   "cell_type": "code",
   "execution_count": 6,
   "metadata": {
    "collapsed": false
   },
   "outputs": [],
   "source": [
    "M = 20\n",
    "X_u= np.linspace(0,6, M)[:, None]\n",
    "X_u_noisy = X_u + 0.1*np.random.rand(*X_u.shape) "
   ]
  },
  {
   "cell_type": "markdown",
   "metadata": {},
   "source": [
    "### Code"
   ]
  },
  {
   "cell_type": "code",
   "execution_count": 2,
   "metadata": {
    "collapsed": true
   },
   "outputs": [],
   "source": [
    "stan_code_fitc =\"\"\"\n",
    "\n",
    "functions{\n",
    "    vector gp_pred_rng(real[] x_star, vector y, real[] x_train, real[] xu, real alpha, real rho, real sigma, real jitter){\n",
    "        \n",
    "        int N1 = rows(y);\n",
    "        int N2 = size(x_star);\n",
    "        int M = size(xu);\n",
    "        \n",
    "        vector[N2] f2;\n",
    "        {\n",
    "            matrix[N1, N1] Kff = cov_exp_quad(x_train, alpha, rho);\n",
    "            matrix[N1, M] Kfu = cov_exp_quad(x_train, xu, alpha, rho);\n",
    "            matrix[N2, N2] K_star_star = cov_exp_quad(x_star, alpha, rho);\n",
    "            matrix[M, M] Kuu = cov_exp_quad(xu, alpha, rho);\n",
    "            \n",
    "            matrix[N1, N1] L_K= cholesky_decompose(Kff);\n",
    "            matrix[M, M] L_U = cholesky_decompose(Kuu);\n",
    "            \n",
    "        \n",
    "        \n",
    "        }\n",
    "    \n",
    "    \n",
    "    \n",
    "    }\n",
    "\n",
    "}\n",
    "\n",
    "data {\n",
    "    int<lower=1> N;\n",
    "    int<lower=1> M;\n",
    "    int<lower=1> N_star;\n",
    "    real x[N];\n",
    "    real x_star[N_star];\n",
    "    vector[N] y;\n",
    "    real xu[M];\n",
    "\n",
    "}\n",
    "transformed data {\n",
    "    real delta = 1e-6;\n",
    "#     real rho = 1;\n",
    "#     real alpha = 1;\n",
    "\n",
    "}\n",
    "parameters {\n",
    "    vector[N] f;\n",
    "    \n",
    "    real<lower=1e-6> sigma;\n",
    "    real <lower=1e-4> alpha;\n",
    "    real<lower=1e-4> rho;\n",
    "    \n",
    "    vector[M] eta;\n",
    "}\n",
    "\n",
    "model {\n",
    "\n",
    "    vector[N] f_mean;\n",
    "    matrix[N, N] f_cov;\n",
    "    matrix[N, N] A;\n",
    "    matrix[N, N] diff;\n",
    "        \n",
    "    {\n",
    "        matrix[M, M] L_U;\n",
    "        matrix[M, M] Kuu = cov_exp_quad(xu, alpha, rho);\n",
    "        matrix[N, M] Kfu = cov_exp_quad(x, xu, alpha, rho);\n",
    "        matrix[N, N] K = cov_exp_quad(x, alpha, rho);\n",
    "        vector[M] Kuu_inv_u;\n",
    "        matrix[M, N] v_pred;\n",
    "        vector[M] u;\n",
    "        \n",
    "        for (m in 1:M)\n",
    "            Kuu[m, m] = Kuu[m, m] + delta;\n",
    "                    \n",
    "        L_U = cholesky_decompose(Kuu);\n",
    "        u = L_U * eta2;\n",
    "        \n",
    "        // f_mean = Kfu*(Kuu_inv*u) = Kfu * inv(LL')u = Kfu * inv(L') *inv(L) * L * eta = = Kfu * inv(L') * eta;        \n",
    "#         Kuu_inv_u = mdivide_left_tri_low(L_U', eta);\n",
    "        \n",
    "        Kuu_inv_u = mdivide_right_tri_low(eta', L_U)';\n",
    "        f_mean = Kfu*Kuu_inv_u;\n",
    "        \n",
    "\n",
    "        // f_cov = K - Kfu*(Kuu_inv*Kfu');            \n",
    "        v_pred = mdivide_left_tri_low(L_U, Kfu');\n",
    "        diff = K - v_pred'*v_pred;\n",
    "        for (i in 1:N){\n",
    "            for(j in 1:N){\n",
    "                A[i,j] = 0.0;\n",
    "            }\n",
    "            A[i,i] = diff[i,i];\n",
    "        }\n",
    "    }\n",
    "  \n",
    "    \n",
    "    rho ~ normal(0.90, 0.25);\n",
    "    alpha ~ normal(0.85, 0.25);\n",
    "\n",
    "    sigma ~ normal(0, 0.35);\n",
    "    eta ~ normal(0, 1);\n",
    "    f ~ multi_normal(f_mean, A);\n",
    "    y ~ normal(f, sigma);\n",
    "}\n",
    "\n",
    "generated quantities{\n",
    "    vector[N_star] f_star = gp_pred_rng(x_star, y, x, alpha, rho, sigma, jitter); \n",
    "    vector[N_star] y_star = normal_rng(f_star, sigma);\n",
    "    vector[N_star] y_star;\n",
    "    for (i in 1:N_star){\n",
    "        y_star[i] = normal_rng(f_star[i], sigma);\n",
    "    }\n",
    "    \n",
    "}\n",
    "\n",
    "\"\"\"\n"
   ]
  },
  {
   "cell_type": "code",
   "execution_count": 3,
   "metadata": {
    "collapsed": false
   },
   "outputs": [
    {
     "ename": "NameError",
     "evalue": "name 'pystan' is not defined",
     "output_type": "error",
     "traceback": [
      "\u001b[0;31m---------------------------------------------------------------------------\u001b[0m",
      "\u001b[0;31mNameError\u001b[0m                                 Traceback (most recent call last)",
      "\u001b[0;32m<ipython-input-3-0cd8a880c8f4>\u001b[0m in \u001b[0;36m<module>\u001b[0;34m()\u001b[0m\n\u001b[0;32m----> 1\u001b[0;31m \u001b[0mstan_model_fitc_cond\u001b[0m \u001b[0;34m=\u001b[0m \u001b[0mpystan\u001b[0m\u001b[0;34m.\u001b[0m\u001b[0mStanModel\u001b[0m\u001b[0;34m(\u001b[0m\u001b[0mmodel_code\u001b[0m\u001b[0;34m=\u001b[0m\u001b[0mstan_code_fitc\u001b[0m\u001b[0;34m)\u001b[0m\u001b[0;34m\u001b[0m\u001b[0m\n\u001b[0m",
      "\u001b[0;31mNameError\u001b[0m: name 'pystan' is not defined"
     ]
    }
   ],
   "source": [
    "stan_model_fitc_cond = pystan.StanModel(model_code=stan_code_fitc)"
   ]
  },
  {
   "cell_type": "code",
   "execution_count": 36,
   "metadata": {
    "collapsed": true
   },
   "outputs": [],
   "source": [
    "gp_reg_data = {'N':200, 'x':X.flatten(), 'y':Y.flatten(), 'M':20, 'xu':X_u_noisy.flatten()}"
   ]
  },
  {
   "cell_type": "code",
   "execution_count": 47,
   "metadata": {
    "collapsed": false
   },
   "outputs": [
    {
     "name": "stderr",
     "output_type": "stream",
     "text": [
      "/u/26/dhakaa1/unix/anaconda2/envs/stanpy35/lib/python3.5/site-packages/pystan/misc.py:399: FutureWarning: Conversion of the second argument of issubdtype from `float` to `np.floating` is deprecated. In future, it will be treated as `np.float64 == np.dtype(float).type`.\n",
      "  elif np.issubdtype(np.asarray(v).dtype, float):\n"
     ]
    }
   ],
   "source": [
    "fit_fitc = stan_model_fitc.sampling(data=gp_reg_data, iter=1400, chains=4)"
   ]
  },
  {
   "cell_type": "code",
   "execution_count": 16,
   "metadata": {
    "collapsed": false
   },
   "outputs": [
    {
     "name": "stdout",
     "output_type": "stream",
     "text": [
      "Inference for Stan model: anon_model_12e14653aa29f09b4da7ec559b662fe4.\n",
      "2 chains, each with iter=600; warmup=300; thin=1; \n",
      "post-warmup draws per chain=300, total post-warmup draws=600.\n",
      "\n",
      "           mean se_mean     sd   2.5%    25%    50%    75%  97.5%  n_eff   Rhat\n",
      "f[0]     8.2e-3    0.03   0.06  -0.11-7.7e-3 4.4e-4   0.01   0.17      5   2.02\n",
      "f[1]      -0.27    0.01   0.03  -0.32  -0.28  -0.26  -0.25  -0.22      4   2.41\n",
      "f[2]       0.05    0.12   0.12   -0.1  -0.08   0.09   0.16   0.17      1   7.79\n",
      "f[3]       0.07    0.04   0.04   0.02   0.03   0.08    0.1    0.1      1   6.05\n",
      "f[4]       0.02    0.02   0.04  -0.08 7.6e-3   0.04   0.04   0.08      5   1.51\n",
      "f[5]       0.22     0.1    0.1   0.12   0.13   0.19   0.32   0.35      1   7.35\n",
      "f[6]       0.06  9.9e-3   0.01   0.03   0.05   0.07   0.07   0.08      2   1.45\n",
      "f[7]       -0.2     0.1    0.1   -0.3  -0.29  -0.27  -0.09  -0.03      1   3.02\n",
      "f[8]       0.05    0.04   0.04-5.6e-3 7.7e-3   0.05   0.09    0.1      1   6.94\n",
      "f[9]       0.04    0.02   0.02-7.9e-3   0.02   0.05   0.06   0.06      1   2.99\n",
      "f[10]      0.01    0.16   0.16  -0.23  -0.15    0.1   0.16   0.17      1   4.55\n",
      "f[11]      0.07    0.05   0.05-5.4e-3   0.02   0.08   0.11   0.12      1   3.69\n",
      "f[12]   10.0e-3    0.01   0.01-1.6e-3 1.0e-5 6.8e-3   0.02   0.03      1   3.96\n",
      "f[13]      0.39    0.25   0.25   0.13   0.14   0.32   0.66   0.76      1   6.03\n",
      "f[14]     -0.15    0.16   0.16  -0.31  -0.31  -0.17 1.8e-3   0.04      1  16.58\n",
      "f[15]     -0.04    0.04   0.07  -0.19  -0.11 4.1e-3 6.8e-3   0.04      3   2.44\n",
      "f[16]    6.7e-3  4.3e-3 7.4e-3-4.5e-3 1.7e-4 7.1e-3   0.01   0.02      3    1.8\n",
      "f[17]      0.01    0.01   0.01-1.8e-3 1.1e-4 9.1e-3   0.02   0.03      1   4.67\n",
      "f[18]     -0.03    0.04   0.06  -0.17  -0.08   0.01   0.01   0.03      3   2.59\n",
      "f[19]      0.02    0.02   0.03  -0.06 5.5e-3   0.03   0.04   0.05      2   1.68\n",
      "f[20]     -0.21    0.11   0.11  -0.32  -0.32  -0.24  -0.11  -0.05      1   7.59\n",
      "f[21]     -0.04    0.04   0.04  -0.08  -0.07  -0.04-3.2e-4 7.8e-4      1  27.27\n",
      "f[22]      0.06    0.04   0.04-8.4e-3   0.03   0.09    0.1    0.1      1    2.1\n",
      "f[23]     -0.18    0.11   0.11   -0.3  -0.29  -0.24  -0.07 2.5e-3      1   3.73\n",
      "f[24]     -0.16    0.16   0.16  -0.33  -0.32  -0.18-2.4e-3   0.02      1   20.1\n",
      "f[25]     -0.14    0.14   0.14  -0.29  -0.28  -0.14-6.2e-4 1.4e-3      1  96.88\n",
      "f[26]     -0.14    0.14   0.14  -0.29  -0.29  -0.14-1.5e-4 1.8e-3      1  91.41\n",
      "f[27]      0.05    0.11   0.11  -0.08  -0.06   0.08   0.16   0.16      1   8.96\n",
      "f[28]      -0.1     0.1    0.1  -0.21   -0.2  -0.11-4.2e-3-2.1e-3      1  33.41\n",
      "f[29]     -0.14    0.14   0.14  -0.29  -0.29  -0.14 3.1e-4 1.5e-3      1  97.55\n",
      "f[30]     -0.19    0.11   0.11   -0.3  -0.29  -0.26  -0.08  -0.01      1   3.27\n",
      "f[31]      0.54    0.42   0.42   0.13   0.14    0.4    1.0   1.17      1   5.24\n",
      "f[32]      0.04    0.02   0.02-5.6e-3   0.02   0.05   0.06   0.06      1   3.27\n",
      "f[33]    7.2e-3  7.3e-3 7.3e-3-1.7e-3 2.0e-4 6.4e-3   0.01   0.02      1    2.4\n",
      "f[34]      0.09    0.02   0.03   0.05   0.08   0.08   0.12   0.15      3   1.38\n",
      "f[35]      0.01  8.9e-3   0.02  -0.04-1.5e-3   0.02   0.02   0.07      7   1.22\n",
      "f[36]   -5.1e-3    0.09   0.09   -0.2  -0.07   0.04   0.07   0.08      1   2.85\n",
      "f[37]      0.07    0.07   0.07-1.6e-3-2.8e-4   0.06   0.13   0.13      1  54.76\n",
      "f[38]     -0.14    0.14   0.14  -0.29  -0.28  -0.14-3.1e-4 1.1e-3      1  93.49\n",
      "f[39]      0.08    0.08   0.08-1.5e-3 1.8e-4   0.08   0.16   0.17      1  62.29\n",
      "f[40]      0.01    0.07   0.07  -0.13  -0.05   0.04   0.08   0.08      1   3.54\n",
      "f[41]     -0.21     0.1    0.1   -0.3  -0.29  -0.28   -0.1  -0.03      1   2.83\n",
      "f[42]      0.08    0.08   0.08-1.6e-3-4.9e-5   0.08   0.16   0.16      1  60.01\n",
      "f[43]     -0.02    0.02   0.02  -0.04  -0.03  -0.02-1.7e-3 2.3e-3      1  11.14\n",
      "f[44]      0.03    0.06   0.06  -0.05  -0.02   0.04   0.08   0.09      1   5.81\n",
      "f[45]      0.06    0.06   0.06-1.4e-3 9.3e-4   0.06   0.11   0.12      1  41.47\n",
      "f[46]      0.08    0.07   0.07-1.1e-3 1.2e-3   0.07   0.15   0.16      1  46.21\n",
      "f[47]      0.05    0.01   0.04  -0.05   0.04   0.04   0.07   0.17      9    1.2\n",
      "f[48]      -0.1    0.05   0.05  -0.16  -0.15  -0.11  -0.05  -0.01      1   9.33\n",
      "f[49]     -0.15    0.15   0.15   -0.3   -0.3  -0.15 2.3e-4 6.1e-3      1  73.14\n",
      "f[50]     -0.15    0.15   0.15   -0.3  -0.29  -0.14 2.3e-4 3.1e-3      1  91.51\n",
      "f[51]      0.08    0.08   0.08-1.6e-3-2.9e-4   0.08   0.16   0.16      1  57.02\n",
      "f[52]     -0.09    0.06   0.06  -0.16  -0.15   -0.1  -0.04  -0.01      1  14.13\n",
      "f[53]      0.07    0.07   0.07-1.6e-3-1.9e-4   0.07   0.14   0.14      1  58.89\n",
      "f[54]     -0.16    0.16   0.16  -0.32  -0.32  -0.19-3.5e-3   0.06      1  11.53\n",
      "f[55]      0.08    0.08   0.08-2.4e-3-1.7e-4   0.07   0.15   0.16      1  49.56\n",
      "f[56]     -0.02    0.02   0.02  -0.04  -0.03  -0.02-1.2e-3 2.0e-3      1  11.74\n",
      "f[57]      0.01    0.06   0.06   -0.1  -0.03   0.03   0.06   0.07      1   2.79\n",
      "f[58]   -9.0e-4    0.08   0.08  -0.16  -0.06   0.04   0.07   0.07      1   2.86\n",
      "f[59]      0.05    0.12   0.12  -0.17  -0.04   0.09   0.16   0.16      1   4.03\n",
      "f[60]      0.06    0.05   0.05 7.1e-4 2.6e-3   0.06   0.11   0.11      1  35.29\n",
      "f[61]      0.02    0.02   0.02  -0.03 2.0e-3   0.03   0.03   0.04      1   2.87\n",
      "f[62]      0.05    0.04   0.04-6.4e-3 7.4e-3   0.05   0.09    0.1      1   7.03\n",
      "f[63]      0.08    0.09   0.09  -0.01-7.5e-3   0.08   0.16   0.17      1  40.79\n",
      "f[64]      0.06    0.04   0.04-5.7e-3   0.02   0.07   0.09    0.1      1   3.78\n",
      "f[65]      0.08    0.08   0.08-1.7e-3-3.1e-4   0.08   0.16   0.17      1  65.67\n",
      "f[66]     -0.05    0.04   0.04   -0.1  -0.09  -0.05  -0.01-5.2e-3      1  20.84\n",
      "f[67]     -0.09    0.09   0.09  -0.18  -0.17  -0.09-1.8e-3-8.7e-5      1  62.25\n",
      "f[68]     -0.05    0.04   0.04   -0.1  -0.09  -0.06  -0.02-6.0e-3      1  17.94\n",
      "f[69]      0.07    0.07   0.07-1.4e-3-1.9e-4   0.07   0.14   0.14      1  58.35\n",
      "f[70]      0.14  6.2e-3   0.01   0.11   0.13   0.14   0.15   0.17      5   1.44\n",
      "f[71]     -0.11    0.03   0.04  -0.15  -0.14  -0.14   -0.1  -0.02      2   3.27\n",
      "f[72]      0.01    0.07   0.07  -0.13  -0.05   0.04   0.08   0.08      1   3.45\n",
      "f[73]      0.07    0.08   0.08  -0.05-8.9e-3   0.08   0.15   0.16      1  10.18\n",
      "f[74]     -0.02    0.02   0.02  -0.05  -0.05  -0.02-6.4e-5 1.8e-3      1  17.28\n",
      "f[75]      0.08    0.08   0.08-1.5e-3 2.1e-4   0.07   0.15   0.16      1  51.82\n",
      "f[76]      0.07    0.07   0.07-1.6e-3 1.6e-4   0.07   0.14   0.15      1  58.89\n",
      "f[77]      0.04    0.02   0.02-6.2e-3   0.02   0.05   0.06   0.06      1   3.14\n",
      "f[78]      0.08    0.08   0.08-1.6e-3-1.9e-4   0.08   0.16   0.16      1  53.57\n",
      "f[79]    6.2e-3    0.17   0.17  -0.25  -0.17   0.11   0.16   0.17      1   4.26\n",
      "f[80]      0.07    0.04   0.04-7.4e-3   0.03    0.1   0.11   0.11      1   2.56\n",
      "f[81]    5.1e-3    0.05   0.12  -0.25  -0.02-3.6e-3 9.7e-3    0.3      5    2.1\n",
      "f[82]      0.06    0.06   0.06-1.6e-3-2.3e-4   0.06   0.13   0.13      1  53.64\n",
      "f[83]      0.03    0.03   0.07  -0.15   0.01   0.05   0.05   0.16      6   1.31\n",
      "f[84]     -0.15    0.16   0.16  -0.31  -0.31  -0.18 2.8e-3   0.06      1  12.71\n",
      "f[85]   -5.8e-3    0.02   0.06  -0.12  -0.03  -0.02-1.4e-3   0.16      6    1.7\n",
      "f[86]      -0.1     0.1    0.1  -0.21   -0.2  -0.11-5.0e-3-2.9e-3      1   29.6\n",
      "f[87]     -0.25    0.02   0.03  -0.33  -0.26  -0.23  -0.23  -0.21      2   1.33\n",
      "f[88]      0.03    0.03   0.06  -0.14   0.01   0.05   0.06   0.15      6   1.34\n",
      "f[89]      0.36    0.23   0.23   0.13   0.14    0.3   0.61   0.69      1   6.19\n",
      "f[90]     -0.16    0.16   0.16  -0.33  -0.32  -0.18-1.4e-3   0.02      1  26.03\n",
      "f[91]     -0.19    0.11   0.11   -0.3  -0.29  -0.25  -0.07 2.4e-4      1    3.5\n",
      "f[92]      0.02    0.02   0.03  -0.06 6.1e-3   0.03   0.04   0.05      2   1.71\n",
      "f[93]     -0.14    0.14   0.14  -0.29  -0.29  -0.14-3.2e-4 1.6e-3      1  99.72\n",
      "f[94]     -0.09    0.07   0.07  -0.16  -0.16  -0.09  -0.02-6.5e-3      1  33.11\n",
      "f[95]      0.08    0.08   0.08-1.5e-3-1.6e-4   0.08   0.16   0.17      1  67.49\n",
      "f[96]     -0.09    0.09   0.09  -0.19  -0.18  -0.09-4.2e-4 9.0e-4      1  65.48\n",
      "f[97]       0.1    0.02   0.03   0.05   0.08   0.09   0.12   0.16      3    1.4\n",
      "f[98]     -0.17    0.15   0.15  -0.33  -0.32  -0.17  -0.02  -0.01      1  41.27\n",
      "f[99]   -8.3e-3    0.01   0.02  -0.03  -0.02  -0.01-2.2e-3   0.05      3   1.79\n",
      "f[100]     0.05    0.12   0.12  -0.19  -0.05    0.1   0.16   0.16      1    3.5\n",
      "f[101]     0.04    0.01   0.04  -0.04   0.03   0.03   0.04   0.15     11   1.08\n",
      "f[102]     0.06    0.06   0.06-1.4e-3 1.7e-4   0.06   0.12   0.13      1  55.94\n",
      "f[103]    -0.08    0.03   0.03  -0.11   -0.1  -0.09  -0.06  -0.02      1   4.11\n",
      "f[104]     0.05    0.01   0.04  -0.05   0.04   0.04   0.06   0.15     10   1.18\n",
      "f[105]     -0.2    0.06   0.06  -0.27  -0.26  -0.22  -0.15  -0.11      1   6.12\n",
      "f[106]     0.05    0.12   0.12  -0.17  -0.04   0.09   0.16   0.16      1    3.8\n",
      "f[107]     0.26    0.14   0.14   0.12   0.13   0.23   0.41   0.45      1   7.47\n",
      "f[108]     0.07    0.07   0.07-1.6e-3-3.7e-4   0.07   0.13   0.14      1  57.75\n",
      "f[109]     0.07    0.09   0.09  -0.03  -0.02   0.09   0.16   0.17      1  18.79\n",
      "f[110]    -0.14    0.14   0.14  -0.28  -0.28  -0.14-3.6e-3-8.1e-4      1  82.22\n",
      "f[111]    -0.02    0.02   0.02  -0.04  -0.03  -0.02-1.5e-3 2.2e-3      1  10.33\n",
      "f[112]     0.06    0.05   0.05 7.2e-4 6.6e-3   0.06   0.12   0.12      1  13.24\n",
      "f[113]     0.08    0.08   0.08-1.5e-3-1.2e-4   0.08   0.16   0.16      1  61.74\n",
      "f[114]     0.08  3.8e-3   0.02   0.04   0.07   0.08   0.08   0.12     21    1.1\n",
      "f[115]     0.07    0.08   0.08  -0.05-8.8e-3   0.08   0.15   0.16      1  10.57\n",
      "f[116]     0.07    0.04   0.04-7.6e-3   0.03   0.09   0.11   0.11      1   2.74\n",
      "f[117]     -0.2    0.12   0.12  -0.32  -0.32  -0.22  -0.09  -0.04      1  10.93\n",
      "f[118]     0.06    0.11   0.11  -0.09  -0.05   0.08   0.16   0.17      1   8.68\n",
      "f[119]    -0.32    0.04    0.1  -0.59  -0.37  -0.31  -0.31  -0.11      6   1.75\n",
      "f[120]  -3.5e-3    0.02   0.04   -0.1  -0.02   0.02   0.02   0.02      3   2.34\n",
      "f[121]     -0.1    0.05   0.05  -0.16  -0.15  -0.11  -0.06  -0.01      1   8.37\n",
      "f[122]     0.03    0.03   0.06  -0.13   0.01   0.05   0.06   0.14      6   1.36\n",
      "f[123]    -0.19     0.1    0.1   -0.3  -0.29  -0.25  -0.08-8.2e-3      1    3.3\n",
      "f[124]     0.12  5.5e-3   0.01    0.1   0.11   0.12   0.13   0.15      6   1.46\n",
      "f[125]  -5.1e-3    0.05   0.13  -0.32  -0.04  -0.01 3.6e-3   0.32      6   1.94\n",
      "f[126]  -8.8e-3    0.01   0.02  -0.03  -0.02-10.0e-3-1.9e-4   0.03      2   1.99\n",
      "f[127]     0.06    0.05   0.05-3.2e-3   0.01   0.07   0.11   0.12      1   5.88\n",
      "f[128]     0.04  7.8e-3   0.02  -0.03   0.04   0.05   0.05   0.09      9   1.22\n",
      "f[129]     0.06    0.05   0.05 1.2e-5 2.3e-3   0.06   0.11   0.11      1  38.77\n",
      "f[130]    -0.14    0.13   0.13  -0.28  -0.27  -0.14  -0.01-7.4e-3      1  50.33\n",
      "f[131]     0.08    0.09   0.09  -0.02  -0.01   0.08   0.16   0.17      1  31.94\n",
      "f[132]    -0.14    0.02   0.05  -0.24  -0.18  -0.13  -0.12  -0.03      5    2.1\n",
      "f[133]   2.1e-3    0.06   0.14  -0.32  -0.02-5.7e-3 8.2e-3   0.35      5    2.1\n",
      "f[134]     0.13    0.01   0.02    0.1   0.11   0.14   0.15   0.15      2   1.86\n",
      "f[135]    -0.02    0.03   0.05  -0.15  -0.07   0.01   0.02   0.03      3   2.64\n",
      "f[136]     0.53     0.4    0.4   0.13   0.14   0.39   0.97   1.13      1   5.29\n",
      "f[137]    -0.11    0.09   0.09  -0.21  -0.21  -0.12  -0.01-9.3e-3      1  16.84\n",
      "f[138]     0.04  9.6e-3   0.02  -0.03   0.03   0.05   0.05   0.07      5   1.33\n",
      "f[139]   6.9e-3  5.0e-3 7.1e-3-2.3e-3-1.1e-4 6.9e-3   0.01   0.02      2   2.11\n",
      "f[140]     0.08    0.08   0.08-1.6e-3 3.0e-4   0.08   0.16   0.16      1  59.83\n",
      "f[141]    -0.14    0.13   0.13  -0.28  -0.27  -0.14-9.5e-3-4.9e-3      1  61.02\n",
      "f[142]   8.8e-3    0.08   0.08  -0.14  -0.05   0.04   0.08   0.08      1   3.37\n",
      "f[143]     0.03    0.14   0.14  -0.17  -0.12    0.1   0.16   0.17      1   5.18\n",
      "f[144]    -0.16    0.16   0.16  -0.33  -0.33  -0.17-1.2e-3   0.01      1  35.51\n",
      "f[145]    -0.14    0.14   0.14  -0.29  -0.28  -0.14-2.1e-3 4.0e-4      1  88.73\n",
      "f[146]     0.05    0.12   0.12  -0.11  -0.08   0.09   0.16   0.17      1    7.6\n",
      "f[147]     0.03    0.14   0.14  -0.16  -0.11    0.1   0.16   0.17      1   5.52\n",
      "f[148]    -0.02    0.02   0.02  -0.05  -0.05  -0.02-4.5e-4 1.5e-3      1  16.99\n",
      "f[149]     0.06     0.1    0.1  -0.12  -0.03   0.09   0.16   0.16      1   4.89\n",
      "f[150]     0.05    0.02   0.02   0.02   0.03   0.05   0.06   0.07      1    4.2\n",
      "f[151]    -0.43    0.13   0.22  -1.03  -0.62  -0.31  -0.31  -0.16      3   2.09\n",
      "f[152]    -0.29    0.03   0.09  -0.56   -0.3   -0.3  -0.29  -0.07      8   1.43\n",
      "f[153]    -0.13    0.02   0.04  -0.18  -0.14  -0.14  -0.13  -0.03      5   2.17\n",
      "f[154]    -0.19    0.11   0.11   -0.3  -0.29  -0.25  -0.07-1.2e-3      1    3.4\n",
      "f[155]    -0.02    0.01   0.01  -0.03  -0.03  -0.02-5.8e-3 5.5e-3      1   5.03\n",
      "f[156]     0.08    0.08   0.08-1.4e-3-2.8e-4   0.08   0.16   0.16      1  62.04\n",
      "f[157]    -0.16    0.16   0.16  -0.33  -0.33  -0.16 8.1e-5 1.2e-3      1 119.74\n",
      "f[158]    -0.43    0.13   0.23  -1.08  -0.61  -0.31   -0.3  -0.15      3   1.96\n",
      "f[159]     0.02    0.15   0.15  -0.19  -0.13    0.1   0.16   0.17      1   5.14\n",
      "f[160]     0.04    0.13   0.13  -0.13  -0.09   0.09   0.16   0.17      1   6.73\n",
      "f[161]    -0.19     0.1    0.1   -0.3  -0.29  -0.26  -0.08  -0.01      1   3.26\n",
      "f[162]     -0.2     0.1    0.1   -0.3  -0.29  -0.26  -0.08  -0.02      1   3.23\n",
      "f[163]    -0.15    0.15   0.15   -0.3  -0.29  -0.15 2.8e-4 5.8e-3      1  80.62\n",
      "f[164]     0.04    0.12   0.12   -0.2  -0.05    0.1   0.16   0.16      1   3.41\n",
      "f[165]    -0.21    0.11   0.11  -0.32  -0.32  -0.25  -0.12  -0.05      1   6.86\n",
      "f[166]    -0.03    0.03   0.03  -0.05  -0.05  -0.02 1.5e-4 1.4e-3      1  19.98\n",
      "f[167]     0.04    0.13   0.13  -0.13  -0.09    0.1   0.16   0.17      1   6.13\n",
      "f[168]     0.08    0.07   0.07 8.2e-3   0.01   0.09   0.15   0.15      1  18.81\n",
      "f[169]     0.08    0.08   0.08-1.5e-3-1.1e-4   0.08   0.16   0.16      1  58.24\n",
      "f[170]    -0.16    0.16   0.16  -0.33  -0.33  -0.16 2.2e-4 1.7e-3      1  116.0\n",
      "f[171]     0.05    0.02   0.02   0.02   0.04   0.06   0.07   0.07      1   2.23\n",
      "f[172]     0.04    0.01   0.02  -0.02   0.03   0.05   0.05   0.06      2    1.7\n",
      "f[173]    -0.04    0.04   0.04  -0.08  -0.07  -0.04-6.4e-4 1.2e-3      1  26.63\n",
      "f[174]    -0.16    0.16   0.16  -0.32  -0.32  -0.18-1.6e-3   0.06      1  11.15\n",
      "f[175]     0.08    0.08   0.08-1.9e-3-1.9e-4   0.08   0.16   0.16      1  60.68\n",
      "f[176]     0.08    0.08   0.08-1.6e-3-3.8e-4   0.07   0.15   0.16      1  52.43\n",
      "f[177]     0.14  3.3e-3   0.01   0.12   0.14   0.14   0.15   0.18     15   1.28\n",
      "f[178]     0.09    0.01   0.02   0.04   0.08   0.09   0.09   0.11      3   1.23\n",
      "f[179]     0.07    0.07   0.07-3.8e-3-2.8e-4   0.07   0.15   0.15      1  55.82\n",
      "f[180]    -0.16    0.16   0.16  -0.33  -0.33  -0.16-2.0e-4 2.2e-3      1 120.81\n",
      "f[181]     0.04    0.02   0.02   0.01   0.03   0.05   0.06   0.07      1   4.75\n",
      "f[182]     0.08    0.07   0.07 4.0e-3 7.5e-3   0.08   0.15   0.15      1  24.44\n",
      "f[183]     0.02    0.02   0.03  -0.07 5.7e-3   0.04   0.04   0.06      2   1.61\n",
      "f[184]     -0.1     0.1    0.1   -0.2   -0.2  -0.11-3.3e-3-6.5e-4      1   38.1\n",
      "f[185]    -0.21    0.01   0.03  -0.26  -0.23  -0.22   -0.2  -0.15      7   1.25\n",
      "f[186]     0.02    0.05   0.05  -0.09  -0.01   0.05   0.06   0.06      1   1.99\n",
      "f[187]    -0.28    0.03   0.04  -0.35  -0.32  -0.26  -0.25  -0.24      2   3.22\n",
      "f[188]     0.08    0.03   0.04  -0.01   0.04    0.1    0.1   0.14      2    1.5\n",
      "f[189]     0.01    0.02   0.02-6.0e-3-2.7e-4   0.01   0.03   0.04      1   5.86\n",
      "f[190]    -0.28    0.02   0.04  -0.34  -0.31  -0.26  -0.25  -0.23      3    2.9\n",
      "f[191]    -0.34    0.11   0.11  -0.52  -0.45   -0.3  -0.24  -0.24      1    5.4\n",
      "f[192]    -0.33    0.04   0.11  -0.63  -0.39  -0.31  -0.31  -0.12      6   1.77\n",
      "f[193]    -0.16    0.16   0.16  -0.33  -0.32  -0.16-5.6e-410.0e-4      1 111.39\n",
      "f[194]     0.07    0.09   0.09  -0.03  -0.02   0.09   0.16   0.17      1   20.0\n",
      "f[195]    -0.15    0.15   0.15   -0.3  -0.29  -0.15-7.6e-5 4.8e-3      1  81.02\n",
      "f[196]  -1.9e-3    0.09   0.09  -0.19  -0.07   0.04   0.08   0.08      1   2.93\n",
      "f[197]    -0.15    0.16   0.16  -0.31  -0.31  -0.17 2.5e-3   0.05      1  13.49\n",
      "f[198]    -0.15    0.16   0.16  -0.31  -0.31  -0.18 3.6e-3   0.06      1  11.05\n",
      "f[199]    -0.01    0.01   0.01  -0.03  -0.02-6.1e-3-8.6e-5   0.01      1   2.76\n",
      "sigma      0.83    0.04   0.05   0.74   0.79   0.82   0.87   0.91      2   1.38\n",
      "alpha      0.08    0.07   0.07   0.01   0.01   0.04   0.15   0.17      1   5.46\n",
      "rho        0.64    0.58   0.58   0.06   0.06   0.57   1.23   1.31      1  22.68\n",
      "eta2[0]   -0.12    0.97   0.97  -1.65  -1.21   0.25   0.86    1.0      1   3.16\n",
      "eta2[1]   -0.18    1.02   1.02  -1.34   -1.2  -0.36   0.73   1.27      1   6.27\n",
      "eta2[2]    0.34    0.31   0.44  -0.24   0.01   0.27   0.52   1.47      2   1.66\n",
      "eta2[3]    0.26    0.41   0.59  -0.62  -0.24   0.15   0.66   1.63      2    1.8\n",
      "eta2[4]    0.37    0.35    0.5  -0.19  -0.03   0.26   0.53   1.59      2   2.21\n",
      "eta2[5]    1.27     0.6   0.85   0.14   0.48   1.06   2.02   3.01      2   2.06\n",
      "eta2[6]   -0.19    0.97   0.97  -1.59   -1.1  -0.27   0.48   2.02      1   2.88\n",
      "eta2[7]    0.47    0.09   0.31  -0.09   0.23   0.45    0.7   1.02     13   1.13\n",
      "eta2[8]     0.8    0.57    0.8  -0.42-7.4e-3   0.87    1.3   2.36      2   1.69\n",
      "eta2[9]   -0.35    0.23   0.65  -1.23  -0.83  -0.41   0.01   1.17      8   1.37\n",
      "eta2[10]  -0.06    0.69   0.69  -1.28  -0.44  -0.06   0.35   1.33      1   2.08\n",
      "eta2[11]  -1.73    0.25    0.7  -3.38  -2.04  -1.71  -1.56  -0.02      8   1.35\n",
      "eta2[12]  -0.38    0.21   0.52   -1.6  -0.56  -0.33  -0.06   0.47      6    1.5\n",
      "eta2[13]   -0.1    0.17   0.72  -1.37  -0.59  -0.16   0.33   1.79     19   1.14\n",
      "eta2[14]   -0.4    0.19    0.5  -1.32  -0.79  -0.38 6.8e-3   0.55      7   1.49\n",
      "eta2[15]  -0.68    0.55   0.78  -1.61  -1.33  -0.95  -0.08   1.23      2   1.98\n",
      "eta2[16]   0.49    0.11   0.36  -0.42   0.28   0.54   0.77    1.1     12   1.11\n",
      "eta2[17]   0.26    0.33   0.57  -0.91  -0.13   0.26   0.67   1.22      3   1.49\n",
      "eta2[18]   0.07     0.2   0.64  -1.52  -0.27   0.12   0.41   1.29     10   1.19\n",
      "eta2[19]  -1.45    0.58   0.58  -2.39  -1.97   -1.5  -0.94  -0.46      1   2.42\n",
      "lp__     1174.8   26.64  26.64 1134.6 1151.6 1169.1 1199.6 1217.3      1   2.87\n",
      "\n",
      "Samples were drawn using NUTS at Tue Apr 10 00:08:16 2018.\n",
      "For each parameter, n_eff is a crude measure of effective sample size,\n",
      "and Rhat is the potential scale reduction factor on split chains (at \n",
      "convergence, Rhat=1).\n"
     ]
    }
   ],
   "source": [
    "print(fit_fitc)"
   ]
  },
  {
   "cell_type": "code",
   "execution_count": 17,
   "metadata": {
    "collapsed": false
   },
   "outputs": [],
   "source": [
    "samples = fit_fitc.extract(permuted=True)\n",
    "f = samples['f']\n",
    "f_mean = np.mean(f, axis=0)\n",
    "sigma = samples['sigma']\n",
    "sigma_mean = np.mean(sigma, axis=0)\n",
    "                "
   ]
  },
  {
   "cell_type": "code",
   "execution_count": 1,
   "metadata": {
    "collapsed": false
   },
   "outputs": [
    {
     "ename": "NameError",
     "evalue": "name 'np' is not defined",
     "output_type": "error",
     "traceback": [
      "\u001b[0;31m---------------------------------------------------------------------------\u001b[0m",
      "\u001b[0;31mNameError\u001b[0m                                 Traceback (most recent call last)",
      "\u001b[0;32m<ipython-input-1-76a2c8f204a8>\u001b[0m in \u001b[0;36m<module>\u001b[0;34m()\u001b[0m\n\u001b[0;32m----> 1\u001b[0;31m \u001b[0msort_idx\u001b[0m \u001b[0;34m=\u001b[0m \u001b[0mnp\u001b[0m\u001b[0;34m.\u001b[0m\u001b[0margsort\u001b[0m\u001b[0;34m(\u001b[0m\u001b[0mX\u001b[0m\u001b[0;34m.\u001b[0m\u001b[0mravel\u001b[0m\u001b[0;34m(\u001b[0m\u001b[0;34m)\u001b[0m\u001b[0;34m)\u001b[0m\u001b[0;34m\u001b[0m\u001b[0m\n\u001b[0m\u001b[1;32m      2\u001b[0m \u001b[0;34m\u001b[0m\u001b[0m\n\u001b[1;32m      3\u001b[0m \u001b[0mplt\u001b[0m\u001b[0;34m.\u001b[0m\u001b[0mplot\u001b[0m\u001b[0;34m(\u001b[0m\u001b[0mX\u001b[0m\u001b[0;34m[\u001b[0m\u001b[0msort_idx\u001b[0m\u001b[0;34m]\u001b[0m\u001b[0;34m,\u001b[0m \u001b[0mY\u001b[0m\u001b[0;34m[\u001b[0m\u001b[0msort_idx\u001b[0m\u001b[0;34m]\u001b[0m\u001b[0;34m,\u001b[0m \u001b[0;34m'r.'\u001b[0m\u001b[0;34m)\u001b[0m\u001b[0;34m\u001b[0m\u001b[0m\n\u001b[1;32m      4\u001b[0m \u001b[0mplt\u001b[0m\u001b[0;34m.\u001b[0m\u001b[0mplot\u001b[0m\u001b[0;34m(\u001b[0m\u001b[0mX\u001b[0m\u001b[0;34m[\u001b[0m\u001b[0msort_idx\u001b[0m\u001b[0;34m]\u001b[0m\u001b[0;34m,\u001b[0m \u001b[0mf\u001b[0m\u001b[0;34m[\u001b[0m\u001b[0;34m-\u001b[0m\u001b[0;36m1\u001b[0m\u001b[0;34m,\u001b[0m \u001b[0msort_idx\u001b[0m\u001b[0;34m]\u001b[0m\u001b[0;34m,\u001b[0m \u001b[0;34m'y.'\u001b[0m\u001b[0;34m)\u001b[0m\u001b[0;34m;\u001b[0m\u001b[0;34m\u001b[0m\u001b[0m\n\u001b[1;32m      5\u001b[0m \u001b[0mplt\u001b[0m\u001b[0;34m.\u001b[0m\u001b[0mplot\u001b[0m\u001b[0;34m(\u001b[0m\u001b[0mX\u001b[0m\u001b[0;34m[\u001b[0m\u001b[0msort_idx\u001b[0m\u001b[0;34m]\u001b[0m\u001b[0;34m,\u001b[0m \u001b[0mf\u001b[0m\u001b[0;34m[\u001b[0m\u001b[0;34m-\u001b[0m\u001b[0;36m20\u001b[0m\u001b[0;34m,\u001b[0m \u001b[0msort_idx\u001b[0m\u001b[0;34m]\u001b[0m\u001b[0;34m,\u001b[0m \u001b[0;34m'g.'\u001b[0m\u001b[0;34m)\u001b[0m\u001b[0;34m;\u001b[0m\u001b[0;34m\u001b[0m\u001b[0m\n",
      "\u001b[0;31mNameError\u001b[0m: name 'np' is not defined"
     ]
    }
   ],
   "source": [
    "sort_idx = np.argsort(X.ravel())\n",
    "\n",
    "plt.plot(X[sort_idx], Y[sort_idx], 'r.')\n",
    "plt.plot(X[sort_idx], f[-1, sort_idx], 'y.');\n",
    "plt.plot(X[sort_idx], f[-20, sort_idx], 'g.');\n",
    "plt.plot(X[sort_idx], f[-60, sort_idx], 'g.');\n",
    "plt.plot(X[sort_idx], f_mean[sort_idx], 'b.');"
   ]
  },
  {
   "cell_type": "code",
   "execution_count": 29,
   "metadata": {
    "collapsed": false
   },
   "outputs": [
    {
     "name": "stdout",
     "output_type": "stream",
     "text": [
      "(600, 20)\n"
     ]
    },
    {
     "data": {
      "text/plain": [
       "[<matplotlib.lines.Line2D at 0x7efe85d352e8>]"
      ]
     },
     "execution_count": 29,
     "metadata": {},
     "output_type": "execute_result"
    },
    {
     "data": {
      "image/png": "[encoded data removed]",
      "text/plain": [
       "<Figure size 432x288 with 1 Axes>"
      ]
     },
     "metadata": {},
     "output_type": "display_data"
    }
   ],
   "source": [
    "eta = samples['eta2']\n",
    "print(eta.shape)\n",
    "plt.plot(eta[:, 0])\n",
    "plt.plot(eta[:, 1])\n",
    "plt.plot(eta[:, 2])"
   ]
  },
  {
   "cell_type": "code",
   "execution_count": 58,
   "metadata": {
    "collapsed": false
   },
   "outputs": [
    {
     "data": {
      "image/png": "[encoded data removed]",
      "text/plain": [
       "<Figure size 432x288 with 1 Axes>"
      ]
     },
     "metadata": {},
     "output_type": "display_data"
    }
   ],
   "source": [
    "plt.hist(sigma, range=[0, 0.6]);"
   ]
  },
  {
   "cell_type": "code",
   "execution_count": 62,
   "metadata": {
    "collapsed": false
   },
   "outputs": [
    {
     "name": "stdout",
     "output_type": "stream",
     "text": [
      "0.7080905589358755\n",
      "0.2575391868400646\n"
     ]
    }
   ],
   "source": [
    "sigma_mean = np.mean(samples['sigma'])\n",
    "sigma_median = np.nanmedian(samples['sigma'])\n",
    "\n",
    "print(sigma_mean)\n",
    "print(sigma_median)"
   ]
  },
  {
   "cell_type": "code",
   "execution_count": 64,
   "metadata": {
    "collapsed": false
   },
   "outputs": [
    {
     "name": "stdout",
     "output_type": "stream",
     "text": [
      "(2800, 20)\n"
     ]
    },
    {
     "data": {
      "text/plain": [
       "[<matplotlib.lines.Line2D at 0x7f45c76030f0>]"
      ]
     },
     "execution_count": 64,
     "metadata": {},
     "output_type": "execute_result"
    },
    {
     "data": {
      "image/png": "[encoded data removed]",
      "text/plain": [
       "<Figure size 432x288 with 1 Axes>"
      ]
     },
     "metadata": {},
     "output_type": "display_data"
    }
   ],
   "source": [
    "eta_fitc = samples['eta2']\n",
    "print(eta_fitc.shape)\n",
    "plt.plot(eta_fitc[:, 0])\n",
    "plt.plot(eta_fitc[:, 1])\n",
    "plt.plot(eta_fitc[:, 2])\n",
    "plt.plot(eta_fitc[:, 5])"
   ]
  },
  {
   "cell_type": "code",
   "execution_count": null,
   "metadata": {
    "collapsed": true
   },
   "outputs": [],
   "source": []
  }
 ],
 "metadata": {
  "anaconda-cloud": {},
  "kernelspec": {
   "display_name": "Python [conda env:stanpy35]",
   "language": "python",
   "name": "conda-env-stanpy35-py"
  },
  "language_info": {
   "codemirror_mode": {
    "name": "ipython",
    "version": 3
   },
   "file_extension": ".py",
   "mimetype": "text/x-python",
   "name": "python",
   "nbconvert_exporter": "python",
   "pygments_lexer": "ipython3",
   "version": "3.5.4"
  }
 },
 "nbformat": 4,
 "nbformat_minor": 1
}
