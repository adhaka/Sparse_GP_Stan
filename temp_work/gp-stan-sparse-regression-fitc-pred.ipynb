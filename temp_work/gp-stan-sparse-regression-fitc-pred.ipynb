{
 "cells": [
  {
   "cell_type": "markdown",
   "metadata": {},
   "source": [
    "###  Sparse GP Regression with FITC and predictive distribution- FITC prior for sampling over f.\n",
    "\n",
    "\n",
    "This notebook uses the FITC prior to sample over the latent function values. The integration over inducing \n",
    "outputs(u) can be done analytically, and we can directly sample from the multivariate Gaussian. Data to be used will be Snelson 1D dataset."
   ]
  },
  {
   "cell_type": "code",
   "execution_count": 12,
   "metadata": {
    "collapsed": true
   },
   "outputs": [],
   "source": [
    "%matplotlib inline\n",
    "import  matplotlib\n",
    "import matplotlib.pyplot as plt\n",
    "import pystan"
   ]
  },
  {
   "cell_type": "code",
   "execution_count": 13,
   "metadata": {
    "collapsed": true
   },
   "outputs": [],
   "source": [
    "import numpy as np"
   ]
  },
  {
   "cell_type": "code",
   "execution_count": 14,
   "metadata": {
    "collapsed": true
   },
   "outputs": [],
   "source": [
    "import scipy.io as sio"
   ]
  },
  {
   "cell_type": "code",
   "execution_count": 15,
   "metadata": {
    "collapsed": true
   },
   "outputs": [],
   "source": [
    "df = sio.loadmat('snelson1d.mat')"
   ]
  },
  {
   "cell_type": "code",
   "execution_count": 16,
   "metadata": {
    "collapsed": true
   },
   "outputs": [],
   "source": [
    "X = df['X']\n",
    "Y = df['Y']\n",
    "X_t = df['tX']\n",
    "Y_t = df['tY']"
   ]
  },
  {
   "cell_type": "code",
   "execution_count": 17,
   "metadata": {
    "collapsed": true
   },
   "outputs": [],
   "source": [
    "M = 20"
   ]
  },
  {
   "cell_type": "code",
   "execution_count": 18,
   "metadata": {
    "collapsed": true
   },
   "outputs": [],
   "source": [
    "SEED = 27042018"
   ]
  },
  {
   "cell_type": "code",
   "execution_count": 19,
   "metadata": {
    "collapsed": false
   },
   "outputs": [],
   "source": [
    "X_u_noisy = np.linspace(0,6, M)[:, None]\n",
    "# X_u_noisy = X_u + 0.1*np.random.rand(*X_u.shape) "
   ]
  },
  {
   "cell_type": "markdown",
   "metadata": {},
   "source": [
    "### Code"
   ]
  },
  {
   "cell_type": "code",
   "execution_count": 20,
   "metadata": {
    "collapsed": false
   },
   "outputs": [],
   "source": [
    "stan_code_fitc_pred= \"\"\"\n",
    "functions{\n",
    "    vector gp_pred_rng(real[] x_train, vector y, real[] xu, real[] x_star, real alpha, real rho, real sigma, real jitter){\n",
    "        \n",
    "        int N1 = rows(y);\n",
    "        int N2 = size(x_star);\n",
    "        int M = size(xu);\n",
    "        matrix[N2, N2] cov_star;\n",
    "        vector[M] K_div_y;\n",
    "        vector[N2] f_star_mean;\n",
    "        \n",
    "        vector[N2] f_star;\n",
    "        {\n",
    "            vector[M] y_scaled;\n",
    "            vector[M] L_S_div_y;\n",
    "            matrix[N1,N1] diff;\n",
    "            matrix[N1,N1] A;\n",
    "            matrix[M, N1] v_pred;\n",
    "            matrix[N1, M] S1;\n",
    "            matrix[M, M] S;\n",
    "            matrix[M, M] T;\n",
    "            matrix[M, M] L_S;\n",
    "            matrix[M, N2] v_pred_star;\n",
    "            \n",
    "            matrix[N1, N1] Kff = cov_exp_quad(x_train, alpha, rho);\n",
    "            matrix[N1, M] Kfu = cov_exp_quad(x_train, xu, alpha, rho);\n",
    "            matrix[N2, N2] K_star_star = cov_exp_quad(x_star, alpha, rho);\n",
    "            matrix[M, M] Kuu = cov_exp_quad(xu, alpha, rho);\n",
    "            \n",
    "            // matrix[N1, N1] L_K= cholesky_decompose(Kff);\n",
    "            matrix[M, M] L_U = cholesky_decompose(Kuu);\n",
    "            matrix[N2, N1] K_star_f = cov_exp_quad(x_star, x_train, alpha, rho);\n",
    "            matrix[N2, M] K_star_u = cov_exp_quad(x_star, xu, alpha, rho);\n",
    "            matrix[M, N2]v_star = mdivide_left_tri_low(L_U, K_star_u');\n",
    "\n",
    "            matrix[N2, N2] Q_star_star = v_star'*v_star;\n",
    "\n",
    "            A= diag_matrix(rep_vector(0., N1));\n",
    "\n",
    "            v_pred = mdivide_left_tri_low(L_U, Kfu');\n",
    "            diff = Kff - v_pred'*v_pred;\n",
    "            for (i in 1:N1){\n",
    "                A[i,i] = 1./(diff[i,i]+square(sigma));\n",
    "            }\n",
    "            \n",
    "            S1 = A*Kfu;\n",
    "            S  = Kfu'*S1;\n",
    "            \n",
    "            T  = Kuu + S;\n",
    "            L_S = cholesky_decompose(T);\n",
    "            \n",
    "            // matrix[M,M] S_inv = inverse(S);\n",
    "            \n",
    "            v_pred_star = mdivide_left_tri_low(L_S, K_star_u');\n",
    "            cov_star = K_star_star - Q_star_star + v_pred_star'*v_pred_star;\n",
    "            y_scaled = Kfu'*(A*y);\n",
    "\n",
    "            L_S_div_y = mdivide_left_tri_low(L_S, y_scaled);    #forward substitution\n",
    "            K_div_y = mdivide_right_tri_low(L_S_div_y', L_S)';   #backward substitiion\n",
    "            f_star_mean = K_star_u*K_div_y;\n",
    "\n",
    "            f_star = multi_normal_rng(f_star_mean, cov_star);\n",
    "\n",
    "        }\n",
    "        return f_star;\n",
    "\n",
    "    }\n",
    "\n",
    "}\n",
    "\n",
    "data {\n",
    "    int<lower=1> N;\n",
    "    int<lower=1> M;\n",
    "    int<lower=1> N_star;\n",
    "    real x[N];\n",
    "    real x_star[N_star];\n",
    "    vector[N] y;\n",
    "    real xu[M];\n",
    "}\n",
    "\n",
    "transformed data {\n",
    "    real jitter = 1e-8;\n",
    "#     real rho = 1;\n",
    "#     real alpha = 1;\n",
    "\n",
    "}\n",
    "parameters {\n",
    "    \n",
    "    real<lower=1e-6> sigma;\n",
    "    real <lower=1e-4> alpha;\n",
    "    real<lower=1e-4> rho;\n",
    "    vector[M] eta;\n",
    "}\n",
    "\n",
    "model {\n",
    "\n",
    "    vector[N] f_mean;\n",
    "    matrix[N, N] f_cov;\n",
    "    matrix[N, N] A;\n",
    "    matrix[N, N] diff;\n",
    "        \n",
    "    {\n",
    "        matrix[M, M] L_U;\n",
    "        matrix[M, M] Kuu = cov_exp_quad(xu, alpha, rho);\n",
    "        matrix[N, M] Kfu = cov_exp_quad(x, xu, alpha, rho);\n",
    "        matrix[N, N] K = cov_exp_quad(x, alpha, rho);\n",
    "        vector[M] Kuu_inv_u;\n",
    "        matrix[M, N] v_pred;\n",
    "        vector[M] u;\n",
    "        matrix[N,N] Qff;\n",
    "        \n",
    "        for (m in 1:M)\n",
    "            Kuu[m, m] = Kuu[m, m] + jitter;\n",
    "                    \n",
    "        L_U = cholesky_decompose(Kuu);\n",
    "        u = L_U * eta;\n",
    "        \n",
    "        // f_mean = Kfu*(Kuu_inv*u) = Kfu * inv(LL')u = Kfu * inv(L') *inv(L) * L * eta = = Kfu * inv(L') * eta;        \n",
    "        Kuu_inv_u =  mdivide_left_tri_low(L_U, eta);\n",
    "        f_mean = Kfu*Kuu_inv_u;\n",
    "        \n",
    "\n",
    "        // f_cov = K - Kfu*(Kuu_inv*Kfu');            \n",
    "        v_pred = mdivide_left_tri_low(L_U, Kfu');\n",
    "        Qff = v_pred'*v_pred;\n",
    "        diff = K - Qff;\n",
    "        for (i in 1:N){\n",
    "            for(j in 1:N){\n",
    "                A[i,j] = 0.0;\n",
    "            }\n",
    "            A[i,i] = diff[i,i] + square(sigma);\n",
    "        }\n",
    "        \n",
    "        f_cov = A+Qff;\n",
    "    }\n",
    "    \n",
    "    rho ~ normal(0.90, 0.50);\n",
    "    alpha ~ normal(0.85, 0.50);\n",
    "\n",
    "    sigma ~ normal(0, 0.60);\n",
    "    eta ~ normal(0, 1);\n",
    "    y ~ multi_normal(f_mean, f_cov);\n",
    "}\n",
    "\n",
    "generated quantities{\n",
    "    vector[N_star] f_star = gp_pred_rng(x, y, xu, x_star, alpha, rho, sigma, jitter); \n",
    "    // vector[N_star] y_star = normal_rng(f_star, sigma);\n",
    "    vector[N_star] y_star;\n",
    "    for (i in 1:N_star){\n",
    "        y_star[i] = normal_rng(f_star[i], sigma);\n",
    "    }\n",
    "    \n",
    "}\n",
    "\n",
    "\n",
    "\"\"\"\n"
   ]
  },
  {
   "cell_type": "code",
   "execution_count": 21,
   "metadata": {
    "collapsed": false
   },
   "outputs": [
    {
     "name": "stderr",
     "output_type": "stream",
     "text": [
      "INFO:pystan:COMPILING THE C++ CODE FOR MODEL anon_model_dace54e771925f548f7eac8ee93866ab NOW.\n"
     ]
    }
   ],
   "source": [
    "stan_model_fitc = pystan.StanModel(model_code=stan_code_fitc_pred)"
   ]
  },
  {
   "cell_type": "code",
   "execution_count": 22,
   "metadata": {
    "collapsed": true
   },
   "outputs": [],
   "source": [
    "N_star = 25\n",
    "X_star = np.linspace(-0.5, 6.5, N_star)[:, None]\n",
    "M = 20"
   ]
  },
  {
   "cell_type": "code",
   "execution_count": 23,
   "metadata": {
    "collapsed": false
   },
   "outputs": [],
   "source": [
    "gp_fitc_pred_data = {'N':200, 'x':X.flatten(), 'y':Y.flatten(), 'M':M, 'xu':X_u_noisy.flatten(), 'N_star':N_star, 'x_star':X_star.flatten()}"
   ]
  },
  {
   "cell_type": "code",
   "execution_count": 24,
   "metadata": {
    "collapsed": true
   },
   "outputs": [],
   "source": [
    "SAMPLES_SIZE = 1000"
   ]
  },
  {
   "cell_type": "code",
   "execution_count": 25,
   "metadata": {
    "collapsed": false
   },
   "outputs": [
    {
     "name": "stderr",
     "output_type": "stream",
     "text": [
      "/u/26/dhakaa1/unix/anaconda2/envs/stanpy35/lib/python3.5/site-packages/pystan/misc.py:399: FutureWarning: Conversion of the second argument of issubdtype from `float` to `np.floating` is deprecated. In future, it will be treated as `np.float64 == np.dtype(float).type`.\n",
      "  elif np.issubdtype(np.asarray(v).dtype, float):\n"
     ]
    }
   ],
   "source": [
    "fit_fitc = stan_model_fitc.sampling(data=gp_fitc_pred_data, iter=SAMPLES_SIZE, chains=2)"
   ]
  },
  {
   "cell_type": "code",
   "execution_count": 26,
   "metadata": {
    "collapsed": false
   },
   "outputs": [
    {
     "name": "stdout",
     "output_type": "stream",
     "text": [
      "Inference for Stan model: anon_model_dace54e771925f548f7eac8ee93866ab.\n",
      "2 chains, each with iter=1000; warmup=500; thin=1; \n",
      "post-warmup draws per chain=500, total post-warmup draws=1000.\n",
      "\n",
      "             mean se_mean     sd   2.5%    25%    50%    75%  97.5%  n_eff   Rhat\n",
      "f[0]       -3.8e7   3.5e7  5.0e7 -1.5e8 -9.2e7 -2.4e4 -1.0e4  -1814      2   2.49\n",
      "f[1]        7.6e6   1.1e7  1.1e7 -8.1e6 5199.5 8732.3  1.5e7  3.3e7      1   1.84\n",
      "f[2]        3.7e6   5.2e6  5.2e6 -6.2e5  -5594 1514.6  6.9e6  1.6e7      1   1.68\n",
      "f[3]        1.2e7   1.3e7  1.3e7  -4914 -16.83  3.6e6  2.2e7  3.8e7      1   2.44\n",
      "f[4]       -2.5e7   2.7e7  2.7e7 -6.7e7 -5.4e7 -8.6e6 2984.5  1.1e4      1   3.64\n",
      "f[5]       -6.1e5   7.7e6  1.9e7 -3.6e7 -8.0e6  -1725 -609.1  4.7e7      6   1.65\n",
      "f[6]       -6.7e6   6.3e6  8.9e6 -3.0e7 -1.2e7 -863.9  351.4 837.21      2   1.78\n",
      "f[7]       -1.5e7   2.3e7  5.7e7 -1.7e8 1141.9  1.0e4  1.4e7  4.6e7      6   1.63\n",
      "f[8]       -7.5e6   1.6e7  4.0e7 -1.2e8  -5951  -2766  1.2e7  4.1e7      6   1.41\n",
      "f[9]        1.2e7   1.3e7  1.9e7 -3.9e6  1.0e5  1.4e5  2.4e7  6.1e7      2   2.77\n",
      "f[10]      -2.7e6   6.5e6  2.4e7 -4.8e7 -1.3e7  -6654 458.62  5.7e7     13   1.02\n",
      "f[11]      -1.8e7   2.0e7  2.0e7 -5.5e7 -3.4e7 -5.7e6 3559.3  1.0e4      1   2.58\n",
      "f[12]       1.5e6   1.7e6  7.4e6 -2.1e7  -9204  -3319  2.7e6  2.3e7     19   1.13\n",
      "f[13]       3.6e6   4.7e6  4.7e6  -5772 8981.4  6.2e5  5.8e6  1.6e7      1   2.16\n",
      "f[14]       2.4e5   1.3e6  5.6e6 -1.2e7  -2514  -1240  9.6e5  1.1e7     20   1.04\n",
      "f[15]       3.1e7   3.3e7  6.5e7 -2.2e7 -2.0e4  -4328  1.6e7  2.2e8      4   1.97\n",
      "f[16]       1.7e6   1.8e6  3.1e6 -5.2e6 -561.8 6646.9  4.6e6  7.8e6      3   1.36\n",
      "f[17]       3.8e7   3.7e7  6.4e7 -1.3e4 -280.1 6422.5  3.1e7  2.0e8      3    2.5\n",
      "f[18]       1.5e7   1.5e7  2.1e7 -4.0e5  -2646 1531.0  3.2e7  6.4e7      2   2.39\n",
      "f[19]       1.2e7   1.2e7  1.7e7 -1.1e7 3479.5 6543.7  2.6e7  4.9e7      2   1.53\n",
      "f[20]       1.2e6   1.1e6  3.2e6 -4.4e6 2355.9  3.4e4  2.6e6  1.0e7      9   1.16\n",
      "f[21]       7.0e6   6.8e6  9.6e6 -886.7 -115.2 754.44  1.2e7  3.0e7      2   2.66\n",
      "f[22]       3.0e7   3.7e7  5.3e7 -2.5e7 -1.1e4 1146.4  4.5e7  1.7e8      2   1.96\n",
      "f[23]       4.9e6   6.3e6  8.8e6 -1.1e7  -8127  -4280  1.1e7  2.6e7      2   1.28\n",
      "f[24]      -7.4e6   7.5e6  1.3e7 -4.6e7 -1.3e7 -1.6e4  -9538  9.2e6      3   1.47\n",
      "f[25]      -2.4e7   2.2e7  3.1e7 -9.0e7 -5.0e7 -1.1e4  -6271 1725.0      2   2.61\n",
      "f[26]      -1.2e7   1.1e7  2.2e7 -7.2e7 -2.4e7 -425.1 1352.3  1.6e7      4   1.88\n",
      "f[27]       1.8e7   1.8e7  2.5e7  -7111 -304.9  3.3e5  3.4e7  1.0e8      2    1.6\n",
      "f[28]       2.9e5   1.2e7  3.0e7 -6.5e7 -1.3e7 728.95 2115.8  6.1e7      6   2.29\n",
      "f[29]       1.4e7   1.5e7  1.5e7 -1.9e4  -9170  3.9e6  3.0e7  3.7e7      1   3.04\n",
      "f[30]       7.2e5   2.2e6  9.2e6 -2.4e7  -6318 -974.8  2.9e6  2.0e7     17   1.08\n",
      "f[31]       9.0e6   1.1e7  1.1e7  -9795  -5032  2.8e5  1.9e7  3.1e7      1   1.95\n",
      "f[32]       1.2e7   1.2e7  1.7e7 -1.0e7 -1.1e4 4043.1  2.7e7  4.1e7      2   2.32\n",
      "f[33]       1.5e7   1.6e7  2.2e7 -1.4e6  -7690  -4052  2.2e7  6.8e7      2   2.77\n",
      "f[34]       6.9e5   1.3e6  3.6e6 -7.1e6 -1.2e4  -4742  1.3e6  1.1e7      8   1.39\n",
      "f[35]      -1.4e7   1.5e7  2.2e7 -6.8e7 -2.3e7 -1.1e4  -1236  3.1e5      2   3.13\n",
      "f[36]      -1.7e8   1.9e8  1.9e8 -4.7e8 -4.0e8 -2.2e7  -1024 1219.2      1   2.96\n",
      "f[37]       1.7e7   2.1e7  2.1e7 3861.2 9136.5  1.7e6  3.9e7  5.8e7      1   2.93\n",
      "f[38]      -3.1e6   3.5e6  3.5e6 -1.0e7 -5.7e6 -2.9e5  -2625 2622.1      1   2.45\n",
      "f[39]       3.2e6   3.9e6  6.8e6 -7.1e6 3821.2 7037.3  6.2e6  2.0e7      3   1.18\n",
      "f[40]      -3.5e7   4.5e7  1.0e8 -3.2e8 -1.8e7 8429.6  1.2e4  1.1e8      5   1.43\n",
      "f[41]       8.8e6   1.2e7  1.2e7 -3.0e6  1.5e4  5.1e4  1.8e7  3.5e7      1   1.74\n",
      "f[42]      -3.2e6   3.6e6  3.6e6 -1.3e7 -5.9e6 -1.0e6 -1.8e4  -5478      1   2.66\n",
      "f[43]       1.4e7   1.4e7  2.4e7  -6391  -4007  -1760  1.8e7  9.3e7      3   1.75\n",
      "f[44]       3.1e7   3.5e7  4.9e7 -3.1e7  -1845 1939.6  5.4e7  1.6e8      2   1.43\n",
      "f[45]       1.5e7   2.1e7  2.1e7 -3.4e4 -2.2e4  1.1e6  2.2e7  6.2e7      1   1.88\n",
      "f[46]      -3.1e7   3.7e7  3.7e7 -1.2e8 -5.7e7 -4.7e6  -1015 6084.8      1   2.57\n",
      "f[47]       7.4e7   8.6e7  8.6e7 -1.4e4  -9367  1.0e7  1.6e8  2.3e8      1   4.41\n",
      "f[48]      -1.8e7   2.0e7  3.4e7 -9.7e7 -3.4e7 -2.3e4 -1.1e4  1.4e7      3   2.65\n",
      "f[49]       8.4e6   8.0e6  2.0e7 -1.8e7 2554.3  1.0e4  1.0e7  5.9e7      6   1.46\n",
      "f[50]       1.3e7   1.1e7  2.6e7 -2.2e7 383.53 5545.7  2.4e7  8.0e7      5   1.47\n",
      "f[51]      -1.3e6   8.0e6  2.9e7 -5.9e7 -1.1e7 -1.3e4 4784.0  7.5e7     13   1.09\n",
      "f[52]      -1.1e6   9.5e5  3.4e6 -9.6e6 -2.4e6 -1.2e4  -3786  5.3e6     13   1.09\n",
      "f[53]      -1.5e8   1.5e8  2.1e8 -5.3e8 -3.6e8 2614.2  1.3e4  7.4e7      2   2.36\n",
      "f[54]       4.0e7   5.2e7  1.0e8 -8.1e7  -4696  -1732  1.0e7  3.1e8      4   2.06\n",
      "f[55]       7.8e6   8.5e6  1.5e7 -1.1e7 -8.2e4 -2.7e4  1.2e7  4.2e7      3   2.58\n",
      "f[56]       1.5e7   1.8e7  1.8e7 7948.3  1.3e4  5.3e6  2.3e7  5.5e7      1   3.55\n",
      "f[57]      -6.9e6   9.4e6  9.4e6 -2.6e7 -1.5e7 714.21 4883.6  3.5e5      1   1.69\n",
      "f[58]       2.6e7   2.4e7  3.4e7  -8712  -5578 2009.1  6.0e7  9.7e7      2   3.88\n",
      "f[59]      -7.0e7   7.5e7  7.5e7 -2.0e8 -1.5e8 -2.3e7 -2.3e4  -3503      1   3.42\n",
      "f[60]       2.5e7   2.7e7  2.7e7 -1.9e4 -1.3e4  9.8e6  4.7e7  7.5e7      1   4.45\n",
      "f[61]       4.7e6   9.4e6  2.5e7 -2.8e7 -2.8e6 -886.1 1692.9  7.9e7      7   1.29\n",
      "f[62]       1.3e5   2.2e6  5.9e6 -1.2e7 -1.2e6 969.44 6496.4  1.5e7      7   1.66\n",
      "f[63]       2.9e7   2.7e7  3.8e7  -2580 2136.7  3.0e6  5.3e7  1.2e8      2   2.93\n",
      "f[64]      -2.1e7   1.9e7  2.7e7 -8.5e7 -4.5e7 -9.2e5  2.1e4  3.3e4      2   3.41\n",
      "f[65]       2.0e7   2.2e7  2.2e7  -2317 4913.5  5.8e6  4.2e7  6.2e7      1   3.53\n",
      "f[66]      -9.7e6   1.1e7  1.6e7 -5.0e7 -1.6e7  1.9e4  5.2e4  7.2e6      2   1.39\n",
      "f[67]      -1.3e7   1.4e7  1.4e7 -3.8e7 -2.6e7 -5.3e6  -7862  -4465      1   4.23\n",
      "f[68]       5.2e6   5.4e6  1.1e7 -1.2e7 -1.6e4  162.2  1.3e7  2.9e7      4   2.26\n",
      "f[69]      -2.8e6   4.1e6  1.2e7 -3.5e7 -4.3e6 -1.3e4 3747.5  1.8e7      9    1.2\n",
      "f[70]      -4.8e7   6.5e7  6.5e7 -1.9e8 -1.1e8  -6711  -3797  1.4e7      1   1.82\n",
      "f[71]      -1.4e7   1.6e7  1.6e7 -4.5e7 -2.8e7 -4.3e6 -1.2e4  -7593      1   3.79\n",
      "f[72]      -2.0e7   2.0e7  2.8e7 -7.5e7 -4.3e7 -3.1e5 7775.0  1.8e4      2   4.55\n",
      "f[73]      -1.3e7   1.8e7  4.0e7 -1.5e8 -1.7e7  1.3e4  1.8e4  4.7e7      5   1.87\n",
      "f[74]       1.5e7   2.0e7  4.4e7 -4.0e7 6372.6  1.9e4  1.4e7  1.5e8      5   1.71\n",
      "f[75]      -9.9e6   1.5e7  1.5e7 -4.2e7 -2.2e7 9172.3  1.6e4  4.9e6      1    1.4\n",
      "f[76]      -3.2e6   3.4e6  6.8e6 -1.9e7 -3.9e6  -2602 -465.4  5.1e6      4   2.15\n",
      "f[77]      -7.2e7   6.9e7  9.7e7 -2.9e8 -9.0e7 -1.1e7 -1.8e4  -3567      2   2.96\n",
      "f[78]      -1.9e7   2.5e7  2.5e7 -7.4e7 -3.3e7 -9.3e5 2128.4 7284.2      1   2.19\n",
      "f[79]       7.3e6   1.0e7  2.9e7 -5.2e7 -2.2e4 7803.3  2.7e7  6.5e7      8   1.04\n",
      "f[80]       6.1e6   6.7e6  6.7e6  -3570 6626.7  2.7e6  1.1e7  1.9e7      1   3.53\n",
      "f[81]      -4.6e6   4.9e6  7.0e6 -2.3e7 -9.0e6 -1.5e4  2.4e4  2.1e6      2   1.91\n",
      "f[82]      -6.1e5   6.4e5  2.6e6 -5.9e6 -1.6e6 1323.9 5800.6  7.0e6     17   1.04\n",
      "f[83]       5.4e6   8.0e6  2.1e7 -4.5e7  -3439 974.48  2.2e7  4.0e7      7    1.3\n",
      "f[84]      -1.9e6   3.0e6  1.2e7 -3.1e7 -3.1e5 -7.1e4  -1059  1.7e7     15   1.04\n",
      "f[85]      -4.8e7   5.2e7  5.2e7 -1.4e8 -9.4e7 -2.1e7  -8443  -5107      1   2.96\n",
      "f[86]      -5.5e6   5.3e6  9.3e6 -2.9e7 -1.0e7  -2533  1.6e4  4.6e6      3    3.0\n",
      "f[87]       1.0e6   2.1e6  5.0e6 -6.4e6 -4.7e4 -2.3e4  7.4e5  1.4e7      6   1.65\n",
      "f[88]       8.3e7   9.0e7  9.0e7  -1419 416.15  2.5e7  1.8e8  2.2e8      1   4.91\n",
      "f[89]      -3.3e6   4.1e6  5.8e6 -1.6e7 -6.6e6 2382.9  1.2e4  3.7e6      2   1.28\n",
      "f[90]       2.8e7   2.4e7  5.9e7 -4.9e7 -2.2e4 -1.5e4  5.6e7  1.6e8      6   1.25\n",
      "f[91]      -2.9e7   2.6e7  3.6e7 -1.2e8 -5.3e7 -5.9e6 2956.2 8691.7      2   1.98\n",
      "f[92]      -2.2e7   2.4e7  3.4e7 -1.2e8 -3.6e7  -8341  -1.69  8.4e5      2   1.49\n",
      "f[93]       5.5e7   5.5e7  7.8e7 -332.8 971.95 1696.0  1.1e8  2.3e8      2   3.14\n",
      "f[94]       2.8e6   3.6e6  3.6e6 -2.5e5 5636.4  1.5e4  6.3e6  1.0e7      1    2.0\n",
      "f[95]       1.7e7   1.8e7  4.7e7 -8.4e7 -1.7e4  -4372  5.1e7  1.1e8      7   1.28\n",
      "f[96]      -2.5e5   2.8e6  7.3e6 -2.0e7 -1.1e4  -3442  1.8e6  1.2e7      7   1.45\n",
      "f[97]       5.2e7   6.2e7  6.2e7 -1.2e4  -3721  1.6e7  8.8e7  1.8e8      1   4.26\n",
      "f[98]      -4.7e7   5.5e7  5.5e7 -1.7e8 -8.9e7 -3.2e6  3.4e4  4.9e4      1   2.36\n",
      "f[99]      -3.9e6   6.4e6  1.4e7 -4.0e7 -1.3e7 -3.1e4  -1711  2.2e7      5   2.24\n",
      "f[100]      1.2e7   1.2e7  2.2e7 -9.6e6  1.7e4  2.8e4  1.7e7  7.7e7      3   1.79\n",
      "f[101]     -2.6e7   2.9e7  2.9e7 -7.2e7 -5.7e7 -6.0e6  5.1e4  1.3e5      1    2.8\n",
      "f[102]     -3.4e6   4.1e6  1.9e7 -3.2e7 -1.2e7  -7244  -1402  6.2e7     20   1.03\n",
      "f[103]      3.0e5   7.6e6  1.8e7 -2.9e7 -8.2e6  -9799 1020.3  4.5e7      6   1.66\n",
      "f[104]      4.8e7   5.8e7  5.8e7 -1.4e4 -544.5  1.7e7  8.6e7  1.6e8      1    4.3\n",
      "f[105]     -1.4e7   1.4e7  2.9e7 -9.1e7 -8.7e6 1204.6 3123.9  1.3e7      4   2.17\n",
      "f[106]     -2.7e6   2.4e6  5.5e6 -1.5e7 -6.7e6  -5053 2224.6  8.8e6      5   1.23\n",
      "f[107]     -1.8e7   2.2e7  2.2e7 -6.8e7 -3.6e7 -6.5e5  -3541  1.0e4      1   1.99\n",
      "f[108]     -7.6e6   9.2e6  9.2e6 -2.5e7 -1.7e7 -2.3e4 -1.3e4 775.63      1   2.87\n",
      "f[109]     -4.7e7   4.6e7  7.9e7 -2.7e8 -6.3e7  -1562 -936.3  5.4e6      3    1.6\n",
      "f[110]      3.5e6   4.1e6  5.7e6 -3.5e6  -2741 222.73  7.8e6  1.8e7      2   1.51\n",
      "f[111]     -3.0e6   3.6e6  3.6e6 -1.1e7 -5.8e6 -4.0e4 -2.0e4  -2179      1   1.91\n",
      "f[112]     -1.0e7   9.7e6  1.4e7 -3.8e7 -1.8e7  -1271  2.9e4  4.1e4      2   3.37\n",
      "f[113]      1.2e7   1.2e7  1.7e7 -4.3e6 3494.2 8096.1  2.4e7  6.3e7      2   1.62\n",
      "f[114]      2.3e7   2.8e7  4.8e7 -8.7e7 -1.2e4 5290.7  5.7e7  1.2e8      3    1.2\n",
      "f[115]      9.1e6   1.1e7  1.5e7 -9.1e6 2503.7 5524.3  1.9e7  5.0e7      2   1.43\n",
      "f[116]      5.8e6   6.1e6  1.1e7 -7.7e6  -3767 1927.5  1.2e7  3.1e7      3    2.2\n",
      "f[117]      2.6e6   3.4e6  3.4e6 -6.5e5  1.1e4  1.9e4  4.7e6  1.1e7      1   1.88\n",
      "f[118]      8.1e6   9.0e6  1.8e7 -2.3e7  -9292  -3478  2.2e7  4.5e7      4   1.45\n",
      "f[119]     -1.3e7   1.5e7  2.9e7 -8.8e7 -2.0e7 381.09 1770.1  1.6e7      4   1.81\n",
      "f[120]     -1.0e7   1.2e7  1.8e7 -5.3e7 -1.7e7 -5.8e4 -3.5e4  1.1e7      2   1.46\n",
      "f[121]     -9.8e6   1.0e7  1.5e7 -4.0e7 -2.4e7  -8958 126.18  2.6e6      2   2.71\n",
      "f[122]      2.3e6   2.9e6  4.1e6 -4.1e6 2571.9 4363.2  5.5e6  1.2e7      2   1.66\n",
      "f[123]      1.2e7   1.2e7  2.0e7 -9.3e6 -1.6e4 -1.0e4  1.6e7  6.0e7      3   2.63\n",
      "f[124]      9.6e6   1.1e7  1.1e7 -3.0e4 279.08  2.7e6  1.8e7  3.4e7      1   2.34\n",
      "f[125]     -1.4e7   1.4e7  2.4e7 -6.8e7 -1.9e7 -4.3e4  -9236  6.9e6      3   3.08\n",
      "f[126]      1.8e7   2.9e7  7.0e7 -9.2e7  -1562 5739.0  2.5e7  2.3e8      6   1.89\n",
      "f[127]      2.5e6   2.4e6  4.1e6 -2.3e6  -5222  -1773  4.2e6  1.2e7      3   1.65\n",
      "f[128]      1.6e7   2.1e7  2.1e7 -7.5e6 9600.6  2.4e4  3.5e7  5.7e7      1   1.73\n",
      "f[129]      2.1e6   5.5e6  1.3e7 -1.4e7 -4.4e6 -2.3e4 -1.2e4  4.5e7      6   1.53\n",
      "f[130]     -1.7e7   1.9e7  2.7e7 -7.7e7 -4.3e7 -1.8e4  -7884  2.0e7      2   1.68\n",
      "f[131]     -1.9e7   1.8e7  2.6e7 -7.3e7 -4.3e7  -3096 -218.4  6.0e6      2    2.3\n",
      "f[132]     -9.3e6   1.2e7  1.2e7 -4.1e7 -1.8e7 -1.9e4  -6184  9.4e4      1   2.28\n",
      "f[133]     -6.8e7   8.2e7  8.2e7 -2.5e8 -1.3e8  -1543 -124.3 1299.0      1   2.91\n",
      "f[134]     -3.0e6   6.7e6  2.5e7 -8.2e7 -2.7e5  1.1e4  2.3e4  4.7e7     14   1.09\n",
      "f[135]     -2.4e7   3.0e7  3.0e7 -7.6e7 -5.4e7  -1476 1261.4  1.1e7      1   1.84\n",
      "f[136]     -3.0e6   2.8e6  4.8e6 -1.3e7 -7.2e6  -6243 1173.1  1.4e6      3   3.43\n",
      "f[137]     -2.6e6   2.9e6  5.0e6 -1.4e7 -5.2e6 -1.3e4  -6258  5.3e6      3   1.91\n",
      "f[138]     -3.9e6   8.4e6  1.9e7 -4.8e7 -6.2e6  2.6e4  3.3e4  3.2e7      5    1.9\n",
      "f[139]      9.3e6   9.9e6  1.7e7 -1.0e7 2691.1 9678.5  8.7e6  4.8e7      3   2.46\n",
      "f[140]     -1.2e7   1.4e7  1.4e7 -3.8e7 -2.3e7 5211.0  1.5e4  1.8e4      1   2.11\n",
      "f[141]      7.2e6   6.6e6  9.3e6 -1.1e4  -3614 7741.5  1.4e7  2.9e7      2    2.1\n",
      "f[142]     -3.0e7   3.9e7  3.9e7 -1.1e8 -6.9e7 1263.9 5790.4  1.1e7      1   1.95\n",
      "f[143]      4.3e7   5.3e7  5.3e7 -2.0e4 -1.2e4  1.1e7  7.5e7  1.6e8      1    3.3\n",
      "f[144]     -3.3e6   3.5e6  4.9e6 -1.6e7 -6.7e6  -8525  -3071  5.8e5      2   1.75\n",
      "f[145]     -2.8e6   3.4e6  9.0e6 -3.0e7 -4.6e5 3290.8  1.6e4  7.1e6      7   1.74\n",
      "f[146]      1.1e7   1.0e7  3.1e7 -3.2e7 8635.7  2.7e4  7.1e6  1.0e8      9   1.11\n",
      "f[147]      1.2e6   1.4e6  3.9e6 -5.9e6  -4091  -2005  3.8e6  9.2e6      8   1.17\n",
      "f[148]     -1.9e7   2.6e7  2.6e7 -8.4e7 -2.5e7 -9.3e5 -1.0e4 2294.6      1   2.19\n",
      "f[149]     -1.5e6   1.7e6  3.4e6 -1.1e7 -3.1e6  -2111 -618.3  3.6e6      4   2.15\n",
      "f[150]      3.7e7   4.1e7  7.1e7 -4.5e7  -7673 3907.9  4.7e7  2.1e8      3   2.27\n",
      "f[151]     -2.1e7   2.0e7  2.9e7 -9.4e7 -4.1e7 927.67 3878.2  1.5e7      2    2.3\n",
      "f[152]     -1.9e7   2.1e7  5.7e7 -2.1e8 -3.4e7  -2771 4710.2  6.2e7      7   1.24\n",
      "f[153]     -1.3e7   1.2e7  1.7e7 -4.6e7 -3.2e7 -905.4 380.12 1493.2      2   3.17\n",
      "f[154]      6.3e5   7.2e5  4.1e6 -7.9e6 -1.3e4  -5448  8.6e5  1.3e7     32   1.02\n",
      "f[155]      7.3e7   8.9e7  8.9e7 -3.0e7  -3063 -138.7  1.7e8  2.4e8      1   1.94\n",
      "f[156]      4.1e6   4.5e6  7.8e6 -6.6e6  -2137 2607.3  7.9e6  2.1e7      3   2.67\n",
      "f[157]     -3.9e6   4.9e6  4.9e6 -1.5e7 -7.7e6 -1.2e4  -7747 3895.5      1   1.84\n",
      "f[158]      1.0e8   9.8e7  1.4e8 -577.5 3932.0  8.7e5  1.5e8  4.2e8      2   2.93\n",
      "f[159]     -8.0e6   1.3e7  3.0e7 -9.1e7 -7.0e6  -8802  -7.94  3.6e7      5   2.06\n",
      "f[160]     -3.9e6   9.7e6  3.1e7 -8.6e7 -1.1e7 8326.3  2.1e4  6.4e7     10   1.23\n",
      "f[161]      1.1e7   1.1e7  1.5e7 -8.6e6 102.51  1.1e4  2.7e7  4.1e7      2   1.68\n",
      "f[162]     -4.9e6   4.8e6  6.8e6 -2.1e7 -1.0e7 -2.9e4 -1.9e4  1.3e6      2   2.69\n",
      "f[163]     -3.3e7   3.8e7  3.8e7 -1.1e8 -6.4e7 -9.2e6  1.7e4  3.3e4      1    2.3\n",
      "f[164]      4.4e7   3.9e7  5.6e7 -8.2e6 -1.3e4  -6783  1.0e8  1.5e8      2   2.64\n",
      "f[165]      5.6e4   3.0e5  1.6e6 -3.8e6  1.5e4  2.6e4  1.6e5  3.8e6     28    1.0\n",
      "f[166]      2.0e7   1.9e7  2.7e7 2713.5  1.9e4  3.4e4  3.9e7  8.4e7      2   3.21\n",
      "f[167]     -6.4e6   7.8e6  1.1e7 -3.0e7 -1.5e7 -3.8e4 -2.2e4  7.7e6      2    1.3\n",
      "f[168]      1.1e6   3.9e6  1.0e7 -1.5e7 -6.1e5 5822.7  1.4e4  3.1e7      7   1.55\n",
      "f[169]     -3.8e7   2.7e7  8.1e7 -2.3e8 -1.0e8 3094.4 6361.5  9.1e7      9   1.21\n",
      "f[170]     -1.0e8   1.2e8  1.2e8 -3.8e8 -2.1e8  -4437 3853.2 8772.2      1   2.24\n",
      "f[171]      6.0e7   7.1e7  7.1e7 -2.1e4 966.11  5.2e6  1.3e8  1.9e8      1   3.89\n",
      "f[172]      4.3e6   4.6e6  9.2e6 -6.5e6 -1.5e4 -679.0  5.5e6  3.3e7      4   1.95\n",
      "f[173]     -5.0e6   4.8e6  1.1e7 -4.1e7 -6.6e6 -1.4e4  -9439  5.7e6      5   1.35\n",
      "f[174]      5.2e7   4.7e7  6.7e7  -9988  -4314 717.82  1.1e8  1.9e8      2   3.06\n",
      "f[175]      3.5e6   4.7e6  1.0e7 -1.7e7 1373.9 3343.4  1.0e7  2.7e7      5   2.11\n",
      "f[176]      8.6e6   9.5e6  1.3e7 -3.1e6  2.0e4  3.8e4  1.7e7  4.1e7      2    3.0\n",
      "f[177]     -1.4e7   1.3e7  1.9e7 -6.0e7 -2.7e7  -2350 684.21 4901.5      2   2.89\n",
      "f[178]      5.6e7   5.9e7  1.2e8 -7.9e7 -596.4 5828.8  4.7e7  3.7e8      4   2.04\n",
      "f[179]     -1.7e7   1.7e7  3.3e7 -1.0e8 -2.7e7 -271.3 547.48  2.3e7      4    1.7\n",
      "f[180]      2.1e5   4.9e6  1.2e7 -2.0e7 -5.3e6  -7853  -1823  3.4e7      6    1.8\n",
      "f[181]     -1.1e7   1.2e7  3.0e7 -9.4e7 -9.2e6  743.4 3920.7  2.6e7      6   1.44\n",
      "f[182]      2.8e7   3.1e7  5.4e7 -2.5e7 -776.3 4258.6  3.9e7  1.8e8      3   2.13\n",
      "f[183]      1.1e6   1.2e6  2.7e6 -3.9e6  -2726 917.17  3.1e6  6.3e6      5    1.6\n",
      "f[184]      9.3e6   1.2e7  1.6e7 -1.5e7  -4378 5810.0  1.9e7  4.8e7      2   1.29\n",
      "f[185]      5.8e6   7.0e6  7.0e6 -1.4e4  -8900 -939.9  1.1e7  2.1e7      1   1.96\n",
      "f[186]     -4.0e7   4.1e7  5.7e7 -1.7e8 -7.1e7  -6781  1.2e4  3.1e4      2   3.44\n",
      "f[187]     -1.8e5   1.1e6  4.8e6 -1.2e7 -8.9e5 -1.5e4 2365.3  1.1e7     18   1.06\n",
      "f[188]      1.2e7   1.5e7  1.5e7 1611.9 4857.3 8733.3  2.4e7  4.3e7      1   2.76\n",
      "f[189]      2.8e7   2.5e7  3.5e7 -3.7e4 -2.5e4  -1386  6.2e7  9.6e7      2   3.83\n",
      "f[190]      5.9e6   5.6e6  1.1e7 -5.7e6 -2.0e4 -1.4e4  8.3e6  3.2e7      4   2.65\n",
      "f[191]      4.7e5   1.8e6  5.8e6 -1.2e7 5938.4  1.5e4  2.3e6  1.4e7     10   1.05\n",
      "f[192]     -4.5e7   5.2e7  5.2e7 -1.6e8 -9.2e7 -3.5e6  3.0e4  4.8e4      1   2.35\n",
      "f[193]     -2.9e7   3.3e7  3.3e7 -8.6e7 -6.4e7 -7.4e6 877.65 4283.0      1   2.33\n",
      "f[194]      9.4e4   1.3e6  4.3e6 -9.4e6 -9.0e5 7969.6  2.3e4  1.1e7     11   1.26\n",
      "f[195]      2.1e7   3.0e7  3.0e7  -2410 2119.6 4581.0  3.2e7  9.6e7      1   1.52\n",
      "f[196]     -4.6e7   5.5e7  5.5e7 -1.6e8 -8.6e7 -8.2e6 -1.4e4  5.1e4      1   3.44\n",
      "f[197]     -1.4e6   1.2e7  3.1e7 -5.2e7 -1.9e7  -9359  -2990  9.1e7      7   1.43\n",
      "f[198]      2.0e7   2.3e7  5.2e7 -5.4e7 -2.3e4 -1.4e4  2.5e7  1.7e8      5   1.34\n",
      "f[199]     -1.3e6   2.6e6  9.6e6 -2.7e7 -7.5e5 -2.9e4 -1.7e4  2.0e7     14   1.28\n",
      "sigma        0.28  5.3e-4   0.01   0.26   0.27   0.28   0.29   0.31    699    1.0\n",
      "alpha        0.56  6.6e-3   0.12   0.37   0.48   0.55   0.62   0.85    320   1.01\n",
      "rho           0.5  4.1e-3   0.05   0.39   0.46    0.5   0.53   0.58    159   1.01\n",
      "eta[0]       0.02    0.04   0.93  -1.73  -0.63   0.03   0.67   1.74    506    1.0\n",
      "eta[1]       0.05    0.05   0.91  -1.68  -0.57 3.6e-3   0.71   1.86    360   1.01\n",
      "eta[2]       0.06    0.03   0.87  -1.79  -0.53   0.13   0.67   1.61    638    1.0\n",
      "eta[3]      -0.35    0.03   0.84  -1.83  -0.96  -0.37    0.2   1.31    801    1.0\n",
      "eta[4]      -0.56    0.03   0.79  -2.08  -1.06  -0.58-4.8e-3   1.05    706    1.0\n",
      "eta[5]       -0.6    0.05   0.85  -2.24  -1.19  -0.63   0.02   1.03    278    1.0\n",
      "eta[6]      -0.96    0.03   0.82  -2.74  -1.46  -0.88  -0.39   0.59    982    1.0\n",
      "eta[7]      -1.12    0.06   0.86   -2.8  -1.68   -1.1  -0.57   0.58    230   1.01\n",
      "eta[8]      -0.48    0.05   0.86  -2.18  -1.02  -0.43   0.07   1.16    341    1.0\n",
      "eta[9]       0.07    0.03   0.81  -1.63  -0.49   0.09   0.61   1.61    578    1.0\n",
      "eta[10]      0.42    0.03   0.78  -1.08  -0.13   0.42   0.93   1.88    610    1.0\n",
      "eta[11]      0.32    0.05   0.83  -1.57  -0.17   0.38   0.89   1.79    273   1.01\n",
      "eta[12]    1.0e-3    0.03   0.81  -1.57  -0.57   0.01   0.54   1.52    710   1.01\n",
      "eta[13]     -0.45    0.04   0.81  -2.06  -1.03  -0.41    0.1   0.99    401    1.0\n",
      "eta[14]      0.09    0.04   0.82  -1.51  -0.41   0.08   0.64   1.75    347    1.0\n",
      "eta[15]      0.61    0.04   0.77  -0.87   0.03   0.59   1.15   2.09    322   1.01\n",
      "eta[16]      0.77    0.04   0.75  -0.66   0.26   0.75   1.27   2.26    416   1.01\n",
      "eta[17]     -0.05    0.04   0.83  -1.73  -0.61  -0.07   0.53   1.45    392   1.01\n",
      "eta[18]     -0.89    0.04   0.74  -2.34  -1.43  -0.88  -0.39   0.54    346   1.01\n",
      "eta[19]     -0.32    0.04   0.76  -1.72  -0.86  -0.33   0.22   1.27    323    1.0\n",
      "f_star[0]    0.04    0.01   0.45  -0.83  -0.25   0.04   0.33   0.92    953    1.0\n",
      "f_star[1] -5.4e-3  8.1e-3   0.25   -0.5  -0.17-4.7e-3   0.15   0.51    989    1.0\n",
      "f_star[2]   -0.15  2.7e-3   0.09  -0.32  -0.21  -0.15   -0.1   0.02   1000   1.01\n",
      "f_star[3]   -0.46  2.5e-3   0.08  -0.62  -0.52  -0.47  -0.41  -0.32   1000    1.0\n",
      "f_star[4]   -0.92  3.2e-3   0.09  -1.11  -0.99  -0.91  -0.86  -0.74    864    1.0\n",
      "f_star[5]   -1.38  2.5e-3   0.08  -1.53  -1.43  -1.38  -1.33  -1.24    923    1.0\n",
      "f_star[6]   -1.71  2.0e-3   0.06  -1.84  -1.76  -1.72  -1.67  -1.59   1000    1.0\n",
      "f_star[7]    -1.8  2.4e-3   0.07  -1.95  -1.85   -1.8  -1.75  -1.66   1000    1.0\n",
      "f_star[8]   -1.43  2.4e-3   0.07  -1.57  -1.48  -1.43  -1.38  -1.29    910    1.0\n",
      "f_star[9]   -0.64  2.3e-3   0.07  -0.78  -0.69  -0.64  -0.59  -0.49   1000    1.0\n",
      "f_star[10]   0.15  2.2e-3   0.07   0.02   0.11   0.15    0.2   0.28    999    1.0\n",
      "f_star[11]   0.52  2.1e-3   0.06   0.39   0.47   0.52   0.56   0.64    939    1.0\n",
      "f_star[12]   0.38  2.3e-3   0.07   0.24   0.33   0.38   0.43   0.52   1000    1.0\n",
      "f_star[13]  -0.01  2.3e-3   0.07  -0.15  -0.06  -0.01   0.04   0.13   1000    1.0\n",
      "f_star[14]  -0.19  2.1e-3   0.07  -0.32  -0.23  -0.19  -0.14  -0.06   1000    1.0\n",
      "f_star[15]   0.15  2.1e-3   0.06   0.03   0.11   0.15    0.2   0.28    962    1.0\n",
      "f_star[16]   0.72  2.0e-3   0.06   0.59   0.68   0.72   0.76   0.84    973    1.0\n",
      "f_star[17]   0.84  2.3e-3   0.07    0.7   0.79   0.84   0.89   0.99    927    1.0\n",
      "f_star[18]   0.27  2.5e-3   0.07   0.13   0.22   0.27   0.32   0.41    836    1.0\n",
      "f_star[19]  -0.52  2.2e-3   0.07  -0.65  -0.57  -0.52  -0.47  -0.39   1000    1.0\n",
      "f_star[20]  -0.84  2.3e-3   0.07  -0.98  -0.89  -0.84  -0.79   -0.7   1000    1.0\n",
      "f_star[21]  -0.56  3.2e-3   0.09  -0.73  -0.62  -0.56   -0.5  -0.39    740    1.0\n",
      "f_star[22]  -0.18  3.5e-3   0.11   -0.4  -0.26  -0.19  -0.11   0.04   1000    1.0\n",
      "f_star[23]  -0.06  8.5e-3   0.27  -0.61  -0.24  -0.06   0.11   0.45   1000    1.0\n",
      "f_star[24]  -0.07    0.01   0.44  -0.96  -0.38  -0.06   0.22   0.78    955    1.0\n",
      "y_star[0]    0.04    0.02   0.53   -1.0  -0.31   0.03   0.39   1.06   1000    1.0\n",
      "y_star[1] -4.5e-3    0.01    0.4  -0.78  -0.28-9.7e-3   0.26   0.79    890    1.0\n",
      "y_star[2]   -0.15    0.01    0.3  -0.74  -0.36  -0.16   0.05   0.44    908    1.0\n",
      "y_star[3]   -0.46    0.01   0.31  -1.07  -0.67  -0.46  -0.24   0.19    756    1.0\n",
      "y_star[4]   -0.91  9.6e-3   0.31  -1.49  -1.13  -0.92  -0.71  -0.33   1000    1.0\n",
      "y_star[5]   -1.39  9.6e-3    0.3  -1.99   -1.6  -1.39  -1.17  -0.79   1000    1.0\n",
      "y_star[6]   -1.72  9.5e-3    0.3  -2.32  -1.91  -1.72  -1.52  -1.16    975    1.0\n",
      "y_star[7]    -1.8  9.6e-3   0.29  -2.37   -2.0   -1.8  -1.59   -1.2    931    1.0\n",
      "y_star[8]   -1.42  9.8e-3    0.3  -1.98  -1.62  -1.42  -1.22  -0.84    926    1.0\n",
      "y_star[9]   -0.63  9.6e-3    0.3  -1.21  -0.85  -0.63  -0.43  -0.02   1000    1.0\n",
      "y_star[10]   0.16  9.4e-3   0.29  -0.42  -0.03   0.16   0.36   0.75    951    1.0\n",
      "y_star[11]   0.52  9.3e-3   0.29  -0.05   0.32   0.53   0.73   1.12   1000    1.0\n",
      "y_star[12]   0.39  9.5e-3   0.29  -0.19   0.19    0.4   0.59   0.96    921    1.0\n",
      "y_star[13]  -0.01  9.5e-3   0.29  -0.58  -0.22  -0.02   0.19   0.55    947    1.0\n",
      "y_star[14]  -0.19  9.5e-3    0.3  -0.79  -0.39  -0.18   0.02    0.4    975    1.0\n",
      "y_star[15]   0.15  9.2e-3   0.29  -0.42  -0.05   0.15   0.34   0.72   1000    1.0\n",
      "y_star[16]   0.72  9.8e-3   0.29   0.14   0.53   0.72   0.91    1.3    854    1.0\n",
      "y_star[17]   0.85  9.5e-3    0.3   0.27   0.64   0.84   1.05   1.45   1000    1.0\n",
      "y_star[18]   0.27  9.1e-3   0.29   -0.3   0.08   0.27   0.45   0.84   1000    1.0\n",
      "y_star[19]  -0.51    0.01    0.3  -1.12  -0.72  -0.52  -0.29   0.09    841    1.0\n",
      "y_star[20]  -0.84  9.5e-3   0.29  -1.44  -1.03  -0.84  -0.64  -0.26    938    1.0\n",
      "y_star[21]  -0.55  9.2e-3   0.29  -1.14  -0.75  -0.55  -0.35-9.8e-3   1000    1.0\n",
      "y_star[22]  -0.16  9.8e-3   0.31  -0.74  -0.37  -0.18   0.04   0.46   1000    1.0\n",
      "y_star[23]  -0.06    0.01   0.39  -0.85  -0.34  -0.06   0.22   0.68   1000    1.0\n",
      "y_star[24]  -0.08    0.02   0.54  -1.14  -0.42  -0.09   0.26   0.93    940    1.0\n",
      "lp__       116.77     0.2   3.38 109.64 114.51 117.16 119.21 122.68    274   1.02\n",
      "\n",
      "Samples were drawn using NUTS at Fri Apr 27 20:24:32 2018.\n",
      "For each parameter, n_eff is a crude measure of effective sample size,\n",
      "and Rhat is the potential scale reduction factor on split chains (at \n",
      "convergence, Rhat=1).\n"
     ]
    }
   ],
   "source": [
    "print(fit_fitc)"
   ]
  },
  {
   "cell_type": "code",
   "execution_count": 27,
   "metadata": {
    "collapsed": true
   },
   "outputs": [],
   "source": [
    "samples = fit_fitc.extract(permuted=True)\n",
    "eta = samples['eta']\n",
    "eta_mean = np.mean(eta, axis=0)\n",
    "sigma = samples['sigma']\n",
    "sigma_mean = np.mean(sigma, axis=0)\n",
    "alpha = samples['alpha']\n",
    "alpha_mean = np.mean(alpha, axis=0)\n",
    "rho = samples['rho']\n",
    "f_star = samples['f_star']\n",
    "y_star = samples['y_star']\n",
    "f_star_mean = np.mean(f_star, axis=0)\n",
    "y_star_mean = np.mean(y_star, axis=0)"
   ]
  },
  {
   "cell_type": "code",
   "execution_count": 28,
   "metadata": {
    "collapsed": false
   },
   "outputs": [
    {
     "data": {
      "text/plain": [
       "[<matplotlib.lines.Line2D at 0x7f39c66b9898>]"
      ]
     },
     "execution_count": 28,
     "metadata": {},
     "output_type": "execute_result"
    },
    {
     "data": {
      "image/png": "[encoded data removed]",
      "text/plain": [
       "<Figure size 432x288 with 1 Axes>"
      ]
     },
     "metadata": {},
     "output_type": "display_data"
    }
   ],
   "source": [
    "plt.plot(eta[:, 0])\n",
    "plt.plot(eta[:, 1])\n",
    "plt.plot(eta[:, 10])\n",
    "plt.plot(eta[:, 10])"
   ]
  },
  {
   "cell_type": "code",
   "execution_count": 29,
   "metadata": {
    "collapsed": false
   },
   "outputs": [
    {
     "data": {
      "image/png": "[encoded data removed]",
      "text/plain": [
       "<Figure size 432x288 with 1 Axes>"
      ]
     },
     "metadata": {},
     "output_type": "display_data"
    }
   ],
   "source": [
    "\n",
    "plt.hist(sigma, range=[0, 0.8]);\n",
    "plt.hist(rho, range=[0.2, 1]);\n",
    "plt.hist(alpha, range=[0, 2]);\n"
   ]
  },
  {
   "cell_type": "markdown",
   "metadata": {},
   "source": [
    "#### Plots of one sample of f_star for 25 new test points."
   ]
  },
  {
   "cell_type": "code",
   "execution_count": 30,
   "metadata": {
    "collapsed": false
   },
   "outputs": [
    {
     "data": {
      "text/plain": [
       "[<matplotlib.lines.Line2D at 0x7f39e59145c0>]"
      ]
     },
     "execution_count": 30,
     "metadata": {},
     "output_type": "execute_result"
    },
    {
     "data": {
      "image/png": "[encoded data removed]",
      "text/plain": [
       "<Figure size 432x288 with 1 Axes>"
      ]
     },
     "metadata": {},
     "output_type": "display_data"
    }
   ],
   "source": [
    "plt.plot(X,Y, 'ro')\n",
    "plt.plot(X_star, f_star[4,:], 'bo')\n",
    "plt.plot(X_star, f_star[720,:], 'go')"
   ]
  },
  {
   "cell_type": "markdown",
   "metadata": {},
   "source": [
    "#### Plots of one sample of y_star for 25 new test points."
   ]
  },
  {
   "cell_type": "code",
   "execution_count": 2,
   "metadata": {
    "collapsed": false
   },
   "outputs": [
    {
     "ename": "NameError",
     "evalue": "name 'plt' is not defined",
     "output_type": "error",
     "traceback": [
      "\u001b[0;31m---------------------------------------------------------------------------\u001b[0m",
      "\u001b[0;31mNameError\u001b[0m                                 Traceback (most recent call last)",
      "\u001b[0;32m<ipython-input-2-fe9809ba582a>\u001b[0m in \u001b[0;36m<module>\u001b[0;34m()\u001b[0m\n\u001b[0;32m----> 1\u001b[0;31m \u001b[0mplt\u001b[0m\u001b[0;34m.\u001b[0m\u001b[0mplot\u001b[0m\u001b[0;34m(\u001b[0m\u001b[0mX\u001b[0m\u001b[0;34m,\u001b[0m\u001b[0mY\u001b[0m\u001b[0;34m,\u001b[0m \u001b[0;34m'ro'\u001b[0m\u001b[0;34m)\u001b[0m\u001b[0;34m\u001b[0m\u001b[0m\n\u001b[0m\u001b[1;32m      2\u001b[0m \u001b[0mplt\u001b[0m\u001b[0;34m.\u001b[0m\u001b[0mplot\u001b[0m\u001b[0;34m(\u001b[0m\u001b[0mX_star\u001b[0m\u001b[0;34m,\u001b[0m \u001b[0my_star\u001b[0m\u001b[0;34m[\u001b[0m\u001b[0;36m4\u001b[0m\u001b[0;34m,\u001b[0m\u001b[0;34m:\u001b[0m\u001b[0;34m]\u001b[0m\u001b[0;34m,\u001b[0m \u001b[0;34m'bo'\u001b[0m\u001b[0;34m)\u001b[0m\u001b[0;34m\u001b[0m\u001b[0m\n\u001b[1;32m      3\u001b[0m \u001b[0mplt\u001b[0m\u001b[0;34m.\u001b[0m\u001b[0mplot\u001b[0m\u001b[0;34m(\u001b[0m\u001b[0mX_star\u001b[0m\u001b[0;34m,\u001b[0m \u001b[0my_star\u001b[0m\u001b[0;34m[\u001b[0m\u001b[0;36m720\u001b[0m\u001b[0;34m,\u001b[0m\u001b[0;34m:\u001b[0m\u001b[0;34m]\u001b[0m\u001b[0;34m,\u001b[0m \u001b[0;34m'go'\u001b[0m\u001b[0;34m)\u001b[0m\u001b[0;34m\u001b[0m\u001b[0m\n",
      "\u001b[0;31mNameError\u001b[0m: name 'plt' is not defined"
     ]
    }
   ],
   "source": [
    "plt.plot(X,Y, 'ro')\n",
    "plt.plot(X_star, y_star[4,:], 'bo')\n",
    "plt.plot(X_star, y_star[720,:], 'go')"
   ]
  },
  {
   "cell_type": "code",
   "execution_count": null,
   "metadata": {
    "collapsed": true
   },
   "outputs": [],
   "source": [
    "f_perc_25 = np.percentile(f, 2.5, axis=0)\n",
    "f_perc_975 = np.percentile(f, 97.5, axis=0)"
   ]
  },
  {
   "cell_type": "code",
   "execution_count": null,
   "metadata": {
    "collapsed": true
   },
   "outputs": [],
   "source": [
    "plt.plot(X,Y, 'ro')\n",
    "plt.plot(X, f_perc_25, 'bo')\n",
    "plt.plot(X, f_perc_975, 'go')"
   ]
  },
  {
   "cell_type": "code",
   "execution_count": 32,
   "metadata": {
    "collapsed": true
   },
   "outputs": [],
   "source": [
    "f_star_perc_25 = np.percentile(f_star, 2.5, axis=0)\n",
    "f_star_perc_975 = np.percentile(f_star, 97.5, axis=0)"
   ]
  },
  {
   "cell_type": "code",
   "execution_count": 33,
   "metadata": {
    "collapsed": true
   },
   "outputs": [],
   "source": [
    "y_star_perc_25 = np.percentile(y_star, 2.5, axis=0)\n",
    "y_star_perc_975 = np.percentile(y_star, 97.5, axis=0)"
   ]
  },
  {
   "cell_type": "code",
   "execution_count": 34,
   "metadata": {
    "collapsed": false
   },
   "outputs": [
    {
     "data": {
      "text/plain": [
       "[<matplotlib.lines.Line2D at 0x7f39e5902c50>]"
      ]
     },
     "execution_count": 34,
     "metadata": {},
     "output_type": "execute_result"
    },
    {
     "data": {
      "image/png": "[encoded data removed]",
      "text/plain": [
       "<Figure size 432x288 with 1 Axes>"
      ]
     },
     "metadata": {},
     "output_type": "display_data"
    }
   ],
   "source": [
    "# plt.plot(X,Y, 'ro')\n",
    "plt.plot(X_star, f_star_perc_25, 'bo')\n",
    "plt.plot(X_star, f_star_perc_975, 'go')"
   ]
  },
  {
   "cell_type": "code",
   "execution_count": 35,
   "metadata": {
    "collapsed": false
   },
   "outputs": [
    {
     "data": {
      "text/plain": [
       "[<matplotlib.lines.Line2D at 0x7f39c6364f60>]"
      ]
     },
     "execution_count": 35,
     "metadata": {},
     "output_type": "execute_result"
    },
    {
     "data": {
      "image/png": "[encoded data removed]",
      "text/plain": [
       "<Figure size 432x288 with 1 Axes>"
      ]
     },
     "metadata": {},
     "output_type": "display_data"
    }
   ],
   "source": [
    "plt.plot(X,Y, 'ro')\n",
    "plt.plot(X_star, y_star_perc_25, 'bo')\n",
    "plt.plot(X_star, y_star_perc_975, 'go')"
   ]
  },
  {
   "cell_type": "code",
   "execution_count": 36,
   "metadata": {
    "collapsed": false
   },
   "outputs": [
    {
     "name": "stdout",
     "output_type": "stream",
     "text": [
      "Mean difference for fstar between 2.5 and 97.5 percentile: 0.465\n",
      "Mean difference for ystar between 2.5 and 97.5 percentile: 1.268\n"
     ]
    }
   ],
   "source": [
    "print(\"Mean difference for fstar between 2.5 and 97.5 percentile: %.3f\"%np.mean(f_star_perc_975 - f_star_perc_25))\n",
    "print(\"Mean difference for ystar between 2.5 and 97.5 percentile: %.3f\"% np.mean(y_star_perc_975 - y_star_perc_25))"
   ]
  },
  {
   "cell_type": "code",
   "execution_count": 40,
   "metadata": {
    "collapsed": true
   },
   "outputs": [],
   "source": [
    "rand_inds = np.random.randint(SAMPLES_SIZE, size=5)"
   ]
  },
  {
   "cell_type": "code",
   "execution_count": 38,
   "metadata": {
    "collapsed": false
   },
   "outputs": [
    {
     "data": {
      "text/plain": [
       "[<matplotlib.lines.Line2D at 0x7f39c65c7908>]"
      ]
     },
     "execution_count": 38,
     "metadata": {},
     "output_type": "execute_result"
    },
    {
     "data": {
      "image/png": "[encoded data removed]",
      "text/plain": [
       "<Figure size 432x288 with 1 Axes>"
      ]
     },
     "metadata": {},
     "output_type": "display_data"
    }
   ],
   "source": [
    "# plt.plot(X,Y, 'ro')\n",
    "plt.plot(X_u_noisy, eta[-10,:], 'y+')\n",
    "# plt.plot(X_u_noisy, eta[rand_inds[2],:], 'g+')"
   ]
  },
  {
   "cell_type": "code",
   "execution_count": 39,
   "metadata": {
    "collapsed": false
   },
   "outputs": [
    {
     "ename": "KeyError",
     "evalue": "'f_mean'",
     "output_type": "error",
     "traceback": [
      "\u001b[0;31m---------------------------------------------------------------------------\u001b[0m",
      "\u001b[0;31mKeyError\u001b[0m                                  Traceback (most recent call last)",
      "\u001b[0;32m<ipython-input-39-ad89e163b32a>\u001b[0m in \u001b[0;36m<module>\u001b[0;34m()\u001b[0m\n\u001b[0;32m----> 1\u001b[0;31m \u001b[0mf_mean\u001b[0m \u001b[0;34m=\u001b[0m \u001b[0msamples\u001b[0m\u001b[0;34m[\u001b[0m\u001b[0;34m'f_mean'\u001b[0m\u001b[0;34m]\u001b[0m\u001b[0;34m\u001b[0m\u001b[0m\n\u001b[0m",
      "\u001b[0;31mKeyError\u001b[0m: 'f_mean'"
     ]
    }
   ],
   "source": [
    "f_mean = samples['f_mean']"
   ]
  },
  {
   "cell_type": "code",
   "execution_count": null,
   "metadata": {
    "collapsed": true
   },
   "outputs": [],
   "source": []
  }
 ],
 "metadata": {
  "anaconda-cloud": {},
  "kernelspec": {
   "display_name": "Python [conda env:stanpy35]",
   "language": "python",
   "name": "conda-env-stanpy35-py"
  },
  "language_info": {
   "codemirror_mode": {
    "name": "ipython",
    "version": 3
   },
   "file_extension": ".py",
   "mimetype": "text/x-python",
   "name": "python",
   "nbconvert_exporter": "python",
   "pygments_lexer": "ipython3",
   "version": "3.5.4"
  }
 },
 "nbformat": 4,
 "nbformat_minor": 1
}
