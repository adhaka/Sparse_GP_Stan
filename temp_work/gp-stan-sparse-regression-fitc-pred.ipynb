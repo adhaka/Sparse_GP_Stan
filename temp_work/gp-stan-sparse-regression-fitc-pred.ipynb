{
 "cells": [
  {
   "cell_type": "markdown",
   "metadata": {},
   "source": [
    "###  Sparse GP Regression with FITC and predictive distribution- FITC prior for sampling over f.\n",
    "\n",
    "\n",
    "This notebook uses the FITC prior to sample over the latent function values. The integration over inducing \n",
    "outputs(u) can be done analytically, and we can directly sample from the multivariate Gaussian. Data to be used will be Snelson 1D dataset."
   ]
  },
  {
   "cell_type": "code",
   "execution_count": 12,
   "metadata": {
    "collapsed": true
   },
   "outputs": [],
   "source": [
    "%matplotlib inline\n",
    "%precision 4\n",
    "import  matplotlib\n",
    "import matplotlib.pyplot as plt\n",
    "import pystan"
   ]
  },
  {
   "cell_type": "code",
   "execution_count": 5,
   "metadata": {
    "collapsed": true
   },
   "outputs": [],
   "source": [
    "import numpy as np"
   ]
  },
  {
   "cell_type": "code",
   "execution_count": 6,
   "metadata": {
    "collapsed": true
   },
   "outputs": [],
   "source": [
    "import scipy.io as sio"
   ]
  },
  {
   "cell_type": "code",
   "execution_count": 7,
   "metadata": {
    "collapsed": true
   },
   "outputs": [],
   "source": [
    "df = sio.loadmat('snelson1d.mat')"
   ]
  },
  {
   "cell_type": "code",
   "execution_count": 16,
   "metadata": {
    "collapsed": true
   },
   "outputs": [],
   "source": [
    "X = df['X']\n",
    "Y = df['Y']\n",
    "X_t = df['tX']\n",
    "Y_t = df['tY']"
   ]
  },
  {
   "cell_type": "code",
   "execution_count": 17,
   "metadata": {
    "collapsed": true
   },
   "outputs": [],
   "source": [
    "SEED = 27042018"
   ]
  },
  {
   "cell_type": "code",
   "execution_count": 18,
   "metadata": {
    "collapsed": true
   },
   "outputs": [],
   "source": [
    "np.random.seed(seed=SEED)"
   ]
  },
  {
   "cell_type": "code",
   "execution_count": 19,
   "metadata": {
    "collapsed": false
   },
   "outputs": [
    {
     "name": "stdout",
     "output_type": "stream",
     "text": [
      "X minimum value:0.059\n",
      "X maximum value:5.966\n"
     ]
    }
   ],
   "source": [
    "print(\"X minimum value:%.3f\"%X.min())\n",
    "print(\"X maximum value:%.3f\"% X.max())"
   ]
  },
  {
   "cell_type": "code",
   "execution_count": 20,
   "metadata": {
    "collapsed": false
   },
   "outputs": [],
   "source": [
    "M = 20\n",
    "X_u_noisy = np.linspace(0,6, M)[:, None]\n",
    "# X_u_noisy = X_u + 0.1*np.random.rand(*X_u.shape) "
   ]
  },
  {
   "cell_type": "code",
   "execution_count": 21,
   "metadata": {
    "collapsed": true
   },
   "outputs": [],
   "source": [
    "N_star = 30\n",
    "X_star = np.linspace(-1.0, 7.0, N_star)[:, None]"
   ]
  },
  {
   "cell_type": "markdown",
   "metadata": {},
   "source": [
    "### Code"
   ]
  },
  {
   "cell_type": "code",
   "execution_count": 22,
   "metadata": {
    "collapsed": false
   },
   "outputs": [],
   "source": [
    "stan_code_fitc_pred= \"\"\"\n",
    "functions{\n",
    "    vector gp_pred_rng(real[] x_train, vector y, real[] xu, real[] x_star, real alpha, real rho, real sigma, real jitter){\n",
    "        \n",
    "        int N1 = rows(y);\n",
    "        int N2 = size(x_star);\n",
    "        int M = size(xu);\n",
    "        matrix[N2, N2] cov_star;\n",
    "        vector[M] K_div_y;\n",
    "        vector[N2] f_star_mean;\n",
    "        \n",
    "        vector[N2] f_star;\n",
    "        {\n",
    "            vector[M] y_scaled;\n",
    "            vector[M] L_S_div_y;\n",
    "            matrix[N1,N1] diff;\n",
    "            matrix[N1,N1] A;\n",
    "            matrix[M, N1] v_pred;\n",
    "            matrix[N1, M] S1;\n",
    "            matrix[M, M] S;\n",
    "            matrix[M, M] T;\n",
    "            matrix[M, M] L_S;\n",
    "            matrix[M, N2] v_pred_star;\n",
    "            \n",
    "            matrix[N1, N1] Kff = cov_exp_quad(x_train, alpha, rho);\n",
    "            matrix[N1, M] Kfu = cov_exp_quad(x_train, xu, alpha, rho);\n",
    "            matrix[N2, N2] K_star_star = cov_exp_quad(x_star, alpha, rho);\n",
    "            matrix[M, M] Kuu = cov_exp_quad(xu, alpha, rho);\n",
    "            \n",
    "            // matrix[N1, N1] L_K= cholesky_decompose(Kff);\n",
    "            matrix[M, M] L_U = cholesky_decompose(Kuu);\n",
    "            matrix[N2, N1] K_star_f = cov_exp_quad(x_star, x_train, alpha, rho);\n",
    "            matrix[N2, M] K_star_u = cov_exp_quad(x_star, xu, alpha, rho);\n",
    "            matrix[M, N2]v_star = mdivide_left_tri_low(L_U, K_star_u');\n",
    "\n",
    "            matrix[N2, N2] Q_star_star = v_star'*v_star;\n",
    "\n",
    "            A= diag_matrix(rep_vector(0., N1));\n",
    "\n",
    "            v_pred = mdivide_left_tri_low(L_U, Kfu');\n",
    "            diff = Kff - v_pred'*v_pred;\n",
    "            for (i in 1:N1){\n",
    "                A[i,i] = 1./(diff[i,i]+square(sigma));\n",
    "            }\n",
    "            \n",
    "            S1 = A*Kfu;\n",
    "            S  = Kfu'*S1;\n",
    "            \n",
    "            T  = Kuu + S;\n",
    "            L_S = cholesky_decompose(T);\n",
    "            \n",
    "            // matrix[M,M] S_inv = inverse(S);\n",
    "            \n",
    "            v_pred_star = mdivide_left_tri_low(L_S, K_star_u');\n",
    "            cov_star = K_star_star - Q_star_star + v_pred_star'*v_pred_star;\n",
    "            y_scaled = Kfu'*(A*y);\n",
    "\n",
    "            L_S_div_y = mdivide_left_tri_low(L_S, y_scaled);    #forward substitution\n",
    "            K_div_y = mdivide_right_tri_low(L_S_div_y', L_S)';   #backward substitiion\n",
    "            f_star_mean = K_star_u*K_div_y;\n",
    "\n",
    "            f_star = multi_normal_rng(f_star_mean, cov_star);\n",
    "\n",
    "        }\n",
    "        return f_star;\n",
    "\n",
    "    }\n",
    "\n",
    "}\n",
    "\n",
    "data {\n",
    "    int<lower=1> N;\n",
    "    int<lower=1> M;\n",
    "    int<lower=1> N_star;\n",
    "    real x[N];\n",
    "    real x_star[N_star];\n",
    "    vector[N] y;\n",
    "    real xu[M];\n",
    "}\n",
    "\n",
    "transformed data {\n",
    "    real jitter = 1e-8;\n",
    "#     real rho = 1;\n",
    "#     real alpha = 1;\n",
    "\n",
    "}\n",
    "parameters {\n",
    "    \n",
    "    real<lower=1e-6> sigma;\n",
    "    real <lower=1e-4> alpha;\n",
    "    real<lower=1e-4> rho;\n",
    "    vector[M] eta;\n",
    "}\n",
    "\n",
    "model {\n",
    "\n",
    "    vector[N] f_mean;\n",
    "    matrix[N, N] f_cov;\n",
    "    matrix[N, N] A;\n",
    "    matrix[N, N] diff;\n",
    "        \n",
    "    {\n",
    "        matrix[M, M] L_U;\n",
    "        matrix[M, M] Kuu = cov_exp_quad(xu, alpha, rho);\n",
    "        matrix[N, M] Kfu = cov_exp_quad(x, xu, alpha, rho);\n",
    "        matrix[N, N] K = cov_exp_quad(x, alpha, rho);\n",
    "        vector[M] Kuu_inv_u;\n",
    "        matrix[M, N] v_pred;\n",
    "        vector[M] u;\n",
    "        matrix[N,N] Qff;\n",
    "        \n",
    "        for (m in 1:M)\n",
    "            Kuu[m, m] = Kuu[m, m] + jitter;\n",
    "                    \n",
    "        L_U = cholesky_decompose(Kuu);\n",
    "        u = L_U * eta;\n",
    "        \n",
    "        // f_mean = Kfu*(Kuu_inv*u) = Kfu * inv(LL')u = Kfu * inv(L') *inv(L) * L * eta = = Kfu * inv(L') * eta;        \n",
    "        Kuu_inv_u =  mdivide_left_tri_low(L_U, eta);\n",
    "        f_mean = Kfu*Kuu_inv_u;\n",
    "        \n",
    "\n",
    "        // f_cov = K - Kfu*(Kuu_inv*Kfu');            \n",
    "        v_pred = mdivide_left_tri_low(L_U, Kfu');\n",
    "        Qff = v_pred'*v_pred;\n",
    "        diff = K - Qff;\n",
    "        for (i in 1:N){\n",
    "            for(j in 1:N){\n",
    "                A[i,j] = 0.0;\n",
    "            }\n",
    "            A[i,i] = diff[i,i] + square(sigma);\n",
    "        }\n",
    "        \n",
    "        f_cov = A+Qff;\n",
    "    }\n",
    "    \n",
    "    rho ~ normal(0.90, 0.50);\n",
    "    alpha ~ normal(0.85, 0.50);\n",
    "\n",
    "    sigma ~ normal(0, 0.60);\n",
    "    eta ~ normal(0, 1);\n",
    "    y ~ multi_normal(f_mean, f_cov);\n",
    "}\n",
    "\n",
    "generated quantities{\n",
    "    vector[N_star] f_star = gp_pred_rng(x, y, xu, x_star, alpha, rho, sigma, jitter); \n",
    "    // vector[N_star] y_star = normal_rng(f_star, sigma);\n",
    "    vector[N_star] y_star;\n",
    "    for (i in 1:N_star){\n",
    "        y_star[i] = normal_rng(f_star[i], sigma);\n",
    "    }\n",
    "    \n",
    "}\n",
    "\n",
    "\n",
    "\"\"\"\n"
   ]
  },
  {
   "cell_type": "code",
   "execution_count": 23,
   "metadata": {
    "collapsed": false
   },
   "outputs": [
    {
     "name": "stderr",
     "output_type": "stream",
     "text": [
      "INFO:pystan:COMPILING THE C++ CODE FOR MODEL anon_model_127bf544dea8e38704506785eebd3b99 NOW.\n"
     ]
    }
   ],
   "source": [
    "stan_model_fitc = pystan.StanModel(model_code=stan_code_fitc_pred)"
   ]
  },
  {
   "cell_type": "code",
   "execution_count": 24,
   "metadata": {
    "collapsed": false
   },
   "outputs": [],
   "source": [
    "gp_fitc_pred_data = {'N':200, 'x':X.flatten(), 'y':Y.flatten(), 'M':M, 'xu':X_u_noisy.flatten(), 'N_star':N_star, 'x_star':X_star.flatten()}"
   ]
  },
  {
   "cell_type": "code",
   "execution_count": 25,
   "metadata": {
    "collapsed": true
   },
   "outputs": [],
   "source": [
    "SAMPLES_SIZE = 1400"
   ]
  },
  {
   "cell_type": "code",
   "execution_count": 26,
   "metadata": {
    "collapsed": false
   },
   "outputs": [
    {
     "name": "stderr",
     "output_type": "stream",
     "text": [
      "/u/26/dhakaa1/unix/anaconda2/envs/stanpy35/lib/python3.5/site-packages/pystan/misc.py:399: FutureWarning: Conversion of the second argument of issubdtype from `float` to `np.floating` is deprecated. In future, it will be treated as `np.float64 == np.dtype(float).type`.\n",
      "  elif np.issubdtype(np.asarray(v).dtype, float):\n"
     ]
    }
   ],
   "source": [
    "fit_fitc = stan_model_fitc.sampling(data=gp_fitc_pred_data, iter=SAMPLES_SIZE, chains=2)"
   ]
  },
  {
   "cell_type": "code",
   "execution_count": 27,
   "metadata": {
    "collapsed": false
   },
   "outputs": [
    {
     "name": "stdout",
     "output_type": "stream",
     "text": [
      "Inference for Stan model: anon_model_127bf544dea8e38704506785eebd3b99.\n",
      "2 chains, each with iter=1400; warmup=700; thin=1; \n",
      "post-warmup draws per chain=700, total post-warmup draws=1400.\n",
      "\n",
      "             mean se_mean     sd   2.5%    25%    50%    75%  97.5%  n_eff   Rhat\n",
      "sigma        0.27    0.02   0.02   0.24   0.25   0.25   0.29   0.31      1   2.71\n",
      "alpha         0.7    0.18   0.18   0.41   0.51   0.87   0.88   0.88      1   3.17\n",
      "rho          0.57    0.09   0.09   0.41   0.49    0.6   0.65   0.65      1   3.45\n",
      "eta[0]       -0.1    0.06    0.6  -1.61  -0.22  -0.19 9.7e-3   1.25     98   1.02\n",
      "eta[1]       0.53    0.52   0.74  -1.39    0.3   0.92   0.96    1.3      2   1.28\n",
      "eta[2]       0.31    0.26   0.57   -1.1   0.13   0.52   0.54   1.29      5   1.11\n",
      "eta[3]      -1.56    1.12   1.12  -2.57  -2.56  -2.44  -0.59   0.87      1   2.23\n",
      "eta[4]      -0.25    0.37   0.63  -1.82  -0.59 2.2e-3   0.08   0.77      3   1.18\n",
      "eta[5]      -0.07    0.84   0.84  -1.96  -0.65    0.5   0.53   0.72      1   1.57\n",
      "eta[6]      -0.24    0.96   0.96   -2.5  -0.98   0.49   0.54    0.6      1    1.9\n",
      "eta[7]      -0.15     1.0    1.0  -2.48  -0.93   0.55   0.56   0.76      1    1.6\n",
      "eta[8]       0.14    0.86   0.86  -1.76  -0.45   0.74   0.78    0.9      1   1.63\n",
      "eta[9]      -0.45    0.87   0.87  -1.18  -1.16  -1.11   0.32   1.37      1    1.9\n",
      "eta[10]      0.06    0.48   0.67  -0.84  -0.33   -0.3   0.43   1.72      2   1.29\n",
      "eta[11]      0.75    0.21   0.71  -0.92   0.51   0.95   0.98   2.25     11    1.1\n",
      "eta[12]      0.79    0.65   0.93  -1.34   0.12   1.41   1.43   1.87      2   1.51\n",
      "eta[13]      0.49    0.99   0.99  -1.66  -0.27    1.3   1.35   1.36      1   2.16\n",
      "eta[14]     -0.46    0.84   0.84  -1.17  -1.13   -1.1    0.3   1.45      1   1.83\n",
      "eta[15]      0.11    0.65   0.65  -0.39  -0.37  -0.33   0.51   1.71      1   1.56\n",
      "eta[16]      0.87    0.05   0.53  -0.41   0.81   0.87   0.98   1.91    130    1.0\n",
      "eta[17]     -0.21    0.04    0.5  -1.43  -0.26  -0.21  -0.17    1.0    133    1.0\n",
      "eta[18]     -0.86     0.2   0.57  -2.14  -1.03  -0.67  -0.64   0.12      8    1.2\n",
      "eta[19]     -0.41    0.25   0.55  -1.25  -0.67   -0.6  -0.21   0.97      5   1.17\n",
      "f_star[0]    0.01    0.02   0.69   -1.4  -0.42   0.03   0.47   1.36   1400    1.0\n",
      "f_star[1]    0.05    0.02    0.6  -1.08  -0.36   0.05   0.44   1.23   1400    1.0\n",
      "f_star[2]    0.06    0.01   0.43   -0.8  -0.23   0.04   0.35   0.91   1400    1.0\n",
      "f_star[3]  5.2e-4  5.9e-3   0.22  -0.44  -0.15 1.0e-3   0.15   0.44   1400   1.01\n",
      "f_star[4]   -0.17  2.0e-3   0.07  -0.31  -0.21  -0.17  -0.12  -0.02   1361    1.0\n",
      "f_star[5]   -0.47  2.2e-3   0.07  -0.62  -0.52  -0.48  -0.43  -0.32   1110   1.01\n",
      "f_star[6]    -0.9  2.4e-3   0.08  -1.06  -0.95   -0.9  -0.84  -0.73   1273    1.0\n",
      "f_star[7]   -1.34  2.1e-3   0.07  -1.48  -1.38  -1.33  -1.29  -1.19   1200    1.0\n",
      "f_star[8]   -1.68  1.6e-3   0.06  -1.79  -1.72  -1.68  -1.64  -1.57   1236   1.01\n",
      "f_star[9]   -1.82  2.5e-3   0.06  -1.95  -1.86  -1.82  -1.77  -1.69    670   1.02\n",
      "f_star[10]  -1.58  1.9e-3   0.07  -1.71  -1.63  -1.58  -1.53  -1.45   1215    1.0\n",
      "f_star[11]  -0.92  2.2e-3   0.07  -1.05  -0.97  -0.92  -0.87  -0.77   1069    1.0\n",
      "f_star[12]  -0.11  1.8e-3   0.07  -0.24  -0.16  -0.11  -0.07   0.03   1348   1.01\n",
      "f_star[13]   0.44  1.6e-3   0.06   0.32    0.4   0.43   0.47   0.56   1358    1.0\n",
      "f_star[14]   0.51  1.9e-3   0.06   0.38   0.46   0.51   0.55   0.63   1099   1.01\n",
      "f_star[15]    0.2  1.9e-3   0.07   0.06   0.15    0.2   0.25   0.33   1400    1.0\n",
      "f_star[16]  -0.14  1.7e-3   0.07  -0.27  -0.18  -0.14   -0.1  -0.01   1400   1.01\n",
      "f_star[17]  -0.12  1.6e-3   0.06  -0.24  -0.16  -0.12  -0.08-7.9e-3   1369    1.0\n",
      "f_star[18]   0.34  1.6e-3   0.06   0.22    0.3   0.34   0.38   0.45   1291   1.01\n",
      "f_star[19]   0.82  2.1e-3   0.06    0.7   0.78   0.82   0.86   0.93    826    1.0\n",
      "f_star[20]   0.78  1.8e-3   0.07   0.64   0.73   0.78   0.82   0.92   1400    1.0\n",
      "f_star[21]   0.15  1.8e-3   0.07   0.01    0.1   0.14   0.19   0.28   1400    1.0\n",
      "f_star[22]  -0.58  2.0e-3   0.06   -0.7  -0.62  -0.58  -0.54  -0.46   1002   1.01\n",
      "f_star[23]  -0.84  1.9e-3   0.07  -0.98  -0.88  -0.84  -0.79   -0.7   1278    1.0\n",
      "f_star[24]  -0.57  3.3e-3   0.08  -0.72  -0.62  -0.57  -0.52  -0.42    559   1.02\n",
      "f_star[25]   -0.2  2.9e-3    0.1  -0.39  -0.26   -0.2  -0.13 1.2e-4   1203    1.0\n",
      "f_star[26]  -0.04  8.2e-3   0.25  -0.55  -0.21  -0.03   0.13   0.45    912   1.01\n",
      "f_star[27]  -0.06    0.01   0.45   -0.9  -0.37  -0.07   0.24   0.86   1273    1.0\n",
      "f_star[28]  -0.11    0.02   0.61  -1.28  -0.49  -0.13   0.28   1.11   1272    1.0\n",
      "f_star[29]   -0.1    0.02    0.7  -1.52  -0.53  -0.11   0.32   1.26   1320    1.0\n",
      "y_star[0]    0.02    0.02   0.74  -1.49  -0.47   0.02   0.51   1.48   1400    1.0\n",
      "y_star[1]    0.06    0.02   0.65  -1.24  -0.38   0.06   0.51   1.31   1400    1.0\n",
      "y_star[2]    0.06    0.01   0.51  -0.95  -0.29   0.05    0.4   1.05   1400    1.0\n",
      "y_star[3] -7.1e-3  9.4e-3   0.35  -0.67  -0.25  -0.02   0.23    0.7   1400    1.0\n",
      "y_star[4]   -0.17  7.5e-3   0.28  -0.69  -0.35  -0.17   0.02   0.38   1357    1.0\n",
      "y_star[5]   -0.47  7.5e-3   0.28   -1.0  -0.65  -0.48  -0.29    0.1   1394    1.0\n",
      "y_star[6]   -0.89  7.9e-3   0.28  -1.45  -1.07  -0.88  -0.69  -0.38   1243    1.0\n",
      "y_star[7]   -1.36  7.8e-3   0.28  -1.92  -1.54  -1.36  -1.17   -0.8   1306    1.0\n",
      "y_star[8]   -1.68  7.0e-3   0.26  -2.22  -1.85  -1.68  -1.51  -1.16   1400    1.0\n",
      "y_star[9]   -1.81  7.2e-3   0.27  -2.34   -2.0  -1.82  -1.63  -1.28   1400    1.0\n",
      "y_star[10]  -1.58  7.1e-3   0.27   -2.1  -1.76  -1.58  -1.41  -1.04   1400    1.0\n",
      "y_star[11]  -0.92  7.6e-3   0.27  -1.44  -1.11  -0.93  -0.73  -0.36   1261    1.0\n",
      "y_star[12]  -0.12  7.3e-3   0.27  -0.63  -0.31  -0.12   0.06   0.44   1400    1.0\n",
      "y_star[13]   0.45  7.5e-3   0.28  -0.09   0.25   0.45   0.64    1.0   1400    1.0\n",
      "y_star[14]   0.51  7.5e-3   0.28  -0.04   0.33    0.5   0.69   1.05   1400    1.0\n",
      "y_star[15]    0.2  8.3e-3   0.28  -0.35   0.03    0.2   0.37   0.76   1092    1.0\n",
      "y_star[16]  -0.14  7.1e-3   0.27  -0.67  -0.31  -0.14   0.04   0.39   1400    1.0\n",
      "y_star[17]  -0.12  7.8e-3   0.28  -0.68   -0.3  -0.12   0.06   0.44   1268    1.0\n",
      "y_star[18]   0.34  7.2e-3   0.26   -0.2   0.16   0.36   0.52   0.84   1311    1.0\n",
      "y_star[19]   0.82  7.3e-3   0.27   0.28   0.63   0.82    1.0   1.36   1400    1.0\n",
      "y_star[20]   0.77  7.5e-3   0.28   0.23   0.59   0.78   0.95   1.34   1400    1.0\n",
      "y_star[21]   0.15  7.5e-3   0.27  -0.37  -0.04   0.14   0.33    0.7   1331    1.0\n",
      "y_star[22]  -0.59  7.3e-3   0.27  -1.13  -0.78  -0.58   -0.4  -0.06   1400    1.0\n",
      "y_star[23]  -0.84  7.4e-3   0.28  -1.37  -1.03  -0.85  -0.66  -0.28   1400    1.0\n",
      "y_star[24]  -0.57  7.4e-3   0.28  -1.12  -0.75  -0.57  -0.38  -0.02   1400    1.0\n",
      "y_star[25]   -0.2  8.4e-3    0.3  -0.79  -0.39   -0.2-5.7e-3   0.38   1222    1.0\n",
      "y_star[26]  -0.04    0.01   0.37  -0.79  -0.31  -0.04   0.22   0.65   1223    1.0\n",
      "y_star[27]  -0.06    0.01   0.53  -1.06  -0.42  -0.07   0.29   1.06   1280    1.0\n",
      "y_star[28]  -0.12    0.02   0.66   -1.4  -0.54  -0.11   0.31    1.2   1332    1.0\n",
      "y_star[29]  -0.11    0.02   0.74  -1.61  -0.57  -0.11   0.39   1.33   1298    1.0\n",
      "lp__       113.95     3.8    3.8 110.45 111.17 111.82 116.73 122.28      1   1.59\n",
      "\n",
      "Samples were drawn using NUTS at Mon May  7 19:34:40 2018.\n",
      "For each parameter, n_eff is a crude measure of effective sample size,\n",
      "and Rhat is the potential scale reduction factor on split chains (at \n",
      "convergence, Rhat=1).\n"
     ]
    }
   ],
   "source": [
    "print(fit_fitc)"
   ]
  },
  {
   "cell_type": "code",
   "execution_count": 28,
   "metadata": {
    "collapsed": true
   },
   "outputs": [],
   "source": [
    "samples = fit_fitc.extract(permuted=True)\n"
   ]
  },
  {
   "cell_type": "code",
   "execution_count": 32,
   "metadata": {
    "collapsed": true
   },
   "outputs": [],
   "source": [
    "sigma_samples = samples['sigma']\n",
    "alpha_samples = samples['alpha']\n",
    "rho_samples = samples['rho']\n",
    "eta_samples = samples['eta']\n",
    "f_star_samples = samples['f_star']\n",
    "y_star_samples = samples['y_star']\n",
    "eta_mean = np.mean(eta_samples, axis=0)\n",
    "sigma_mean = np.mean(sigma_samples, axis=0)\n",
    "alpha_mean = np.mean(alpha_samples, axis=0)\n",
    "f_star_mean = np.mean(f_star_samples, axis=0)\n",
    "y_star_mean = np.mean(y_star_samples, axis=0)"
   ]
  },
  {
   "cell_type": "markdown",
   "metadata": {},
   "source": [
    "##### Plotting sample chain for eta(v)."
   ]
  },
  {
   "cell_type": "code",
   "execution_count": 29,
   "metadata": {
    "collapsed": false
   },
   "outputs": [
    {
     "data": {
      "text/plain": [
       "[<matplotlib.lines.Line2D at 0x7f288615bef0>]"
      ]
     },
     "execution_count": 29,
     "metadata": {},
     "output_type": "execute_result"
    },
    {
     "data": {
      "image/png": "[encoded data removed]",
      "text/plain": [
       "<Figure size 432x288 with 1 Axes>"
      ]
     },
     "metadata": {},
     "output_type": "display_data"
    }
   ],
   "source": [
    "plt.plot(eta[:, 0])\n",
    "plt.plot(eta[:, 1])\n",
    "plt.plot(eta[:, 10])"
   ]
  },
  {
   "cell_type": "code",
   "execution_count": 33,
   "metadata": {
    "collapsed": false
   },
   "outputs": [
    {
     "data": {
      "text/plain": [
       "<matplotlib.legend.Legend at 0x7f28bc3745c0>"
      ]
     },
     "execution_count": 33,
     "metadata": {},
     "output_type": "execute_result"
    },
    {
     "data": {
      "image/png": "[encoded data removed]",
      "text/plain": [
       "<Figure size 432x288 with 4 Axes>"
      ]
     },
     "metadata": {},
     "output_type": "display_data"
    }
   ],
   "source": [
    "f, axs = plt.subplots(2,2, sharey=True)\n",
    "axs[0,0].hist(sigma_samples)\n",
    "axs[0,0].set_title('Plotting samples for sigma')\n",
    "axs[0,0].legend(['Noise variance'])\n",
    "axs[0,1].hist(rho_samples)\n",
    "axs[0,1].set_title('Plotting samples for lengthscale')\n",
    "axs[0,1].legend(['lengthscale'])\n",
    "axs[1,0].hist(alpha_samples)\n",
    "# axs[1,0].set_title('Plotting samples for signalvariance')\n",
    "axs[1,0].legend(['signal var'])"
   ]
  },
  {
   "cell_type": "code",
   "execution_count": 34,
   "metadata": {
    "collapsed": false
   },
   "outputs": [
    {
     "name": "stdout",
     "output_type": "stream",
     "text": [
      "mean of noise variance: 0.27\n",
      "median of noise variance: 0.25\n",
      "mean of lengthscale: 0.566\n",
      "median of lengthscale: 0.595\n",
      "mean of signal variance: 0.704\n",
      "median of signal variance: 0.866\n"
     ]
    }
   ],
   "source": [
    "sigma_mean = np.mean(samples['sigma'])\n",
    "sigma_median = np.nanmedian(samples['sigma'])\n",
    "\n",
    "l_mean = np.mean(samples['rho'])\n",
    "l_median = np.nanmedian(samples['rho'])\n",
    "\n",
    "sigvar_mean = np.mean(samples['alpha'])\n",
    "sigvar_median = np.nanmedian(samples['alpha'])\n",
    "\n",
    "print(\"mean of noise variance: %.2f\" % sigma_mean)\n",
    "print(\"median of noise variance: %.2f\"% sigma_median)\n",
    "print(\"mean of lengthscale: %.3f\"% l_mean)\n",
    "print(\"median of lengthscale: %.3f\"% l_median)\n",
    "print(\"mean of signal variance: %.3f\"% sigvar_mean)\n",
    "print(\"median of signal variance: %.3f\"% sigvar_median)\n"
   ]
  },
  {
   "cell_type": "markdown",
   "metadata": {},
   "source": [
    "#### Plots of two samples drawn for f_star from the predictive distribution for 30 new test points(X*)."
   ]
  },
  {
   "cell_type": "code",
   "execution_count": 35,
   "metadata": {
    "collapsed": false
   },
   "outputs": [
    {
     "data": {
      "text/plain": [
       "[<matplotlib.lines.Line2D at 0x7f28bc405668>]"
      ]
     },
     "execution_count": 35,
     "metadata": {},
     "output_type": "execute_result"
    },
    {
     "data": {
      "image/png": "[encoded data removed]",
      "text/plain": [
       "<Figure size 432x288 with 1 Axes>"
      ]
     },
     "metadata": {},
     "output_type": "display_data"
    }
   ],
   "source": [
    "plt.plot(X,Y, 'ro')\n",
    "plt.plot(X_star, f_star[4,:], 'bo')\n",
    "plt.plot(X_star, f_star[720,:], 'go')"
   ]
  },
  {
   "cell_type": "markdown",
   "metadata": {},
   "source": [
    "#### Plots of two randomly drawn samples for y_star for 30 new test points(X*)."
   ]
  },
  {
   "cell_type": "code",
   "execution_count": 37,
   "metadata": {
    "collapsed": false
   },
   "outputs": [
    {
     "data": {
      "text/plain": [
       "[<matplotlib.lines.Line2D at 0x7f2886bf2ba8>]"
      ]
     },
     "execution_count": 37,
     "metadata": {},
     "output_type": "execute_result"
    },
    {
     "data": {
      "image/png": "[encoded data removed]",
      "text/plain": [
       "<Figure size 432x288 with 1 Axes>"
      ]
     },
     "metadata": {},
     "output_type": "display_data"
    }
   ],
   "source": [
    "plt.plot(X,Y, 'ro')\n",
    "plt.plot(X_star, y_star[4,:], 'bo')\n",
    "plt.plot(X_star, y_star[720,:], 'go')"
   ]
  },
  {
   "cell_type": "code",
   "execution_count": null,
   "metadata": {
    "collapsed": true
   },
   "outputs": [],
   "source": [
    "plt.plot(X,Y, 'ro')\n",
    "plt.plot(X, f_perc_25, 'bo')\n",
    "plt.plot(X, f_perc_975, 'go')"
   ]
  },
  {
   "cell_type": "code",
   "execution_count": 39,
   "metadata": {
    "collapsed": true
   },
   "outputs": [],
   "source": [
    "f_star_perc_25 = np.percentile(f_star, 2.5, axis=0)\n",
    "f_star_perc_975 = np.percentile(f_star, 97.5, axis=0)"
   ]
  },
  {
   "cell_type": "code",
   "execution_count": 40,
   "metadata": {
    "collapsed": true
   },
   "outputs": [],
   "source": [
    "y_star_perc_25 = np.percentile(y_star, 2.5, axis=0)\n",
    "y_star_perc_975 = np.percentile(y_star, 97.5, axis=0)"
   ]
  },
  {
   "cell_type": "code",
   "execution_count": 43,
   "metadata": {
    "collapsed": false
   },
   "outputs": [
    {
     "data": {
      "text/plain": [
       "[<matplotlib.lines.Line2D at 0x7f2886446d30>]"
      ]
     },
     "execution_count": 43,
     "metadata": {},
     "output_type": "execute_result"
    },
    {
     "data": {
      "image/png": "[encoded data removed]",
      "text/plain": [
       "<Figure size 432x288 with 1 Axes>"
      ]
     },
     "metadata": {},
     "output_type": "display_data"
    }
   ],
   "source": [
    "plt.plot(X,Y, 'ro')\n",
    "plt.plot(X_star, f_star_perc_25, 'bo')\n",
    "plt.plot(X_star, f_star_perc_975, 'go')"
   ]
  },
  {
   "cell_type": "code",
   "execution_count": 80,
   "metadata": {
    "collapsed": false
   },
   "outputs": [
    {
     "data": {
      "text/plain": [
       "[<matplotlib.lines.Line2D at 0x7f2886401b38>]"
      ]
     },
     "execution_count": 80,
     "metadata": {},
     "output_type": "execute_result"
    },
    {
     "data": {
      "image/png": "[encoded data removed]",
      "text/plain": [
       "<Figure size 432x288 with 1 Axes>"
      ]
     },
     "metadata": {},
     "output_type": "display_data"
    }
   ],
   "source": [
    "plt.plot(X,Y, 'ro')\n",
    "plt.plot(X_star, f_star_perc_25, 'b-')\n",
    "plt.plot(X_star, f_star_perc_975, 'g-')"
   ]
  },
  {
   "cell_type": "code",
   "execution_count": 42,
   "metadata": {
    "collapsed": false
   },
   "outputs": [
    {
     "data": {
      "text/plain": [
       "[<matplotlib.lines.Line2D at 0x7f2886c04be0>]"
      ]
     },
     "execution_count": 42,
     "metadata": {},
     "output_type": "execute_result"
    },
    {
     "data": {
      "image/png": "[encoded data removed]",
      "text/plain": [
       "<Figure size 432x288 with 1 Axes>"
      ]
     },
     "metadata": {},
     "output_type": "display_data"
    }
   ],
   "source": [
    "plt.plot(X,Y, 'ro')\n",
    "plt.plot(X_star, y_star_perc_25, 'bo')\n",
    "plt.plot(X_star, y_star_perc_975, 'go')"
   ]
  },
  {
   "cell_type": "code",
   "execution_count": 82,
   "metadata": {
    "collapsed": false
   },
   "outputs": [
    {
     "name": "stdout",
     "output_type": "stream",
     "text": [
      "Mean difference for fstar between 2.5 and 97.5 percentile: 0.262\n",
      "Mean difference for ystar between 2.5 and 97.5 percentile: 1.390\n"
     ]
    }
   ],
   "source": [
    "print(\"Mean difference for fstar between 2.5 and 97.5 percentile: %.3f\"%np.mean(f_star_perc_975[5:25] - f_star_perc_25[5:25]))\n",
    "print(\"Mean difference for ystar between 2.5 and 97.5 percentile: %.3f\"% np.mean(y_star_perc_975 - y_star_perc_25))"
   ]
  },
  {
   "cell_type": "code",
   "execution_count": null,
   "metadata": {
    "collapsed": true
   },
   "outputs": [],
   "source": [
    "rand_inds = np.random.randint(SAMPLES_SIZE, size=5)"
   ]
  },
  {
   "cell_type": "code",
   "execution_count": 49,
   "metadata": {
    "collapsed": true
   },
   "outputs": [],
   "source": [
    "def kernel_rbf(alpha, rho, Xi, Xj=None):\n",
    "    if Xj is None:\n",
    "        Xj = Xi\n",
    "    \n",
    "    N1,D1 = Xi.shape[0],1\n",
    "    N2,D2 = Xj.shape[0],1\n",
    "    \n",
    "    diff = Xi.reshape(N1,1,D1) - Xj.reshape(1,N2,D2)\n",
    "    K = (alpha**2)*np.exp(-0.5*np.sum(np.square(diff),-1)/(rho)**2)\n",
    "    return K"
   ]
  },
  {
   "cell_type": "code",
   "execution_count": 68,
   "metadata": {
    "collapsed": true
   },
   "outputs": [],
   "source": [
    "\n",
    "# function to generate mean and covariance matrics ..\n",
    "def generate_u(alpha, rho, v, Xi):\n",
    "    Kuu = kernel_rbf(alpha, rho, Xi=Xi)\n",
    "    R = np.linalg.cholesky(Kuu)\n",
    "\n",
    "    u_mean = np.dot(R, v)\n",
    "\n",
    "    return u_mean"
   ]
  },
  {
   "cell_type": "code",
   "execution_count": 69,
   "metadata": {
    "collapsed": true
   },
   "outputs": [],
   "source": [
    "N_samples = 1400\n",
    "N = 200"
   ]
  },
  {
   "cell_type": "code",
   "execution_count": 76,
   "metadata": {
    "collapsed": false
   },
   "outputs": [],
   "source": [
    "u_sum = np.zeros(M)\n",
    "# S_sum = np.zeros((N,N))\n",
    "for i in range(N_samples):\n",
    "    u_mean = generate_u(alpha=alpha_samples[i], rho =rho_samples[i], v =eta_samples[i,:], Xi = X_u_noisy)\n",
    "    u_sum = u_sum + u_mean"
   ]
  },
  {
   "cell_type": "code",
   "execution_count": 77,
   "metadata": {
    "collapsed": true
   },
   "outputs": [],
   "source": [
    "u_fin = u_sum / N_samples\n"
   ]
  },
  {
   "cell_type": "code",
   "execution_count": 78,
   "metadata": {
    "collapsed": false
   },
   "outputs": [
    {
     "data": {
      "text/plain": [
       "[<matplotlib.lines.Line2D at 0x7f28bc4d1a90>]"
      ]
     },
     "execution_count": 78,
     "metadata": {},
     "output_type": "execute_result"
    },
    {
     "data": {
      "image/png": "[encoded data removed]",
      "text/plain": [
       "<Figure size 432x288 with 1 Axes>"
      ]
     },
     "metadata": {},
     "output_type": "display_data"
    }
   ],
   "source": [
    "plt.plot(X_u_noisy, u_fin, 'go')"
   ]
  },
  {
   "cell_type": "code",
   "execution_count": 60,
   "metadata": {
    "collapsed": true
   },
   "outputs": [],
   "source": [
    "a = np.random.multivariate_normal(f_fin, S_sum, 6)"
   ]
  },
  {
   "cell_type": "code",
   "execution_count": null,
   "metadata": {
    "collapsed": true
   },
   "outputs": [],
   "source": []
  },
  {
   "cell_type": "code",
   "execution_count": 61,
   "metadata": {
    "collapsed": false
   },
   "outputs": [
    {
     "name": "stdout",
     "output_type": "stream",
     "text": [
      "(6, 200)\n"
     ]
    }
   ],
   "source": [
    "print(a.shape)"
   ]
  },
  {
   "cell_type": "code",
   "execution_count": null,
   "metadata": {
    "collapsed": true
   },
   "outputs": [],
   "source": []
  }
 ],
 "metadata": {
  "anaconda-cloud": {},
  "kernelspec": {
   "display_name": "Python [conda env:stanpy35]",
   "language": "python",
   "name": "conda-env-stanpy35-py"
  },
  "language_info": {
   "codemirror_mode": {
    "name": "ipython",
    "version": 3
   },
   "file_extension": ".py",
   "mimetype": "text/x-python",
   "name": "python",
   "nbconvert_exporter": "python",
   "pygments_lexer": "ipython3",
   "version": "3.5.4"
  }
 },
 "nbformat": 4,
 "nbformat_minor": 1
}
