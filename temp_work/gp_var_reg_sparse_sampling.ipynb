{
 "cells": [
  {
   "cell_type": "code",
   "execution_count": 83,
   "metadata": {
    "collapsed": true
   },
   "outputs": [],
   "source": [
    "%matplotlib inline\n",
    "import  matplotlib\n",
    "import matplotlib.pyplot as plt\n",
    "import pystan"
   ]
  },
  {
   "cell_type": "code",
   "execution_count": 84,
   "metadata": {
    "collapsed": true
   },
   "outputs": [],
   "source": [
    "import numpy as np"
   ]
  },
  {
   "cell_type": "code",
   "execution_count": 85,
   "metadata": {
    "collapsed": true
   },
   "outputs": [],
   "source": [
    "import scipy.io as sio"
   ]
  },
  {
   "cell_type": "code",
   "execution_count": 86,
   "metadata": {
    "collapsed": true
   },
   "outputs": [],
   "source": [
    "df = sio.loadmat('snelson1d.mat')"
   ]
  },
  {
   "cell_type": "code",
   "execution_count": 87,
   "metadata": {
    "collapsed": true
   },
   "outputs": [],
   "source": [
    "X = df['X']\n",
    "Y = df['Y']\n",
    "X_t = df['tX']\n",
    "Y_t = df['tY']"
   ]
  },
  {
   "cell_type": "code",
   "execution_count": 88,
   "metadata": {
    "collapsed": true
   },
   "outputs": [],
   "source": [
    "M = 7\n",
    "N_star = 30\n",
    "N_samples = 1200"
   ]
  },
  {
   "cell_type": "code",
   "execution_count": 89,
   "metadata": {
    "collapsed": true
   },
   "outputs": [],
   "source": [
    "X_u_noisy = np.linspace(0,6, M)[:, None]"
   ]
  },
  {
   "cell_type": "code",
   "execution_count": 90,
   "metadata": {
    "collapsed": false
   },
   "outputs": [],
   "source": [
    "stan_code_var = \"\"\"\n",
    "data {\n",
    "    int<lower=1> N;\n",
    "    int<lower=1> M;\n",
    "    real x[N];\n",
    "    vector[N] y;\n",
    "    real xu[M];\n",
    "\n",
    "}\n",
    "transformed data {\n",
    "    real jitter = 1e-6;\n",
    "//     real rho = 0.9;\n",
    "//     real alpha = 0.85;\n",
    "//     real sigma = 0.12;\n",
    "}\n",
    "\n",
    "parameters {\n",
    "    real<lower=1e-6> sigma;\n",
    "     real <lower=1e-6> alpha;\n",
    "     real<lower=1e-6> rho;\n",
    "    \n",
    "    vector[M] eta;\n",
    "    vector[M] u;\n",
    "    \n",
    "}\n",
    "\n",
    "transformed parameters{\n",
    "   // matrix[M, M] R;\n",
    "}\n",
    "model {\n",
    "    vector[N] mu;\n",
    "    matrix[N, N] f_cov;\n",
    "    matrix[N, N] S;\n",
    "    matrix[M, N] A;\n",
    "    matrix [N,N] Qff;\n",
    "    matrix [N,N] L_fitc;\n",
    "    matrix[N, N] K_tilde;\n",
    "    matrix[N, N] K_tilde_inv;\n",
    "    matrix[M, M] R;\n",
    "    \n",
    "    matrix[M, M] Kuu = cov_exp_quad(xu, alpha, rho);\n",
    "    matrix[N, M] Kfu = cov_exp_quad(x, xu, alpha, rho);\n",
    "    matrix[N, N] K = cov_exp_quad(x, alpha, rho);\n",
    "    vector[M] Kuu_inv_u;\n",
    "\n",
    "        \n",
    "         for (m in 1:M)\n",
    "             Kuu[m, m] = Kuu[m, m] + jitter;\n",
    "        \n",
    "        // RRT = Kuu\n",
    "    R = cholesky_decompose(Kuu);\n",
    "        \n",
    "    {\n",
    "                  \n",
    "        //A = R^{-1}Kuf   or A = R\\Kuf\n",
    "        A = mdivide_left_tri_low(R, Kfu');\n",
    "        \n",
    "        // mu = A'v\n",
    "        //  v = N(0, I)\n",
    "        mu = A'*eta;\n",
    "        \n",
    "        // Qff = A'A\n",
    "        Qff = A'*A;\n",
    "        S = K - Qff;\n",
    "        \n",
    "        for (i in 1:N){\n",
    "            for(j in 1:N){\n",
    "                K_tilde[i,j] = 0.0;\n",
    "                K_tilde_inv[i,j] = 0.0;\n",
    "            }\n",
    "            K_tilde[i,i] = S[i,i];\n",
    "            K_tilde_inv[i,i] = 1./ S[i,i];\n",
    "        }\n",
    "        \n",
    "    }\n",
    "  \n",
    "#     rho ~ inv_gamma(5, 5);\n",
    "#     alpha ~ normal(0, 1);\n",
    "\n",
    "// strongly informative priors, but with these the covariance matrix will be more well behaved in my experience.\n",
    "// The mean of the Gaussian priors is close to the optimised MAP value of the hyperparameters.\n",
    "\n",
    "    rho ~ normal(0.90, 0.25);\n",
    "    alpha ~ normal(0.85, 0.25);\n",
    "    eta ~ normal(0, 1);\n",
    "\n",
    "    sigma ~ normal(0, 0.60);\n",
    "    \n",
    "    \n",
    "    // exp(L1) = log(N(y_i| mu_i, sigma)*exp(-0.5*K_tilde_ii/sigma))\n",
    "    // Equation 2 of Hensman, et al. Gaussian Processes for Big Data UAI 2013.\n",
    "    // This is the analytical soln. of expectation of log likelihood under conditional Guassian: P(F|U).\n",
    "    // K_tilde_ii = diag(Kff - Qff)[i,i]\n",
    "    \n",
    "    \n",
    "    for(i in 1:N){\n",
    " //       target += -square((y[i] - mu[i]))/(2*square(sigma));\n",
    "//        target += normal_lpdf(y[i] | mu[i], sigma);\n",
    "//        target += (-0.5*K_tilde[i,i]/sigma);\n",
    "        \n",
    "        target += normal_lpdf(y[i] | mu[i], sigma);\n",
    "        target += (-0.5*K_tilde[i,i]/sigma);\n",
    "    }\n",
    "}\n",
    "\n",
    "\n",
    "\"\"\""
   ]
  },
  {
   "cell_type": "code",
   "execution_count": 91,
   "metadata": {
    "collapsed": false
   },
   "outputs": [
    {
     "name": "stderr",
     "output_type": "stream",
     "text": [
      "INFO:pystan:COMPILING THE C++ CODE FOR MODEL anon_model_ff73dcb019635409dc7fffef8e230ecb NOW.\n"
     ]
    }
   ],
   "source": [
    "stan_model_var = pystan.StanModel(model_code=stan_code_var)"
   ]
  },
  {
   "cell_type": "code",
   "execution_count": 94,
   "metadata": {
    "collapsed": true
   },
   "outputs": [],
   "source": [
    "gp_var_data = {'N':200, 'x':X.flatten(), 'y':Y.flatten(), 'M':M, 'xu':X_u_noisy.flatten()}"
   ]
  },
  {
   "cell_type": "code",
   "execution_count": 95,
   "metadata": {
    "collapsed": false
   },
   "outputs": [
    {
     "name": "stderr",
     "output_type": "stream",
     "text": [
      "/u/26/dhakaa1/unix/anaconda2/envs/stanpy35/lib/python3.5/site-packages/pystan/misc.py:399: FutureWarning: Conversion of the second argument of issubdtype from `float` to `np.floating` is deprecated. In future, it will be treated as `np.float64 == np.dtype(float).type`.\n",
      "  elif np.issubdtype(np.asarray(v).dtype, float):\n"
     ]
    }
   ],
   "source": [
    "fit_var= stan_model_var.sampling(data=gp_var_data, iter=N_samples, chains=2)"
   ]
  },
  {
   "cell_type": "code",
   "execution_count": 97,
   "metadata": {
    "collapsed": false
   },
   "outputs": [],
   "source": [
    "samples = fit_var.extract()\n"
   ]
  },
  {
   "cell_type": "code",
   "execution_count": 98,
   "metadata": {
    "collapsed": false
   },
   "outputs": [
    {
     "name": "stdout",
     "output_type": "stream",
     "text": [
      "Inference for Stan model: anon_model_ff73dcb019635409dc7fffef8e230ecb.\n",
      "2 chains, each with iter=1200; warmup=600; thin=1; \n",
      "post-warmup draws per chain=600, total post-warmup draws=1200.\n",
      "\n",
      "         mean se_mean     sd   2.5%    25%    50%    75%  97.5%  n_eff   Rhat\n",
      "sigma    0.46  7.0e-4   0.02   0.41   0.44   0.46   0.47   0.51   1164    1.0\n",
      "alpha    0.89  5.6e-3   0.15   0.62   0.78   0.87   0.98   1.23    765    1.0\n",
      "rho      0.95  2.1e-3   0.07   0.81    0.9   0.95   0.99    1.1   1200    1.0\n",
      "eta[0]   0.27  4.4e-3   0.15  -0.02   0.17   0.26   0.36   0.57   1200    1.0\n",
      "eta[1]  -2.57    0.02   0.41  -3.38  -2.83  -2.56  -2.29  -1.82    677    1.0\n",
      "eta[2]    0.9  9.8e-3   0.34   0.28   0.67   0.89   1.11   1.63   1173    1.0\n",
      "eta[3]   0.08  7.6e-3   0.26  -0.42  -0.07   0.08   0.25    0.6   1131    1.0\n",
      "eta[4]   0.35  6.3e-3    0.2-6.9e-3   0.22   0.34   0.48   0.75    984    1.0\n",
      "eta[5]  -0.49  7.1e-3   0.22  -0.96  -0.62  -0.47  -0.32   -0.1    992    1.0\n",
      "eta[6]  -0.85    0.01   0.35  -1.55  -1.08  -0.84  -0.62   -0.2   1200    1.0\n",
      "u[0]  -2.5e11  3.5e11 4.9e11-1.4e12-4.7e11-2.6e10 1.3e11 2.4e11      2    2.7\n",
      "u[1]   2.3e11  2.5e11 2.5e11-1.3e11 2.5e10 1.2e11 4.8e11 6.6e11      1   2.28\n",
      "u[2]  -8.4e10  3.9e11 3.9e11-6.3e11-5.1e11-1.4e10 2.7e11 4.8e11      1   3.95\n",
      "u[3]   9.6e10  1.3e11 3.1e11-6.2e11  7.9e9 1.2e11 3.3e11 6.4e11      6   1.33\n",
      "u[4]    1.6e9  3.7e10 5.2e10-7.6e10-4.2e10-1.2e10 3.9e10 9.9e10      2   1.46\n",
      "u[5]  -5.0e10  5.8e10 8.2e10-2.4e11-8.8e10-3.2e10  2.5e9 7.8e10      2    1.3\n",
      "u[6]   4.1e11  3.6e11 6.3e11-5.3e11 3.1e10 8.4e10 8.1e11 1.9e12      3   1.78\n",
      "lp__   -134.1    0.13    2.4 -140.0 -135.4 -133.7 -132.4 -130.2    317   1.01\n",
      "\n",
      "Samples were drawn using NUTS at Tue May  8 22:02:59 2018.\n",
      "For each parameter, n_eff is a crude measure of effective sample size,\n",
      "and Rhat is the potential scale reduction factor on split chains (at \n",
      "convergence, Rhat=1).\n"
     ]
    }
   ],
   "source": [
    "print(fit_var)"
   ]
  },
  {
   "cell_type": "code",
   "execution_count": 99,
   "metadata": {
    "collapsed": false
   },
   "outputs": [
    {
     "name": "stdout",
     "output_type": "stream",
     "text": [
      "['sigma', 'alpha', 'rho', 'eta', 'u', 'lp__']\n"
     ]
    }
   ],
   "source": [
    "# mu = samples['mu']\n",
    "print(list(samples.keys()))\n",
    "# sigma_mean = np.mean(mu, axis=0)"
   ]
  },
  {
   "cell_type": "code",
   "execution_count": 100,
   "metadata": {
    "collapsed": true
   },
   "outputs": [],
   "source": [
    "sigma_samples = samples['sigma']\n",
    "alpha_samples = samples['alpha']\n",
    "rho_samples = samples['rho']"
   ]
  },
  {
   "cell_type": "code",
   "execution_count": 101,
   "metadata": {
    "collapsed": false
   },
   "outputs": [
    {
     "name": "stdout",
     "output_type": "stream",
     "text": [
      "mean of noise variance: 0.46\n",
      "median of noise variance: 0.46\n",
      "mean of lengthscale: 0.951\n",
      "median of lengthscale: 0.951\n",
      "mean of signal variance: 0.885\n",
      "median of signal variance: 0.871\n"
     ]
    }
   ],
   "source": [
    "sigma_mean = np.mean(samples['sigma'])\n",
    "sigma_median = np.nanmedian(samples['sigma'])\n",
    "\n",
    "l_mean = np.mean(samples['rho'])\n",
    "l_median = np.nanmedian(samples['rho'])\n",
    "\n",
    "sigvar_mean = np.mean(samples['alpha'])\n",
    "sigvar_median = np.nanmedian(samples['alpha'])\n",
    "\n",
    "print(\"mean of noise variance: %.2f\" % sigma_mean)\n",
    "print(\"median of noise variance: %.2f\"% sigma_median)\n",
    "print(\"mean of lengthscale: %.3f\"% l_mean)\n",
    "print(\"median of lengthscale: %.3f\"% l_median)\n",
    "print(\"mean of signal variance: %.3f\"% sigvar_mean)\n",
    "print(\"median of signal variance: %.3f\"% sigvar_median)"
   ]
  },
  {
   "cell_type": "code",
   "execution_count": 102,
   "metadata": {
    "collapsed": true
   },
   "outputs": [],
   "source": [
    "eta = samples['eta']"
   ]
  },
  {
   "cell_type": "code",
   "execution_count": 103,
   "metadata": {
    "collapsed": false
   },
   "outputs": [
    {
     "name": "stdout",
     "output_type": "stream",
     "text": [
      "(1200, 7)\n"
     ]
    }
   ],
   "source": [
    "print(eta.shape)"
   ]
  },
  {
   "cell_type": "code",
   "execution_count": 104,
   "metadata": {
    "collapsed": true
   },
   "outputs": [],
   "source": [
    "eta_mean = np.mean(samples['eta'], axis=0)\n",
    "eta_median = np.nanmedian(samples['eta'], axis=0)"
   ]
  },
  {
   "cell_type": "code",
   "execution_count": 105,
   "metadata": {
    "collapsed": true
   },
   "outputs": [],
   "source": [
    "eta_perc_25 = np.percentile(eta, 2.5, axis=0)\n",
    "eta_perc_975 = np.percentile(eta, 97.5, axis=0)"
   ]
  },
  {
   "cell_type": "markdown",
   "metadata": {},
   "source": [
    "#### Plotting posterior distribution of v."
   ]
  },
  {
   "cell_type": "code",
   "execution_count": 106,
   "metadata": {
    "collapsed": false
   },
   "outputs": [
    {
     "data": {
      "text/plain": [
       "[<matplotlib.lines.Line2D at 0x7f07cbf90ba8>]"
      ]
     },
     "execution_count": 106,
     "metadata": {},
     "output_type": "execute_result"
    },
    {
     "data": {
      "image/png": "[encoded data removed]",
      "text/plain": [
       "<Figure size 432x288 with 1 Axes>"
      ]
     },
     "metadata": {},
     "output_type": "display_data"
    }
   ],
   "source": [
    "plt.plot(X,Y, 'ro')\n",
    "plt.plot(X_u_noisy, eta_perc_25, 'bo')\n",
    "plt.plot(X_u_noisy, eta_perc_975, 'go')\n",
    "plt.plot(X_u_noisy, eta_mean, 'ko')"
   ]
  },
  {
   "cell_type": "code",
   "execution_count": 107,
   "metadata": {
    "collapsed": false
   },
   "outputs": [
    {
     "data": {
      "text/plain": [
       "[<matplotlib.lines.Line2D at 0x7f07d805c240>]"
      ]
     },
     "execution_count": 107,
     "metadata": {},
     "output_type": "execute_result"
    },
    {
     "data": {
      "image/png": "[encoded data removed]",
      "text/plain": [
       "<Figure size 432x288 with 1 Axes>"
      ]
     },
     "metadata": {},
     "output_type": "display_data"
    }
   ],
   "source": [
    "plt.plot(X_u_noisy, eta_mean, 'ko')"
   ]
  },
  {
   "cell_type": "code",
   "execution_count": 108,
   "metadata": {
    "collapsed": true
   },
   "outputs": [],
   "source": [
    "\n",
    "class ProcessStanSamples(object):\n",
    "    \n",
    "    def _params_samples(samples):\n",
    "        keys = list(samples.keys())\n",
    "        return keys\n",
    "    \n",
    "    def plot_histograms(samples):\n",
    "        sigma_samples = samples['sigma']\n",
    "        rho_samples = samples['rho']\n",
    "        alpha_samples = samples['alpha']\n",
    "        if 'f' in self._params_samples(samples):\n",
    "            f_samples = samples['f']\n",
    "        \n",
    "        if 'u' in self._params_samples(samples):\n",
    "            u_samples = samples['u']\n",
    "        \n",
    "        \n",
    "        f, axs = plt.subplots(2,2, sharey=True)\n",
    "        axs[0,0].hist(sigma_samples)\n",
    "        axs[0,0].set_title('Plotting samples for sigma')\n",
    "        axs[0,0].legend(['Noise variance'])\n",
    "        axs[0,1].hist(rho_samples)\n",
    "        axs[0,1].set_title('Plotting samples for lengthscale')\n",
    "        axs[0,1].legend(['lengthscale'])\n",
    "        axs[1,0].hist(alpha_samples)\n",
    "#         axs[1,0].set_title('Plotting samples for signalvariance')\n",
    "        axs[1,0].legend(['signal var'])\n",
    "    \n",
    "    \n",
    "        \n",
    "    "
   ]
  },
  {
   "cell_type": "code",
   "execution_count": 109,
   "metadata": {
    "collapsed": false
   },
   "outputs": [
    {
     "data": {
      "text/plain": [
       "<matplotlib.legend.Legend at 0x7f07d8080860>"
      ]
     },
     "execution_count": 109,
     "metadata": {},
     "output_type": "execute_result"
    },
    {
     "data": {
      "image/png": "[encoded data removed]",
      "text/plain": [
       "<Figure size 432x288 with 4 Axes>"
      ]
     },
     "metadata": {},
     "output_type": "display_data"
    }
   ],
   "source": [
    "f, axs = plt.subplots(2,2, sharey=True)\n",
    "axs[0,0].hist(sigma_samples)\n",
    "axs[0,0].set_title('Plotting samples for sigma')\n",
    "axs[0,0].legend(['Noise variance'])\n",
    "axs[0,1].hist(rho_samples)\n",
    "axs[0,1].set_title('Plotting samples for lengthscale')\n",
    "axs[0,1].legend(['lengthscale'])\n",
    "axs[1,0].hist(alpha_samples)\n",
    "# axs[1,0].set_title('Plotting samples for signalvariance')\n",
    "axs[1,0].legend(['signal var'])"
   ]
  },
  {
   "cell_type": "code",
   "execution_count": 110,
   "metadata": {
    "collapsed": true
   },
   "outputs": [],
   "source": [
    "eta_samples = samples['eta']"
   ]
  },
  {
   "cell_type": "code",
   "execution_count": 111,
   "metadata": {
    "collapsed": true
   },
   "outputs": [],
   "source": [
    "N_star = 30\n",
    "X_star = np.linspace(-1, 7.0, N_star)[:, None]"
   ]
  },
  {
   "cell_type": "code",
   "execution_count": 112,
   "metadata": {
    "collapsed": false
   },
   "outputs": [
    {
     "name": "stdout",
     "output_type": "stream",
     "text": [
      "(1200,)\n"
     ]
    }
   ],
   "source": [
    "print(alpha_samples.shape)"
   ]
  },
  {
   "cell_type": "code",
   "execution_count": 113,
   "metadata": {
    "collapsed": true
   },
   "outputs": [],
   "source": [
    "def kernel_rbf(alpha, rho, Xi, Xj=None):\n",
    "    if Xj is None:\n",
    "        Xj = Xi\n",
    "    \n",
    "    N1,D1 = Xi.shape[0],1\n",
    "    N2,D2 = Xj.shape[0],1\n",
    "    \n",
    "    diff = Xi.reshape(N1,1,D1) - Xj.reshape(1,N2,D2)\n",
    "    K = (alpha**2)*np.exp(-0.5*np.sum(np.square(diff),-1)/(rho)**2)\n",
    "    return K\n",
    "    "
   ]
  },
  {
   "cell_type": "code",
   "execution_count": 114,
   "metadata": {
    "collapsed": false
   },
   "outputs": [],
   "source": [
    "Kuu = kernel_rbf(alpha=1.0, rho =0.8, Xi=X_u_noisy)"
   ]
  },
  {
   "cell_type": "code",
   "execution_count": 115,
   "metadata": {
    "collapsed": true
   },
   "outputs": [],
   "source": [
    "K_star_u = kernel_rbf(alpha=1.0, rho =0.8, Xi=X_star, Xj=X_u_noisy)"
   ]
  },
  {
   "cell_type": "markdown",
   "metadata": {},
   "source": [
    "####  Utility function to generate predictive distribution:\n",
    "\n",
    "$p(f^*|y) = \\int \\int p(f^*|u) q(u, \\theta) du d\\theta$\n",
    "\n",
    "We will obtain the above expression using MCMC samples. The stan code above samples from the optimal variational distribution $q(u,\\theta)$. "
   ]
  },
  {
   "cell_type": "code",
   "execution_count": 116,
   "metadata": {
    "collapsed": true
   },
   "outputs": [],
   "source": [
    "# function to generate mean and covariance matrics ..\n",
    "\n",
    "def generate_preds(alpha, rho, v, Xi, Xj):\n",
    "    Kuu = kernel_rbf(alpha, rho, Xi=X_u_noisy)\n",
    "    K_star_u = kernel_rbf(alpha, rho, Xi=X_star, Xj=X_u_noisy)\n",
    "    K_star_star = kernel_rbf(alpha, rho, Xi=X_star)\n",
    "    \n",
    "    R = np.linalg.cholesky(Kuu)\n",
    "    A = np.linalg.solve(R, np.transpose(K_star_u))\n",
    "#     print(A.shape)\n",
    "    A_T = np.transpose(A)\n",
    "    f_star_mean = np.dot(A_T, v)\n",
    "    Q_star_star = np.dot(A_T, A)\n",
    "    \n",
    "    S = K_star_star - Q_star_star\n",
    "    return f_star_mean, S\n",
    "\n"
   ]
  },
  {
   "cell_type": "markdown",
   "metadata": {},
   "source": [
    "####   Plot for predictive distribution for Snelson dataset using samples obtained from optimal variational distribution : q(v, $\\theta$)"
   ]
  },
  {
   "cell_type": "code",
   "execution_count": 117,
   "metadata": {
    "collapsed": true
   },
   "outputs": [],
   "source": [
    "N_full = 400"
   ]
  },
  {
   "cell_type": "code",
   "execution_count": 118,
   "metadata": {
    "collapsed": false
   },
   "outputs": [],
   "source": [
    "f_sum = np.zeros(N_star)\n",
    "f_sum2 = np.zeros(N_star)\n",
    "S_sum = np.zeros((N_star,N_star))\n",
    "S_diag = np.zeros(N_star)\n",
    "for i in range(N_samples):\n",
    "    f_star_mean, S = generate_preds(alpha=alpha_samples[i], rho =rho_samples[i], v =eta_samples[i,:],  Xi=X_star, Xj=X_u_noisy)\n",
    "    f_sum = f_sum + f_star_mean\n",
    "    f_sum2 = f_sum2 + f_star_mean**2\n",
    "    S_sum = S_sum + S\n",
    "    S_diag = np.diag(S)\n",
    "    "
   ]
  },
  {
   "cell_type": "code",
   "execution_count": 119,
   "metadata": {
    "collapsed": false
   },
   "outputs": [],
   "source": [
    "cov_fin = S_diag/N_samples + f_sum2/N_samples - (f_sum/N_samples)**2"
   ]
  },
  {
   "cell_type": "code",
   "execution_count": 120,
   "metadata": {
    "collapsed": false
   },
   "outputs": [],
   "source": [
    "f_fin = f_sum / N_samples\n",
    "S_sum = S_sum / N_samples"
   ]
  },
  {
   "cell_type": "code",
   "execution_count": 121,
   "metadata": {
    "collapsed": false
   },
   "outputs": [
    {
     "name": "stdout",
     "output_type": "stream",
     "text": [
      "[ 0.86929845  0.94934334  0.85603285  0.54023597  0.01686261 -0.6199861\n",
      " -1.21812189 -1.6214935  -1.73262964 -1.5502332  -1.16206921 -0.69949219\n",
      " -0.28081651  0.02716795  0.21552814  0.31316606  0.35767463  0.37326937\n",
      "  0.36321385  0.31517161  0.21333306  0.0509837  -0.16109946 -0.39329643\n",
      " -0.60384353 -0.75174344 -0.81078219 -0.77817546 -0.67371991 -0.53040773]\n"
     ]
    }
   ],
   "source": [
    "print(f_fin)"
   ]
  },
  {
   "cell_type": "code",
   "execution_count": 122,
   "metadata": {
    "collapsed": false
   },
   "outputs": [
    {
     "name": "stdout",
     "output_type": "stream",
     "text": [
      "[4.46493411e-01 2.56676318e-01 9.47341484e-02 1.13014168e-02\n",
      " 2.57630390e-03 1.54345696e-02 1.10252133e-02 5.54098208e-04\n",
      " 3.91562891e-03 9.83571502e-03 4.40975879e-03 1.04844274e-04\n",
      " 5.98738788e-03 7.98705464e-03 1.50540598e-03 1.50540598e-03\n",
      " 7.98705464e-03 5.98738788e-03 1.04844274e-04 4.40975879e-03\n",
      " 9.83571502e-03 3.91562891e-03 5.54098208e-04 1.10252133e-02\n",
      " 1.54345696e-02 2.57630390e-03 1.13014168e-02 9.47341484e-02\n",
      " 2.56676318e-01 4.46493411e-01]\n"
     ]
    }
   ],
   "source": [
    "print(np.diag(S_sum))"
   ]
  },
  {
   "cell_type": "code",
   "execution_count": 123,
   "metadata": {
    "collapsed": false
   },
   "outputs": [
    {
     "name": "stdout",
     "output_type": "stream",
     "text": [
      "[0.06463184 0.05782285 0.04229258 0.02571032 0.01359645 0.00796028\n",
      " 0.00753319 0.00798444 0.00640866 0.00500767 0.00605058 0.00716573\n",
      " 0.0061969  0.00520085 0.00577405 0.00616242 0.00546644 0.00516069\n",
      " 0.00545666 0.0052872  0.00532933 0.00637807 0.00689015 0.00673212\n",
      " 0.01020534 0.02045556 0.03339217 0.04110743 0.0396711  0.03134571]\n"
     ]
    }
   ],
   "source": [
    "print(cov_fin)"
   ]
  },
  {
   "cell_type": "code",
   "execution_count": 126,
   "metadata": {
    "collapsed": false
   },
   "outputs": [
    {
     "name": "stdout",
     "output_type": "stream",
     "text": [
      "0.007960279628456857\n",
      "0.015434569598310327\n"
     ]
    }
   ],
   "source": [
    "print(cov_fin[5])\n",
    "print(np.diag(S_sum)[5])"
   ]
  },
  {
   "cell_type": "markdown",
   "metadata": {},
   "source": [
    "####  Plot for the mean function"
   ]
  },
  {
   "cell_type": "code",
   "execution_count": 127,
   "metadata": {
    "collapsed": false
   },
   "outputs": [
    {
     "data": {
      "text/plain": [
       "[<matplotlib.lines.Line2D at 0x7f07cbf075f8>]"
      ]
     },
     "execution_count": 127,
     "metadata": {},
     "output_type": "execute_result"
    },
    {
     "data": {
      "image/png": "[encoded data removed]",
      "text/plain": [
       "<Figure size 432x288 with 1 Axes>"
      ]
     },
     "metadata": {},
     "output_type": "display_data"
    }
   ],
   "source": [
    "plt.plot(X_star, f_fin, 'go')"
   ]
  },
  {
   "cell_type": "code",
   "execution_count": 128,
   "metadata": {
    "collapsed": false
   },
   "outputs": [],
   "source": [
    "\n",
    "a = np.random.multivariate_normal(f_fin, S_sum, 6)"
   ]
  },
  {
   "cell_type": "code",
   "execution_count": 129,
   "metadata": {
    "collapsed": false
   },
   "outputs": [],
   "source": [
    "a2 = np.random.multivariate_normal(f_fin, np.diag(cov_fin), 8)"
   ]
  },
  {
   "cell_type": "code",
   "execution_count": 44,
   "metadata": {
    "collapsed": false
   },
   "outputs": [
    {
     "name": "stdout",
     "output_type": "stream",
     "text": [
      "(6, 30)\n"
     ]
    }
   ],
   "source": [
    "print(a.shape)"
   ]
  },
  {
   "cell_type": "code",
   "execution_count": 80,
   "metadata": {
    "collapsed": false
   },
   "outputs": [
    {
     "data": {
      "text/plain": [
       "[<matplotlib.lines.Line2D at 0x7f07dd7f52e8>]"
      ]
     },
     "execution_count": 80,
     "metadata": {},
     "output_type": "execute_result"
    },
    {
     "data": {
      "image/png": "[encoded data removed]",
      "text/plain": [
       "<Figure size 432x288 with 1 Axes>"
      ]
     },
     "metadata": {},
     "output_type": "display_data"
    }
   ],
   "source": [
    "plt.plot(X_star, a[0], 'g-')\n",
    "plt.plot(X_star, a[1], 'b-')\n",
    "plt.plot(X_star, a[2], 'r-')\n",
    "plt.plot(X_star, a[3], 'k-')\n",
    "plt.plot(X_star, a[4], 'm-')\n",
    "plt.plot(X_star, a[5], 'c-')\n",
    "plt.plot(X_star, a[4], 'ko')\n",
    "# plt.plot(X, Y, 'mo')\n",
    "plt.plot(X_u_noisy, np.zeros(X_u_noisy.shape[0]), 'r+')"
   ]
  },
  {
   "cell_type": "code",
   "execution_count": 130,
   "metadata": {
    "collapsed": false
   },
   "outputs": [
    {
     "data": {
      "text/plain": [
       "[<matplotlib.lines.Line2D at 0x7f07f3c6ccf8>]"
      ]
     },
     "execution_count": 130,
     "metadata": {},
     "output_type": "execute_result"
    },
    {
     "data": {
      "image/png": "[encoded data removed]",
      "text/plain": [
       "<Figure size 432x288 with 1 Axes>"
      ]
     },
     "metadata": {},
     "output_type": "display_data"
    }
   ],
   "source": [
    "plt.plot(X_star, a2[0], 'g-')\n",
    "plt.plot(X_star, a2[1], 'b-')\n",
    "plt.plot(X_star, a2[2], 'r-')\n",
    "plt.plot(X_star, a2[3], 'k-')\n",
    "plt.plot(X_star, a2[4], 'm-')\n",
    "plt.plot(X_star, a2[5], 'c-')\n",
    "plt.plot(X_star, a2[4], 'ko')\n",
    "# plt.plot(X, Y, 'mo')\n",
    "plt.plot(X_u_noisy, np.zeros(X_u_noisy.shape[0]), 'r+')"
   ]
  },
  {
   "cell_type": "markdown",
   "metadata": {},
   "source": [
    "#####  Generate plot for u "
   ]
  },
  {
   "cell_type": "code",
   "execution_count": 131,
   "metadata": {
    "collapsed": true
   },
   "outputs": [],
   "source": [
    "def generate_u(alpha, rho, v, Xi):\n",
    "    Kuu = kernel_rbf(alpha, rho, Xi=Xi)\n",
    "    R = np.linalg.cholesky(Kuu)\n",
    "\n",
    "    u_mean = np.dot(R, v)\n",
    "    return u_mean"
   ]
  },
  {
   "cell_type": "code",
   "execution_count": 132,
   "metadata": {
    "collapsed": false
   },
   "outputs": [],
   "source": [
    "u_sum = np.zeros(M)\n",
    "# S_sum = np.zeros((N,N))\n",
    "for i in range(N_samples):\n",
    "    u_mean = generate_u(alpha=alpha_samples[i], rho =rho_samples[i], v =eta_samples[i,:], Xi = X_u_noisy)\n",
    "    u_sum = u_sum + u_mean"
   ]
  },
  {
   "cell_type": "code",
   "execution_count": 133,
   "metadata": {
    "collapsed": true
   },
   "outputs": [],
   "source": [
    "u_fin = u_sum / N_samples"
   ]
  },
  {
   "cell_type": "markdown",
   "metadata": {},
   "source": [
    "Plot of inducing inputs and inducing outputs(u)"
   ]
  },
  {
   "cell_type": "code",
   "execution_count": 134,
   "metadata": {
    "collapsed": false
   },
   "outputs": [
    {
     "data": {
      "text/plain": [
       "[<matplotlib.lines.Line2D at 0x7f07f3c86518>]"
      ]
     },
     "execution_count": 134,
     "metadata": {},
     "output_type": "execute_result"
    },
    {
     "data": {
      "image/png": "[encoded data removed]",
      "text/plain": [
       "<Figure size 432x288 with 1 Axes>"
      ]
     },
     "metadata": {},
     "output_type": "display_data"
    }
   ],
   "source": [
    "plt.plot(X_u_noisy, u_fin, 'go')\n",
    "plt.plot(X_u_noisy, np.zeros(X_u_noisy.shape[0]), 'r+')"
   ]
  },
  {
   "cell_type": "code",
   "execution_count": null,
   "metadata": {
    "collapsed": true
   },
   "outputs": [],
   "source": []
  }
 ],
 "metadata": {
  "anaconda-cloud": {},
  "kernelspec": {
   "display_name": "Python [conda env:stanpy35]",
   "language": "python",
   "name": "conda-env-stanpy35-py"
  },
  "language_info": {
   "codemirror_mode": {
    "name": "ipython",
    "version": 3
   },
   "file_extension": ".py",
   "mimetype": "text/x-python",
   "name": "python",
   "nbconvert_exporter": "python",
   "pygments_lexer": "ipython3",
   "version": "3.5.4"
  }
 },
 "nbformat": 4,
 "nbformat_minor": 1
}
