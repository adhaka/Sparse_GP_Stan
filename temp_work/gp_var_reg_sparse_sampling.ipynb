{
 "cells": [
  {
   "cell_type": "code",
   "execution_count": 1,
   "metadata": {
    "collapsed": true
   },
   "outputs": [],
   "source": [
    "%matplotlib inline\n",
    "import  matplotlib\n",
    "import matplotlib.pyplot as plt\n",
    "import pystan"
   ]
  },
  {
   "cell_type": "code",
   "execution_count": 2,
   "metadata": {
    "collapsed": true
   },
   "outputs": [],
   "source": [
    "import numpy as np"
   ]
  },
  {
   "cell_type": "code",
   "execution_count": 3,
   "metadata": {
    "collapsed": true
   },
   "outputs": [],
   "source": [
    "import scipy.io as sio"
   ]
  },
  {
   "cell_type": "code",
   "execution_count": 4,
   "metadata": {
    "collapsed": true
   },
   "outputs": [],
   "source": [
    "df = sio.loadmat('snelson1d.mat')"
   ]
  },
  {
   "cell_type": "code",
   "execution_count": 5,
   "metadata": {
    "collapsed": true
   },
   "outputs": [],
   "source": [
    "X = df['X']\n",
    "Y = df['Y']\n",
    "X_t = df['tX']\n",
    "Y_t = df['tY']"
   ]
  },
  {
   "cell_type": "code",
   "execution_count": 6,
   "metadata": {
    "collapsed": true
   },
   "outputs": [],
   "source": [
    "M = 20"
   ]
  },
  {
   "cell_type": "code",
   "execution_count": 186,
   "metadata": {
    "collapsed": true
   },
   "outputs": [],
   "source": [
    "N_star = 25"
   ]
  },
  {
   "cell_type": "code",
   "execution_count": 162,
   "metadata": {
    "collapsed": true
   },
   "outputs": [],
   "source": [
    "X_u_noisy = np.linspace(0,6, M)[:, None]"
   ]
  },
  {
   "cell_type": "code",
   "execution_count": 175,
   "metadata": {
    "collapsed": false
   },
   "outputs": [],
   "source": [
    "stan_code_var = \"\"\"\n",
    "data {\n",
    "    int<lower=1> N;\n",
    "    int<lower=1> M;\n",
    "    real x[N];\n",
    "    vector[N] y;\n",
    "    real xu[M];\n",
    "\n",
    "}\n",
    "transformed data {\n",
    "    real jitter = 1e-6;\n",
    "//     real rho = 0.9;\n",
    "//     real alpha = 0.85;\n",
    "//     real sigma = 0.12;\n",
    "}\n",
    "\n",
    "parameters {\n",
    "    real<lower=1e-6> sigma;\n",
    "     real <lower=1e-6> alpha;\n",
    "     real<lower=1e-6> rho;\n",
    "    \n",
    "    vector[M] eta;\n",
    "    vector[M] u;\n",
    "    \n",
    "}\n",
    "\n",
    "transformed parameters{\n",
    "   // matrix[M, M] R;\n",
    "}\n",
    "model {\n",
    "    vector[N] mu;\n",
    "    matrix[N, N] f_cov;\n",
    "    matrix[N, N] S;\n",
    "    matrix[M, N] A;\n",
    "    matrix [N,N] Qff;\n",
    "    matrix [N,N] L_fitc;\n",
    "    matrix[N, N] K_tilde;\n",
    "    matrix[N, N] K_tilde_inv;\n",
    "    matrix[M, M] R;\n",
    "    \n",
    "    matrix[M, M] Kuu = cov_exp_quad(xu, alpha, rho);\n",
    "    matrix[N, M] Kfu = cov_exp_quad(x, xu, alpha, rho);\n",
    "    matrix[N, N] K = cov_exp_quad(x, alpha, rho);\n",
    "    vector[M] Kuu_inv_u;\n",
    "\n",
    "        \n",
    "         for (m in 1:M)\n",
    "             Kuu[m, m] = Kuu[m, m] + jitter;\n",
    "        \n",
    "        // RRT = Kuu\n",
    "    R = cholesky_decompose(Kuu);\n",
    "        \n",
    "    {\n",
    "        \n",
    "\n",
    "                  \n",
    "        //A = R^{-1}Kuf   or A = R\\Kuf\n",
    "        A = mdivide_left_tri_low(R, Kfu');\n",
    "        \n",
    "        // mu = A'v\n",
    "        //  v = N(0, I)\n",
    "        mu = A'*eta;\n",
    "        \n",
    "        // Qff = A'A\n",
    "        Qff = A'*A;\n",
    "        S = K - Qff;\n",
    "        \n",
    "        for (i in 1:N){\n",
    "            for(j in 1:N){\n",
    "                K_tilde[i,j] = 0.0;\n",
    "                K_tilde_inv[i,j] = 0.0;\n",
    "            }\n",
    "            K_tilde[i,i] = S[i,i];\n",
    "            K_tilde_inv[i,i] = 1./ S[i,i];\n",
    "        }\n",
    "        \n",
    "    }\n",
    "  \n",
    "#     rho ~ inv_gamma(5, 5);\n",
    "#     alpha ~ normal(0, 1);\n",
    "\n",
    "// strongly informative priors, but with these the covariance matrix will be more well behaved in my experience.\n",
    "// The mean of the Gaussian priors is close to the optimised MAP value of the hyperparameters.\n",
    "\n",
    "    rho ~ normal(0.90, 0.25);\n",
    "    alpha ~ normal(0.85, 0.25);\n",
    "    eta ~ normal(0, 1);\n",
    "\n",
    "    sigma ~ normal(0, 0.60);\n",
    "    \n",
    "    \n",
    "    // exp(L1) = log(N(y_i| mu_i, sigma)*exp(-0.5*K_tilde_ii/sigma))\n",
    "    // Equation 2 of Hensman, et al. Gaussian Processes for Big Data UAI 2013.\n",
    "    // This is the analytical soln. of expectation of log likelihood under conditional Guassian: P(F|U).\n",
    "    // K_tilde_ii = diag(Kff - Qff)[i,i]\n",
    "    \n",
    "    \n",
    "    for(i in 1:N){\n",
    " //       target += -square((y[i] - mu[i]))/(2*square(sigma));\n",
    "//        target += normal_lpdf(y[i] | mu[i], sigma);\n",
    "//        target += (-0.5*K_tilde[i,i]/sigma);\n",
    "        \n",
    "        target += normal_lpdf(y[i] | mu[i], sigma);\n",
    "        target += (-0.5*K_tilde[i,i]/sigma);\n",
    "\n",
    "    }\n",
    "    \n",
    "\n",
    "}\n",
    "\n",
    "\n",
    "\"\"\""
   ]
  },
  {
   "cell_type": "code",
   "execution_count": 239,
   "metadata": {
    "collapsed": false
   },
   "outputs": [],
   "source": [
    "stan_model_var = pystan.StanModel(model_code=stan_code_var)"
   ]
  },
  {
   "cell_type": "code",
   "execution_count": 166,
   "metadata": {
    "collapsed": true
   },
   "outputs": [],
   "source": [
    "gp_var_data = {'N':200, 'x':X.flatten(), 'y':Y.flatten(), 'M':20, 'xu':X_u_noisy.flatten()}"
   ]
  },
  {
   "cell_type": "code",
   "execution_count": 167,
   "metadata": {
    "collapsed": false
   },
   "outputs": [
    {
     "name": "stderr",
     "output_type": "stream",
     "text": [
      "/u/26/dhakaa1/unix/anaconda2/envs/stanpy35/lib/python3.5/site-packages/pystan/misc.py:399: FutureWarning: Conversion of the second argument of issubdtype from `float` to `np.floating` is deprecated. In future, it will be treated as `np.float64 == np.dtype(float).type`.\n",
      "  elif np.issubdtype(np.asarray(v).dtype, float):\n"
     ]
    }
   ],
   "source": [
    "fit_var= stan_model_var.sampling(data=gp_var_data, iter=400, chains=2)"
   ]
  },
  {
   "cell_type": "code",
   "execution_count": 169,
   "metadata": {
    "collapsed": false
   },
   "outputs": [],
   "source": [
    "samples = fit_var.extract()\n",
    "u = samples['u']\n",
    "u_mean = np.mean(u, axis=0)\n",
    "sigma = samples['sigma']\n",
    "l = samples['rho']\n",
    "sigvar = samples['alpha']\n",
    "sigma_mean = np.mean(sigma, axis=0)"
   ]
  },
  {
   "cell_type": "code",
   "execution_count": 170,
   "metadata": {
    "collapsed": false
   },
   "outputs": [
    {
     "name": "stdout",
     "output_type": "stream",
     "text": [
      "Inference for Stan model: anon_model_008efae7c702dce5b5f4f88a44813e6d.\n",
      "2 chains, each with iter=400; warmup=200; thin=1; \n",
      "post-warmup draws per chain=200, total post-warmup draws=400.\n",
      "\n",
      "          mean se_mean     sd   2.5%    25%    50%    75%  97.5%  n_eff   Rhat\n",
      "sigma     0.28  7.0e-4   0.01   0.26   0.27   0.28   0.29   0.31    400    1.0\n",
      "alpha     0.94    0.01   0.18   0.61    0.8   0.93   1.04   1.33    256    1.0\n",
      "rho       0.63  3.1e-3   0.06   0.51   0.59   0.63   0.67   0.75    400    1.0\n",
      "eta[0]    -0.1  7.7e-3   0.14  -0.37  -0.19  -0.09-9.2e-3   0.16    326    1.0\n",
      "eta[1]   -0.74    0.02   0.33  -1.46  -0.93  -0.72  -0.53  -0.12    344    1.0\n",
      "eta[2]   -1.16    0.03   0.49  -2.27  -1.48  -1.11  -0.83  -0.25    345    1.0\n",
      "eta[3]   -1.15    0.03   0.58  -2.29  -1.56  -1.09  -0.75  -0.08    321    1.0\n",
      "eta[4]   -1.02    0.03   0.63  -2.25  -1.42  -1.02  -0.61   0.21    400    1.0\n",
      "eta[5]    0.13    0.04   0.74  -1.32  -0.36   0.16   0.66   1.47    400    1.0\n",
      "eta[6]    0.97    0.03   0.62  -0.22   0.56   0.99   1.39   2.09    356    1.0\n",
      "eta[7]    0.36    0.04   0.65  -0.88  -0.07    0.4   0.81    1.6    336    1.0\n",
      "eta[8]   -0.18    0.04   0.73  -1.48  -0.67  -0.17   0.27   1.28    333    1.0\n",
      "eta[9]   -0.58    0.04   0.68  -1.93  -1.02  -0.58  -0.14   0.74    343   1.01\n",
      "eta[10]  -0.17    0.04   0.77  -1.65  -0.61  -0.28   0.31   1.51    400    1.0\n",
      "eta[11]   0.96    0.04   0.81  -0.62   0.39   1.05   1.48   2.47    400    1.0\n",
      "eta[12]   1.18    0.04   0.76  -0.31   0.68   1.18   1.69   2.66    400    1.0\n",
      "eta[13]  -0.21    0.04    0.9  -1.94  -0.89  -0.16   0.39    1.6    400    1.0\n",
      "eta[14]  -1.26    0.04   0.78  -2.85  -1.79  -1.25  -0.73   0.22    400    1.0\n",
      "eta[15]  -0.74    0.04   0.78  -2.47  -1.26  -0.76  -0.19   0.77    321    1.0\n",
      "eta[16]   0.32    0.04   0.79  -1.19  -0.24   0.36   0.85    1.9    325    1.0\n",
      "eta[17]   0.42    0.04   0.74  -0.96  -0.04   0.39   0.86   2.03    334    1.0\n",
      "eta[18]  -0.15    0.05   0.85  -1.95  -0.65  -0.13    0.4   1.51    254    1.0\n",
      "eta[19]  -0.23    0.05   0.99  -2.17  -0.87  -0.25   0.37   1.68    341   1.02\n",
      "u[0]    -2.8e5   2.1e5  2.1e5 -6.4e5 -4.7e5 -2.0e5 -8.2e4 -4.7e4      1   3.87\n",
      "u[1]     1.8e4   5.6e4  7.9e4 -1.1e5 -3.7e4 -1.0e4  9.2e4  1.6e5      2   1.96\n",
      "u[2]    -1.0e4   1.6e5  1.6e5 -2.4e5 -1.6e5 -1.4e4  1.2e5  2.8e5      1   3.54\n",
      "u[3]     4.8e4   1.4e5  1.4e5 -1.7e5 -8.9e4  4.9e4  1.8e5  2.4e5      1   4.88\n",
      "u[4]    -3.3e4   5.2e4  1.6e5 -4.4e5 -7.2e4 -2.2e4  6.3e4  2.2e5      9   1.12\n",
      "u[5]    -746.6   9.8e4  1.4e5 -1.7e5 -1.3e5 -2.3e4  1.1e5  2.9e5      2    2.3\n",
      "u[6]    -1.3e5   1.5e5  1.5e5 -3.7e5 -2.9e5 -3.9e4 2448.4  4.4e4      1   3.69\n",
      "u[7]     8.1e4   4.4e4  1.2e5 -1.0e5 -1.8e4  4.3e4  1.7e5  3.4e5      8   1.29\n",
      "u[8]    -1.6e5   9.9e4  1.4e5 -4.8e5 -2.5e5 -1.1e5 -6.5e4  1.3e4      2   1.42\n",
      "u[9]     -6055   1.3e5  1.3e5 -2.4e5 -1.1e5 1927.8  1.1e5  2.0e5      1   2.84\n",
      "u[10]    2.0e4   2.0e4  6.7e4 -1.1e5 -2.0e4  2.0e4  5.8e4  1.5e5     11   1.13\n",
      "u[11]    3.6e4  8649.8  3.4e4 -3.0e4  1.6e4  3.4e4  5.9e4  1.1e5     15   1.14\n",
      "u[12]   -9.3e4   3.1e5  3.1e5 -5.2e5 -4.1e5 -4.1e4  2.2e5  2.7e5      1   6.69\n",
      "u[13]   -1.0e5   1.5e5  1.5e5 -3.8e5 -2.3e5 -1.1e5  3.3e4  1.2e5      1   2.72\n",
      "u[14]   -2.1e5   1.7e5  2.4e5 -6.9e5 -3.8e5 -1.6e5 -5.2e4  1.9e5      2   2.78\n",
      "u[15]   10.0e4   8.3e4  8.3e4 -2.2e4  1.9e4  9.1e4  1.8e5  2.4e5      1   2.27\n",
      "u[16]    1.1e5   4.6e4  1.1e5 -9.7e4  5.6e4  1.1e5  1.7e5  3.4e5      6   1.71\n",
      "u[17]   -1.7e4   1.5e5  1.5e5 -2.4e5 -1.7e5  1.0e4  1.0e5  2.3e5      1   3.52\n",
      "u[18]    -8042   3.0e4  6.0e4 -1.5e5 -3.0e4 6938.0  3.2e4  7.0e4      4    1.9\n",
      "u[19]    1.8e4   9.6e4  1.4e5 -1.4e5 -9.1e4  -7160  7.6e4  3.2e5      2   3.17\n",
      "lp__    -44.66    0.38   4.02 -54.07 -47.18 -44.11 -41.75 -38.36    115   1.01\n",
      "\n",
      "Samples were drawn using NUTS at Fri May  4 13:58:04 2018.\n",
      "For each parameter, n_eff is a crude measure of effective sample size,\n",
      "and Rhat is the potential scale reduction factor on split chains (at \n",
      "convergence, Rhat=1).\n"
     ]
    }
   ],
   "source": [
    "print(fit_var)"
   ]
  },
  {
   "cell_type": "code",
   "execution_count": 177,
   "metadata": {
    "collapsed": false
   },
   "outputs": [
    {
     "name": "stdout",
     "output_type": "stream",
     "text": [
      "['sigma', 'alpha', 'rho', 'eta', 'u', 'lp__']\n"
     ]
    }
   ],
   "source": [
    "# mu = samples['mu']\n",
    "print(list(samples.keys()))\n",
    "# sigma_mean = np.mean(mu, axis=0)"
   ]
  },
  {
   "cell_type": "code",
   "execution_count": 153,
   "metadata": {
    "collapsed": true
   },
   "outputs": [],
   "source": [
    "sigma_samples = samples['sigma']\n",
    "alpha_samples = samples['alpha']\n",
    "rho_samples = samples['rho']"
   ]
  },
  {
   "cell_type": "code",
   "execution_count": 134,
   "metadata": {
    "collapsed": false
   },
   "outputs": [
    {
     "name": "stdout",
     "output_type": "stream",
     "text": [
      "mean of noise variance: 0.19\n",
      "median of noise variance: 0.19\n",
      "mean of lengthscale: 0.597\n",
      "median of lengthscale: 0.598\n",
      "mean of signal variance: 0.940\n",
      "median of signal variance: 0.930\n"
     ]
    }
   ],
   "source": [
    "sigma_mean = np.mean(samples['sigma'])\n",
    "sigma_median = np.nanmedian(samples['sigma'])\n",
    "\n",
    "l_mean = np.mean(samples['rho'])\n",
    "l_median = np.nanmedian(samples['rho'])\n",
    "\n",
    "sigvar_mean = np.mean(samples['alpha'])\n",
    "sigvar_median = np.nanmedian(samples['alpha'])\n",
    "\n",
    "print(\"mean of noise variance: %.2f\" % sigma_mean)\n",
    "print(\"median of noise variance: %.2f\"% sigma_median)\n",
    "print(\"mean of lengthscale: %.3f\"% l_mean)\n",
    "print(\"median of lengthscale: %.3f\"% l_median)\n",
    "print(\"mean of signal variance: %.3f\"% sigvar_mean)\n",
    "print(\"median of signal variance: %.3f\"% sigvar_median)"
   ]
  },
  {
   "cell_type": "code",
   "execution_count": 135,
   "metadata": {
    "collapsed": true
   },
   "outputs": [],
   "source": [
    "eta = samples['eta']"
   ]
  },
  {
   "cell_type": "code",
   "execution_count": 141,
   "metadata": {
    "collapsed": false
   },
   "outputs": [
    {
     "name": "stdout",
     "output_type": "stream",
     "text": [
      "(400, 20)\n"
     ]
    }
   ],
   "source": [
    "print(eta.shape)"
   ]
  },
  {
   "cell_type": "code",
   "execution_count": 142,
   "metadata": {
    "collapsed": true
   },
   "outputs": [],
   "source": [
    "eta_mean = np.mean(samples['eta'], axis=0)\n",
    "eta_median = np.nanmedian(samples['eta'], axis=0)"
   ]
  },
  {
   "cell_type": "code",
   "execution_count": 137,
   "metadata": {
    "collapsed": true
   },
   "outputs": [],
   "source": [
    "eta_perc_25 = np.percentile(eta, 2.5, axis=0)\n",
    "eta_perc_975 = np.percentile(eta, 97.5, axis=0)"
   ]
  },
  {
   "cell_type": "code",
   "execution_count": 138,
   "metadata": {
    "collapsed": true
   },
   "outputs": [],
   "source": [
    "eta_mean = np.mean(eta)"
   ]
  },
  {
   "cell_type": "markdown",
   "metadata": {},
   "source": [
    "#### Plotting posterior distribution of v."
   ]
  },
  {
   "cell_type": "code",
   "execution_count": 147,
   "metadata": {
    "collapsed": false
   },
   "outputs": [
    {
     "data": {
      "text/plain": [
       "[<matplotlib.lines.Line2D at 0x7f83ab671518>]"
      ]
     },
     "execution_count": 147,
     "metadata": {},
     "output_type": "execute_result"
    },
    {
     "data": {
      "image/png": "[encoded data removed]",
      "text/plain": [
       "<Figure size 432x288 with 1 Axes>"
      ]
     },
     "metadata": {},
     "output_type": "display_data"
    }
   ],
   "source": [
    "plt.plot(X,Y, 'ro')\n",
    "plt.plot(X_u_noisy, eta_perc_25, 'bo')\n",
    "plt.plot(X_u_noisy, eta_perc_975, 'go')\n",
    "plt.plot(X_u_noisy, eta_mean, 'ko')\n",
    "# plt.plot(X_u_noisy, eta_mean, 'yo')\n",
    "# plt.plot(X, f[320,:], 'go')"
   ]
  },
  {
   "cell_type": "code",
   "execution_count": 146,
   "metadata": {
    "collapsed": false
   },
   "outputs": [
    {
     "data": {
      "text/plain": [
       "[<matplotlib.lines.Line2D at 0x7f83ab6b5860>]"
      ]
     },
     "execution_count": 146,
     "metadata": {},
     "output_type": "execute_result"
    },
    {
     "data": {
      "image/png": "[encoded data removed]",
      "text/plain": [
       "<Figure size 432x288 with 1 Axes>"
      ]
     },
     "metadata": {},
     "output_type": "display_data"
    }
   ],
   "source": [
    "plt.plot(X_u_noisy, eta_mean, 'ko')"
   ]
  },
  {
   "cell_type": "code",
   "execution_count": 119,
   "metadata": {
    "collapsed": true
   },
   "outputs": [],
   "source": [
    "u_perc_25 = np.percentile(u, 2.5, axis=0)\n",
    "u_perc_975 = np.percentile(u, 97.5, axis=0)"
   ]
  },
  {
   "cell_type": "code",
   "execution_count": 249,
   "metadata": {
    "collapsed": true
   },
   "outputs": [],
   "source": [
    "\n",
    "class ProcessStanSamples(object):\n",
    "    \n",
    "    def _params_samples(samples):\n",
    "        keys = list(samples.keys())\n",
    "        return keys\n",
    "    \n",
    "    def plot_histograms(samples):\n",
    "        sigma_samples = samples['sigma']\n",
    "        rho_samples = samples['rho']\n",
    "        alpha_samples = samples['alpha']\n",
    "        if 'f' in self._params_samples(samples):\n",
    "            f_samples = samples['f']\n",
    "        \n",
    "        if 'u' in self._params_samples(samples):\n",
    "            u_samples = samples['u']\n",
    "        \n",
    "        \n",
    "        f, axs = plt.subplots(2,2, sharey=True)\n",
    "        axs[0,0].hist(sigma_samples)\n",
    "        axs[0,0].set_title('Plotting samples for sigma')\n",
    "        axs[0,0].legend(['Noise variance'])\n",
    "        axs[0,1].hist(rho_samples)\n",
    "        axs[0,1].set_title('Plotting samples for lengthscale')\n",
    "        axs[0,1].legend(['lengthscale'])\n",
    "        axs[1,0].hist(alpha_samples)\n",
    "#         axs[1,0].set_title('Plotting samples for signalvariance')\n",
    "        axs[1,0].legend(['signal var'])\n",
    "        \n",
    "    "
   ]
  },
  {
   "cell_type": "code",
   "execution_count": 251,
   "metadata": {
    "collapsed": false
   },
   "outputs": [
    {
     "data": {
      "text/plain": [
       "<matplotlib.legend.Legend at 0x7f83c2303710>"
      ]
     },
     "execution_count": 251,
     "metadata": {},
     "output_type": "execute_result"
    },
    {
     "data": {
      "image/png": "[encoded data removed]",
      "text/plain": [
       "<Figure size 432x288 with 4 Axes>"
      ]
     },
     "metadata": {},
     "output_type": "display_data"
    }
   ],
   "source": [
    "f, axs = plt.subplots(2,2, sharey=True)\n",
    "axs[0,0].hist(sigma_samples)\n",
    "axs[0,0].set_title('Plotting samples for sigma')\n",
    "axs[0,0].legend(['Noise variance'])\n",
    "axs[0,1].hist(rho_samples)\n",
    "axs[0,1].set_title('Plotting samples for lengthscale')\n",
    "axs[0,1].legend(['lengthscale'])\n",
    "axs[1,0].hist(alpha_samples)\n",
    "# axs[1,0].set_title('Plotting samples for signalvariance')\n",
    "axs[1,0].legend(['signal var'])"
   ]
  },
  {
   "cell_type": "code",
   "execution_count": 181,
   "metadata": {
    "collapsed": true
   },
   "outputs": [],
   "source": [
    "eta_samples = samples['eta']"
   ]
  },
  {
   "cell_type": "code",
   "execution_count": 252,
   "metadata": {
    "collapsed": true
   },
   "outputs": [],
   "source": [
    "N_star = 25\n",
    "X_star = np.linspace(-0.5, 6.5, N_star)[:, None]\n",
    "M = 20"
   ]
  },
  {
   "cell_type": "code",
   "execution_count": 179,
   "metadata": {
    "collapsed": false
   },
   "outputs": [
    {
     "name": "stdout",
     "output_type": "stream",
     "text": [
      "(400,)\n"
     ]
    }
   ],
   "source": [
    "print(alpha_samples.shape)"
   ]
  },
  {
   "cell_type": "code",
   "execution_count": 189,
   "metadata": {
    "collapsed": true
   },
   "outputs": [],
   "source": [
    "def kernel_rbf(alpha, rho, Xi, Xj=None):\n",
    "    if Xj is None:\n",
    "        Xj = Xi\n",
    "    \n",
    "    N1,D1 = Xi.shape[0],1\n",
    "    N2,D2 = Xj.shape[0],1\n",
    "    \n",
    "    diff = Xi.reshape(N1,1,D1) - Xj.reshape(1,N2,D2)\n",
    "    K = (alpha**2)*np.exp(-0.5*np.sum(np.square(diff),-1)/(rho)**2)\n",
    "    return K\n",
    "    "
   ]
  },
  {
   "cell_type": "code",
   "execution_count": 190,
   "metadata": {
    "collapsed": false
   },
   "outputs": [],
   "source": [
    "Kuu = kernel_rbf(alpha=1.0, rho =0.8, Xi=X_u_noisy)"
   ]
  },
  {
   "cell_type": "code",
   "execution_count": 191,
   "metadata": {
    "collapsed": true
   },
   "outputs": [],
   "source": [
    "K_star_u = kernel_rbf(alpha=1.0, rho =0.8, Xi=X_star, Xj=X_u_noisy)"
   ]
  },
  {
   "cell_type": "code",
   "execution_count": 210,
   "metadata": {
    "collapsed": false
   },
   "outputs": [],
   "source": [
    "alpha_sub_samples = alpha_samples[::40]\n",
    "rho_sub_samples = rho_samples[::40]\n",
    "sigma_sub_samples = sigma_samples[::40]\n",
    "eta_sub_samples = eta_samples[::40,:]"
   ]
  },
  {
   "cell_type": "code",
   "execution_count": 235,
   "metadata": {
    "collapsed": false
   },
   "outputs": [
    {
     "name": "stdout",
     "output_type": "stream",
     "text": [
      "(10,)\n"
     ]
    }
   ],
   "source": [
    "print(alpha_sub_samples.shape)\n",
    "N_s = 10"
   ]
  },
  {
   "cell_type": "markdown",
   "metadata": {},
   "source": [
    "####  Utility function to generate predictive distribution:\n",
    "\n",
    "$p(f^*|y) = \\int \\int p(f^*|u) q(u, \\theta) du d\\theta$\n",
    "\n",
    "We will obtain the above expression using MCMC samples. The stan code above samples from the optimal variational distribution $q(u,\\theta)$"
   ]
  },
  {
   "cell_type": "code",
   "execution_count": 226,
   "metadata": {
    "collapsed": true
   },
   "outputs": [],
   "source": [
    "# function to generate mean and covariance matrics ..\n",
    "\n",
    "def generate_preds(alpha, rho, v, Xi, Xj):\n",
    "    Kuu = kernel_rbf(alpha, rho, Xi=X_u_noisy)\n",
    "    K_star_u = kernel_rbf(alpha, rho, Xi=X_star, Xj=X_u_noisy)\n",
    "    K_star_star = kernel_rbf(alpha, rho, Xi=X_star)\n",
    "    \n",
    "    R = np.linalg.cholesky(Kuu)\n",
    "    A = np.linalg.solve(R, np.transpose(K_star_u))\n",
    "#     print(A.shape)\n",
    "    A_T = np.transpose(A)\n",
    "    f_star_mean = np.dot(A_T, v)\n",
    "    Q_star_star = np.dot(A_T, A)\n",
    "    \n",
    "    S = K_star_star - Q_star_star\n",
    "    return f_star_mean, S\n",
    "\n"
   ]
  },
  {
   "cell_type": "code",
   "execution_count": 236,
   "metadata": {
    "collapsed": false
   },
   "outputs": [],
   "source": [
    "f_sum = np.zeros(25)\n",
    "S_sum = np.zeros((25,25))\n",
    "for i in range(10):\n",
    "    f_star_mean, S = generate_preds(alpha=alpha_sub_samples[i], rho =rho_sub_samples[i], v =eta_sub_samples[i,:],  Xi=X_star, Xj=X_u_noisy)\n",
    "    f_sum = f_sum + f_star_mean\n",
    "    S_sum = S_sum + S\n"
   ]
  },
  {
   "cell_type": "markdown",
   "metadata": {},
   "source": [
    "####   Plot for predictive distribution for Snelson dataset using samples obtained from optimal variational distribution : q(v, $\\theta$)"
   ]
  },
  {
   "cell_type": "code",
   "execution_count": 237,
   "metadata": {
    "collapsed": true
   },
   "outputs": [],
   "source": [
    "f_fin = f_sum / N_s\n",
    "S_sum = S_sum / N_s"
   ]
  },
  {
   "cell_type": "code",
   "execution_count": 238,
   "metadata": {
    "collapsed": false
   },
   "outputs": [
    {
     "data": {
      "text/plain": [
       "[<matplotlib.lines.Line2D at 0x7f839b1d6320>]"
      ]
     },
     "execution_count": 238,
     "metadata": {},
     "output_type": "execute_result"
    },
    {
     "data": {
      "image/png": "[encoded data removed]",
      "text/plain": [
       "<Figure size 432x288 with 1 Axes>"
      ]
     },
     "metadata": {},
     "output_type": "display_data"
    }
   ],
   "source": [
    "plt.plot(X_star, f_fin, 'bo')"
   ]
  },
  {
   "cell_type": "code",
   "execution_count": 231,
   "metadata": {
    "collapsed": true
   },
   "outputs": [],
   "source": [
    "N_full = 400"
   ]
  },
  {
   "cell_type": "code",
   "execution_count": 227,
   "metadata": {
    "collapsed": false
   },
   "outputs": [],
   "source": [
    "f_sum = np.zeros(25)\n",
    "S_sum = np.zeros((25,25))\n",
    "for i in range(400):\n",
    "    f_star_mean, S = generate_preds(alpha=alpha_samples[i], rho =rho_samples[i], v =eta_samples[i,:],  Xi=X_star, Xj=X_u_noisy)\n",
    "    f_sum = f_sum + f_star_mean\n",
    "    S_sum = S_sum + S"
   ]
  },
  {
   "cell_type": "code",
   "execution_count": 232,
   "metadata": {
    "collapsed": false
   },
   "outputs": [],
   "source": [
    "f_fin = f_sum / N_full\n",
    "S_sum = S_sum / N_full"
   ]
  },
  {
   "cell_type": "code",
   "execution_count": 233,
   "metadata": {
    "collapsed": false
   },
   "outputs": [
    {
     "data": {
      "text/plain": [
       "[<matplotlib.lines.Line2D at 0x7f839b1fa160>]"
      ]
     },
     "execution_count": 233,
     "metadata": {},
     "output_type": "execute_result"
    },
    {
     "data": {
      "image/png": "[encoded data removed]",
      "text/plain": [
       "<Figure size 432x288 with 1 Axes>"
      ]
     },
     "metadata": {},
     "output_type": "display_data"
    }
   ],
   "source": [
    "plt.plot(X_star, f_fin, 'go')"
   ]
  },
  {
   "cell_type": "code",
   "execution_count": 243,
   "metadata": {
    "collapsed": false
   },
   "outputs": [],
   "source": [
    "\n",
    "a = np.random.multivariate_normal(f_fin, S_sum, 6)"
   ]
  },
  {
   "cell_type": "code",
   "execution_count": 244,
   "metadata": {
    "collapsed": false
   },
   "outputs": [
    {
     "name": "stdout",
     "output_type": "stream",
     "text": [
      "(6, 25)\n"
     ]
    }
   ],
   "source": [
    "print(a.shape)"
   ]
  },
  {
   "cell_type": "code",
   "execution_count": 253,
   "metadata": {
    "collapsed": false
   },
   "outputs": [
    {
     "data": {
      "text/plain": [
       "[<matplotlib.lines.Line2D at 0x7f83c21d4a58>]"
      ]
     },
     "execution_count": 253,
     "metadata": {},
     "output_type": "execute_result"
    },
    {
     "data": {
      "image/png": "[encoded data removed]",
      "text/plain": [
       "<Figure size 432x288 with 1 Axes>"
      ]
     },
     "metadata": {},
     "output_type": "display_data"
    }
   ],
   "source": [
    "plt.plot(X_star, a[0], 'g-')\n",
    "plt.plot(X_star, a[1], 'b-')\n",
    "plt.plot(X_star, a[2], 'r-')\n",
    "plt.plot(X_star, a[3], 'k-')\n",
    "plt.plot(X_star, a[4], 'm-')\n",
    "plt.plot(X_star, a[5], 'c-')\n",
    "plt.plot(X_star, a[4], 'ko')\n",
    "plt.plot(X, Y, 'mo')"
   ]
  },
  {
   "cell_type": "code",
   "execution_count": null,
   "metadata": {
    "collapsed": true
   },
   "outputs": [],
   "source": []
  }
 ],
 "metadata": {
  "anaconda-cloud": {},
  "kernelspec": {
   "display_name": "Python [conda env:stanpy35]",
   "language": "python",
   "name": "conda-env-stanpy35-py"
  },
  "language_info": {
   "codemirror_mode": {
    "name": "ipython",
    "version": 3
   },
   "file_extension": ".py",
   "mimetype": "text/x-python",
   "name": "python",
   "nbconvert_exporter": "python",
   "pygments_lexer": "ipython3",
   "version": "3.5.4"
  }
 },
 "nbformat": 4,
 "nbformat_minor": 1
}
