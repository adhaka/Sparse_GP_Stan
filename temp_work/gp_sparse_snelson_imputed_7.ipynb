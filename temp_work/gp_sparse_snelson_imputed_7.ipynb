{
 "cells": [
  {
   "cell_type": "code",
   "execution_count": 1,
   "metadata": {
    "collapsed": true
   },
   "outputs": [],
   "source": [
    "%matplotlib inline\n",
    "import  matplotlib\n",
    "import matplotlib.pyplot as plt\n",
    "import pystan"
   ]
  },
  {
   "cell_type": "code",
   "execution_count": 3,
   "metadata": {
    "collapsed": true
   },
   "outputs": [],
   "source": [
    "import numpy as np\n",
    "import scipy.io as sio\n",
    "df = sio.loadmat('snelson1d.mat')"
   ]
  },
  {
   "cell_type": "code",
   "execution_count": 4,
   "metadata": {
    "collapsed": false
   },
   "outputs": [],
   "source": [
    "X = df['X']\n",
    "Y = df['Y']\n",
    "X_t = df['tX']\n",
    "Y_t = df['tY']"
   ]
  },
  {
   "cell_type": "code",
   "execution_count": 5,
   "metadata": {
    "collapsed": true
   },
   "outputs": [],
   "source": [
    "M = 7\n",
    "N_star = 25\n",
    "X_u_noisy = np.linspace(0,6, M)[:, None]"
   ]
  },
  {
   "cell_type": "code",
   "execution_count": null,
   "metadata": {
    "collapsed": true
   },
   "outputs": [],
   "source": [
    "stan_code_var = \"\"\"\n",
    "data {\n",
    "    int<lower=1> N;\n",
    "    int<lower=1> M;\n",
    "    real x[N];\n",
    "    vector[N] y;\n",
    "    real xu[M];\n",
    "\n",
    "}\n",
    "transformed data {\n",
    "    real jitter = 1e-6;\n",
    "//     real rho = 0.9;\n",
    "//     real alpha = 0.85;\n",
    "//     real sigma = 0.12;\n",
    "}\n",
    "\n",
    "parameters {\n",
    "    real<lower=1e-6> sigma;\n",
    "     real <lower=1e-6> alpha;\n",
    "     real<lower=1e-6> rho;\n",
    "    \n",
    "    vector[M] eta;\n",
    "    vector[M] u;\n",
    "    \n",
    "}\n",
    "\n",
    "transformed parameters{\n",
    "   // matrix[M, M] R;\n",
    "}\n",
    "model {\n",
    "    vector[N] mu;\n",
    "    matrix[N, N] f_cov;\n",
    "    matrix[N, N] S;\n",
    "    matrix[M, N] A;\n",
    "    matrix [N,N] Qff;\n",
    "    matrix [N,N] L_fitc;\n",
    "    matrix[N, N] K_tilde;\n",
    "    matrix[N, N] K_tilde_inv;\n",
    "    matrix[M, M] R;\n",
    "    \n",
    "    matrix[M, M] Kuu = cov_exp_quad(xu, alpha, rho);\n",
    "    matrix[N, M] Kfu = cov_exp_quad(x, xu, alpha, rho);\n",
    "    matrix[N, N] K = cov_exp_quad(x, alpha, rho);\n",
    "    vector[M] Kuu_inv_u;\n",
    "\n",
    "        \n",
    "         for (m in 1:M)\n",
    "             Kuu[m, m] = Kuu[m, m] + jitter;\n",
    "        \n",
    "        // RRT = Kuu\n",
    "    R = cholesky_decompose(Kuu);\n",
    "        \n",
    "    {\n",
    "        \n",
    "\n",
    "                  \n",
    "        //A = R^{-1}Kuf   or A = R\\Kuf\n",
    "        A = mdivide_left_tri_low(R, Kfu');\n",
    "        \n",
    "        // mu = A'v\n",
    "        //  v = N(0, I)\n",
    "        mu = A'*eta;\n",
    "        \n",
    "        // Qff = A'A\n",
    "        Qff = A'*A;\n",
    "        S = K - Qff;\n",
    "        \n",
    "        for (i in 1:N){\n",
    "            for(j in 1:N){\n",
    "                K_tilde[i,j] = 0.0;\n",
    "                K_tilde_inv[i,j] = 0.0;\n",
    "            }\n",
    "            K_tilde[i,i] = S[i,i];\n",
    "            K_tilde_inv[i,i] = 1./ S[i,i];\n",
    "        }\n",
    "        \n",
    "    }\n",
    "  \n",
    "#     rho ~ inv_gamma(5, 5);\n",
    "#     alpha ~ normal(0, 1);\n",
    "\n",
    "// strongly informative priors, but with these the covariance matrix will be more well behaved in my experience.\n",
    "// The mean of the Gaussian priors is close to the optimised MAP value of the hyperparameters.\n",
    "\n",
    "    rho ~ normal(0.90, 0.25);\n",
    "    alpha ~ normal(0.85, 0.25);\n",
    "    eta ~ normal(0, 1);\n",
    "\n",
    "    sigma ~ normal(0, 0.60);\n",
    "    \n",
    "    \n",
    "    // exp(L1) = log(N(y_i| mu_i, sigma)*exp(-0.5*K_tilde_ii/sigma))\n",
    "    // Equation 2 of Hensman, et al. Gaussian Processes for Big Data UAI 2013.\n",
    "    // This is the analytical soln. of expectation of log likelihood under conditional Guassian: P(F|U).\n",
    "    // K_tilde_ii = diag(Kff - Qff)[i,i]\n",
    "    \n",
    "    \n",
    "    for(i in 1:N){\n",
    " //       target += -square((y[i] - mu[i]))/(2*square(sigma));\n",
    "//        target += normal_lpdf(y[i] | mu[i], sigma);\n",
    "//        target += (-0.5*K_tilde[i,i]/sigma);\n",
    "        \n",
    "        target += normal_lpdf(y[i] | mu[i], sigma);\n",
    "        target += (-0.5*K_tilde[i,i]/sigma);\n",
    "\n",
    "    }\n",
    "    \n",
    "\n",
    "}\n",
    "\n",
    "\n",
    "\"\"\""
   ]
  },
  {
   "cell_type": "code",
   "execution_count": null,
   "metadata": {
    "collapsed": true
   },
   "outputs": [],
   "source": []
  }
 ],
 "metadata": {
  "anaconda-cloud": {},
  "kernelspec": {
   "display_name": "Python [conda env:stanpy35]",
   "language": "python",
   "name": "conda-env-stanpy35-py"
  },
  "language_info": {
   "codemirror_mode": {
    "name": "ipython",
    "version": 3
   },
   "file_extension": ".py",
   "mimetype": "text/x-python",
   "name": "python",
   "nbconvert_exporter": "python",
   "pygments_lexer": "ipython3",
   "version": "3.5.4"
  }
 },
 "nbformat": 4,
 "nbformat_minor": 1
}
