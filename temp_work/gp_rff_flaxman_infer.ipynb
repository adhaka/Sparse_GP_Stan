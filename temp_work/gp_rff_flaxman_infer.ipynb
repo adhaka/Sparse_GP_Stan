{
 "cells": [
  {
   "cell_type": "code",
   "execution_count": 1,
   "metadata": {
    "collapsed": true
   },
   "outputs": [],
   "source": [
    "%matplotlib inline\n",
    "import  matplotlib\n",
    "import matplotlib.pyplot as plt\n",
    "import pystan"
   ]
  },
  {
   "cell_type": "code",
   "execution_count": 2,
   "metadata": {
    "collapsed": true
   },
   "outputs": [],
   "source": [
    "import numpy as np\n",
    "import scipy.io as sio"
   ]
  },
  {
   "cell_type": "code",
   "execution_count": 3,
   "metadata": {
    "collapsed": true
   },
   "outputs": [],
   "source": [
    "df = sio.loadmat('snelson1d.mat')\n",
    "X = df['X']\n",
    "Y = df['Y']\n",
    "X_t = df['tX']\n",
    "Y_t = df['tY']"
   ]
  },
  {
   "cell_type": "code",
   "execution_count": null,
   "metadata": {
    "collapsed": true
   },
   "outputs": [],
   "source": [
    "SEED = 42\n",
    "np.random.seed(seed=SEED)"
   ]
  },
  {
   "cell_type": "code",
   "execution_count": 4,
   "metadata": {
    "collapsed": false
   },
   "outputs": [],
   "source": [
    "M = 20\n",
    "\n",
    "X_u = np.linspace(0,6, M)[:, None]\n",
    "X_u_noisy = X_u + 0.1*np.random.rand(*X_u.shape) "
   ]
  },
  {
   "cell_type": "code",
   "execution_count": 5,
   "metadata": {
    "collapsed": true
   },
   "outputs": [],
   "source": [
    "stan_code_rff = \"\"\"\n",
    "data {\n",
    "    int<lower=1> N;\n",
    "    int<lower=1> M;\n",
    "    vector [N]x;\n",
    "    vector[N] y;\n",
    "}\n",
    "\n",
    "transformed data {\n",
    "    real jitter = 1e-6;\n",
    "    real scale;\n",
    "    vector[N] f_mean = rep_vector(0, N);\n",
    "    vector[M] omega; \n",
    "\n",
    "    scale = sqrt(2.0/M);\n",
    "\n",
    "    for (i in 1:M){\n",
    "        omega[i] = normal_rng(0,1);\n",
    "    }\n",
    "\n",
    "}\n",
    "\n",
    "parameters{\n",
    "    vector[M] b1;\n",
    "    vector[M] b2;\n",
    "    real<lower=0> ps;\n",
    "    vector[M] bk;\n",
    "    real<lower=1e-6> sigma;\n",
    "\n",
    "}\n",
    "\n",
    "transformed parameters {\n",
    "    vector[N] f;\n",
    "    \n",
    "    {\n",
    "        matrix[N, M] feats;\n",
    "        matrix[N, M] cosfeats;\n",
    "        matrix[N, M] sinfeats;\n",
    "        vector[N] cosfeats_shift;\n",
    "        vector[N] sinfeats_shift;\n",
    "        matrix[N, 2*M] fullfeats;\n",
    "        feats = x * omega' * ps;\n",
    "\n",
    "         for(i in 1:N){\n",
    "             for(j in 1:M){\n",
    "                 cosfeats[i,j] = cos(feats[i,j] );\n",
    "                 sinfeats[i,j] = sin(feats[i,j] );\n",
    "                 fullfeats[i,j] = cosfeats[i,j];\n",
    "                 fullfeats[i,M+j] = sinfeats[i,j];\n",
    "             }\n",
    "         }\n",
    "\n",
    "        cosfeats_shift = cosfeats * b1;\n",
    "        sinfeats_shift = sinfeats * b2;\n",
    "        f = (cosfeats_shift + cosfeats_shift)*scale;\n",
    "\n",
    "    }\n",
    "}\n",
    "\n",
    "\n",
    "model {\n",
    "    ps ~ normal(0, 1.0);\n",
    "\n",
    "    bk ~ normal(0,1);\n",
    "    b1 ~ normal(0.0, 1.0);\n",
    "    b2 ~ normal(0.0, 1.0);\n",
    "    sigma ~ normal(0.0, 0.5);\n",
    "    \n",
    "    y ~ normal(f, sigma);\n",
    "    \n",
    "}\n",
    "\"\"\""
   ]
  },
  {
   "cell_type": "code",
   "execution_count": 6,
   "metadata": {
    "collapsed": false
   },
   "outputs": [
    {
     "name": "stderr",
     "output_type": "stream",
     "text": [
      "INFO:pystan:COMPILING THE C++ CODE FOR MODEL anon_model_3714aa61a4512a4df42ad2ee3dba5bec NOW.\n"
     ]
    }
   ],
   "source": [
    "stan_model_rff = pystan.StanModel(model_code=stan_code_rff)"
   ]
  },
  {
   "cell_type": "code",
   "execution_count": 7,
   "metadata": {
    "collapsed": true
   },
   "outputs": [],
   "source": [
    "gp_snelson_data = {'N':200, 'x':X.flatten(), 'y':Y.flatten(), 'M':50 }"
   ]
  },
  {
   "cell_type": "code",
   "execution_count": 8,
   "metadata": {
    "collapsed": false
   },
   "outputs": [
    {
     "name": "stderr",
     "output_type": "stream",
     "text": [
      "/u/26/dhakaa1/unix/anaconda2/envs/stanpy35/lib/python3.5/site-packages/pystan/misc.py:399: FutureWarning: Conversion of the second argument of issubdtype from `float` to `np.floating` is deprecated. In future, it will be treated as `np.float64 == np.dtype(float).type`.\n",
      "  elif np.issubdtype(np.asarray(v).dtype, float):\n"
     ]
    }
   ],
   "source": [
    "fit_gpr_rff = stan_model_rff.sampling(data=gp_snelson_data, iter=400, chains=2)"
   ]
  },
  {
   "cell_type": "code",
   "execution_count": 10,
   "metadata": {
    "collapsed": false
   },
   "outputs": [],
   "source": [
    "samples = fit_gpr_rff.extract()"
   ]
  },
  {
   "cell_type": "code",
   "execution_count": 11,
   "metadata": {
    "collapsed": false
   },
   "outputs": [],
   "source": [
    "f = samples['f']"
   ]
  },
  {
   "cell_type": "code",
   "execution_count": 12,
   "metadata": {
    "collapsed": true
   },
   "outputs": [],
   "source": [
    "f_25 = np.percentile(f, 2.5, axis=0)\n",
    "f_975 = np.percentile(f, 97.5, axis=0)"
   ]
  },
  {
   "cell_type": "code",
   "execution_count": 13,
   "metadata": {
    "collapsed": false
   },
   "outputs": [
    {
     "data": {
      "text/plain": [
       "[<matplotlib.lines.Line2D at 0x7f0a091eea90>]"
      ]
     },
     "execution_count": 13,
     "metadata": {},
     "output_type": "execute_result"
    },
    {
     "data": {
      "image/png": "[encoded data removed]",
      "text/plain": [
       "<Figure size 432x288 with 1 Axes>"
      ]
     },
     "metadata": {},
     "output_type": "display_data"
    }
   ],
   "source": [
    "plt.plot(X,Y, 'ro')\n",
    "plt.plot(X, f_25, 'bo')\n",
    "plt.plot(X, f_975, 'go')"
   ]
  },
  {
   "cell_type": "code",
   "execution_count": 14,
   "metadata": {
    "collapsed": true
   },
   "outputs": [],
   "source": [
    "sigma_samples = samples['sigma']\n"
   ]
  },
  {
   "cell_type": "code",
   "execution_count": 15,
   "metadata": {
    "collapsed": false
   },
   "outputs": [
    {
     "data": {
      "text/plain": [
       "(array([ 5., 30., 64., 98., 90., 71., 25., 14.,  1.,  2.]),\n",
       " array([0.24388513, 0.25351717, 0.26314921, 0.27278124, 0.28241328,\n",
       "        0.29204532, 0.30167735, 0.31130939, 0.32094143, 0.33057346,\n",
       "        0.3402055 ]),\n",
       " <a list of 10 Patch objects>)"
      ]
     },
     "execution_count": 15,
     "metadata": {},
     "output_type": "execute_result"
    },
    {
     "data": {
      "image/png": "[encoded data removed]",
      "text/plain": [
       "<Figure size 432x288 with 1 Axes>"
      ]
     },
     "metadata": {},
     "output_type": "display_data"
    }
   ],
   "source": [
    "plt.hist(sigma_samples)"
   ]
  },
  {
   "cell_type": "code",
   "execution_count": 18,
   "metadata": {
    "collapsed": false
   },
   "outputs": [],
   "source": [
    "bk_samples = samples['bk']\n",
    "# plt.hist(bk_samples)"
   ]
  },
  {
   "cell_type": "code",
   "execution_count": null,
   "metadata": {
    "collapsed": true
   },
   "outputs": [],
   "source": []
  }
 ],
 "metadata": {
  "anaconda-cloud": {},
  "kernelspec": {
   "display_name": "Python [conda env:stanpy35]",
   "language": "python",
   "name": "conda-env-stanpy35-py"
  },
  "language_info": {
   "codemirror_mode": {
    "name": "ipython",
    "version": 3
   },
   "file_extension": ".py",
   "mimetype": "text/x-python",
   "name": "python",
   "nbconvert_exporter": "python",
   "pygments_lexer": "ipython3",
   "version": "3.5.4"
  }
 },
 "nbformat": 4,
 "nbformat_minor": 1
}
