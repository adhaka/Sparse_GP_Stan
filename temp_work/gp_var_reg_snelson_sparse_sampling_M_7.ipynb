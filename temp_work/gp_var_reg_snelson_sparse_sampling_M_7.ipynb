{
 "cells": [
  {
   "cell_type": "code",
   "execution_count": 1,
   "metadata": {
    "collapsed": true
   },
   "outputs": [],
   "source": [
    "%matplotlib inline\n",
    "import  matplotlib\n",
    "import matplotlib.pyplot as plt\n",
    "import pystan"
   ]
  },
  {
   "cell_type": "code",
   "execution_count": 2,
   "metadata": {
    "collapsed": true
   },
   "outputs": [],
   "source": [
    "import numpy as np"
   ]
  },
  {
   "cell_type": "code",
   "execution_count": 3,
   "metadata": {
    "collapsed": true
   },
   "outputs": [],
   "source": [
    "import scipy.io as sio"
   ]
  },
  {
   "cell_type": "code",
   "execution_count": 4,
   "metadata": {
    "collapsed": true
   },
   "outputs": [],
   "source": [
    "df = sio.loadmat('snelson1d.mat')"
   ]
  },
  {
   "cell_type": "code",
   "execution_count": 5,
   "metadata": {
    "collapsed": true
   },
   "outputs": [],
   "source": [
    "X = df['X']\n",
    "Y = df['Y']\n",
    "X_t = df['tX']\n",
    "Y_t = df['tY']"
   ]
  },
  {
   "cell_type": "code",
   "execution_count": 63,
   "metadata": {
    "collapsed": true
   },
   "outputs": [],
   "source": [
    "M = 7"
   ]
  },
  {
   "cell_type": "code",
   "execution_count": 7,
   "metadata": {
    "collapsed": true
   },
   "outputs": [],
   "source": [
    "N_star = 25"
   ]
  },
  {
   "cell_type": "code",
   "execution_count": 8,
   "metadata": {
    "collapsed": true
   },
   "outputs": [],
   "source": [
    "X_u_noisy = np.linspace(0,6, M)[:, None]"
   ]
  },
  {
   "cell_type": "code",
   "execution_count": 9,
   "metadata": {
    "collapsed": false
   },
   "outputs": [],
   "source": [
    "stan_code_var = \"\"\"\n",
    "data {\n",
    "    int<lower=1> N;\n",
    "    int<lower=1> M;\n",
    "    real x[N];\n",
    "    vector[N] y;\n",
    "    real xu[M];\n",
    "\n",
    "}\n",
    "transformed data {\n",
    "    real jitter = 1e-6;\n",
    "//     real rho = 0.9;\n",
    "//     real alpha = 0.85;\n",
    "//     real sigma = 0.12;\n",
    "}\n",
    "\n",
    "parameters {\n",
    "    real<lower=1e-6> sigma;\n",
    "     real <lower=1e-6> alpha;\n",
    "     real<lower=1e-6> rho;\n",
    "    \n",
    "    vector[M] eta;\n",
    "    vector[M] u;\n",
    "    \n",
    "}\n",
    "\n",
    "transformed parameters{\n",
    "   // matrix[M, M] R;\n",
    "}\n",
    "model {\n",
    "    vector[N] mu;\n",
    "    matrix[N, N] f_cov;\n",
    "    matrix[N, N] S;\n",
    "    matrix[M, N] A;\n",
    "    matrix [N,N] Qff;\n",
    "    matrix [N,N] L_fitc;\n",
    "    matrix[N, N] K_tilde;\n",
    "    matrix[N, N] K_tilde_inv;\n",
    "    matrix[M, M] R;\n",
    "    \n",
    "    matrix[M, M] Kuu = cov_exp_quad(xu, alpha, rho);\n",
    "    matrix[N, M] Kfu = cov_exp_quad(x, xu, alpha, rho);\n",
    "    matrix[N, N] K = cov_exp_quad(x, alpha, rho);\n",
    "    vector[M] Kuu_inv_u;\n",
    "\n",
    "        \n",
    "         for (m in 1:M)\n",
    "             Kuu[m, m] = Kuu[m, m] + jitter;\n",
    "        \n",
    "        // RRT = Kuu\n",
    "    R = cholesky_decompose(Kuu);\n",
    "        \n",
    "    {\n",
    "        \n",
    "\n",
    "                  \n",
    "        //A = R^{-1}Kuf   or A = R\\Kuf\n",
    "        A = mdivide_left_tri_low(R, Kfu');\n",
    "        \n",
    "        // mu = A'v\n",
    "        //  v = N(0, I)\n",
    "        mu = A'*eta;\n",
    "        \n",
    "        // Qff = A'A\n",
    "        Qff = A'*A;\n",
    "        S = K - Qff;\n",
    "        \n",
    "        for (i in 1:N){\n",
    "            for(j in 1:N){\n",
    "                K_tilde[i,j] = 0.0;\n",
    "                K_tilde_inv[i,j] = 0.0;\n",
    "            }\n",
    "            K_tilde[i,i] = S[i,i];\n",
    "            K_tilde_inv[i,i] = 1./ S[i,i];\n",
    "        }\n",
    "        \n",
    "    }\n",
    "  \n",
    "#     rho ~ inv_gamma(5, 5);\n",
    "#     alpha ~ normal(0, 1);\n",
    "\n",
    "// strongly informative priors, but with these the covariance matrix will be more well behaved in my experience.\n",
    "// The mean of the Gaussian priors is close to the optimised MAP value of the hyperparameters.\n",
    "\n",
    "    rho ~ normal(0.90, 0.25);\n",
    "    alpha ~ normal(0.85, 0.25);\n",
    "    eta ~ normal(0, 1);\n",
    "\n",
    "    sigma ~ normal(0, 0.60);\n",
    "    \n",
    "    \n",
    "    // exp(L1) = log(N(y_i| mu_i, sigma)*exp(-0.5*K_tilde_ii/sigma))\n",
    "    // Equation 2 of Hensman, et al. Gaussian Processes for Big Data UAI 2013.\n",
    "    // This is the analytical soln. of expectation of log likelihood under conditional Guassian: P(F|U).\n",
    "    // K_tilde_ii = diag(Kff - Qff)[i,i]\n",
    "    \n",
    "    \n",
    "    for(i in 1:N){\n",
    " //       target += -square((y[i] - mu[i]))/(2*square(sigma));\n",
    "//        target += normal_lpdf(y[i] | mu[i], sigma);\n",
    "//        target += (-0.5*K_tilde[i,i]/sigma);\n",
    "        \n",
    "        target += normal_lpdf(y[i] | mu[i], sigma);\n",
    "        target += (-0.5*K_tilde[i,i]/sigma);\n",
    "\n",
    "    }\n",
    "    \n",
    "\n",
    "}\n",
    "\n",
    "\n",
    "\"\"\""
   ]
  },
  {
   "cell_type": "code",
   "execution_count": 10,
   "metadata": {
    "collapsed": false
   },
   "outputs": [
    {
     "name": "stderr",
     "output_type": "stream",
     "text": [
      "INFO:pystan:COMPILING THE C++ CODE FOR MODEL anon_model_0457c97c2271882c750573d2bb11595f NOW.\n"
     ]
    }
   ],
   "source": [
    "stan_model_var = pystan.StanModel(model_code=stan_code_var)"
   ]
  },
  {
   "cell_type": "code",
   "execution_count": 11,
   "metadata": {
    "collapsed": true
   },
   "outputs": [],
   "source": [
    "gp_var_data = {'N':200, 'x':X.flatten(), 'y':Y.flatten(), 'M':M, 'xu':X_u_noisy.flatten()}"
   ]
  },
  {
   "cell_type": "code",
   "execution_count": 12,
   "metadata": {
    "collapsed": false
   },
   "outputs": [
    {
     "name": "stderr",
     "output_type": "stream",
     "text": [
      "/u/26/dhakaa1/unix/anaconda2/envs/stanpy35/lib/python3.5/site-packages/pystan/misc.py:399: FutureWarning: Conversion of the second argument of issubdtype from `float` to `np.floating` is deprecated. In future, it will be treated as `np.float64 == np.dtype(float).type`.\n",
      "  elif np.issubdtype(np.asarray(v).dtype, float):\n"
     ]
    }
   ],
   "source": [
    "fit_var= stan_model_var.sampling(data=gp_var_data, iter=800, chains=2)"
   ]
  },
  {
   "cell_type": "code",
   "execution_count": 13,
   "metadata": {
    "collapsed": false
   },
   "outputs": [],
   "source": [
    "samples = fit_var.extract()\n",
    "u = samples['u']\n",
    "u_mean = np.mean(u, axis=0)\n",
    "sigma = samples['sigma']\n",
    "l = samples['rho']\n",
    "sigvar = samples['alpha']\n",
    "sigma_mean = np.mean(sigma, axis=0)"
   ]
  },
  {
   "cell_type": "code",
   "execution_count": 14,
   "metadata": {
    "collapsed": false
   },
   "outputs": [
    {
     "name": "stdout",
     "output_type": "stream",
     "text": [
      "Inference for Stan model: anon_model_0457c97c2271882c750573d2bb11595f.\n",
      "2 chains, each with iter=800; warmup=400; thin=1; \n",
      "post-warmup draws per chain=400, total post-warmup draws=800.\n",
      "\n",
      "         mean se_mean     sd   2.5%    25%    50%    75%  97.5%  n_eff   Rhat\n",
      "sigma    0.46  8.2e-4   0.02   0.42   0.44   0.46   0.48   0.51    800    1.0\n",
      "alpha    0.89  6.4e-3   0.15    0.6   0.77   0.88   0.99   1.17    566    1.0\n",
      "rho      0.95  2.7e-3   0.07   0.82    0.9   0.95    1.0    1.1    733    1.0\n",
      "eta[0]   0.26  5.7e-3   0.16  -0.05   0.16   0.26   0.38   0.57    778    1.0\n",
      "eta[1]  -2.57    0.02   0.42   -3.5  -2.84  -2.52  -2.26  -1.85    615    1.0\n",
      "eta[2]    0.9    0.01   0.36   0.26   0.67   0.89   1.12   1.64    774    1.0\n",
      "eta[3]   0.08  9.9e-3   0.27  -0.43  -0.09   0.08   0.25    0.6    747    1.0\n",
      "eta[4]   0.36  7.9e-3   0.21  -0.08   0.22   0.36   0.49   0.77    719    1.0\n",
      "eta[5]  -0.49  8.9e-3   0.24  -1.02  -0.64  -0.48  -0.34  -0.05    726    1.0\n",
      "eta[6]  -0.87    0.01   0.38  -1.66   -1.1  -0.86  -0.63  -0.15    800    1.0\n",
      "u[0]    2.8e8   1.2e8  3.4e8 -1.8e8  3.3e7  2.0e8  4.0e8  1.1e9      8   1.19\n",
      "u[1]   -8.6e7   5.8e8  5.8e8 -1.2e9 -7.0e8  6.0e7  4.2e8  7.8e8      1   2.35\n",
      "u[2]    2.7e8   2.5e8  3.5e8 -3.2e8 -5.4e7  3.3e8  5.2e8  8.9e8      2   2.04\n",
      "u[3]    6.2e9   9.4e9  9.4e9 -3.7e9 -3.1e9  2.5e9 1.4e10 2.4e10      1   4.63\n",
      "u[4]    2.1e9   2.5e9  2.5e9 -1.8e8 -2.2e6  1.8e8  4.5e9  7.1e9      1   2.05\n",
      "u[5]   -2.8e8   3.2e8  9.1e8 -2.4e9 -6.9e8 -2.8e7  3.0e8  1.1e9      8   1.12\n",
      "u[6]   -1.0e9   1.0e9  1.0e9 -2.8e9 -2.1e9 -4.7e8 -1.9e8  3.3e8      1   3.43\n",
      "lp__   -134.3    0.17   2.73 -140.9 -135.7 -133.8 -132.3 -130.3    246    1.0\n",
      "\n",
      "Samples were drawn using NUTS at Mon May 14 15:54:37 2018.\n",
      "For each parameter, n_eff is a crude measure of effective sample size,\n",
      "and Rhat is the potential scale reduction factor on split chains (at \n",
      "convergence, Rhat=1).\n"
     ]
    }
   ],
   "source": [
    "print(fit_var)"
   ]
  },
  {
   "cell_type": "code",
   "execution_count": 15,
   "metadata": {
    "collapsed": false
   },
   "outputs": [
    {
     "name": "stdout",
     "output_type": "stream",
     "text": [
      "['sigma', 'alpha', 'rho', 'eta', 'u', 'lp__']\n"
     ]
    }
   ],
   "source": [
    "# mu = samples['mu']\n",
    "print(list(samples.keys()))\n",
    "# sigma_mean = np.mean(mu, axis=0)"
   ]
  },
  {
   "cell_type": "code",
   "execution_count": 16,
   "metadata": {
    "collapsed": true
   },
   "outputs": [],
   "source": [
    "sigma_samples = samples['sigma']\n",
    "alpha_samples = samples['alpha']\n",
    "rho_samples = samples['rho']"
   ]
  },
  {
   "cell_type": "code",
   "execution_count": 17,
   "metadata": {
    "collapsed": false
   },
   "outputs": [
    {
     "name": "stdout",
     "output_type": "stream",
     "text": [
      "mean of noise variance: 0.46\n",
      "median of noise variance: 0.46\n",
      "mean of lengthscale: 0.952\n",
      "median of lengthscale: 0.948\n",
      "mean of signal variance: 0.886\n",
      "median of signal variance: 0.885\n"
     ]
    }
   ],
   "source": [
    "sigma_mean = np.mean(samples['sigma'])\n",
    "sigma_median = np.nanmedian(samples['sigma'])\n",
    "\n",
    "l_mean = np.mean(samples['rho'])\n",
    "l_median = np.nanmedian(samples['rho'])\n",
    "\n",
    "sigvar_mean = np.mean(samples['alpha'])\n",
    "sigvar_median = np.nanmedian(samples['alpha'])\n",
    "\n",
    "print(\"mean of noise variance: %.2f\" % sigma_mean)\n",
    "print(\"median of noise variance: %.2f\"% sigma_median)\n",
    "print(\"mean of lengthscale: %.3f\"% l_mean)\n",
    "print(\"median of lengthscale: %.3f\"% l_median)\n",
    "print(\"mean of signal variance: %.3f\"% sigvar_mean)\n",
    "print(\"median of signal variance: %.3f\"% sigvar_median)"
   ]
  },
  {
   "cell_type": "code",
   "execution_count": 18,
   "metadata": {
    "collapsed": true
   },
   "outputs": [],
   "source": [
    "eta = samples['eta']"
   ]
  },
  {
   "cell_type": "code",
   "execution_count": 19,
   "metadata": {
    "collapsed": false
   },
   "outputs": [
    {
     "name": "stdout",
     "output_type": "stream",
     "text": [
      "(800, 7)\n"
     ]
    }
   ],
   "source": [
    "print(eta.shape)"
   ]
  },
  {
   "cell_type": "code",
   "execution_count": 26,
   "metadata": {
    "collapsed": true
   },
   "outputs": [],
   "source": [
    "eta_mean = np.nanmean(samples['eta'], axis=0)\n",
    "eta_median = np.nanmedian(samples['eta'], axis=0)"
   ]
  },
  {
   "cell_type": "code",
   "execution_count": 21,
   "metadata": {
    "collapsed": true
   },
   "outputs": [],
   "source": [
    "eta_perc_25 = np.percentile(eta, 2.5, axis=0)\n",
    "eta_perc_975 = np.percentile(eta, 97.5, axis=0)"
   ]
  },
  {
   "cell_type": "code",
   "execution_count": 22,
   "metadata": {
    "collapsed": true
   },
   "outputs": [],
   "source": [
    "eta_mean = np.mean(eta)"
   ]
  },
  {
   "cell_type": "markdown",
   "metadata": {},
   "source": [
    "#### Plotting posterior distribution of v."
   ]
  },
  {
   "cell_type": "code",
   "execution_count": 24,
   "metadata": {
    "collapsed": false
   },
   "outputs": [
    {
     "data": {
      "text/plain": [
       "[<matplotlib.lines.Line2D at 0x7f25c184fd30>]"
      ]
     },
     "execution_count": 24,
     "metadata": {},
     "output_type": "execute_result"
    },
    {
     "data": {
      "image/png": "[encoded data removed]",
      "text/plain": [
       "<Figure size 432x288 with 1 Axes>"
      ]
     },
     "metadata": {},
     "output_type": "display_data"
    }
   ],
   "source": [
    "plt.plot(X,Y, 'ro')\n",
    "plt.plot(X_u_noisy, eta_perc_25, 'bo')\n",
    "plt.plot(X_u_noisy, eta_perc_975, 'go')\n",
    "# plt.plot(X_u_noisy, eta_mean, 'ko')\n",
    "# plt.plot(X_u_noisy, eta_mean, 'yo')\n",
    "# plt.plot(X, f[320,:], 'go')"
   ]
  },
  {
   "cell_type": "code",
   "execution_count": 27,
   "metadata": {
    "collapsed": false
   },
   "outputs": [
    {
     "data": {
      "text/plain": [
       "[<matplotlib.lines.Line2D at 0x7f25c187fc18>]"
      ]
     },
     "execution_count": 27,
     "metadata": {},
     "output_type": "execute_result"
    },
    {
     "data": {
      "image/png": "[encoded data removed]",
      "text/plain": [
       "<Figure size 432x288 with 1 Axes>"
      ]
     },
     "metadata": {},
     "output_type": "display_data"
    }
   ],
   "source": [
    "plt.plot(X_u_noisy, eta_mean, 'ko')"
   ]
  },
  {
   "cell_type": "code",
   "execution_count": 28,
   "metadata": {
    "collapsed": true
   },
   "outputs": [],
   "source": [
    "u_perc_25 = np.percentile(u, 2.5, axis=0)\n",
    "u_perc_975 = np.percentile(u, 97.5, axis=0)"
   ]
  },
  {
   "cell_type": "code",
   "execution_count": 29,
   "metadata": {
    "collapsed": true
   },
   "outputs": [],
   "source": [
    "\n",
    "class ProcessStanSamples(object):\n",
    "    \n",
    "    def _params_samples(samples):\n",
    "        keys = list(samples.keys())\n",
    "        return keys\n",
    "    \n",
    "    def plot_histograms(samples):\n",
    "        sigma_samples = samples['sigma']\n",
    "        rho_samples = samples['rho']\n",
    "        alpha_samples = samples['alpha']\n",
    "        if 'f' in self._params_samples(samples):\n",
    "            f_samples = samples['f']\n",
    "        \n",
    "        if 'u' in self._params_samples(samples):\n",
    "            u_samples = samples['u']\n",
    "        \n",
    "        \n",
    "        f, axs = plt.subplots(2,2, sharey=True)\n",
    "        axs[0,0].hist(sigma_samples)\n",
    "        axs[0,0].set_title('Plotting samples for sigma')\n",
    "        axs[0,0].legend(['Noise variance'])\n",
    "        axs[0,1].hist(rho_samples)\n",
    "        axs[0,1].set_title('Plotting samples for lengthscale')\n",
    "        axs[0,1].legend(['lengthscale'])\n",
    "        axs[1,0].hist(alpha_samples)\n",
    "#         axs[1,0].set_title('Plotting samples for signalvariance')\n",
    "        axs[1,0].legend(['signal var'])\n",
    "        \n",
    "    "
   ]
  },
  {
   "cell_type": "code",
   "execution_count": 30,
   "metadata": {
    "collapsed": false
   },
   "outputs": [
    {
     "data": {
      "text/plain": [
       "<matplotlib.legend.Legend at 0x7f25e4540320>"
      ]
     },
     "execution_count": 30,
     "metadata": {},
     "output_type": "execute_result"
    },
    {
     "data": {
      "image/png": "[encoded data removed]",
      "text/plain": [
       "<Figure size 432x288 with 4 Axes>"
      ]
     },
     "metadata": {},
     "output_type": "display_data"
    }
   ],
   "source": [
    "f, axs = plt.subplots(2,2, sharey=True)\n",
    "axs[0,0].hist(sigma_samples)\n",
    "axs[0,0].set_title('Plotting samples for sigma')\n",
    "axs[0,0].legend(['Noise variance'])\n",
    "axs[0,1].hist(rho_samples)\n",
    "axs[0,1].set_title('Plotting samples for lengthscale')\n",
    "axs[0,1].legend(['lengthscale'])\n",
    "axs[1,0].hist(alpha_samples)\n",
    "# axs[1,0].set_title('Plotting samples for signalvariance')\n",
    "axs[1,0].legend(['signal var'])"
   ]
  },
  {
   "cell_type": "code",
   "execution_count": 38,
   "metadata": {
    "collapsed": true
   },
   "outputs": [],
   "source": [
    "eta_samples = samples['eta']"
   ]
  },
  {
   "cell_type": "code",
   "execution_count": 31,
   "metadata": {
    "collapsed": true
   },
   "outputs": [],
   "source": [
    "N_star = 25\n",
    "X_star = np.linspace(-0.5, 6.5, N_star)[:, None]"
   ]
  },
  {
   "cell_type": "code",
   "execution_count": 32,
   "metadata": {
    "collapsed": false
   },
   "outputs": [
    {
     "name": "stdout",
     "output_type": "stream",
     "text": [
      "(800,)\n"
     ]
    }
   ],
   "source": [
    "print(alpha_samples.shape)"
   ]
  },
  {
   "cell_type": "code",
   "execution_count": 33,
   "metadata": {
    "collapsed": true
   },
   "outputs": [],
   "source": [
    "def kernel_rbf(alpha, rho, Xi, Xj=None):\n",
    "    if Xj is None:\n",
    "        Xj = Xi\n",
    "    \n",
    "    N1,D1 = Xi.shape[0],1\n",
    "    N2,D2 = Xj.shape[0],1\n",
    "    \n",
    "    diff = Xi.reshape(N1,1,D1) - Xj.reshape(1,N2,D2)\n",
    "    K = (alpha**2)*np.exp(-0.5*np.sum(np.square(diff),-1)/(rho)**2)\n",
    "    return K\n",
    "    "
   ]
  },
  {
   "cell_type": "code",
   "execution_count": 34,
   "metadata": {
    "collapsed": false
   },
   "outputs": [],
   "source": [
    "Kuu = kernel_rbf(alpha=1.0, rho =0.8, Xi=X_u_noisy)"
   ]
  },
  {
   "cell_type": "code",
   "execution_count": 35,
   "metadata": {
    "collapsed": true
   },
   "outputs": [],
   "source": [
    "K_star_u = kernel_rbf(alpha=1.0, rho =0.8, Xi=X_star, Xj=X_u_noisy)"
   ]
  },
  {
   "cell_type": "code",
   "execution_count": 39,
   "metadata": {
    "collapsed": false
   },
   "outputs": [],
   "source": [
    "alpha_sub_samples = alpha_samples[::40]\n",
    "rho_sub_samples = rho_samples[::40]\n",
    "sigma_sub_samples = sigma_samples[::40]\n",
    "eta_sub_samples = eta_samples[::40,:]"
   ]
  },
  {
   "cell_type": "code",
   "execution_count": 40,
   "metadata": {
    "collapsed": false
   },
   "outputs": [
    {
     "name": "stdout",
     "output_type": "stream",
     "text": [
      "(20,)\n"
     ]
    }
   ],
   "source": [
    "print(alpha_sub_samples.shape)\n",
    "N_s = 10"
   ]
  },
  {
   "cell_type": "markdown",
   "metadata": {},
   "source": [
    "####  Utility function to generate predictive distribution:\n",
    "\n",
    "$p(f^*|y) = \\int \\int p(f^*|u) q(u, \\theta) du d\\theta$\n",
    "\n",
    "We will obtain the above expression using MCMC samples. The stan code above samples from the optimal variational distribution $q(u,\\theta)$"
   ]
  },
  {
   "cell_type": "code",
   "execution_count": 41,
   "metadata": {
    "collapsed": true
   },
   "outputs": [],
   "source": [
    "# function to generate mean and covariance matrics ..\n",
    "\n",
    "def generate_preds(alpha, rho, v, Xi, Xj):\n",
    "    Kuu = kernel_rbf(alpha, rho, Xi=X_u_noisy)\n",
    "    K_star_u = kernel_rbf(alpha, rho, Xi=X_star, Xj=X_u_noisy)\n",
    "    K_star_star = kernel_rbf(alpha, rho, Xi=X_star)\n",
    "    \n",
    "    R = np.linalg.cholesky(Kuu)\n",
    "    A = np.linalg.solve(R, np.transpose(K_star_u))\n",
    "#     print(A.shape)\n",
    "    A_T = np.transpose(A)\n",
    "    f_star_mean = np.dot(A_T, v)\n",
    "    Q_star_star = np.dot(A_T, A)\n",
    "    \n",
    "    S = K_star_star - Q_star_star\n",
    "    return f_star_mean, S\n",
    "\n"
   ]
  },
  {
   "cell_type": "code",
   "execution_count": 50,
   "metadata": {
    "collapsed": true
   },
   "outputs": [],
   "source": [
    "N_samples = 800"
   ]
  },
  {
   "cell_type": "code",
   "execution_count": 51,
   "metadata": {
    "collapsed": false
   },
   "outputs": [],
   "source": [
    "f_sum = np.zeros(N_star)\n",
    "f_sum2 = np.zeros(N_star)\n",
    "S_sum = np.zeros((N_star,N_star))\n",
    "S_diag = np.zeros(N_star)\n",
    "for i in range(N_samples):\n",
    "    f_star_mean, S = generate_preds(alpha=alpha_samples[i], rho =rho_samples[i], v =eta_samples[i,:],  Xi=X_star, Xj=X_u_noisy)\n",
    "    f_sum = f_sum + f_star_mean\n",
    "    f_sum2 = f_sum2 + f_star_mean**2\n",
    "    S_sum = S_sum + S\n",
    "    S_diag = np.diag(S)"
   ]
  },
  {
   "cell_type": "code",
   "execution_count": 52,
   "metadata": {
    "collapsed": false
   },
   "outputs": [],
   "source": [
    "cov_fin = S_diag/N_samples + f_sum2/N_samples - (f_sum/N_samples)**2"
   ]
  },
  {
   "cell_type": "code",
   "execution_count": 53,
   "metadata": {
    "collapsed": true
   },
   "outputs": [],
   "source": [
    "f_fin = f_sum / N_samples\n",
    "S_sum = S_sum / N_samples"
   ]
  },
  {
   "cell_type": "code",
   "execution_count": 54,
   "metadata": {
    "collapsed": false
   },
   "outputs": [
    {
     "name": "stdout",
     "output_type": "stream",
     "text": [
      "[ 0.89135217  0.59458249  0.0605709  -0.60886036 -1.23728154 -1.64271021\n",
      " -1.71827929 -1.47726993 -1.03643584 -0.55144237 -0.1461279   0.12590103\n",
      "  0.27577604  0.34581258  0.37390608  0.37412412  0.33716393  0.24391566\n",
      "  0.08256931 -0.13842835 -0.38655272 -0.61268291 -0.76778746 -0.82155773\n",
      " -0.77343673]\n"
     ]
    }
   ],
   "source": [
    "print(f_fin)"
   ]
  },
  {
   "cell_type": "code",
   "execution_count": 55,
   "metadata": {
    "collapsed": false
   },
   "outputs": [
    {
     "name": "stdout",
     "output_type": "stream",
     "text": [
      "[0.05286572 0.03137593 0.01511943 0.00796055 0.00779507 0.00837115\n",
      " 0.00641504 0.00518537 0.00650001 0.00694259 0.00556062 0.00531899\n",
      " 0.00616048 0.00596413 0.00566996 0.00625829 0.00617572 0.00574216\n",
      " 0.00676663 0.00761397 0.00706278 0.01011671 0.0212138  0.03533269\n",
      " 0.04282307]\n"
     ]
    }
   ],
   "source": [
    "print(cov_fin)"
   ]
  },
  {
   "cell_type": "markdown",
   "metadata": {},
   "source": [
    "####   Plot for predictive distribution for Snelson dataset using samples obtained from optimal variational distribution : q(v, $\\theta$)"
   ]
  },
  {
   "cell_type": "code",
   "execution_count": 43,
   "metadata": {
    "collapsed": true
   },
   "outputs": [],
   "source": [
    "f_fin = f_sum / N_s\n",
    "S_sum = S_sum / N_s"
   ]
  },
  {
   "cell_type": "code",
   "execution_count": 44,
   "metadata": {
    "collapsed": false
   },
   "outputs": [
    {
     "data": {
      "text/plain": [
       "[<matplotlib.lines.Line2D at 0x7f25e449b8d0>]"
      ]
     },
     "execution_count": 44,
     "metadata": {},
     "output_type": "execute_result"
    },
    {
     "data": {
      "image/png": "[encoded data removed]",
      "text/plain": [
       "<Figure size 432x288 with 1 Axes>"
      ]
     },
     "metadata": {},
     "output_type": "display_data"
    }
   ],
   "source": [
    "plt.plot(X_star, f_fin, 'bo')"
   ]
  },
  {
   "cell_type": "code",
   "execution_count": 56,
   "metadata": {
    "collapsed": false
   },
   "outputs": [],
   "source": [
    "a = np.random.multivariate_normal(f_fin, S_sum, 6)\n",
    "a2 = np.random.multivariate_normal(f_fin, np.diag(cov_fin), 8)"
   ]
  },
  {
   "cell_type": "code",
   "execution_count": 57,
   "metadata": {
    "collapsed": false
   },
   "outputs": [
    {
     "name": "stdout",
     "output_type": "stream",
     "text": [
      "(6, 25)\n"
     ]
    }
   ],
   "source": [
    "print(a.shape)"
   ]
  },
  {
   "cell_type": "code",
   "execution_count": 58,
   "metadata": {
    "collapsed": false
   },
   "outputs": [
    {
     "data": {
      "text/plain": [
       "[<matplotlib.lines.Line2D at 0x7f25e43e8278>]"
      ]
     },
     "execution_count": 58,
     "metadata": {},
     "output_type": "execute_result"
    },
    {
     "data": {
      "image/png": "[encoded data removed]",
      "text/plain": [
       "<Figure size 432x288 with 1 Axes>"
      ]
     },
     "metadata": {},
     "output_type": "display_data"
    }
   ],
   "source": [
    "plt.plot(X_star, a[0], 'g-')\n",
    "plt.plot(X_star, a[1], 'b-')\n",
    "plt.plot(X_star, a[2], 'r-')\n",
    "plt.plot(X_star, a[3], 'k-')\n",
    "plt.plot(X_star, a[4], 'm-')\n",
    "plt.plot(X_star, a[5], 'c-')\n",
    "plt.plot(X_star, a[4], 'ko')\n",
    "# plt.plot(X, Y, 'mo')\n",
    "plt.plot(X_u_noisy, np.zeros(X_u_noisy.shape[0]), 'r+')"
   ]
  },
  {
   "cell_type": "code",
   "execution_count": 59,
   "metadata": {
    "collapsed": false
   },
   "outputs": [
    {
     "data": {
      "text/plain": [
       "[<matplotlib.lines.Line2D at 0x7f25e43a8cc0>]"
      ]
     },
     "execution_count": 59,
     "metadata": {},
     "output_type": "execute_result"
    },
    {
     "data": {
      "image/png": "[encoded data removed]",
      "text/plain": [
       "<Figure size 432x288 with 1 Axes>"
      ]
     },
     "metadata": {},
     "output_type": "display_data"
    }
   ],
   "source": [
    "plt.plot(X_star, a2[0], 'g-')\n",
    "plt.plot(X_star, a2[1], 'b-')\n",
    "plt.plot(X_star, a2[2], 'r-')\n",
    "plt.plot(X_star, a2[3], 'k-')\n",
    "plt.plot(X_star, a2[4], 'm-')\n",
    "plt.plot(X_star, a2[5], 'c-')\n",
    "plt.plot(X_star, a2[4], 'ko')\n",
    "# plt.plot(X, Y, 'mo')\n",
    "plt.plot(X_u_noisy, np.zeros(X_u_noisy.shape[0]), 'r+')"
   ]
  },
  {
   "cell_type": "markdown",
   "metadata": {},
   "source": [
    "#####  Generate plot for u "
   ]
  },
  {
   "cell_type": "code",
   "execution_count": 60,
   "metadata": {
    "collapsed": true
   },
   "outputs": [],
   "source": [
    "def generate_u(alpha, rho, v, Xi):\n",
    "    Kuu = kernel_rbf(alpha, rho, Xi=Xi)\n",
    "    R = np.linalg.cholesky(Kuu)\n",
    "\n",
    "    u_mean = np.dot(R, v)\n",
    "    return u_mean"
   ]
  },
  {
   "cell_type": "code",
   "execution_count": 62,
   "metadata": {
    "collapsed": false
   },
   "outputs": [
    {
     "name": "stdout",
     "output_type": "stream",
     "text": [
      "20\n"
     ]
    }
   ],
   "source": [
    "print(M)"
   ]
  },
  {
   "cell_type": "code",
   "execution_count": 64,
   "metadata": {
    "collapsed": false
   },
   "outputs": [],
   "source": [
    "u_sum = np.zeros(M)\n",
    "# S_sum = np.zeros((N,N))\n",
    "for i in range(N_samples):\n",
    "    u_mean = generate_u(alpha=alpha_samples[i], rho =rho_samples[i], v =eta_samples[i,:], Xi = X_u_noisy)\n",
    "    u_sum = u_sum + u_mean"
   ]
  },
  {
   "cell_type": "code",
   "execution_count": 65,
   "metadata": {
    "collapsed": true
   },
   "outputs": [],
   "source": [
    "u_fin = u_sum / N_samples"
   ]
  },
  {
   "cell_type": "markdown",
   "metadata": {},
   "source": [
    "Plot of inducing inputs and inducing outputs(u)"
   ]
  },
  {
   "cell_type": "code",
   "execution_count": 66,
   "metadata": {
    "collapsed": false
   },
   "outputs": [
    {
     "data": {
      "text/plain": [
       "[<matplotlib.lines.Line2D at 0x7f25e43db4e0>]"
      ]
     },
     "execution_count": 66,
     "metadata": {},
     "output_type": "execute_result"
    },
    {
     "data": {
      "image/png": "[encoded data removed]",
      "text/plain": [
       "<Figure size 432x288 with 1 Axes>"
      ]
     },
     "metadata": {},
     "output_type": "display_data"
    }
   ],
   "source": [
    "plt.plot(X_u_noisy, u_fin, 'go')\n",
    "plt.plot(X_u_noisy, np.zeros(X_u_noisy.shape[0]), 'r+')"
   ]
  },
  {
   "cell_type": "code",
   "execution_count": null,
   "metadata": {
    "collapsed": true
   },
   "outputs": [],
   "source": []
  }
 ],
 "metadata": {
  "anaconda-cloud": {},
  "kernelspec": {
   "display_name": "Python [conda env:stanpy35]",
   "language": "python",
   "name": "conda-env-stanpy35-py"
  },
  "language_info": {
   "codemirror_mode": {
    "name": "ipython",
    "version": 3
   },
   "file_extension": ".py",
   "mimetype": "text/x-python",
   "name": "python",
   "nbconvert_exporter": "python",
   "pygments_lexer": "ipython3",
   "version": "3.5.4"
  }
 },
 "nbformat": 4,
 "nbformat_minor": 1
}
